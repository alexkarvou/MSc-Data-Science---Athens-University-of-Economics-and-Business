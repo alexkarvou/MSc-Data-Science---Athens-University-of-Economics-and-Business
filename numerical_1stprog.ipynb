{
 "cells": [
  {
   "cell_type": "markdown",
   "metadata": {},
   "source": [
    "<h1 align=\"center\"> ** Numerical Optimization** </h1>\n",
    "<h2 align=\"center\">  *1st Programming Assignment* </h2>\n",
    "<h3 align=\"center\">  Alex Karvouniaris </h3>"
   ]
  },
  {
   "cell_type": "markdown",
   "metadata": {},
   "source": [
    "At first, we will create 2 functions to generate the matrices B and A."
   ]
  },
  {
   "cell_type": "code",
   "execution_count": 1,
   "metadata": {
    "collapsed": false
   },
   "outputs": [],
   "source": [
    "import numpy as np\n",
    "def B_matrix(n):\n",
    "    dim=(n,n)\n",
    "    B_n=np.zeros(dim)\n",
    "    rows,cols=np.indices(dim)\n",
    "    row_vals_0=np.diag(rows,k=0)\n",
    "    col_vals_0=np.diag(cols,k=0)\n",
    "    row_vals_1=np.diag(rows,k=1)\n",
    "    col_vals_1=np.diag(cols,k=1)\n",
    "    row_vals__1=np.diag(rows,k=-1)\n",
    "    col_vals__1=np.diag(cols,k=-1)\n",
    "    row_vals_2=np.diag(rows,k=2)\n",
    "    col_vals_2=np.diag(cols,k=2)\n",
    "    row_vals__2=np.diag(rows,k=-2)\n",
    "    col_vals__2=np.diag(cols,k=-2)\n",
    "    B_n[row_vals_0,col_vals_0]=6\n",
    "    B_n[row_vals_1,col_vals_1]=-4\n",
    "    B_n[row_vals__1,col_vals__1]=-4\n",
    "    B_n[row_vals_2,col_vals_2]=1\n",
    "    B_n[row_vals__2,col_vals__2]=1\n",
    "    return(B_n)"
   ]
  },
  {
   "cell_type": "code",
   "execution_count": 3,
   "metadata": {
    "collapsed": false
   },
   "outputs": [
    {
     "data": {
      "text/plain": [
       "array([[ 6., -4.,  1.,  0.],\n",
       "       [-4.,  6., -4.,  1.],\n",
       "       [ 1., -4.,  6., -4.],\n",
       "       [ 0.,  1., -4.,  6.]])"
      ]
     },
     "execution_count": 3,
     "metadata": {},
     "output_type": "execute_result"
    }
   ],
   "source": [
    "B_matrix(4)"
   ]
  },
  {
   "cell_type": "markdown",
   "metadata": {},
   "source": [
    "Now we are going to create a function that generates A matrix through cronecker sum of matrix B. $$A=B\\otimes I + I\\otimes B$$"
   ]
  },
  {
   "cell_type": "code",
   "execution_count": 4,
   "metadata": {
    "collapsed": false
   },
   "outputs": [],
   "source": [
    "def A_matrix(bmatrix):\n",
    "    dim=bmatrix.shape[0]\n",
    "    A_nn=np.kron(bmatrix,np.eye(dim))+np.kron(np.eye(dim),bmatrix)\n",
    "    return(A_nn)"
   ]
  },
  {
   "cell_type": "code",
   "execution_count": 7,
   "metadata": {
    "collapsed": false,
    "scrolled": true
   },
   "outputs": [
    {
     "data": {
      "text/plain": [
       "array([[ 12.,  -4.,   1.,  -4.,  -0.,   0.,   1.,   0.,   0.],\n",
       "       [ -4.,  12.,  -4.,  -0.,  -4.,  -0.,   0.,   1.,   0.],\n",
       "       [  1.,  -4.,  12.,   0.,  -0.,  -4.,   0.,   0.,   1.],\n",
       "       [ -4.,  -0.,   0.,  12.,  -4.,   1.,  -4.,  -0.,   0.],\n",
       "       [ -0.,  -4.,  -0.,  -4.,  12.,  -4.,  -0.,  -4.,  -0.],\n",
       "       [  0.,  -0.,  -4.,   1.,  -4.,  12.,   0.,  -0.,  -4.],\n",
       "       [  1.,   0.,   0.,  -4.,  -0.,   0.,  12.,  -4.,   1.],\n",
       "       [  0.,   1.,   0.,  -0.,  -4.,  -0.,  -4.,  12.,  -4.],\n",
       "       [  0.,   0.,   1.,   0.,  -0.,  -4.,   1.,  -4.,  12.]])"
      ]
     },
     "execution_count": 7,
     "metadata": {},
     "output_type": "execute_result"
    }
   ],
   "source": [
    "A_matrix(B_matrix(3))"
   ]
  },
  {
   "cell_type": "markdown",
   "metadata": {},
   "source": [
    "In order to solve the system $Ax=b$, with b being a column matrix of ones and dimension $n^2$, we are going to use block Cholesky method. Recall that Cholesky method assumes that matrix A is symmetric and positive definite. At first, it is self-evident that matrix A in its block form is symmetric. As far as the positive definite property is concerned, we can use Gershgorin theorem: A is positive definite iff A strictly diagonally dominant and has positive diagonal elements. Another way to prove positive definiteness is by checking if Cholesky decomposition is completed."
   ]
  },
  {
   "cell_type": "markdown",
   "metadata": {},
   "source": [
    "The method we implemented is a block-recursive cholesky with block size $n\\times n$, based mainly on  Block Algorithm and Its Implementation for Cholesky Factorization, (https://www.google.gr/search?q=Block+Algorithm+and+Its+Implementation+for+Cholesky+Factorization&rlz=1C1CHBD_enGR732GR732&oq=Block+Algorithm+and+Its+Implementation+for+Cholesky+Factorization&aqs=chrome..69i57.418j0j4&sourceid=chrome&ie=UTF-8) and dahlquist's book. In each step, we partition the matrix in 4 blocks and after we cholesky decompose the upper left part (of size $n\\times n$) and solve the rest of the system except of the lower right block. Based on this block's dimensions, we choose whether to recursively call our function on this block or cholesky decompose this last block. In order to make this happen, we use two global variables to keep count of the number of times we call our function and to fill the resulting lowet triangular matrix. "
   ]
  },
  {
   "cell_type": "code",
   "execution_count": 8,
   "metadata": {
    "collapsed": false,
    "scrolled": true
   },
   "outputs": [
    {
     "data": {
      "text/plain": [
       "(1, array([[ 3.46410162,  0.        ,  0.        ,  0.        ,  0.        ,\n",
       "          0.        ,  0.        ,  0.        ,  0.        ],\n",
       "        [-1.15470054,  3.26598632,  0.        ,  0.        ,  0.        ,\n",
       "          0.        ,  0.        ,  0.        ,  0.        ],\n",
       "        [ 0.28867513, -1.1226828 ,  3.26439121,  0.        ,  0.        ,\n",
       "          0.        ,  0.        ,  0.        ,  0.        ],\n",
       "        [-1.15470054, -0.40824829, -0.03829198,  3.24014409,  0.        ,\n",
       "          0.        ,  0.        ,  0.        ,  0.        ],\n",
       "        [ 0.        , -1.22474487, -0.42121177, -1.393805  ,  2.89480367,\n",
       "          0.        ,  0.        ,  0.        ,  0.        ],\n",
       "        [ 0.        ,  0.        , -1.22534333,  0.29414716, -1.4184538 ,\n",
       "          2.89827535,  0.        ,  0.        ,  0.        ],\n",
       "        [ 0.28867513,  0.10206207,  0.00957299, -1.11866427, -0.49404649,\n",
       "         -0.1242118 ,  3.22416471,  0.        ,  0.        ],\n",
       "        [ 0.        ,  0.30618622,  0.10530294,  0.039823  , -1.21774741,\n",
       "         -0.55550278, -1.44481866,  2.83100378,  0.        ],\n",
       "        [ 0.        ,  0.        ,  0.30633583,  0.00362027,  0.04631686,\n",
       "         -1.2283167 ,  0.27028041, -1.50753142,  2.83717035]]))"
      ]
     },
     "execution_count": 8,
     "metadata": {},
     "output_type": "execute_result"
    }
   ],
   "source": [
    "#block recursive cholesky\n",
    "#dimension of B matrix- the only parameter that needs to be set\n",
    "kapa=3\n",
    "#\n",
    "import scipy.linalg as slin\n",
    "import time\n",
    "import numpy as np\n",
    "A=A_matrix(B_matrix(kapa))\n",
    "invcount=0\n",
    "big_L=np.zeros(A.shape)\n",
    "#dimensions\n",
    "d=int(np.sqrt(A.shape[0]))\n",
    "dim=A.shape[0]\n",
    "def block_chol(A_mat,n):\n",
    "    global invcount\n",
    "    global big_L\n",
    "    #blocking\n",
    "    A_11=A_mat[0:d,0:d]\n",
    "    A_12=A_mat[0:d,d:dim]\n",
    "    A_21=A_mat[d:dim,0:d]\n",
    "    A_22=A_mat[d:dim,d:dim]\n",
    "    #cholesky A_11\n",
    "    L_11=slin.cholesky(A_11,lower=True)\n",
    "    big_L[invcount*d:((invcount+1)*d),invcount*d:((invcount+1)*d)]=L_11\n",
    "    #inverse L11\n",
    "    L_11_inv=slin.inv(L_11)\n",
    "    #compute L21\n",
    "    L_21T=np.dot(L_11_inv,A_12)\n",
    "    L_21=np.transpose(L_21T)\n",
    "    big_L[((invcount+1)*d):dim,invcount*d:((invcount+1)*d)]=L_21\n",
    "    #compute _A22_\n",
    "    _A22_=A_22-np.dot(L_21,L_21T)\n",
    "    #conditioning-recursion\n",
    "    if _A22_.shape[0]<=d:\n",
    "        L_22=slin.cholesky(_A22_,lower=True)\n",
    "        big_L[-d:,-d:]=L_22\n",
    "        return(invcount,big_L)\n",
    "    else:\n",
    "        invcount+=1\n",
    "        return(block_chol(_A22_,d))\n",
    "t0=time.time()    \n",
    "factorized=block_chol(A,d)\n",
    "time_elapsed=time.time()-t0\n",
    "factorized"
   ]
  },
  {
   "cell_type": "code",
   "execution_count": 9,
   "metadata": {
    "collapsed": false
   },
   "outputs": [
    {
     "data": {
      "text/plain": [
       "'00:00:00:01'"
      ]
     },
     "execution_count": 9,
     "metadata": {},
     "output_type": "execute_result"
    }
   ],
   "source": [
    "time.strftime(\"%H:%M:%S:%m\",time.gmtime(time_elapsed))"
   ]
  },
  {
   "cell_type": "markdown",
   "metadata": {},
   "source": [
    "The function below is a simple numpy way to check whether a matrix is lower triangular."
   ]
  },
  {
   "cell_type": "code",
   "execution_count": 10,
   "metadata": {
    "collapsed": false
   },
   "outputs": [
    {
     "data": {
      "text/plain": [
       "True"
      ]
     },
     "execution_count": 10,
     "metadata": {},
     "output_type": "execute_result"
    }
   ],
   "source": [
    "np.allclose(factorized[1],np.tril(factorized[1]))"
   ]
  },
  {
   "cell_type": "markdown",
   "metadata": {},
   "source": [
    "Now that we have acquired the Cholesky decomposition of A, we will exploit cho_solve function which solves a linear system, given a Cholesky decomposition. We have also cross-checked through various ways that our solutions are correct. "
   ]
  },
  {
   "cell_type": "code",
   "execution_count": 11,
   "metadata": {
    "collapsed": false,
    "scrolled": true
   },
   "outputs": [
    {
     "name": "stdout",
     "output_type": "stream",
     "text": [
      "Solutions:\n",
      " [ 0.42307692  0.61538462  0.42307692  0.61538462  0.90384615  0.61538462\n",
      "  0.42307692  0.61538462  0.42307692]\n"
     ]
    }
   ],
   "source": [
    "b=np.repeat(1,dim)\n",
    "matrixA=(np.matrix(factorized[1]),True)\n",
    "x=slin.cho_solve(matrixA,b)\n",
    "print(\"Solutions:\\n\",x)"
   ]
  },
  {
   "cell_type": "markdown",
   "metadata": {},
   "source": [
    "As far as the number of flops is concerned, it would not be that difficult to count the number of flops if we used a function based only on itself (not use external modules). After searching for an efficient module that can count the number of flops, we concluded that there is none that does the job as we want it to (if you know about any, please share). Instead of calculating the flops in a programming way, we will measure it assymptotically. The procedure we go through involves n-steps of cholesky an $n\\times n$ matrix($\\frac{1}{3}n^3$), inverse the decomposed lower triangular($\\frac{1}{3}n^3$), multiply a lower triangular with a rectangular and lastly multiply a rectangular with a rectangular, both operations at the order of $n^3$. As the aforementioned paper states, the total number of float multiplication and divisions is at the order of $\\frac{n^3}{6}+\\frac{n^2}{2}$, given that we use blocks of dimension n."
   ]
  },
  {
   "cell_type": "markdown",
   "metadata": {},
   "source": [
    "## Calculating relative error and time elapsed"
   ]
  },
  {
   "cell_type": "code",
   "execution_count": 56,
   "metadata": {
    "collapsed": false
   },
   "outputs": [
    {
     "data": {
      "text/plain": [
       "(0.59730822171010534, 0.0005013942718505859)"
      ]
     },
     "execution_count": 56,
     "metadata": {},
     "output_type": "execute_result"
    }
   ],
   "source": [
    "kapa=2\n",
    "A=A_matrix(B_matrix(kapa))\n",
    "invcount=0\n",
    "big_L=np.zeros(A.shape)\n",
    "d=int(np.sqrt(A.shape[0]))\n",
    "dim=A.shape[0]\n",
    "b=np.repeat(1,dim)\n",
    "t0=time.time()\n",
    "nN=block_chol(A,d)\n",
    "time_elapsed=time.time()-t0\n",
    "b=np.repeat(1,dim)\n",
    "matrixA=(np.matrix(nN[1]),True)\n",
    "x=slin.cho_solve(matrixA,b)\n",
    "residual=np.dot(matrixA[0],x)-b\n",
    "relative_error_=slin.norm(residual)/slin.norm(b)\n",
    "relative_error_,time_elapsed"
   ]
  },
  {
   "cell_type": "markdown",
   "metadata": {},
   "source": [
    "During testing for time and accuracy performance, we encountered memory problems for n=128. Trying to dribble the problem and since the point of the question is about finding the effect of n on these performances, we followed an increasing loop on dimension by 2 and monitored error and time. "
   ]
  },
  {
   "cell_type": "code",
   "execution_count": 13,
   "metadata": {
    "collapsed": false
   },
   "outputs": [],
   "source": [
    "import pandas as pd\n",
    "import matplotlib.pyplot as plt\n",
    "plot_data=pd.DataFrame(columns=['relative error','time elapsed'],index=np.arange(2,82,step=2))\n",
    "#plot_data\n",
    "counter=0\n",
    "for i in range(2,82,2):\n",
    "    A=A_matrix(B_matrix(i))\n",
    "    invcount=0\n",
    "    big_L=np.zeros(A.shape)\n",
    "    d=int(np.sqrt(A.shape[0]))\n",
    "    dim=A.shape[0]\n",
    "    b=np.repeat(1,dim)\n",
    "    t0=time.time()\n",
    "    nN=block_chol(A,d)\n",
    "    time_elapsed=time.time()-t0\n",
    "    b=np.repeat(1,dim)\n",
    "    matrixA=(np.matrix(nN[1]),True)\n",
    "    x=slin.cho_solve(matrixA,b)\n",
    "    residual=np.dot(matrixA[0],x)-b\n",
    "    relative_error_=slin.norm(residual)/slin.norm(b)\n",
    "    time_=time.strftime(\"%H:%M:%S:%m\",time.gmtime(time_elapsed))\n",
    "    plot_data.iloc[counter,0],plot_data.iloc[counter,1]=relative_error_,time_\n",
    "    counter+=1"
   ]
  },
  {
   "cell_type": "code",
   "execution_count": 51,
   "metadata": {
    "collapsed": false,
    "scrolled": true
   },
   "outputs": [
    {
     "data": {
      "text/html": [
       "<div>\n",
       "<table border=\"1\" class=\"dataframe\">\n",
       "  <thead>\n",
       "    <tr style=\"text-align: right;\">\n",
       "      <th></th>\n",
       "      <th>relative error</th>\n",
       "      <th>time elapsed</th>\n",
       "    </tr>\n",
       "  </thead>\n",
       "  <tbody>\n",
       "    <tr>\n",
       "      <th>2</th>\n",
       "      <td>0.597308</td>\n",
       "      <td>00</td>\n",
       "    </tr>\n",
       "    <tr>\n",
       "      <th>4</th>\n",
       "      <td>1.02624</td>\n",
       "      <td>00</td>\n",
       "    </tr>\n",
       "    <tr>\n",
       "      <th>6</th>\n",
       "      <td>2.20546</td>\n",
       "      <td>00</td>\n",
       "    </tr>\n",
       "    <tr>\n",
       "      <th>8</th>\n",
       "      <td>3.89325</td>\n",
       "      <td>00</td>\n",
       "    </tr>\n",
       "    <tr>\n",
       "      <th>10</th>\n",
       "      <td>6.05834</td>\n",
       "      <td>00</td>\n",
       "    </tr>\n",
       "    <tr>\n",
       "      <th>12</th>\n",
       "      <td>8.70587</td>\n",
       "      <td>00</td>\n",
       "    </tr>\n",
       "    <tr>\n",
       "      <th>14</th>\n",
       "      <td>11.8455</td>\n",
       "      <td>00</td>\n",
       "    </tr>\n",
       "    <tr>\n",
       "      <th>16</th>\n",
       "      <td>15.4866</td>\n",
       "      <td>00</td>\n",
       "    </tr>\n",
       "    <tr>\n",
       "      <th>18</th>\n",
       "      <td>19.6373</td>\n",
       "      <td>00</td>\n",
       "    </tr>\n",
       "    <tr>\n",
       "      <th>20</th>\n",
       "      <td>24.3047</td>\n",
       "      <td>00</td>\n",
       "    </tr>\n",
       "    <tr>\n",
       "      <th>22</th>\n",
       "      <td>29.4948</td>\n",
       "      <td>00</td>\n",
       "    </tr>\n",
       "    <tr>\n",
       "      <th>24</th>\n",
       "      <td>35.2129</td>\n",
       "      <td>00</td>\n",
       "    </tr>\n",
       "    <tr>\n",
       "      <th>26</th>\n",
       "      <td>41.4636</td>\n",
       "      <td>00</td>\n",
       "    </tr>\n",
       "    <tr>\n",
       "      <th>28</th>\n",
       "      <td>48.251</td>\n",
       "      <td>00</td>\n",
       "    </tr>\n",
       "    <tr>\n",
       "      <th>30</th>\n",
       "      <td>55.5786</td>\n",
       "      <td>00</td>\n",
       "    </tr>\n",
       "    <tr>\n",
       "      <th>32</th>\n",
       "      <td>63.4497</td>\n",
       "      <td>00</td>\n",
       "    </tr>\n",
       "    <tr>\n",
       "      <th>34</th>\n",
       "      <td>71.8672</td>\n",
       "      <td>00</td>\n",
       "    </tr>\n",
       "    <tr>\n",
       "      <th>36</th>\n",
       "      <td>80.8336</td>\n",
       "      <td>00</td>\n",
       "    </tr>\n",
       "    <tr>\n",
       "      <th>38</th>\n",
       "      <td>90.3514</td>\n",
       "      <td>00</td>\n",
       "    </tr>\n",
       "    <tr>\n",
       "      <th>40</th>\n",
       "      <td>100.423</td>\n",
       "      <td>00</td>\n",
       "    </tr>\n",
       "    <tr>\n",
       "      <th>42</th>\n",
       "      <td>111.05</td>\n",
       "      <td>00</td>\n",
       "    </tr>\n",
       "    <tr>\n",
       "      <th>44</th>\n",
       "      <td>122.234</td>\n",
       "      <td>00</td>\n",
       "    </tr>\n",
       "    <tr>\n",
       "      <th>46</th>\n",
       "      <td>133.977</td>\n",
       "      <td>00</td>\n",
       "    </tr>\n",
       "    <tr>\n",
       "      <th>48</th>\n",
       "      <td>146.281</td>\n",
       "      <td>01</td>\n",
       "    </tr>\n",
       "    <tr>\n",
       "      <th>50</th>\n",
       "      <td>159.147</td>\n",
       "      <td>01</td>\n",
       "    </tr>\n",
       "    <tr>\n",
       "      <th>52</th>\n",
       "      <td>172.576</td>\n",
       "      <td>01</td>\n",
       "    </tr>\n",
       "    <tr>\n",
       "      <th>54</th>\n",
       "      <td>186.57</td>\n",
       "      <td>01</td>\n",
       "    </tr>\n",
       "    <tr>\n",
       "      <th>56</th>\n",
       "      <td>201.13</td>\n",
       "      <td>02</td>\n",
       "    </tr>\n",
       "    <tr>\n",
       "      <th>58</th>\n",
       "      <td>216.257</td>\n",
       "      <td>02</td>\n",
       "    </tr>\n",
       "    <tr>\n",
       "      <th>60</th>\n",
       "      <td>231.952</td>\n",
       "      <td>03</td>\n",
       "    </tr>\n",
       "    <tr>\n",
       "      <th>62</th>\n",
       "      <td>248.216</td>\n",
       "      <td>03</td>\n",
       "    </tr>\n",
       "    <tr>\n",
       "      <th>64</th>\n",
       "      <td>265.051</td>\n",
       "      <td>05</td>\n",
       "    </tr>\n",
       "    <tr>\n",
       "      <th>66</th>\n",
       "      <td>282.456</td>\n",
       "      <td>06</td>\n",
       "    </tr>\n",
       "    <tr>\n",
       "      <th>68</th>\n",
       "      <td>300.433</td>\n",
       "      <td>06</td>\n",
       "    </tr>\n",
       "    <tr>\n",
       "      <th>70</th>\n",
       "      <td>318.982</td>\n",
       "      <td>08</td>\n",
       "    </tr>\n",
       "    <tr>\n",
       "      <th>72</th>\n",
       "      <td>338.105</td>\n",
       "      <td>12</td>\n",
       "    </tr>\n",
       "    <tr>\n",
       "      <th>74</th>\n",
       "      <td>357.802</td>\n",
       "      <td>13</td>\n",
       "    </tr>\n",
       "    <tr>\n",
       "      <th>76</th>\n",
       "      <td>378.073</td>\n",
       "      <td>16</td>\n",
       "    </tr>\n",
       "    <tr>\n",
       "      <th>78</th>\n",
       "      <td>398.92</td>\n",
       "      <td>16</td>\n",
       "    </tr>\n",
       "    <tr>\n",
       "      <th>80</th>\n",
       "      <td>420.343</td>\n",
       "      <td>19</td>\n",
       "    </tr>\n",
       "  </tbody>\n",
       "</table>\n",
       "</div>"
      ],
      "text/plain": [
       "   relative error time elapsed\n",
       "2        0.597308           00\n",
       "4         1.02624           00\n",
       "6         2.20546           00\n",
       "8         3.89325           00\n",
       "10        6.05834           00\n",
       "12        8.70587           00\n",
       "14        11.8455           00\n",
       "16        15.4866           00\n",
       "18        19.6373           00\n",
       "20        24.3047           00\n",
       "22        29.4948           00\n",
       "24        35.2129           00\n",
       "26        41.4636           00\n",
       "28         48.251           00\n",
       "30        55.5786           00\n",
       "32        63.4497           00\n",
       "34        71.8672           00\n",
       "36        80.8336           00\n",
       "38        90.3514           00\n",
       "40        100.423           00\n",
       "42         111.05           00\n",
       "44        122.234           00\n",
       "46        133.977           00\n",
       "48        146.281           01\n",
       "50        159.147           01\n",
       "52        172.576           01\n",
       "54         186.57           01\n",
       "56         201.13           02\n",
       "58        216.257           02\n",
       "60        231.952           03\n",
       "62        248.216           03\n",
       "64        265.051           05\n",
       "66        282.456           06\n",
       "68        300.433           06\n",
       "70        318.982           08\n",
       "72        338.105           12\n",
       "74        357.802           13\n",
       "76        378.073           16\n",
       "78         398.92           16\n",
       "80        420.343           19"
      ]
     },
     "execution_count": 51,
     "metadata": {},
     "output_type": "execute_result"
    }
   ],
   "source": [
    "plot_data"
   ]
  },
  {
   "cell_type": "code",
   "execution_count": 67,
   "metadata": {
    "collapsed": false,
    "scrolled": true
   },
   "outputs": [],
   "source": [
    "def get_sec(time_str):\n",
    "    h, m, s,mili = time_str.split(':')\n",
    "    return(s)\n",
    "end=plot_data.shape[0]\n",
    "for i in range(end):\n",
    "    plot_data.iloc[i,1]=get_sec(plot_data.iloc[i,1])\n",
    "plot_data['time elapsed']=pd.to_numeric(plot_data['time elapsed'])\n",
    "plot_data['relative error']=pd.to_numeric(plot_data['relative error'])"
   ]
  },
  {
   "cell_type": "code",
   "execution_count": 68,
   "metadata": {
    "collapsed": false
   },
   "outputs": [
    {
     "data": {
      "text/plain": [
       "relative error    float64\n",
       "time elapsed        int64\n",
       "dtype: object"
      ]
     },
     "execution_count": 68,
     "metadata": {},
     "output_type": "execute_result"
    }
   ],
   "source": [
    "plot_data.dtypes"
   ]
  },
  {
   "cell_type": "code",
   "execution_count": 102,
   "metadata": {
    "collapsed": false,
    "scrolled": true
   },
   "outputs": [
    {
     "data": {
      "image/png": "[encoded data removed]",
      "text/plain": [
       "<matplotlib.figure.Figure at 0x21f878da438>"
      ]
     },
     "metadata": {},
     "output_type": "display_data"
    }
   ],
   "source": [
    "import matplotlib\n",
    "matplotlib.style.use('ggplot')\n",
    "plt.figure()\n",
    "plot_data['relative error'].plot()\n",
    "plt.legend()\n",
    "plt.title('Performances')\n",
    "plt.show()"
   ]
  },
  {
   "cell_type": "code",
   "execution_count": 103,
   "metadata": {
    "collapsed": false
   },
   "outputs": [
    {
     "data": {
      "image/png": "[encoded data removed]",
      "text/plain": [
       "<matplotlib.figure.Figure at 0x21f89e5a160>"
      ]
     },
     "metadata": {},
     "output_type": "display_data"
    }
   ],
   "source": [
    "import matplotlib\n",
    "matplotlib.style.use('ggplot')\n",
    "plt.figure()\n",
    "plot_data['time elapsed'].plot()\n",
    "plt.legend()\n",
    "plt.title('Performances')\n",
    "plt.show()"
   ]
  },
  {
   "cell_type": "markdown",
   "metadata": {},
   "source": [
    "The first graph of relative error depicts that the relationship between n and relative error is hyperlinear. A result like that is not good at first, because it indicates that as n grows we could be calculating an entirely different thing than the one we want. However, it would be wise to iterate over alternative direct methods for linear systems and compare their relative errors over n to obtain a hint on what method should we use. The time performance is again hyperlinear, a result with no particular apparent problems. We could use miliseconds to on x-axis to evade 0 values, though seconds seemed to be more natural. "
   ]
  }
 ],
 "metadata": {
  "kernelspec": {
   "display_name": "Python 3",
   "language": "python",
   "name": "python3"
  },
  "language_info": {
   "codemirror_mode": {
    "name": "ipython",
    "version": 3
   },
   "file_extension": ".py",
   "mimetype": "text/x-python",
   "name": "python",
   "nbconvert_exporter": "python",
   "pygments_lexer": "ipython3",
   "version": "3.6.0"
  }
 },
 "nbformat": 4,
 "nbformat_minor": 2
}
