{
 "cells": [
  {
   "cell_type": "code",
   "execution_count": 32,
   "metadata": {
    "collapsed": false
   },
   "outputs": [],
   "source": [
    "library(plyr)\n",
    "library(dplyr)\n",
    "library(ggplot2)\n",
    "library(ggthemes)\n",
    "library(gridExtra)"
   ]
  },
  {
   "cell_type": "code",
   "execution_count": 33,
   "metadata": {
    "collapsed": false
   },
   "outputs": [],
   "source": [
    "setwd('C:/Users/karvo/Desktop/aueb/marketing-sales/exercise 1/karvou')"
   ]
  },
  {
   "cell_type": "code",
   "execution_count": 15,
   "metadata": {
    "collapsed": false
   },
   "outputs": [
    {
     "data": {
      "text/html": [
       "<table>\n",
       "<thead><tr><th scope=col>Customer_ID</th><th scope=col>Gender</th><th scope=col>Birth_Date</th><th scope=col>Ref_Date</th><th scope=col>Marital_Status</th><th scope=col>Children_Num</th><th scope=col>Occupation_Category</th><th scope=col>Total_Income</th><th scope=col>Payroll_Flag</th><th scope=col>Business_Flag</th><th scope=col>...</th><th scope=col>Transfer_Trans_Amount</th><th scope=col>Credit_Cards_Installments</th><th scope=col>Credit_Cards_Payments_Num</th><th scope=col>Credit_Cards_Purchases_Num</th><th scope=col>Credit_Cards_Witrhdrawals_Num</th><th scope=col>Credit_Cards_Payments_Amount</th><th scope=col>Credit_Cards_Purchases_Amount</th><th scope=col>Credit_Cards_Witrhdrawals_Amount</th><th scope=col>Arrears_Months_Max</th><th scope=col>Time_Deposits_Flag</th></tr></thead>\n",
       "<tbody>\n",
       "\t<tr><td>  36163        </td><td>Male           </td><td>1/20/1968      </td><td>12/31/2008     </td><td>Single         </td><td>0              </td><td>Employees      </td><td>17637          </td><td>0              </td><td>0              </td><td>...            </td><td>  0            </td><td>0.000000       </td><td>0.000000       </td><td>0.000000       </td><td>0.000000       </td><td>  0.0000       </td><td>  0.000000     </td><td>  0            </td><td>1              </td><td>FALSE          </td></tr>\n",
       "\t<tr><td>5904434        </td><td>Male           </td><td>4/7/1973       </td><td>12/31/2008     </td><td>Single         </td><td>0              </td><td>Rentiers       </td><td> 5800          </td><td>0              </td><td>0              </td><td>...            </td><td>  0            </td><td>0.000000       </td><td>0.000000       </td><td>0.000000       </td><td>0.000000       </td><td>  0.0000       </td><td>  0.000000     </td><td>  0            </td><td>1              </td><td>FALSE          </td></tr>\n",
       "\t<tr><td>5904453        </td><td>Male           </td><td>10/17/1960     </td><td>12/31/2008     </td><td>Married        </td><td>2              </td><td>Rentiers       </td><td>14000          </td><td>0              </td><td>0              </td><td>...            </td><td>  0            </td><td>0.000000       </td><td>0.000000       </td><td>0.000000       </td><td>0.000000       </td><td>  0.0000       </td><td>  0.000000     </td><td>  0            </td><td>1              </td><td>FALSE          </td></tr>\n",
       "\t<tr><td> 855752        </td><td>Male           </td><td>7/28/1969      </td><td>12/31/2008     </td><td>Married        </td><td>2              </td><td>Business-Owners</td><td>54814          </td><td>0              </td><td>0              </td><td>...            </td><td>105            </td><td>1.666667       </td><td>0.666667       </td><td>1.000000       </td><td>0.000000       </td><td>141.6667       </td><td>230.450000     </td><td>  0            </td><td>1              </td><td>FALSE          </td></tr>\n",
       "\t<tr><td>     81        </td><td>Male           </td><td>7/27/1950      </td><td>12/31/2008     </td><td>Married        </td><td>2              </td><td>Employees      </td><td>64988          </td><td>0              </td><td>0              </td><td>...            </td><td>  0            </td><td>0.666667       </td><td>0.666667       </td><td>0.000000       </td><td>0.000000       </td><td>603.8167       </td><td>  0.000000     </td><td>  0            </td><td>1              </td><td>FALSE          </td></tr>\n",
       "\t<tr><td>    112        </td><td>Male           </td><td>8/30/1957      </td><td>12/31/2008     </td><td>Married        </td><td>1              </td><td>Employees      </td><td>38195          </td><td>0              </td><td>0              </td><td>...            </td><td>  0            </td><td>3.833333       </td><td>3.000000       </td><td>0.166667       </td><td>0.166667       </td><td>805.1750       </td><td>  4.296666     </td><td>130            </td><td>1              </td><td>FALSE          </td></tr>\n",
       "</tbody>\n",
       "</table>\n"
      ],
      "text/latex": [
       "\\begin{tabular}{r|llllllllllllllllllllllllllllllllllllllllllllll}\n",
       " Customer\\_ID & Gender & Birth\\_Date & Ref\\_Date & Marital\\_Status & Children\\_Num & Occupation\\_Category & Total\\_Income & Payroll\\_Flag & Business\\_Flag & ... & Transfer\\_Trans\\_Amount & Credit\\_Cards\\_Installments & Credit\\_Cards\\_Payments\\_Num & Credit\\_Cards\\_Purchases\\_Num & Credit\\_Cards\\_Witrhdrawals\\_Num & Credit\\_Cards\\_Payments\\_Amount & Credit\\_Cards\\_Purchases\\_Amount & Credit\\_Cards\\_Witrhdrawals\\_Amount & Arrears\\_Months\\_Max & Time\\_Deposits\\_Flag\\\\\n",
       "\\hline\n",
       "\t   36163         & Male            & 1/20/1968       & 12/31/2008      & Single          & 0               & Employees       & 17637           & 0               & 0               & ...             &   0             & 0.000000        & 0.000000        & 0.000000        & 0.000000        &   0.0000        &   0.000000      &   0             & 1               & FALSE          \\\\\n",
       "\t 5904434         & Male            & 4/7/1973        & 12/31/2008      & Single          & 0               & Rentiers        &  5800           & 0               & 0               & ...             &   0             & 0.000000        & 0.000000        & 0.000000        & 0.000000        &   0.0000        &   0.000000      &   0             & 1               & FALSE          \\\\\n",
       "\t 5904453         & Male            & 10/17/1960      & 12/31/2008      & Married         & 2               & Rentiers        & 14000           & 0               & 0               & ...             &   0             & 0.000000        & 0.000000        & 0.000000        & 0.000000        &   0.0000        &   0.000000      &   0             & 1               & FALSE          \\\\\n",
       "\t  855752         & Male            & 7/28/1969       & 12/31/2008      & Married         & 2               & Business-Owners & 54814           & 0               & 0               & ...             & 105             & 1.666667        & 0.666667        & 1.000000        & 0.000000        & 141.6667        & 230.450000      &   0             & 1               & FALSE          \\\\\n",
       "\t      81         & Male            & 7/27/1950       & 12/31/2008      & Married         & 2               & Employees       & 64988           & 0               & 0               & ...             &   0             & 0.666667        & 0.666667        & 0.000000        & 0.000000        & 603.8167        &   0.000000      &   0             & 1               & FALSE          \\\\\n",
       "\t     112         & Male            & 8/30/1957       & 12/31/2008      & Married         & 1               & Employees       & 38195           & 0               & 0               & ...             &   0             & 3.833333        & 3.000000        & 0.166667        & 0.166667        & 805.1750        &   4.296666      & 130             & 1               & FALSE          \\\\\n",
       "\\end{tabular}\n"
      ],
      "text/markdown": [
       "\n",
       "Customer_ID | Gender | Birth_Date | Ref_Date | Marital_Status | Children_Num | Occupation_Category | Total_Income | Payroll_Flag | Business_Flag | ... | Transfer_Trans_Amount | Credit_Cards_Installments | Credit_Cards_Payments_Num | Credit_Cards_Purchases_Num | Credit_Cards_Witrhdrawals_Num | Credit_Cards_Payments_Amount | Credit_Cards_Purchases_Amount | Credit_Cards_Witrhdrawals_Amount | Arrears_Months_Max | Time_Deposits_Flag | \n",
       "|---|---|---|---|---|---|\n",
       "|   36163         | Male            | 1/20/1968       | 12/31/2008      | Single          | 0               | Employees       | 17637           | 0               | 0               | ...             |   0             | 0.000000        | 0.000000        | 0.000000        | 0.000000        |   0.0000        |   0.000000      |   0             | 1               | FALSE           | \n",
       "| 5904434         | Male            | 4/7/1973        | 12/31/2008      | Single          | 0               | Rentiers        |  5800           | 0               | 0               | ...             |   0             | 0.000000        | 0.000000        | 0.000000        | 0.000000        |   0.0000        |   0.000000      |   0             | 1               | FALSE           | \n",
       "| 5904453         | Male            | 10/17/1960      | 12/31/2008      | Married         | 2               | Rentiers        | 14000           | 0               | 0               | ...             |   0             | 0.000000        | 0.000000        | 0.000000        | 0.000000        |   0.0000        |   0.000000      |   0             | 1               | FALSE           | \n",
       "|  855752         | Male            | 7/28/1969       | 12/31/2008      | Married         | 2               | Business-Owners | 54814           | 0               | 0               | ...             | 105             | 1.666667        | 0.666667        | 1.000000        | 0.000000        | 141.6667        | 230.450000      |   0             | 1               | FALSE           | \n",
       "|      81         | Male            | 7/27/1950       | 12/31/2008      | Married         | 2               | Employees       | 64988           | 0               | 0               | ...             |   0             | 0.666667        | 0.666667        | 0.000000        | 0.000000        | 603.8167        |   0.000000      |   0             | 1               | FALSE           | \n",
       "|     112         | Male            | 8/30/1957       | 12/31/2008      | Married         | 1               | Employees       | 38195           | 0               | 0               | ...             |   0             | 3.833333        | 3.000000        | 0.166667        | 0.166667        | 805.1750        |   4.296666      | 130             | 1               | FALSE           | \n",
       "\n",
       "\n"
      ],
      "text/plain": [
       "  Customer_ID Gender Birth_Date Ref_Date   Marital_Status Children_Num\n",
       "1   36163     Male   1/20/1968  12/31/2008 Single         0           \n",
       "2 5904434     Male   4/7/1973   12/31/2008 Single         0           \n",
       "3 5904453     Male   10/17/1960 12/31/2008 Married        2           \n",
       "4  855752     Male   7/28/1969  12/31/2008 Married        2           \n",
       "5      81     Male   7/27/1950  12/31/2008 Married        2           \n",
       "6     112     Male   8/30/1957  12/31/2008 Married        1           \n",
       "  Occupation_Category Total_Income Payroll_Flag Business_Flag ...\n",
       "1 Employees           17637        0            0             ...\n",
       "2 Rentiers             5800        0            0             ...\n",
       "3 Rentiers            14000        0            0             ...\n",
       "4 Business-Owners     54814        0            0             ...\n",
       "5 Employees           64988        0            0             ...\n",
       "6 Employees           38195        0            0             ...\n",
       "  Transfer_Trans_Amount Credit_Cards_Installments Credit_Cards_Payments_Num\n",
       "1   0                   0.000000                  0.000000                 \n",
       "2   0                   0.000000                  0.000000                 \n",
       "3   0                   0.000000                  0.000000                 \n",
       "4 105                   1.666667                  0.666667                 \n",
       "5   0                   0.666667                  0.666667                 \n",
       "6   0                   3.833333                  3.000000                 \n",
       "  Credit_Cards_Purchases_Num Credit_Cards_Witrhdrawals_Num\n",
       "1 0.000000                   0.000000                     \n",
       "2 0.000000                   0.000000                     \n",
       "3 0.000000                   0.000000                     \n",
       "4 1.000000                   0.000000                     \n",
       "5 0.000000                   0.000000                     \n",
       "6 0.166667                   0.166667                     \n",
       "  Credit_Cards_Payments_Amount Credit_Cards_Purchases_Amount\n",
       "1   0.0000                       0.000000                   \n",
       "2   0.0000                       0.000000                   \n",
       "3   0.0000                       0.000000                   \n",
       "4 141.6667                     230.450000                   \n",
       "5 603.8167                       0.000000                   \n",
       "6 805.1750                       4.296666                   \n",
       "  Credit_Cards_Witrhdrawals_Amount Arrears_Months_Max Time_Deposits_Flag\n",
       "1   0                              1                  FALSE             \n",
       "2   0                              1                  FALSE             \n",
       "3   0                              1                  FALSE             \n",
       "4   0                              1                  FALSE             \n",
       "5   0                              1                  FALSE             \n",
       "6 130                              1                  FALSE             "
      ]
     },
     "metadata": {},
     "output_type": "display_data"
    }
   ],
   "source": [
    "my_data<-read.csv(file='C:/Users/karvo/Desktop/aueb/marketing-sales/exercise 1/mark1.csv')\n",
    "head(my_data)"
   ]
  },
  {
   "cell_type": "code",
   "execution_count": 16,
   "metadata": {
    "collapsed": false
   },
   "outputs": [
    {
     "name": "stdout",
     "output_type": "stream",
     "text": [
      "'data.frame':\t120000 obs. of  46 variables:\n",
      " $ Customer_ID                     : int  36163 5904434 5904453 855752 81 112 113 855782 855784 855791 ...\n",
      " $ Gender                          : Factor w/ 2 levels \"Female\",\"Male\": 2 2 2 2 2 2 1 2 2 2 ...\n",
      " $ Birth_Date                      : Factor w/ 17756 levels \"1/1/1939\",\"1/1/1940\",..: 618 10219 1929 14304 14236 15935 1098 15412 9438 14348 ...\n",
      " $ Ref_Date                        : Factor w/ 1 level \"12/31/2008\": 1 1 1 1 1 1 1 1 1 1 ...\n",
      " $ Marital_Status                  : Factor w/ 4 levels \"Divorced\",\"Married\",..: 3 3 2 2 2 2 2 2 2 1 ...\n",
      " $ Children_Num                    : int  0 0 2 2 2 1 0 3 1 2 ...\n",
      " $ Occupation_Category             : Factor w/ 7 levels \"Business-Owners\",..: 3 4 4 1 3 3 3 3 1 1 ...\n",
      " $ Total_Income                    : int  17637 5800 14000 54814 64988 38195 86872 73785 134009 11320 ...\n",
      " $ Payroll_Flag                    : int  0 0 0 0 0 0 0 0 0 0 ...\n",
      " $ Business_Flag                   : int  0 0 0 0 0 0 0 0 1 0 ...\n",
      " $ Saving_Current_Accounts_Flag    : int  1 1 1 1 0 1 1 1 1 1 ...\n",
      " $ Investment_Products_Flag        : int  0 0 0 1 0 1 0 1 0 0 ...\n",
      " $ Insurance_Products_Flag         : int  1 0 0 0 0 1 1 0 0 0 ...\n",
      " $ Business_Loans_Flag             : int  0 0 0 0 0 0 0 0 1 0 ...\n",
      " $ Housing_Loans_Flag              : int  0 0 0 0 0 0 1 0 0 0 ...\n",
      " $ Consumer_Loans_Flag             : int  1 1 1 1 1 1 1 0 0 0 ...\n",
      " $ Credit_Cards_Flag               : int  1 1 1 1 1 1 1 1 1 0 ...\n",
      " $ Saving_Current_Balance          : num  96 19.6 27.3 1240.1 0 ...\n",
      " $ Investment_Products_Balance     : num  0 0 0 1310 0 ...\n",
      " $ Insurance_Balances              : num  160 0 0 0 0 ...\n",
      " $ Business_Loans_Balance          : num  0 0 0 0 0 ...\n",
      " $ Housing_Loans_Balance           : num  0 0 0 0 0 ...\n",
      " $ Consumer_Loans_Balance          : num  8499 5386 13032 5679 16148 ...\n",
      " $ Credit_Cards_Balance            : num  0 0 0 3595 1601 ...\n",
      " $ Branch_Trans_Num                : num  0.333 0 0.333 3.333 0.167 ...\n",
      " $ ATM_Trans_Num                   : num  0 0 0 0 5.5 0.5 0 0 0 0 ...\n",
      " $ APS_Trans_Num                   : num  0.833 0.667 0.333 0.167 1 ...\n",
      " $ Phone_Trans_Num                 : num  0 0 0 0 0 0 0 0 0 0 ...\n",
      " $ Internet_Trans_Num              : num  0 0 0 0 0 0 0 0 0 0 ...\n",
      " $ Deposit_Trans_Num               : num  0 0 0.333 0.5 0 ...\n",
      " $ Withdrawl_Trans_Num             : num  0 0 0 1.67 0 ...\n",
      " $ Payment_Trans_Num               : num  0.833 0.667 0.333 0.167 0.667 ...\n",
      " $ Transfer_Trans_Num              : num  0 0 0 0.5 0 0 0 0 0 0 ...\n",
      " $ Deposit_Trans_Amount            : num  0 0 110 176 0 ...\n",
      " $ Withdrawl_Trans_Amount          : num  0 0 0 1266 0 ...\n",
      " $ Payment_Trans_Amount            : num  105 94.2 110 71.8 157.5 ...\n",
      " $ Transfer_Trans_Amount           : num  0 0 0 105 0 0 0 0 0 0 ...\n",
      " $ Credit_Cards_Installments       : num  0 0 0 1.667 0.667 ...\n",
      " $ Credit_Cards_Payments_Num       : num  0 0 0 0.667 0.667 ...\n",
      " $ Credit_Cards_Purchases_Num      : num  0 0 0 1 0 ...\n",
      " $ Credit_Cards_Witrhdrawals_Num   : num  0 0 0 0 0 ...\n",
      " $ Credit_Cards_Payments_Amount    : num  0 0 0 142 604 ...\n",
      " $ Credit_Cards_Purchases_Amount   : num  0 0 0 230 0 ...\n",
      " $ Credit_Cards_Witrhdrawals_Amount: num  0 0 0 0 0 130 0 0 0 0 ...\n",
      " $ Arrears_Months_Max              : int  1 1 1 1 1 1 1 0 0 0 ...\n",
      " $ Time_Deposits_Flag              : logi  FALSE FALSE FALSE FALSE FALSE FALSE ...\n"
     ]
    }
   ],
   "source": [
    "str(my_data)"
   ]
  },
  {
   "cell_type": "code",
   "execution_count": 9,
   "metadata": {
    "collapsed": false
   },
   "outputs": [
    {
     "data": {},
     "metadata": {},
     "output_type": "display_data"
    },
    {
     "data": {
      "image/png": "[encoded data removed]",
      "text/plain": [
       "plot without title"
      ]
     },
     "metadata": {},
     "output_type": "display_data"
    }
   ],
   "source": [
    "aux <- ddply(my_data, .(Time_Deposits_Flag), summarize, y=length(Time_Deposits_Flag)/120000)\n",
    "ggplot(aux, aes(Time_Deposits_Flag, y,fill=Time_Deposits_Flag))+\n",
    "geom_bar(stat=\"identity\") +\n",
    "    geom_text(aes(label=round(y,3)), vjust=0)+\n",
    "    scale_fill_ptol()+\n",
    "    theme_minimal()+\n",
    "    ggtitle('Account Openings proportion')"
   ]
  },
  {
   "cell_type": "code",
   "execution_count": 24,
   "metadata": {
    "collapsed": false
   },
   "outputs": [
    {
     "name": "stderr",
     "output_type": "stream",
     "text": [
      "Saving 6.67 x 6.67 in image\n"
     ]
    }
   ],
   "source": [
    "ggsave('G1.pdf')"
   ]
  },
  {
   "cell_type": "markdown",
   "metadata": {},
   "source": [
    "# Creation of new variables"
   ]
  },
  {
   "cell_type": "markdown",
   "metadata": {},
   "source": [
    "## Age"
   ]
  },
  {
   "cell_type": "markdown",
   "metadata": {
    "collapsed": true
   },
   "source": [
    "## Gender\n"
   ]
  },
  {
   "cell_type": "code",
   "execution_count": 401,
   "metadata": {
    "collapsed": false
   },
   "outputs": [],
   "source": [
    "my_data<-read.csv(file='C:/Users/karvo/Desktop/aueb/marketing-sales/exercise 1/mark1.csv')"
   ]
  },
  {
   "cell_type": "markdown",
   "metadata": {},
   "source": [
    "## Mutations"
   ]
  },
  {
   "cell_type": "code",
   "execution_count": 402,
   "metadata": {
    "collapsed": false
   },
   "outputs": [],
   "source": [
    "library(lubridate)\n",
    "my_data<-select(my_data,-1)\n",
    "my_data$Age<-floor(as.period(mdy(my_data$Ref_Date)-mdy(my_data$Birth_Date))@day/365)\n",
    "my_data<-my_data[,-c(2,3)]\n",
    "my_data<-mutate(my_data,Liabilities=Insurance_Balances+Business_Loans_Balance+Housing_Loans_Balance+Consumer_Loans_Balance)\n",
    "col<-c(17,18,19,20)\n",
    "my_data<-my_data[,-col]\n",
    "my_data<-mutate(my_data,Tot_Trans_Num=Branch_Trans_Num+ATM_Trans_Num+APS_Trans_Num+Phone_Trans_Num+Internet_Trans_Num)\n",
    "my_data<-mutate(my_data,Cash_Position=(Branch_Trans_Num+ATM_Trans_Num)/Tot_Trans_Num)\n",
    "my_data$Cash_Position[is.na(my_data$Cash_Position)]<-0\n",
    "my_data<-mutate(my_data,Plastic_Position=(APS_Trans_Num+Phone_Trans_Num+Internet_Trans_Num)/Tot_Trans_Num)\n",
    "my_data$Plastic_Position[is.na(my_data$Plastic_Position)]<-0\n",
    "col<-c(18,19,20,21,22,42)\n",
    "my_data<-my_data[,-col]\n",
    "my_data<-mutate(my_data,Tot2=Deposit_Trans_Num+Withdrawl_Trans_Num+Payment_Trans_Num+Transfer_Trans_Num)\n",
    "my_data<-mutate(my_data,Withdraw_Position=(Withdrawl_Trans_Num+Payment_Trans_Num+Transfer_Trans_Num)/Tot2)\n",
    "my_data$Withdraw_Position[is.na(my_data$Withdraw_Position)]<-0\n",
    "my_data<-mutate(my_data,Deposit_Position=Deposit_Trans_Num/Tot2)\n",
    "my_data$Deposit_Position[is.na(my_data$Deposit_Position)]<-0\n",
    "col<-c(18,19,20,21,39)\n",
    "my_data<-my_data[,-col]\n",
    "my_data<-mutate(my_data,Tot=Deposit_Trans_Amount+Withdrawl_Trans_Amount+Payment_Trans_Amount+Transfer_Trans_Amount)\n",
    "my_data<-mutate(my_data,Cash_in_ratio=Deposit_Trans_Amount/Tot)\n",
    "my_data$Cash_in_ratio[is.na(my_data$Cash_in_ratio)]<-0\n",
    "my_data<-mutate(my_data,Cash_out_ratio=(Withdrawl_Trans_Amount+Payment_Trans_Amount+Transfer_Trans_Amount)/Tot)\n",
    "my_data$Cash_out_ratio[is.na(my_data$Cash_out_ratio)]<-0\n",
    "names(my_data)[names(my_data)==\"Deposit_Trans_Amount\"] <- \"Cash_in_amount\"\n",
    "my_data<-mutate(my_data,Cash_out_amount=Withdrawl_Trans_Amount+Payment_Trans_Amount+Transfer_Trans_Amount)\n",
    "col<-c(19,20,21,37)\n",
    "my_data<-my_data[,-col]\n",
    "col<-c(20,21,22)\n",
    "my_data<-my_data[,-col]\n",
    "my_data<-mutate(my_data,Credit_usage_amount=Credit_Cards_Payments_Amount\n",
    "                +Credit_Cards_Purchases_Amount+Credit_Cards_Witrhdrawals_Amount)\n",
    "my_data<-my_data[,-col]\n",
    "my_data<-mutate(my_data,num_loans_categ=Business_Loans_Flag+Housing_Loans_Flag+Consumer_Loans_Flag)\n",
    "my_data<-mutate(my_data,fitness=round(Cash_in_amount/Total_Income,digits=3))\n",
    "my_data$fitness[is.na(my_data$fitness)]<-0\n",
    "my_data$fitness[is.infinite(my_data$fitness)]<-0"
   ]
  },
  {
   "cell_type": "code",
   "execution_count": 265,
   "metadata": {
    "collapsed": false
   },
   "outputs": [
    {
     "name": "stdout",
     "output_type": "stream",
     "text": [
      "'data.frame':\t120000 obs. of  33 variables:\n",
      " $ Gender                      : Factor w/ 2 levels \"Female\",\"Male\": 2 2 2 2 2 2 1 2 2 2 ...\n",
      " $ Marital_Status              : Factor w/ 4 levels \"Divorced\",\"Married\",..: 3 3 2 2 2 2 2 2 2 1 ...\n",
      " $ Children_Num                : int  0 0 2 2 2 1 0 3 1 2 ...\n",
      " $ Occupation_Category         : Factor w/ 7 levels \"Business-Owners\",..: 3 4 4 1 3 3 3 3 1 1 ...\n",
      " $ Total_Income                : int  17637 5800 14000 54814 64988 38195 86872 73785 134009 11320 ...\n",
      " $ Payroll_Flag                : int  0 0 0 0 0 0 0 0 0 0 ...\n",
      " $ Business_Flag               : int  0 0 0 0 0 0 0 0 1 0 ...\n",
      " $ Saving_Current_Accounts_Flag: int  1 1 1 1 0 1 1 1 1 1 ...\n",
      " $ Investment_Products_Flag    : int  0 0 0 1 0 1 0 1 0 0 ...\n",
      " $ Insurance_Products_Flag     : int  1 0 0 0 0 1 1 0 0 0 ...\n",
      " $ Business_Loans_Flag         : int  0 0 0 0 0 0 0 0 1 0 ...\n",
      " $ Housing_Loans_Flag          : int  0 0 0 0 0 0 1 0 0 0 ...\n",
      " $ Consumer_Loans_Flag         : int  1 1 1 1 1 1 1 0 0 0 ...\n",
      " $ Credit_Cards_Flag           : int  1 1 1 1 1 1 1 1 1 0 ...\n",
      " $ Saving_Current_Balance      : num  96 19.6 27.3 1240.1 0 ...\n",
      " $ Investment_Products_Balance : num  0 0 0 1310 0 ...\n",
      " $ Credit_Cards_Balance        : num  0 0 0 3595 1601 ...\n",
      " $ Cash_in_amount              : num  0 0 110 176 0 ...\n",
      " $ Credit_Cards_Installments   : num  0 0 0 1.667 0.667 ...\n",
      " $ Arrears_Months_Max          : int  1 1 1 1 1 1 1 0 0 0 ...\n",
      " $ Time_Deposits_Flag          : logi  FALSE FALSE FALSE FALSE FALSE FALSE ...\n",
      " $ Age                         : num  40 35 48 39 58 51 47 48 33 43 ...\n",
      " $ Liabilities                 : num  8659 5386 13032 5679 16148 ...\n",
      " $ Cash_Position               : num  0.286 0 0.5 0.952 0.85 ...\n",
      " $ Plastic_Position            : num  0.7143 1 0.5 0.0476 0.15 ...\n",
      " $ Withdraw_Position           : num  1 1 0.5 0.824 1 ...\n",
      " $ Deposit_Position            : num  0 0 0.5 0.176 0 ...\n",
      " $ Cash_in_ratio               : num  0 0 0.5 0.109 0 ...\n",
      " $ Cash_out_ratio              : num  1 1 0.5 0.891 1 ...\n",
      " $ Cash_out_amount             : num  105 94.2 110 1442.7 157.5 ...\n",
      " $ Credit_usage_amount         : num  0 0 0 372 604 ...\n",
      " $ num_loans_categ             : int  1 1 1 1 1 1 2 0 1 0 ...\n",
      " $ fitness                     : num  0 0 0.008 0.003 0 0 0.021 0.001 0 0 ...\n"
     ]
    }
   ],
   "source": [
    "str(my_data)"
   ]
  },
  {
   "cell_type": "markdown",
   "metadata": {},
   "source": [
    "# recoding"
   ]
  },
  {
   "cell_type": "code",
   "execution_count": 403,
   "metadata": {
    "collapsed": false
   },
   "outputs": [],
   "source": [
    "library(car)\n",
    "my_data$Arrears_Months_Max<-recode(my_data$Arrears_Months_Max,'0=1;1=2;2=2;3=2;4=2;5=3;6=3;7=3;8=3;9=3;10=3;11=3;12=3;13=3')\n",
    "my_data$Age[my_data$Age<=30]<-1\n",
    "my_data$Age[my_data$Age<=55]<-2\n",
    "my_data$Age[my_data$age>55]<-3\n",
    "my_data$Children_Num[my_data$Children_Num>0]<-1"
   ]
  },
  {
   "cell_type": "markdown",
   "metadata": {},
   "source": [
    "## dummify"
   ]
  },
  {
   "cell_type": "code",
   "execution_count": 404,
   "metadata": {
    "collapsed": false
   },
   "outputs": [],
   "source": [
    "library(dummies)\n",
    "my_data<-cbind(my_data,dummy('Gender',my_data,sep='_')[,1])\n",
    "my_data<-my_data[,-1]\n",
    "names(my_data)[33]<-'Gender_Female'"
   ]
  },
  {
   "cell_type": "code",
   "execution_count": 405,
   "metadata": {
    "collapsed": false
   },
   "outputs": [],
   "source": [
    "my_data<-cbind(my_data,dummy('Marital_Status',my_data,sep='_')[,c(1,3,4)])\n",
    "my_data<-my_data[,-1]"
   ]
  },
  {
   "cell_type": "code",
   "execution_count": 406,
   "metadata": {
    "collapsed": false
   },
   "outputs": [],
   "source": [
    "my_data<-cbind(my_data,dummy('Occupation_Category',my_data,sep='_')[,c(2,3,4,5,6,7)])\n",
    "my_data<-my_data[,-2]"
   ]
  },
  {
   "cell_type": "code",
   "execution_count": 210,
   "metadata": {
    "collapsed": false
   },
   "outputs": [
    {
     "name": "stdout",
     "output_type": "stream",
     "text": [
      "'data.frame':\t120000 obs. of  40 variables:\n",
      " $ Children_Num                      : num  0 0 1 1 1 1 0 1 1 1 ...\n",
      " $ Total_Income                      : int  17637 5800 14000 54814 64988 38195 86872 73785 134009 11320 ...\n",
      " $ Payroll_Flag                      : int  0 0 0 0 0 0 0 0 0 0 ...\n",
      " $ Business_Flag                     : int  0 0 0 0 0 0 0 0 1 0 ...\n",
      " $ Saving_Current_Accounts_Flag      : int  1 1 1 1 0 1 1 1 1 1 ...\n",
      " $ Investment_Products_Flag          : int  0 0 0 1 0 1 0 1 0 0 ...\n",
      " $ Insurance_Products_Flag           : int  1 0 0 0 0 1 1 0 0 0 ...\n",
      " $ Business_Loans_Flag               : int  0 0 0 0 0 0 0 0 1 0 ...\n",
      " $ Housing_Loans_Flag                : int  0 0 0 0 0 0 1 0 0 0 ...\n",
      " $ Consumer_Loans_Flag               : int  1 1 1 1 1 1 1 0 0 0 ...\n",
      " $ Credit_Cards_Flag                 : int  1 1 1 1 1 1 1 1 1 0 ...\n",
      " $ Saving_Current_Balance            : num  96 19.6 27.3 1240.1 0 ...\n",
      " $ Investment_Products_Balance       : num  0 0 0 1310 0 ...\n",
      " $ Credit_Cards_Balance              : num  0 0 0 3595 1601 ...\n",
      " $ Cash_in_amount                    : num  0 0 110 176 0 ...\n",
      " $ Credit_Cards_Installments         : num  0 0 0 1.667 0.667 ...\n",
      " $ Arrears_Months_Max                : num  2 2 2 2 2 2 2 1 1 1 ...\n",
      " $ Time_Deposits_Flag                : logi  FALSE FALSE FALSE FALSE FALSE FALSE ...\n",
      " $ Age                               : num  2 2 2 2 58 2 2 2 2 2 ...\n",
      " $ Liabilities                       : num  8659 5386 13032 5679 16148 ...\n",
      " $ Cash_Position                     : num  0.286 0 0.5 0.952 0.85 ...\n",
      " $ Plastic_Position                  : num  0.7143 1 0.5 0.0476 0.15 ...\n",
      " $ Withdraw_Position                 : num  1 1 0.5 0.824 1 ...\n",
      " $ Deposit_Position                  : num  0 0 0.5 0.176 0 ...\n",
      " $ Cash_in_ratio                     : num  0 0 0.5 0.109 0 ...\n",
      " $ Cash_out_ratio                    : num  1 1 0.5 0.891 1 ...\n",
      " $ Cash_out_amount                   : num  105 94.2 110 1442.7 157.5 ...\n",
      " $ Credit_usage_amount               : num  0 0 0 372 604 ...\n",
      " $ num_loans_categ                   : int  1 1 1 1 1 1 2 0 1 0 ...\n",
      " $ fitness                           : num  0 0 0.008 0.003 0 0 0.021 0.001 0 0 ...\n",
      " $ Gender_Female                     : int  0 0 0 0 0 0 1 0 0 0 ...\n",
      " $ Marital_Status_Divorced           : int  0 0 0 0 0 0 0 0 0 1 ...\n",
      " $ Marital_Status_Single             : int  1 1 0 0 0 0 0 0 0 0 ...\n",
      " $ Marital_Status_Widow              : int  0 0 0 0 0 0 0 0 0 0 ...\n",
      " $ Occupation_Category_default       : int  0 0 0 0 0 0 0 0 0 0 ...\n",
      " $ Occupation_Category_Employees     : int  1 0 0 0 1 1 1 1 0 0 ...\n",
      " $ Occupation_Category_Rentiers      : int  0 1 1 0 0 0 0 0 0 0 ...\n",
      " $ Occupation_Category_Retirees      : int  0 0 0 0 0 0 0 0 0 0 ...\n",
      " $ Occupation_Category_Self-Employees: int  0 0 0 0 0 0 0 0 0 0 ...\n",
      " $ Occupation_Category_Unemployeed   : int  0 0 0 0 0 0 0 0 0 0 ...\n"
     ]
    }
   ],
   "source": [
    "str(my_data)"
   ]
  },
  {
   "cell_type": "code",
   "execution_count": 270,
   "metadata": {
    "collapsed": false
   },
   "outputs": [],
   "source": [
    "my_data$Children_Num<-as.factor(my_data$Children_Num)\n",
    "my_data<-cbind(my_data,dummy('Children_Num',my_data)[,2])\n",
    "names(my_data)[41]<-'Has_Children'\n",
    "my_data<-my_data[,-1]"
   ]
  },
  {
   "cell_type": "markdown",
   "metadata": {},
   "source": [
    "# Leaving Flags out"
   ]
  },
  {
   "cell_type": "code",
   "execution_count": 407,
   "metadata": {
    "collapsed": false
   },
   "outputs": [],
   "source": [
    "flags<-3:11\n",
    "my_data<-my_data[,-flags]"
   ]
  },
  {
   "cell_type": "code",
   "execution_count": 272,
   "metadata": {
    "collapsed": false
   },
   "outputs": [
    {
     "name": "stdout",
     "output_type": "stream",
     "text": [
      "'data.frame':\t120000 obs. of  31 variables:\n",
      " $ Total_Income                      : int  17637 5800 14000 54814 64988 38195 86872 73785 134009 11320 ...\n",
      " $ Payroll_Flag                      : int  0 0 0 0 0 0 0 0 0 0 ...\n",
      " $ Investment_Products_Balance       : num  0 0 0 1310 0 ...\n",
      " $ Credit_Cards_Balance              : num  0 0 0 3595 1601 ...\n",
      " $ Cash_in_amount                    : num  0 0 110 176 0 ...\n",
      " $ Credit_Cards_Installments         : num  0 0 0 1.667 0.667 ...\n",
      " $ Arrears_Months_Max                : num  2 2 2 2 2 2 2 1 1 1 ...\n",
      " $ Time_Deposits_Flag                : logi  FALSE FALSE FALSE FALSE FALSE FALSE ...\n",
      " $ Age                               : num  2 2 2 2 58 2 2 2 2 2 ...\n",
      " $ Liabilities                       : num  8659 5386 13032 5679 16148 ...\n",
      " $ Cash_Position                     : num  0.286 0 0.5 0.952 0.85 ...\n",
      " $ Plastic_Position                  : num  0.7143 1 0.5 0.0476 0.15 ...\n",
      " $ Withdraw_Position                 : num  1 1 0.5 0.824 1 ...\n",
      " $ Deposit_Position                  : num  0 0 0.5 0.176 0 ...\n",
      " $ Cash_in_ratio                     : num  0 0 0.5 0.109 0 ...\n",
      " $ Cash_out_ratio                    : num  1 1 0.5 0.891 1 ...\n",
      " $ Cash_out_amount                   : num  105 94.2 110 1442.7 157.5 ...\n",
      " $ Credit_usage_amount               : num  0 0 0 372 604 ...\n",
      " $ num_loans_categ                   : int  1 1 1 1 1 1 2 0 1 0 ...\n",
      " $ fitness                           : num  0 0 0.008 0.003 0 0 0.021 0.001 0 0 ...\n",
      " $ Gender_Female                     : int  0 0 0 0 0 0 1 0 0 0 ...\n",
      " $ Marital_Status_Divorced           : int  0 0 0 0 0 0 0 0 0 1 ...\n",
      " $ Marital_Status_Single             : int  1 1 0 0 0 0 0 0 0 0 ...\n",
      " $ Marital_Status_Widow              : int  0 0 0 0 0 0 0 0 0 0 ...\n",
      " $ Occupation_Category_default       : int  0 0 0 0 0 0 0 0 0 0 ...\n",
      " $ Occupation_Category_Employees     : int  1 0 0 0 1 1 1 1 0 0 ...\n",
      " $ Occupation_Category_Rentiers      : int  0 1 1 0 0 0 0 0 0 0 ...\n",
      " $ Occupation_Category_Retirees      : int  0 0 0 0 0 0 0 0 0 0 ...\n",
      " $ Occupation_Category_Self-Employees: int  0 0 0 0 0 0 0 0 0 0 ...\n",
      " $ Occupation_Category_Unemployeed   : int  0 0 0 0 0 0 0 0 0 0 ...\n",
      " $ Has_Children                      : int  0 0 1 1 1 1 0 1 1 1 ...\n"
     ]
    }
   ],
   "source": [
    "str(my_data)"
   ]
  },
  {
   "cell_type": "code",
   "execution_count": 224,
   "metadata": {
    "collapsed": true
   },
   "outputs": [],
   "source": [
    "write.csv(my_data,file='mark_data.csv')"
   ]
  },
  {
   "cell_type": "markdown",
   "metadata": {},
   "source": []
  },
  {
   "cell_type": "code",
   "execution_count": 257,
   "metadata": {
    "collapsed": false
   },
   "outputs": [
    {
     "data": {
      "image/png": "[encoded data removed]",
      "text/plain": [
       "Plot with title \"Mean Characteristics between the two groups\""
      ]
     },
     "metadata": {},
     "output_type": "display_data"
    }
   ],
   "source": [
    "library(fmsb)\n",
    "plot_data<-select(my_data,Saving_Current_Balance,Total_Income,Cash_in_amount,Cash_out_amount\n",
    "                  ,Liabilities,Arrears_Months_Max,Credit_Cards_Balance,num_loans_categ,Plastic_Position,Time_Deposits_Flag)\n",
    "\n",
    "mins<-as.numeric(apply(X = plot_data[,-10],2,min))\n",
    "maxes<-as.numeric(apply(X = plot_data[,-10],2,max))\n",
    "aux_data<-filter(my_data, Time_Deposits_Flag ==FALSE)\n",
    "nms<-c('Saving_Current_Balance','Total_Income','Cash_in_amount','Cash_out_amount'\n",
    "                  ,'Liabilities','Arrears_Months_Max','Credit_Cards_Balance','num_loans_categ','Plastic_Position')\n",
    "s1<-filter(plot_data,Time_Deposits_Flag==FALSE)[,-10]\n",
    "s2<-filter(plot_data,Time_Deposits_Flag==TRUE)[,-10]\n",
    "means1<-as.numeric(apply(X = s1,2,mean))\n",
    "means2<-as.numeric(apply(X = s2,2,mean))\n",
    "auxx<-as.data.frame(rbind(maxes,mins,means1,means2))\n",
    "colnames(auxx)<-nms\n",
    "#nms<-names(aux_data)[-12]\n",
    "#aux_data<-aux_data[,-12]\n",
    "#means<-as.numeric(apply(X = aux_data,2,mean))\n",
    "#auxx<-means\n",
    "#for (i in 7:9){\n",
    "#    aux_data<-filter(WinQ_w, quality ==i)\n",
    "#    nms<-names(aux_data)[-12]\n",
    "#    aux_data<-aux_data[,-12] \n",
    "#    means<-as.numeric(apply(X = aux_data,2,mean))\n",
    "#    auxx<-rbind(auxx,means)}\n",
    "#colnames(auxx)<-nms\n",
    "#rownames(auxx)<-paste(\"Wine Quality\" , 6:9 , sep=\" \") \n",
    "#auxx<-as.data.frame(rbind(maxes,mins,auxx))\n",
    "##auxx<-rbind\n",
    "colors_border=c( rgb(0.7,0.5,0.1,0.9),rgb(0.1,0.1,0.4,0.9))\n",
    "colors_in=c( rgb(0.7,0.5,0.1,0.3),rgb(0.1,0.1,0.4,0.3))\n",
    "radarchart( auxx , axistype=0 , maxmin=T,title='Mean Characteristics between the two groups',\n",
    "    #custom polygon\n",
    "    pcol=colors_border , pfcol=colors_in , plwd=1 , plty=2,\n",
    "    #custom the grid\n",
    "    cglcol=\"grey\", cglty=1, axislabcol=\"black\", cglwd=0.8, \n",
    "    #custom labels\n",
    "    vlcex=0.8 \n",
    "    )\n",
    "legend(x=.5, y=1.25, legend = c('No account Opened','New term deposit account'), bty = \"n\", pch=20 , col=colors_border , text.col = \"black\", cex=.8, pt.cex=3)\n",
    " "
   ]
  },
  {
   "cell_type": "code",
   "execution_count": 259,
   "metadata": {
    "collapsed": false
   },
   "outputs": [
    {
     "data": {
      "text/html": [
       "<table>\n",
       "<thead><tr><th></th><th scope=col>Saving_Current_Balance</th><th scope=col>Total_Income</th><th scope=col>Cash_in_amount</th><th scope=col>Cash_out_amount</th><th scope=col>Liabilities</th><th scope=col>Arrears_Months_Max</th><th scope=col>Credit_Cards_Balance</th><th scope=col>num_loans_categ</th><th scope=col>Plastic_Position</th></tr></thead>\n",
       "<tbody>\n",
       "\t<tr><th scope=row>maxes</th><td> 4999.5350 </td><td>1791574.00 </td><td>247284.8333</td><td>229067.023 </td><td>2971793.802</td><td>3.000000   </td><td>69917.4133 </td><td>3.0000000  </td><td>1.00000000 </td></tr>\n",
       "\t<tr><th scope=row>mins</th><td>-4045.4317 </td><td> -57755.00 </td><td>     0.0000</td><td>     0.000 </td><td>  -5964.345</td><td>1.000000   </td><td>-9128.6283 </td><td>0.0000000  </td><td>0.00000000 </td></tr>\n",
       "\t<tr><th scope=row>means1</th><td>  477.3953 </td><td>  44366.40 </td><td>   298.9993</td><td>   617.165 </td><td>  10749.869</td><td>1.477411   </td><td> 1238.8419 </td><td>0.5687620  </td><td>0.18319952 </td></tr>\n",
       "\t<tr><th scope=row>means2</th><td> 1213.9471 </td><td>  77138.72 </td><td>   738.7579</td><td>  1156.420 </td><td>  12159.545</td><td>1.218399   </td><td>  457.1214 </td><td>0.3410621  </td><td>0.08181431 </td></tr>\n",
       "</tbody>\n",
       "</table>\n"
      ],
      "text/latex": [
       "\\begin{tabular}{r|lllllllll}\n",
       "  & Saving\\_Current\\_Balance & Total\\_Income & Cash\\_in\\_amount & Cash\\_out\\_amount & Liabilities & Arrears\\_Months\\_Max & Credit\\_Cards\\_Balance & num\\_loans\\_categ & Plastic\\_Position\\\\\n",
       "\\hline\n",
       "\tmaxes &  4999.5350  & 1791574.00  & 247284.8333 & 229067.023  & 2971793.802 & 3.000000    & 69917.4133  & 3.0000000   & 1.00000000 \\\\\n",
       "\tmins & -4045.4317  &  -57755.00  &      0.0000 &      0.000  &   -5964.345 & 1.000000    & -9128.6283  & 0.0000000   & 0.00000000 \\\\\n",
       "\tmeans1 &   477.3953  &   44366.40  &    298.9993 &    617.165  &   10749.869 & 1.477411    &  1238.8419  & 0.5687620   & 0.18319952 \\\\\n",
       "\tmeans2 &  1213.9471  &   77138.72  &    738.7579 &   1156.420  &   12159.545 & 1.218399    &   457.1214  & 0.3410621   & 0.08181431 \\\\\n",
       "\\end{tabular}\n"
      ],
      "text/markdown": [
       "\n",
       "| <!--/--> | Saving_Current_Balance | Total_Income | Cash_in_amount | Cash_out_amount | Liabilities | Arrears_Months_Max | Credit_Cards_Balance | num_loans_categ | Plastic_Position | \n",
       "|---|---|---|---|\n",
       "| maxes |  4999.5350  | 1791574.00  | 247284.8333 | 229067.023  | 2971793.802 | 3.000000    | 69917.4133  | 3.0000000   | 1.00000000  | \n",
       "| mins | -4045.4317  |  -57755.00  |      0.0000 |      0.000  |   -5964.345 | 1.000000    | -9128.6283  | 0.0000000   | 0.00000000  | \n",
       "| means1 |   477.3953  |   44366.40  |    298.9993 |    617.165  |   10749.869 | 1.477411    |  1238.8419  | 0.5687620   | 0.18319952  | \n",
       "| means2 |  1213.9471  |   77138.72  |    738.7579 |   1156.420  |   12159.545 | 1.218399    |   457.1214  | 0.3410621   | 0.08181431  | \n",
       "\n",
       "\n"
      ],
      "text/plain": [
       "       Saving_Current_Balance Total_Income Cash_in_amount Cash_out_amount\n",
       "maxes   4999.5350             1791574.00   247284.8333    229067.023     \n",
       "mins   -4045.4317              -57755.00        0.0000         0.000     \n",
       "means1   477.3953               44366.40      298.9993       617.165     \n",
       "means2  1213.9471               77138.72      738.7579      1156.420     \n",
       "       Liabilities Arrears_Months_Max Credit_Cards_Balance num_loans_categ\n",
       "maxes  2971793.802 3.000000           69917.4133           3.0000000      \n",
       "mins     -5964.345 1.000000           -9128.6283           0.0000000      \n",
       "means1   10749.869 1.477411            1238.8419           0.5687620      \n",
       "means2   12159.545 1.218399             457.1214           0.3410621      \n",
       "       Plastic_Position\n",
       "maxes  1.00000000      \n",
       "mins   0.00000000      \n",
       "means1 0.18319952      \n",
       "means2 0.08181431      "
      ]
     },
     "metadata": {},
     "output_type": "display_data"
    }
   ],
   "source": [
    "auxx"
   ]
  },
  {
   "cell_type": "code",
   "execution_count": 258,
   "metadata": {
    "collapsed": false
   },
   "outputs": [
    {
     "name": "stderr",
     "output_type": "stream",
     "text": [
      "Saving 6.67 x 6.67 in image\n"
     ]
    }
   ],
   "source": [
    "ggsave('radar1.pdf')"
   ]
  },
  {
   "cell_type": "code",
   "execution_count": 409,
   "metadata": {
    "collapsed": false
   },
   "outputs": [
    {
     "ename": "ERROR",
     "evalue": "Error in gsub(\"%%\", \"\", s): object 'file.pdf' not found\n",
     "output_type": "error",
     "traceback": [
      "Error in gsub(\"%%\", \"\", s): object 'file.pdf' not found\nTraceback:\n",
      "1. pdf(file.pdf, width = 6.67, height = 6.67, paper = \"special\")",
      "2. checkIntFormat(file)",
      "3. gsub(\"%%\", \"\", s)"
     ]
    }
   ],
   "source": [
    "library(ellipse)\n",
    "library(RColorBrewer)\n",
    " \n",
    "# Use of the mtcars data proposed by R\n",
    "data=cor(select(my_data,-Time_Deposits_Flag))\n",
    " \n",
    "# Build a Pannel of 100 colors with Rcolor Brewer\n",
    "my_colors <- brewer.pal(5, \"Spectral\")\n",
    "my_colors=colorRampPalette(my_colors)(100)\n",
    " \n",
    "# Order the correlation matrix\n",
    "ord <- order(data[1, ])\n",
    "data_ord = data[ord, ord]\n",
    "pdf(file.pdf,width=6.67,height=6.67,paper='special') \n",
    "plotcorr(data_ord , col=my_colors[data_ord*50+50] , mar=c(1,1,1,1)  ,xlab = 'Correlation of Variables represented as ellipse')\n",
    "dev.off()"
   ]
  },
  {
   "cell_type": "markdown",
   "metadata": {},
   "source": [
    "# splitting between train and test"
   ]
  },
  {
   "cell_type": "code",
   "execution_count": 165,
   "metadata": {
    "collapsed": false
   },
   "outputs": [],
   "source": [
    "random.seed=32\n",
    "index <- sample(1:nrow(my_data),round(0.8*nrow(my_data)))\n",
    "train <- my_data[index,]\n",
    "test <- my_data[-index,]"
   ]
  },
  {
   "cell_type": "code",
   "execution_count": 166,
   "metadata": {
    "collapsed": false
   },
   "outputs": [
    {
     "data": {
      "text/plain": [
       "TableGrob (1 x 2) \"arrange\": 2 grobs\n",
       "  z     cells    name           grob\n",
       "1 1 (1-1,1-1) arrange gtable[layout]\n",
       "2 2 (1-1,2-2) arrange gtable[layout]"
      ]
     },
     "metadata": {},
     "output_type": "display_data"
    },
    {
     "data": {
      "image/png": "[encoded data removed]",
      "text/plain": [
       "plot without title"
      ]
     },
     "metadata": {},
     "output_type": "display_data"
    }
   ],
   "source": [
    "aux <- ddply(train, .(Time_Deposits_Flag), summarize, y=length(Time_Deposits_Flag)/dim(train)[1])\n",
    "p1<-ggplot(aux, aes(Time_Deposits_Flag, y,fill=Time_Deposits_Flag))+\n",
    "geom_bar(stat=\"identity\") +\n",
    "    geom_text(aes(label=round(y,3)), vjust=0,size=6)+\n",
    "    ggtitle('Train set proportion')+\n",
    "    ylab('%')+\n",
    "    xlab(' ')+\n",
    "    scale_fill_ptol()+\n",
    "    theme_minimal()\n",
    "aux <- ddply(test, .(Time_Deposits_Flag), summarize, y=length(Time_Deposits_Flag)/dim(test)[1])\n",
    "p2<-ggplot(aux, aes(Time_Deposits_Flag, y,fill=Time_Deposits_Flag))+\n",
    "geom_bar(stat=\"identity\") +\n",
    "    geom_text(aes(label=round(y,3)), vjust=0,size=6)+\n",
    "    ggtitle('Test set proportion')+\n",
    "    ylab('%')+\n",
    "    xlab(' ')+\n",
    "    scale_fill_ptol()+\n",
    "    theme_minimal()\n",
    "p<-grid.arrange(p1,p2,ncol=2)\n",
    "p"
   ]
  },
  {
   "cell_type": "code",
   "execution_count": 181,
   "metadata": {
    "collapsed": false
   },
   "outputs": [
    {
     "data": {},
     "metadata": {},
     "output_type": "display_data"
    },
    {
     "data": {
      "text/html": [
       "<table>\n",
       "<thead><tr><th scope=col>Time_Deposits_Flag</th><th scope=col>y</th></tr></thead>\n",
       "<tbody>\n",
       "\t<tr><td>FALSE     </td><td>0.98885833</td></tr>\n",
       "\t<tr><td> TRUE     </td><td>0.01114167</td></tr>\n",
       "</tbody>\n",
       "</table>\n"
      ],
      "text/latex": [
       "\\begin{tabular}{r|ll}\n",
       " Time\\_Deposits\\_Flag & y\\\\\n",
       "\\hline\n",
       "\t FALSE      & 0.98885833\\\\\n",
       "\t  TRUE      & 0.01114167\\\\\n",
       "\\end{tabular}\n"
      ],
      "text/markdown": [
       "\n",
       "Time_Deposits_Flag | y | \n",
       "|---|---|\n",
       "| FALSE      | 0.98885833 | \n",
       "|  TRUE      | 0.01114167 | \n",
       "\n",
       "\n"
      ],
      "text/plain": [
       "  Time_Deposits_Flag y         \n",
       "1 FALSE              0.98885833\n",
       "2  TRUE              0.01114167"
      ]
     },
     "metadata": {},
     "output_type": "display_data"
    },
    {
     "data": {
      "image/png": "[encoded data removed]",
      "text/plain": [
       "plot without title"
      ]
     },
     "metadata": {},
     "output_type": "display_data"
    }
   ],
   "source": [
    "aux <- ddply(my_data, .(Time_Deposits_Flag), summarize, y=length(Time_Deposits_Flag)/120000)\n",
    "ggplot(aux, aes(Time_Deposits_Flag,y,fill=Time_Deposits_Flag))+\n",
    "geom_bar(stat='identity')+\n",
    "geom_text(aes(label=round(y,3)), vjust=0,size=6)+\n",
    "ggtitle('Response variable proportion in dataset')+\n",
    "ylab('%')+\n",
    "xlab(' ')+\n",
    "scale_fill_ptol(name='Term Deposit Account')+\n",
    "theme_minimal()\n",
    "aux"
   ]
  },
  {
   "cell_type": "code",
   "execution_count": 183,
   "metadata": {
    "collapsed": false
   },
   "outputs": [
    {
     "name": "stderr",
     "output_type": "stream",
     "text": [
      "Saving 6.67 x 6.67 in image\n"
     ]
    }
   ],
   "source": [
    "ggsave('Imba.pdf')"
   ]
  },
  {
   "cell_type": "markdown",
   "metadata": {},
   "source": [
    "# Data Viz-Exploratory"
   ]
  },
  {
   "cell_type": "code",
   "execution_count": 12,
   "metadata": {
    "collapsed": false
   },
   "outputs": [
    {
     "name": "stderr",
     "output_type": "stream",
     "text": [
      "Warning message:\n",
      "\"package 'corrr' was built under R version 3.3.3\""
     ]
    },
    {
     "data": {},
     "metadata": {},
     "output_type": "display_data"
    },
    {
     "data": {
      "image/png": "[encoded data removed]",
      "text/plain": [
       "plot without title"
      ]
     },
     "metadata": {},
     "output_type": "display_data"
    }
   ],
   "source": [
    "library(corrr)\n",
    "\n",
    "my_data %>% correlate() %>% network_plot(min_cor=0.4,colors = c(\"red\", \"green\"), legend = TRUE)"
   ]
  },
  {
   "cell_type": "code",
   "execution_count": 339,
   "metadata": {
    "collapsed": false
   },
   "outputs": [
    {
     "name": "stdout",
     "output_type": "stream",
     "text": [
      "'data.frame':\t120000 obs. of  31 variables:\n",
      " $ Total_Income                      : int  17637 5800 14000 54814 64988 38195 86872 73785 134009 11320 ...\n",
      " $ Payroll_Flag                      : int  0 0 0 0 0 0 0 0 0 0 ...\n",
      " $ Investment_Products_Balance       : num  0 0 0 1310 0 ...\n",
      " $ Credit_Cards_Balance              : num  0 0 0 3595 1601 ...\n",
      " $ Cash_in_amount                    : num  0 0 110 176 0 ...\n",
      " $ Credit_Cards_Installments         : num  0 0 0 1.667 0.667 ...\n",
      " $ Arrears_Months_Max                : num  2 2 2 2 2 2 2 1 1 1 ...\n",
      " $ Time_Deposits_Flag                : logi  FALSE FALSE FALSE FALSE FALSE FALSE ...\n",
      " $ Age                               : num  2 2 2 2 58 2 2 2 2 2 ...\n",
      " $ Liabilities                       : num  8659 5386 13032 5679 16148 ...\n",
      " $ Cash_Position                     : num  0.286 0 0.5 0.952 0.85 ...\n",
      " $ Plastic_Position                  : num  0.7143 1 0.5 0.0476 0.15 ...\n",
      " $ Withdraw_Position                 : num  1 1 0.5 0.824 1 ...\n",
      " $ Deposit_Position                  : num  0 0 0.5 0.176 0 ...\n",
      " $ Cash_in_ratio                     : num  0 0 0.5 0.109 0 ...\n",
      " $ Cash_out_ratio                    : num  1 1 0.5 0.891 1 ...\n",
      " $ Cash_out_amount                   : num  105 94.2 110 1442.7 157.5 ...\n",
      " $ Credit_usage_amount               : num  0 0 0 372 604 ...\n",
      " $ num_loans_categ                   : int  1 1 1 1 1 1 2 0 1 0 ...\n",
      " $ fitness                           : num  0 0 0.008 0.003 0 0 0.021 0.001 0 0 ...\n",
      " $ Gender_Female                     : int  0 0 0 0 0 0 1 0 0 0 ...\n",
      " $ Marital_Status_Divorced           : int  0 0 0 0 0 0 0 0 0 1 ...\n",
      " $ Marital_Status_Single             : int  1 1 0 0 0 0 0 0 0 0 ...\n",
      " $ Marital_Status_Widow              : int  0 0 0 0 0 0 0 0 0 0 ...\n",
      " $ Occupation_Category_default       : int  0 0 0 0 0 0 0 0 0 0 ...\n",
      " $ Occupation_Category_Employees     : int  1 0 0 0 1 1 1 1 0 0 ...\n",
      " $ Occupation_Category_Rentiers      : int  0 1 1 0 0 0 0 0 0 0 ...\n",
      " $ Occupation_Category_Retirees      : int  0 0 0 0 0 0 0 0 0 0 ...\n",
      " $ Occupation_Category_Self-Employees: int  0 0 0 0 0 0 0 0 0 0 ...\n",
      " $ Occupation_Category_Unemployeed   : int  0 0 0 0 0 0 0 0 0 0 ...\n",
      " $ Has_Children                      : int  0 0 1 1 1 1 0 1 1 1 ...\n"
     ]
    }
   ],
   "source": [
    "str(my_data)"
   ]
  },
  {
   "cell_type": "code",
   "execution_count": 344,
   "metadata": {
    "collapsed": false
   },
   "outputs": [
    {
     "data": {
      "text/plain": [
       "TableGrob (1 x 2) \"arrange\": 2 grobs\n",
       "  z     cells    name           grob\n",
       "1 1 (1-1,1-1) arrange gtable[layout]\n",
       "2 2 (1-1,2-2) arrange gtable[layout]"
      ]
     },
     "metadata": {},
     "output_type": "display_data"
    },
    {
     "data": {
      "image/png": "[encoded data removed]",
      "text/plain": [
       "plot without title"
      ]
     },
     "metadata": {},
     "output_type": "display_data"
    }
   ],
   "source": [
    "p1<-ggplot(filter(my_data,Time_Deposits_Flag==TRUE),aes(num_loans_categ,fill=factor(num_loans_categ)))+\n",
    "geom_bar(aes(y=(..count..)/sum(..count..)),position='dodge')+\n",
    "xlab(' ')+\n",
    "ylab('%')+\n",
    "theme_minimal()+\n",
    "ggtitle('New Term Deposit Account Opened')+\n",
    "scale_fill_ptol(name='number of loan categories')\n",
    "p2<-ggplot(filter(my_data,Time_Deposits_Flag==FALSE),aes(num_loans_categ,fill=factor(num_loans_categ)))+\n",
    "geom_bar(aes(y=(..count..)/sum(..count..)),position='dodge')+\n",
    "xlab(' ')+\n",
    "ylab('%')+\n",
    "theme_minimal()+\n",
    "ggtitle('No Deposit Account Opened')+\n",
    "scale_fill_ptol(name='number of loan categories')\n",
    "p<-grid.arrange(p1,p2,ncol=2)\n",
    "p"
   ]
  },
  {
   "cell_type": "code",
   "execution_count": 345,
   "metadata": {
    "collapsed": false
   },
   "outputs": [
    {
     "name": "stderr",
     "output_type": "stream",
     "text": [
      "Saving 6.67 x 6.67 in image\n"
     ]
    }
   ],
   "source": [
    "ggsave('num_loan.pdf',p)"
   ]
  },
  {
   "cell_type": "code",
   "execution_count": 85,
   "metadata": {
    "collapsed": false
   },
   "outputs": [
    {
     "name": "stderr",
     "output_type": "stream",
     "text": [
      "Saving 6.67 x 6.67 in image\n"
     ]
    }
   ],
   "source": [
    "ggsave('InvestF.pdf',p)"
   ]
  },
  {
   "cell_type": "code",
   "execution_count": 293,
   "metadata": {
    "collapsed": false
   },
   "outputs": [
    {
     "name": "stdout",
     "output_type": "stream",
     "text": [
      "'data.frame':\t120000 obs. of  31 variables:\n",
      " $ Total_Income                      : int  17637 5800 14000 54814 64988 38195 86872 73785 134009 11320 ...\n",
      " $ Payroll_Flag                      : int  0 0 0 0 0 0 0 0 0 0 ...\n",
      " $ Investment_Products_Balance       : num  0 0 0 1310 0 ...\n",
      " $ Credit_Cards_Balance              : num  0 0 0 3595 1601 ...\n",
      " $ Cash_in_amount                    : num  0 0 110 176 0 ...\n",
      " $ Credit_Cards_Installments         : num  0 0 0 1.667 0.667 ...\n",
      " $ Arrears_Months_Max                : num  2 2 2 2 2 2 2 1 1 1 ...\n",
      " $ Time_Deposits_Flag                : logi  FALSE FALSE FALSE FALSE FALSE FALSE ...\n",
      " $ Age                               : num  2 2 2 2 58 2 2 2 2 2 ...\n",
      " $ Liabilities                       : num  8659 5386 13032 5679 16148 ...\n",
      " $ Cash_Position                     : num  0.286 0 0.5 0.952 0.85 ...\n",
      " $ Plastic_Position                  : num  0.7143 1 0.5 0.0476 0.15 ...\n",
      " $ Withdraw_Position                 : num  1 1 0.5 0.824 1 ...\n",
      " $ Deposit_Position                  : num  0 0 0.5 0.176 0 ...\n",
      " $ Cash_in_ratio                     : num  0 0 0.5 0.109 0 ...\n",
      " $ Cash_out_ratio                    : num  1 1 0.5 0.891 1 ...\n",
      " $ Cash_out_amount                   : num  105 94.2 110 1442.7 157.5 ...\n",
      " $ Credit_usage_amount               : num  0 0 0 372 604 ...\n",
      " $ num_loans_categ                   : int  1 1 1 1 1 1 2 0 1 0 ...\n",
      " $ fitness                           : num  0 0 0.008 0.003 0 0 0.021 0.001 0 0 ...\n",
      " $ Gender_Female                     : int  0 0 0 0 0 0 1 0 0 0 ...\n",
      " $ Marital_Status_Divorced           : int  0 0 0 0 0 0 0 0 0 1 ...\n",
      " $ Marital_Status_Single             : int  1 1 0 0 0 0 0 0 0 0 ...\n",
      " $ Marital_Status_Widow              : int  0 0 0 0 0 0 0 0 0 0 ...\n",
      " $ Occupation_Category_default       : int  0 0 0 0 0 0 0 0 0 0 ...\n",
      " $ Occupation_Category_Employees     : int  1 0 0 0 1 1 1 1 0 0 ...\n",
      " $ Occupation_Category_Rentiers      : int  0 1 1 0 0 0 0 0 0 0 ...\n",
      " $ Occupation_Category_Retirees      : int  0 0 0 0 0 0 0 0 0 0 ...\n",
      " $ Occupation_Category_Self-Employees: int  0 0 0 0 0 0 0 0 0 0 ...\n",
      " $ Occupation_Category_Unemployeed   : int  0 0 0 0 0 0 0 0 0 0 ...\n",
      " $ Has_Children                      : int  0 0 1 1 1 1 0 1 1 1 ...\n"
     ]
    }
   ],
   "source": [
    "str(my_data)"
   ]
  },
  {
   "cell_type": "markdown",
   "metadata": {
    "collapsed": true
   },
   "source": [
    "p1<-ggplot(filter(my_data,Time_Deposits_Flag==TRUE),aes(De\n",
    "geom_density()+\n",
    "xlab(' ')+\n",
    "ylab(' ')+\n",
    "theme_minimal()+\n",
    "ggtitle('New Account Opened')+\n",
    "scale_fill_ptol()\n",
    "p2<-ggplot(filter(my_data,Time_Deposits_Flag==FALSE),aes(Marital_Status,fill=Marital_Status))+\n",
    "geom_bar(aes(y=(..count..)/sum(..count..)),position='dodge')+\n",
    "xlab(' ')+\n",
    "ylab('%')+\n",
    "theme_minimal()+\n",
    "ggtitle('No Opening')+\n",
    "scale_fill_ptol()+\n",
    "coord_flip()\n",
    "grid.arrange(p1,p2,ncol=1)"
   ]
  },
  {
   "cell_type": "code",
   "execution_count": 322,
   "metadata": {
    "collapsed": false
   },
   "outputs": [
    {
     "data": {
      "text/plain": [
       "     Min.   1st Qu.    Median      Mean   3rd Qu.      Max. \n",
       " -2.73200   0.00000   0.00000   0.02073   0.00500 120.40000 "
      ]
     },
     "metadata": {},
     "output_type": "display_data"
    }
   ],
   "source": [
    "summary(my_data$fitnessness)"
   ]
  },
  {
   "cell_type": "code",
   "execution_count": 337,
   "metadata": {
    "collapsed": false
   },
   "outputs": [
    {
     "name": "stderr",
     "output_type": "stream",
     "text": [
      "Warning message:\n",
      "\"Removed 20652 rows containing non-finite values (stat_density).\""
     ]
    },
    {
     "data": {},
     "metadata": {},
     "output_type": "display_data"
    },
    {
     "data": {
      "image/png": "[encoded data removed]",
      "text/plain": [
       "plot without title"
      ]
     },
     "metadata": {},
     "output_type": "display_data"
    }
   ],
   "source": [
    "ggplot(my_data,aes(x=fitness,fill=Time_Deposits_Flag))+\n",
    "geom_density(alpha=0.7)+\n",
    "scale_fill_ptol()+\n",
    "theme_minimal()+\n",
    "scale_x_continuous(limits=c(0,.01))+\n",
    "xlab('fitness')+\n",
    "#scale_x_log10()+\n",
    "ggtitle('fitness distribution against new term deposit')"
   ]
  },
  {
   "cell_type": "code",
   "execution_count": 338,
   "metadata": {
    "collapsed": false
   },
   "outputs": [
    {
     "name": "stderr",
     "output_type": "stream",
     "text": [
      "Saving 6.67 x 6.67 in image\n",
      "Warning message:\n",
      "\"Removed 20652 rows containing non-finite values (stat_density).\""
     ]
    }
   ],
   "source": [
    "ggsave('fitness_1.pdf')"
   ]
  },
  {
   "cell_type": "code",
   "execution_count": 351,
   "metadata": {
    "collapsed": false
   },
   "outputs": [
    {
     "name": "stdout",
     "output_type": "stream",
     "text": [
      "'data.frame':\t120000 obs. of  33 variables:\n",
      " $ Gender                      : Factor w/ 2 levels \"Female\",\"Male\": 2 2 2 2 2 2 1 2 2 2 ...\n",
      " $ Marital_Status              : Factor w/ 4 levels \"Divorced\",\"Married\",..: 3 3 2 2 2 2 2 2 2 1 ...\n",
      " $ Children_Num                : int  0 0 2 2 2 1 0 3 1 2 ...\n",
      " $ Occupation_Category         : Factor w/ 7 levels \"Business-Owners\",..: 3 4 4 1 3 3 3 3 1 1 ...\n",
      " $ Total_Income                : int  17637 5800 14000 54814 64988 38195 86872 73785 134009 11320 ...\n",
      " $ Payroll_Flag                : int  0 0 0 0 0 0 0 0 0 0 ...\n",
      " $ Business_Flag               : int  0 0 0 0 0 0 0 0 1 0 ...\n",
      " $ Saving_Current_Accounts_Flag: int  1 1 1 1 0 1 1 1 1 1 ...\n",
      " $ Investment_Products_Flag    : int  0 0 0 1 0 1 0 1 0 0 ...\n",
      " $ Insurance_Products_Flag     : int  1 0 0 0 0 1 1 0 0 0 ...\n",
      " $ Business_Loans_Flag         : int  0 0 0 0 0 0 0 0 1 0 ...\n",
      " $ Housing_Loans_Flag          : int  0 0 0 0 0 0 1 0 0 0 ...\n",
      " $ Consumer_Loans_Flag         : int  1 1 1 1 1 1 1 0 0 0 ...\n",
      " $ Credit_Cards_Flag           : int  1 1 1 1 1 1 1 1 1 0 ...\n",
      " $ Saving_Current_Balance      : num  96 19.6 27.3 1240.1 0 ...\n",
      " $ Investment_Products_Balance : num  0 0 0 1310 0 ...\n",
      " $ Credit_Cards_Balance        : num  0 0 0 3595 1601 ...\n",
      " $ Cash_in_amount              : num  0 0 110 176 0 ...\n",
      " $ Credit_Cards_Installments   : num  0 0 0 1.667 0.667 ...\n",
      " $ Arrears_Months_Max          : int  1 1 1 1 1 1 1 0 0 0 ...\n",
      " $ Time_Deposits_Flag          : logi  FALSE FALSE FALSE FALSE FALSE FALSE ...\n",
      " $ Age                         : num  40 35 48 39 58 51 47 48 33 43 ...\n",
      " $ Liabilities                 : num  8659 5386 13032 5679 16148 ...\n",
      " $ Cash_Position               : num  0.286 0 0.5 0.952 0.85 ...\n",
      " $ Plastic_Position            : num  0.7143 1 0.5 0.0476 0.15 ...\n",
      " $ Withdraw_Position           : num  1 1 0.5 0.824 1 ...\n",
      " $ Deposit_Position            : num  0 0 0.5 0.176 0 ...\n",
      " $ Cash_in_ratio               : num  0 0 0.5 0.109 0 ...\n",
      " $ Cash_out_ratio              : num  1 1 0.5 0.891 1 ...\n",
      " $ Cash_out_amount             : num  105 94.2 110 1442.7 157.5 ...\n",
      " $ Credit_usage_amount         : num  0 0 0 372 604 ...\n",
      " $ num_loans_categ             : int  1 1 1 1 1 1 2 0 1 0 ...\n",
      " $ fitness                     : num  0 0 0.008 0.003 0 0 0.021 0.001 0 0 ...\n"
     ]
    }
   ],
   "source": [
    "str(my_data)"
   ]
  },
  {
   "cell_type": "code",
   "execution_count": 398,
   "metadata": {
    "collapsed": false
   },
   "outputs": [
    {
     "name": "stderr",
     "output_type": "stream",
     "text": [
      "Warning message:\n",
      "\"Transformation introduced infinite values in continuous x-axis\"Warning message:\n",
      "\"Removed 55 rows containing non-finite values (stat_binhex).\"Warning message in self$trans$transform(x):\n",
      "\"NaNs produced\"Warning message:\n",
      "\"Transformation introduced infinite values in continuous x-axis\"Warning message:\n",
      "\"Removed 6179 rows containing non-finite values (stat_binhex).\""
     ]
    },
    {
     "data": {
      "text/plain": [
       "TableGrob (1 x 2) \"arrange\": 2 grobs\n",
       "  z     cells    name           grob\n",
       "1 1 (1-1,1-1) arrange gtable[layout]\n",
       "2 2 (1-1,2-2) arrange gtable[layout]"
      ]
     },
     "metadata": {},
     "output_type": "display_data"
    },
    {
     "data": {
      "image/png": "[encoded data removed]",
      "text/plain": [
       "plot without title"
      ]
     },
     "metadata": {},
     "output_type": "display_data"
    }
   ],
   "source": [
    "p1<-ggplot(filter(my_data,Time_Deposits_Flag==TRUE),aes(Total_Income,Cash_out_ratio))+\n",
    "geom_hex()+\n",
    "#scale_y_log10()+\n",
    "scale_x_log10()+\n",
    "theme_minimal()+\n",
    "scale_fill_gradientn(colours = terrain.colors(10))+\n",
    "ggtitle('Term Deposit account opened')\n",
    "p2<-ggplot(filter(my_data,Time_Deposits_Flag==FALSE),aes(Total_Income,Cash_out_ratio))+\n",
    "geom_hex()+\n",
    "#scale_y_log10()+\n",
    "scale_x_log10()+\n",
    "theme_minimal()+\n",
    "scale_fill_gradientn(colours = terrain.colors(10))+\n",
    "ggtitle('No account opened')\n",
    "p<-grid.arrange(p1,p2,ncol=2)\n",
    "p"
   ]
  },
  {
   "cell_type": "code",
   "execution_count": 399,
   "metadata": {
    "collapsed": false
   },
   "outputs": [
    {
     "name": "stderr",
     "output_type": "stream",
     "text": [
      "Saving 6.67 x 6.67 in image\n"
     ]
    }
   ],
   "source": [
    "ggsave('bin3.pdf',p)"
   ]
  },
  {
   "cell_type": "markdown",
   "metadata": {},
   "source": [
    "# Payroll Flag"
   ]
  },
  {
   "cell_type": "code",
   "execution_count": 9,
   "metadata": {
    "collapsed": false
   },
   "outputs": [
    {
     "data": {
      "text/html": [
       "<ol class=list-inline>\n",
       "\t<li>0</li>\n",
       "\t<li>1</li>\n",
       "</ol>\n"
      ],
      "text/latex": [
       "\\begin{enumerate*}\n",
       "\\item 0\n",
       "\\item 1\n",
       "\\end{enumerate*}\n"
      ],
      "text/markdown": [
       "1. 0\n",
       "2. 1\n",
       "\n",
       "\n"
      ],
      "text/plain": [
       "[1] 0 1"
      ]
     },
     "metadata": {},
     "output_type": "display_data"
    }
   ],
   "source": [
    "unique(my_data$Payroll_Flag)"
   ]
  },
  {
   "cell_type": "code",
   "execution_count": 11,
   "metadata": {
    "collapsed": false
   },
   "outputs": [
    {
     "data": {
      "text/html": [
       "<ol class=list-inline>\n",
       "\t<li>0</li>\n",
       "\t<li>1</li>\n",
       "</ol>\n"
      ],
      "text/latex": [
       "\\begin{enumerate*}\n",
       "\\item 0\n",
       "\\item 1\n",
       "\\end{enumerate*}\n"
      ],
      "text/markdown": [
       "1. 0\n",
       "2. 1\n",
       "\n",
       "\n"
      ],
      "text/plain": [
       "[1] 0 1"
      ]
     },
     "metadata": {},
     "output_type": "display_data"
    }
   ],
   "source": [
    "unique(my_data$Business_Flag)"
   ]
  },
  {
   "cell_type": "code",
   "execution_count": 12,
   "metadata": {
    "collapsed": false
   },
   "outputs": [
    {
     "data": {
      "text/html": [
       "<ol class=list-inline>\n",
       "\t<li>1</li>\n",
       "\t<li>0</li>\n",
       "</ol>\n"
      ],
      "text/latex": [
       "\\begin{enumerate*}\n",
       "\\item 1\n",
       "\\item 0\n",
       "\\end{enumerate*}\n"
      ],
      "text/markdown": [
       "1. 1\n",
       "2. 0\n",
       "\n",
       "\n"
      ],
      "text/plain": [
       "[1] 1 0"
      ]
     },
     "metadata": {},
     "output_type": "display_data"
    }
   ],
   "source": [
    "unique(my_data$Saving_Current_Accounts_Flag)"
   ]
  },
  {
   "cell_type": "markdown",
   "metadata": {},
   "source": [
    "# Decision Trees"
   ]
  },
  {
   "cell_type": "code",
   "execution_count": 39,
   "metadata": {
    "collapsed": false
   },
   "outputs": [
    {
     "data": {
      "text/html": [
       "120000"
      ],
      "text/latex": [
       "120000"
      ],
      "text/markdown": [
       "120000"
      ],
      "text/plain": [
       "[1] 120000"
      ]
     },
     "metadata": {},
     "output_type": "display_data"
    }
   ],
   "source": [
    "length(unique(my_data$Customer_ID))"
   ]
  },
  {
   "cell_type": "code",
   "execution_count": 47,
   "metadata": {
    "collapsed": false
   },
   "outputs": [],
   "source": [
    "library(rpart)\n",
    "formula<-Time_Deposits_Flag~Credit_Cards_Payments_Num\n",
    "model<-rpart(Time_Deposits_Flag~.,method='class',data=my_data)"
   ]
  },
  {
   "cell_type": "code",
   "execution_count": 48,
   "metadata": {
    "collapsed": false
   },
   "outputs": [
    {
     "name": "stdout",
     "output_type": "stream",
     "text": [
      "\n",
      "Classification tree:\n",
      "rpart(formula = Time_Deposits_Flag ~ ., data = my_data, method = \"class\")\n",
      "\n",
      "Variables actually used in tree construction:\n",
      "[1] Birth_Date             Saving_Current_Balance\n",
      "\n",
      "Root node error: 1337/120000 = 0.011142\n",
      "\n",
      "n= 120000 \n",
      "\n",
      "        CP nsplit rel error xerror     xstd\n",
      "1 0.045625      0   1.00000 1.0000 0.027196\n",
      "2 0.015707      3   0.86313 1.3291 0.031295\n",
      "3 0.014959      5   0.83171 1.3291 0.031295\n",
      "4 0.014211      6   0.81675 1.3328 0.031338\n",
      "5 0.010000      7   0.80254 1.3209 0.031199\n"
     ]
    }
   ],
   "source": [
    "printcp(model)"
   ]
  },
  {
   "cell_type": "code",
   "execution_count": 49,
   "metadata": {
    "collapsed": false
   },
   "outputs": [
    {
     "data": {
      "image/png": "[encoded data removed]",
      "text/plain": [
       "plot without title"
      ]
     },
     "metadata": {},
     "output_type": "display_data"
    }
   ],
   "source": [
    "plotcp(model)"
   ]
  },
  {
   "cell_type": "code",
   "execution_count": 50,
   "metadata": {
    "collapsed": false
   },
   "outputs": [
    {
     "name": "stdout",
     "output_type": "stream",
     "text": [
      "Call:\n",
      "rpart(formula = Time_Deposits_Flag ~ ., data = my_data, method = \"class\")\n",
      "  n= 120000 \n",
      "\n",
      "          CP nsplit rel error   xerror       xstd\n",
      "1 0.04562453      0 1.0000000 1.000000 0.02719577\n",
      "2 0.01570681      3 0.8631264 1.329095 0.03129484\n",
      "3 0.01495886      5 0.8317128 1.329095 0.03129484\n",
      "4 0.01421092      6 0.8167539 1.332835 0.03133817\n",
      "5 0.01000000      7 0.8025430 1.320868 0.03119928\n",
      "\n",
      "Variable importance\n",
      "            Birth_Date Saving_Current_Balance  Transfer_Trans_Amount \n",
      "                    78                     15                      1 \n",
      "  Deposit_Trans_Amount Withdrawl_Trans_Amount     Transfer_Trans_Num \n",
      "                     1                      1                      1 \n",
      "\n",
      "Node number 1: 120000 observations,    complexity param=0.04562453\n",
      "  predicted class=FALSE  expected loss=0.01114167  P(node) =1\n",
      "    class counts: 118663  1337\n",
      "   probabilities: 0.989 0.011 \n",
      "  left son=2 (110128 obs) right son=3 (9872 obs)\n",
      "  Primary splits:\n",
      "      Birth_Date             splits as  LLLLLLLLLLLLLLLLLLLLLLLLLRLLLLLLLLLLLLLLLLLRLLLRLLLLLLLLLLLLLLLLLLLLLLLLLLLLLLLLLLLLRLLLLLLLLLLLLLLLLLLLLRLRLLLLLLLLLLLLLLLLRLLLLLLLLLLRLLLLLLLLLLLLLLLLLLLLLLLLLLLLLRLLLLLLLRLLLLLLLLLLLLLLLLLLLLLLLLLLLLLLLLLLLLLLLLLLLLLLLLLLLLLRLLLRLLLLLLLLLLLLLLLLLLLRLLLRLLLLLRLLLRLLLLLLLLLRLLLRLLLLLLLLLLLLLLLLLLLLLLLLLLLLLLLLRLLLLRLLLRLLLLLLLLLLLLLLLLLLLLLLLLLLLLLLLLLLLLLLLLLLLRLLRLLLLLLLLLLLLLLLLLLLLLLLLLLLLLLLLLLLLRLLLRLLLLLLLLLLLLLLLLLLLLLLLLLLLLLLLLLLLLLLLLLLLLLLLLLLLLLLLRLLLLLLLLLLRLLLLLLLLLLLLLLLLLLLLLLLLLLLLLLLLLLLLLLLLLLLLLLLLLLLLLLLLLLLLLLLLLLLLLLRRRLLLLLLLLLLLRLLLLLLLLLLLLLRLLLLLLLLLLLLLLLLLLLLLLLLLLLLLLLLLLLLLLLLLLLLLLLLRLLRLLLLLLLLLLLLLLLLLLRLLLLRLLLLRLLLLLLLLLLLRLLLLLLLLLLLLLLLLRLLLLLLRLLLLLLLLLLLLLLLLLLLRLLLLLLRLLLLLLLLLLLLLLLLLLLLLLLLLLLLLLLLLLRLLLLLLLLLRLLLLLLLLLLLLLLLLLLLLLLLLLRLLLLRLLLLLLLLLLLLLLLLRLLLLLLLLLLLLLLLLLLLLLLRLLLLLLLLLLLLLLLLLLLLLLLLLLLLLLLLLLLLLLLLLLLLRLLLRLLLLLLLLLRLLRLLLLRLLLLLLLLLLLLLLLLLLLLLLLLLLLLLLLLLLLLLLLLLLLRLLLLLLLLLLLLLLLRLLLLLLLLLLLLLLLRLLLLLLLLLLLLLLLLLLLLLLRLLRLLLLLLLLLLRLLLLLLLLLLLLLLLLLLLLLLLLLLLLLLLRLLLLLLLLLLLLRLLLLLLLLLLLLLLRLLLLLLLLLLLLLRLLLLLRLLLLLLLLLLLLLLLRLLLLLLLLLLLLLLLLLLRLLLLRLLLLLLLRLLLLLLLLLLLLLLLLLLLLLLLLLLLLLLLLLLLLLRLLLLLLLLLLLLLLLLLLRLLLLLLLLLLLLLLLLLLLLLLLLLRLLLLLLRLRLLLLLLRLLLLLLLLLLRLLLRRLLLLLLLLLLLLLLLLLLLLRLLLLLLRLLLRLLLLLLLLLLLLLLRLLLLLLLLLLLLLLLRLLLLRLLLRLLLLLLLLLLLLLLLLLLLLLLLLLLLLLLLLLLLLLLLLLLLLLLLLLLLLLLLLLLLLLLLLLLLLLLRLLLLLLLLLLLLLLLLLLLLLLLLLLLLLLLLLLLLLLLLLLLLLRLLLLLLLLRLLLLLLLLLLLLLRLLLLLLLLLLLLLLLLLLRLLLLLLLLLLLLLLLLLLLLLLLLLLLLRLLLLLLRLLRLLLLLRLLRLLLLRLLLLLLLLLLLLLLLLLLLLLLLRLLLLLLLLLLLLLLLLLLLLLLLLLLLLLLLLRLLLLLLLLLLLLLLLLLLLLLLLLLLLLLLLLLLLLLLLRLRLLLLLLLLLLLRLLLLLLLLLRLLLLLRLLLLLLLLLRLLLLLRLLLLRLLLLLLRLLLLLLLLLLLLLLLRLLLLLLLLLLLLLLLRLLLLLLLLLLLLLLLLLLLLLLLLLLLLLLLLLLLLLLLLLLLLRLLLLLLLLLLLLLLLRLLLLLLLLLLLLLLLLLLLLLLLLLLLLLLLLLLLLLLRLLLRLLLLLLLLLLLLLLLLLLLLLLLLLLLLLLLLLLLLLLLLLLLLLLLRLLLLLLLRLLLLLLLLLLLLLLRLLLLRLLLLLLLLLLLLLLLLLRLLLLLLLLLLLLLRLLLLLLLLLLLLLLLLLLLLLLLLLLLLLLLRLLLLLLLLLLLLLLLLLRLLLLLLLLLLLLLLLLLLLLLLLLLLLLLLLLLLLRLLLLLLLLLLLLLLLLLLLLLLLLLLLRLLLLLLLLLLLLLLLLLRLLLLLLRLLRLLLLLLLLLLLLLLLLLLLLLLLLLLRLLLLLLLLLLLLLLLLLRLRLLLLLLLLLLLLLLLLLLLLLLLLLLLLRLLLLLLLLLLLLLLLLLLLLLLLLLLLLLLLLLLLLLLLLLLLLLLRLLLLLLLLLLRLLLLLLLLLLLLLLLLLLLLLRLLLLLLLLLLLLLLLLLLRLLLLLLLRLLLLRLRLLLLRRLRLLLLLLLLLLLLLLLLLLLLLLLLLLLLLLLLLLLLLLLLLLRLLLLLLLLLLLLLLLLLLLLLLLLRLLLLLRLLLLLLLRLRLLLRLLLLLRLLLLLLLLLLLLLLLLLLLLLLLLLLLLLLLLLLLLLLLLLLLLLLLLLLRLLLLLLLLLLLLLLLLLLLLLLLLLLLLLLLLLLLRLRLLLRLLLLLLLLLLLLLLLLLLLLLLLLLRLRRLRLLLLLLLLLLLLLLLLLLRLLLLLLLLLLLLLLLLLLLLLLLLLLLLLLLLLLLLLLLLLLLLLLRLLLLLLLLLLLLLLLLLLLLLLLLLLLLLLLRLLLLLLLLLLLLLLLLLLLLLLLLRLRLLLLLLRLLLLLRLLLLLLLLLLLLLLLLLLLRLLLLLLLLLLLLLLLLLLLLLLLLLLLLLLLLLRLRLLLLLLLLRLRLLLLLLLLRLLLLLLLLLLLLLLLLLRLLLLLLLLLLLLLRLLRLLLLRLRLLLRLLLLLLLLLLLLRLLLLLLLLLLLLLRLRLLLLLLLLLLLLLRLLLLLLLRLLLLRRLLLLLLLLLLLLLLLLLLLLLLRLLLLLLLLLLLLRLLLLLRLLLLLLLLLLLLLLLLRLLLLLLLLLLLLLLLLLLLLLRLLLLLLLLLLLRLLLLLLLRLLLLLRLLLLLLLLLLLRLLRLLLLLLLRLLLLRLRLLLLLLLLLLLLLLLLLLLLLLLLLLLLLLLLLLLLLLLLLLLLLLLLLLLLLLLLLLLLLLLLLLLLLLLRLLLLLLLLRLLLLLLLLLLLLLLLLLLLLLLLLLLLLLLLLLLLLLLLLRLLRLLLLLLLLLLLRLLLLLLLLLLLLLLLLLLLLLRLLLLLLLLLLLLLLLLLLLLLLRRLRLLLLLLLRLRLLLLLLLLLLLLLLLLLLLRLLLLLLLLLLLLLLLLLLRLLLLLLLLLLLLLLLLLLLLLLLLLLLLLLLRLLLLLLLLLLLLLLLLLRRLLLLLLLLLLLLLLLLLLLLLLLLLRLLLLLLLLLRLLLLLLLLLLRLLLRRLLLLLLLLRLLLLLLLLLLLLLRLLLLLRLLRLLLLLLLRLLLLLLLLLLLLLLLLLLLLLLLLLLLLLLRLLLLLLLLLLLLLLLLLLRRLLLLLLLLLRLLLLLLLLLLLLLLLLLLLRLLLLLLLLLLLLLLLLLLLLRRLLLLLLLLLLLLLLLLLLLLLLLLLLLLLLLLLLLLLLLLLLLRLLLLRLRLLLLRLLLLLLLLLLLRLLLLLLLLLLLLLLLLLLLLLLLLRLLLLLRLLLLLLLLLLLLLLLLLLLLLLLLLLLLLLLLLLLRRLLLLLRLLLLLLLLLLLLLLLLLLLLLLRLLLLLLLLLLLLLLRLLRLLLLLLLRLLLLLLLLLLLLLLLLLLLLLLLLLLLLLRLLLLLLLLLLLLLLLLLLLLLLLLLLLLLRLLLLLLLLLLLLLLLLLLLLRLLLLLLLLLLLLLLLLLRLLLRLRRLLLLLLLLLLLLLLLLLLLLLLRLLLLLLLLLLLLLLLLLLLLLLLLLLLLLLLLLLLLLLLLLLLLLLLLLLLLLLLLLLLLLLLLLLLLLLLLLLLLLLLLLLLLLLLLLLLLLRLLLRLLLLLLLLLLLLLLLLLLLLLLLLLLLRLLLLLLLLLLLLLLLLLLLLLLLLLLLLLLLLLLLLRLLLLLLLLLLLLLLLLLLLLLLLLLLLLLLLLLLRLLLLLRLLRLLRLLLLLLLRLLLLLLLLLLLLLLLLRLLLLLLLLLLLLLLLRLLLLLLLLLRLLLLLLLLLLLLLLLLLLLLLLLLLRLLLLLLLLLLLLRLLLLLLLLLRLLLLLLLLLLLLLLLLLLLLLLLLLLLLLLLLLLLLLLLLLLRLLLLLLLLLLLLLLLLLLLLLLLRLLRLLLLLLLLLLLLLLLLLLLLLLRLLLLLLLLLLLLLLLRLLLLLRLLLLLLLLLRLLRLLLRLLRLLLLLLLLLLRLRLLLLLLLLLLLLLLLRLLLLLLLLLLLLRLLLLLLLRLLLLLLLLLLLLLLLLLLLLLLLLLLLLLLRLLLLLLLLLLLLLLLLLLLRLLLLLLLLLLLLLLLLLLLLLLLLLLLLLLLLLLLLLLLLLLLLLLLLLLLLLLLLLLLLLLLLLLLLLLLLLLLLLLLLLLLLRLLLLRRLLLLLRLLLRLLLLLLLLLLLLLLRLLLLLLLLLLLLLLRLLLLLLLLLLLLLLLLLLLLLLLLLLLLLLLLLRLLLLLLLLLLRLLLLLLLLLLLLLRLLLLLLRLLLLLLLLRLLLLLLLLLLLLLLLLLLLLLRLLLRLLLLRLLLLLLLLLLLLLLLLLLLLLLLLLLLRLLLLLLLLLRLLLLLLLLLLLLLLRLLLLLLLLLLLLLLLLLLLLLLLLRLLRLLLLLLLLLRLLLRLLLLLLLLRLLLLLLLLLLLLLLLLLLLLLLLLLRRLLLLLLLLRLLLLLLLLLLLLLLLLLLLLLLLLLLLLLLLRLLLRLLLRLLLLLLLLLLLLLLLLRLLLLLLLLLLRLLLLLLLLLLLLLLLLLLRLLLLLRLLLLLLLLRLLLLLLLLLLLLLLLLLLLLLLLLLLLLLLLLRLLLLLRLLLLLLLLLLLRLLLLRLLLLLLLLLLLLLLLLLLLLLLLLLLLLLLLLLLLLLLLLLLLLLLLLLLLLLLLRLLLRLLLLLLLRLLRLLLLLLLLLLLLLLLLLLLLLLLRLLLLLLLLLLLLLLLLLLLLLRLLLLLLLLLLLLLLLLLLLLRRLLLLRLLLLLLLLLLLLLLLLLLLLLLLLLLLLLLLRLLLLLRLLLLLLLLLLLLLLLLLLLLLLLLLLLLLLLLLLLLLLLLLLLLLLLLLLLRLLLLLLLLLLLLLLLLLLRLLLLLLLLLLLLLLLLLLLLLLLLLLLLLLLLLLRLLLLLLLLLLLLLLLRRLLLLLLLLLLLLLLLLLLLLLLLLLLLRLLLLRLLLLLLLLLLLLLLLLLLLLLLLLLLLLLLLLLLLLRLLLLLLRLLRLLLLLLLLLLLLLLLLLLRLLLLLLLLRRLLLLRLLLLLLLLLLLRLLLLLLLLLLLLLLLLLLLLLLLLLLLLLLRLLLLLLLLLLLLLRLLLLLLLLLLLLLLLLLLLLLLLLLLLLRLLLLLLRLLLLLLLLLLLLLLLLLLLLLLLLLLLLLLLLLLRLLLLLLRLLLLLLLLLLLRLLLLLLLLLLLLLLLLLLLLLLLLLLLLLRLLLLLLLLLLLLLLLLLLLLLLLLLLLLLLLLLLLLLLLLLLLLLLLLRLLLLRLLRLLLLLLLLRLLLLLLLLLLLLLLLLLLLRLLLLLLLLLLLRRLLLLRLLLLLLLLLLLLLLLRLLLLLRLLLLLLLLLLLLLLLLLLLLLLLRLRLLLLLLLLLLLLLLLLLLLLLLLLLLLLLLLLLLLRRLLLLLLLLRLLLLLLLLLLLLLLLLLLLLLLLLLLLRLLLLLLLLLLLLRLRLLLLRLLLLLLLLLLLLLLLLLLLLLLLLLLLLLLLLLLLLLLLLLLLLLLRLLLRLLLLLLLLLLLLLLLLLLLLLLLLLLLRLRLLLLLLLLLLLLLLLLLLRLLRLLLLLLLLLLLLLLLLLLLLLLLRRLLLLLLLLLLLLRRLRLLLRLLLLLLLLLLLLLLLLLLLLLLLRLLLLLLLLLLLLLLLLLLLRLLLRLLLLLLLLLRLLLLLLLLLLLLLLLLLLLLLLRRLRLLLLLLLLLLLLLLLLLLLLLRLLLLLLLLLLLLLLLRLRLLLLLLLLLRLLLLLLLLLLRLLLLLLLLLLLLLLLLLLLLLLLLLLLLLLLLLLLRLLLLRLLLLLLLLLLLLRLLLLLLRLLLLLLLLLLLLLLLLLLLLLLLLLLLLLLLLLLLRLLLLLLRLLRLLLLLLLLLLLLLLLLLLLLLRRLLLLLLLLLLLLLLLLLLLLLLLLLLLLLLLLLLLLLLLLLLLLLLLLLLLLLLLLLRLLLLRLLLLLLLLLLLLLLLLLLRLLLLLLLLLLLLLLLLLLRLLLLLRLLLRLLRRLLLLLLLLLLLLLLLLLLLLLLLLLLLLLLLLRLLLLLLLLLLLLLLLLRLRLLRLLRLLLLLLLLLLLLLLLLLLLRLLRLLLRLLLLLLLLLLLLLLLLLLLRLLLLLLLLLLLLLLLLLLLLLLRLLLLLLLLRLLLLLLLLLLLLLLLRLLLLLLLLLLLLLLLLLLLLLLLLRLLLLLLLLLLLLLLLLLRLLLLRLLLLLLRLLLLRLLLLLLLLLLLLLLLLLLLLLLLLRLRLLLLLLLLLRLLLRLLRLLLLLLLLLLLLLLLLRLLLLLLLLLLLLLLRLLLLLLLLLLLLLLLLLLRLLLLLLLLLLLLLLLLLLLLLLRLLLLLLLLRLLLLLLLRLLRLLLLLLRLLLLLLLLLLLLLLLLLLLLLLRLLLLLLLLRRLRLLRLLLLLRLLLLLLLLLLLLLLLLLLLLLLLLLLLLLLLLLLLRLLLLLLRLLLLLLLLLLLLLLLLLLLLLLLLLLLLLLLLLLRRLLLLLLRLLLLLLLLLRRLLLLLRLLLLLLLLLLLLLLRLLLLRLLLLLLLLLLRLLLLRLLLLLLRLRLLLRLRLLLLLLLLLLLLLLRLLLLLLLLLLLLLRLLLLLLLLLLLLLLLLLLLLLLLLLLLLLLLLLLLLLLLLRLLLLLLLLLLLLLLLLLLLLLLLLRLRLLLLLLLLLLLLLLLRLLLLLLLLLRLLLLLLLLRLLLLRLLLLLLRLLLLLLLRLLLLLLLLLLLLLLLLLRLLRLLLLLLLLLLLLLLLLLLLLLLLLLLLLLRLLLLLLLLLLLLLLLLLLLLLLLLLLLLLLLLLLLLLLLLLLLLLLLLLRLLLLLLLLLLLLLLLLLLLLLLLLRLLLLLLLLRLLLRLLLLLLRLLLLLLLRLLLLRLLLLLLLLLLLLLLRLLLLLLLLLLLLLLRLLRRLLLLRLLLLLLLLLLLLLLLLLLLLRLLLLLRRLLLLLLLLLLLLLLLLLLLLLLLLRLLLLLLLLLLLLLLLLLRLLLLLLLLLLLLLRLLLRRLLRLLLLLLLLLRLLLLLLLLLLLLLLLLLLLLLLLRLLLLLLLLLLLLLRLLLLLLLLLLLLLLLLLLLLLLLLLLLLLLLLLLRLLLLLLLLLLLLLLLRLLLLLLLLLRLLLLLLLLLLLLLRLLLLLLLLLLLLRRLRLLLLLLLLLLRLLLLRLLLLLLRLLLLRLLLLLLLLRLLLLRLLLLLLLLLLLLLRLLLLRLLLLLLLLLLLRLLLLLLLLLLLLLLLLLLLLLLLRLLLLLLLLLLRLLLLRLLLLLLLLLLLLLLLLLLRLLLLLLLLRLLLLLLLLLLRLLRRLLLLLRRLLLLLLLLLLLLLLLLLLLLLLLLLLLLLLLLLLLLLLLLLLLLLLLRRLLLLRLLLLLLLLLLLLLLLLLLLLLLLRLLLLLLLLLLRLRLLLRLLLRLLLLLRLLLLLLLLLLLLLRLLLLLLLLLLLLRLLLLLLLLLLLRLLLLRLLLLLLLLLLLLLLLLLLLLLLLRLLLRLLRLLRLLLLLLLRLLLLLLLLLLLLLLLLLLLLLLLLLLLLLLLLLLLLLLLLLLLLLLLLLLLLLRLLLLLLLLLLLLLLLLLLLRLLRLLLLLLLLLLLLLLLLRLLLLLLLLRLLLLLLLLLLLLLLLLLLLRLLLLLLLLLLLLLLLLLLLLLLLLLRLLLLLLLLLRLLLLLLLLLLLLLLLLLLLLLLLLLLLLLLLRLLLLLRLLLLLLLLLLLLLLLLLLLLLLLLLLLLRRLLLLLLLLLLLLLLLLLLLLLLLLLLLLLRLLLLLLLLLLLLLLLLLLLRLLLRLRLRRLLLLLLLRLLLRLLLLLLLLLLLLLLLLLLLLLLLLLLLRRLLLLLLLLLLLLLLLRLLLLLLLLLLRLRLLLLLLLLLLLLLLLLLLLLLLLLLLLLLLLLLLLRRLLRLLLLLLLLLLLLRLLLLLLLLLLLLLLLLLLLLRLLLLLLLLLLLLLLLLLLLLLLLLLRLLLLLLLLLLLLLLLLRLLRLLLLLLLLLLLLLLLLLLLLRLLLLLLLLLLLLLLLLLLLLLLLLLLLLLLLLLLLLRLLLLLLLLLLLLLLLLLLLLLLLLLLLLLLLLLLLRLLLLLLRRLLLLLLLLLLLLLLLLLLLLLLLLLLLLLLLLLLLLLLLLLLLLRLLLRLLLLLLLLLLLLLLLLLLRLLLLLLLLLLLLLLLLLLLLLRLLLLLLLLLLLLLLLLLLLRLLLLLLLLLLLLRLLLLLLLLLLLLLLLLLLRRLLLLLLRLLLLLRRLLLLLLLRLLLLRRLLLLLLLLLLLLLLLLLLLLLLLRLLLLRLLLLLLLLLLLLLLLLLRLLLLLLLLLLLLLLLLLLLLLLLLLLLLLLLLLLLLLLLLLRLLLLLLLLLLLLLLLLLLLLLLLLLLLLLLLLLLRLRLLLLRLLLLLLRLLLRRLLLLLLLLLLLLLLLLLLLLLLLRLLLLLRLLLLLLLLLLLLLLLLLLLLLLLLLLLLLLLLLLLLLLLLLLLRLLLLLLLLRLLLLLLLLLLRLLLLLLLLLLLLLLLLLLLLLLLLLLLLLLLLLLLLLLLLLLLLLLLRLLLLLLLLLLLLLLLLLLLLLLLLLLLLLRLLLRLLLLLLLLLLRLLLLLLLLRLLLLLLLLLLLLLLLLLLLLRLLLRLLLLLLLRLLLLLLLLLLLRLLLLLLLLLLLLLLLLLLLLLLLLLLLLLLLLRLLLLRRLLLLLLLLLRLLLLLLLRLLLLLLLLLLLLLLLLLLLLLLLLLLLLLLLLLLLLLLLLLLLRLLLLLLLLLLLLLLLLLLLLLLLLRLLLLLLLLLLLLLLLLLLLLLLLLLLLLLLRLLLLLLLLLLLLLLLLLLLLLLLLLLLLLLLRLLLLLLLLLLLLLLLLLLLRLLLLRLLLLLLLLLLLRLLLLLLLLLLLLRLLLLLLLLLLLLLLLLLLLLLLLLLLLLLLLLLLLLLLLRLLLRLLLLLLLLLLLLLLLLLLLLLLLLRLLLLLLLLRLLLLLLLLLRRLLLRLLLRLLLLLLLLLLLLLLLLLLLLLLLLLLLLLLLLLLLLLLLLRLRLLLLLLLLRLLLRLLLLLRRLLLLRLLLLLLLLLLLLLLLLLLLLLLLLLLLLLLLLLLLLLLLLLRLLLLLLLLLLLLLLLLLLLLLLLLLLLLLLLLLLLLLLLLLRRLLRLLLLLLLLLLLLLLLRLLLLLLLLRLLLLRLLLLLLLRLLLLLLLLLLLLLLLLLLLLLLLLLLLLLLLLLLRLLLLLLLLLLLLLRLLLLLLLLLLLLLLLLLRLLLLLLLLLLLLLLLLLLLLLLLLLLLLLRLLLLLLLLLLLLLLLLLLLLLLLLLLLLLLLLLLLLRLLLLLLLLLLLRLLLLLLRLLLLLLLLLLLLLLLLLLLLLLLLLLLLLLLLLLLLLLLLLLLLLLLLRLLLLLLLLLLLLLLLLLLLLLLLLLLLLLLLLLLLLLLLLLLLLRLLLLLLLRLRLLRLLLLLLLLLLLLLLLLLLLLLLLLLLLRLLLLLLLLLLLLLLLLLLLLLLLLLLLRLLLLLLLLLLLLLLLLRLLLLRLLRLRLLLLLLLLLLLLLLLLLLLLLLRLLLLLLLLLLLLLRLLLLLLLLLLRRLLLRLLLLRLLLLLLLLLLLLLLLLLLLLLLLLLLLLRLLLLLLLLLLLLLLLLLLRLLLLLLLLLLLLLLLLLLLLLLLLLLLLLLLRLLLLLLLLLLLLLLLLLRLRLLLLLLLLLLLLLLLLRLRLLLRLLLLLLLRLLLLLLLLLLLRLLLLLLLLLLLLLLLLLLLLLLLLLLLLLLLLLLLLLLLLLLLLLLLLLRLLLRLLLRLLLLLLLLLLLLLLLLLLLLLLLLLLLLLLLLLLLLLLLLLLLLLLLLLLLLLLLLLLLLRLLLLLLLLLLRRLLLLLLLLLLLLLLLLLLLLLLLLLLLRLLLLLLLLLLLLLLLLLLLLLLLLRRLLRLRLLLLLLLLLLLLLLLLLLRLLLLLLLLLLLLLLLLLLLLLLLRLLLLLLRLLRLLLRRLLLLLLLLLLRLLRLLLLLLLLLLLLLLLLRLLLLLLLLLLLLLLRLLLLLLLLLLLLLLLLLLLLLLLLLLLLLLLLLLLLLLLRLLLLLRLLLLLLLLLLLLLLLLLLLLLLLLLLLLLLLLLLRLLLLLRLLLLLRLLLLLLLLLLLLLLLLRLLLLLLLLLLLLLLLLLLLLLLLLLLLRLLRLLLLLLLRLLLLLLLLLLLLRLLLLLLLLLLLLLLLLLLLLLLLLLLLLRLLLLLLLLLRRRLLLLLLLLLLLLLLLLLLLLLLLLLLLLLLLLLLLLRLLLLLLLLLRLLLLLLLRLLLLLLLLLLLLLLLLLLLLLLLLLLLLLLLLLLLLLLRLLLLLLRLLLLLLLLLLLLLLLLLLLRLLLLLRLLLLLLLRLLLLLLRLLRLLLRLLLRLLLLLLLLLLLLLLLLLLLLLLLLLLLLLLLLLLLLLLLLRLLLLRLLLLLLLLLLLLLRLLLLLLLLLLLLLLLRLLLLRLLLLLLLLLLLLLLLLLLLLLLLLLLLLLLLLLLLLLLLLLLLLLLLLLLLRLLLLRRLLLLLLLLLLLLLLRLLRLLLLLLRLLRLLLLLLLLRLLLLLRLLRLLRLLLLLLLLLLLLLLLLLLLRLLLRLLRLLLLLLLLLLLRLLLLLLLRLLLLLLLLLLLLLLLLLLLLLLLLLLLLLRLLLLLLLLLLLLLRLLLLLLLLLLLLLLLLLLLLLLLLLLLLRLLLLLLLLLLLLLLLLLLLLLRLLRLLLLLLLLLLLLLLLLLLLLLLLLLLLLLLLLLLRLLLLLLRLLRRLLLLLLLLLLLLLLLLLLLLLLLLLLLLLLLLLLLLLLLLLLLLLLRLLLLRLLLLLLLLLLLLLLLLRLLRLLLLLLLLLLLLLRLRLLLLLLLLLLLLLLLLLLLLLLLLLLLLLLLLLLLLLLLLLLLLLLLLLLLLLLLLLLLLLLLLLLLLLLLLLLLLLLLLLLLLLRLLLLLLLLLLLLLLLLLLLLLLLLLLLLLLLLLLLLLLLLLLLLLLLRLLLLLLLLLLLLLLLLLLLLLLLLLLLLLLLLLLLLRLRLLLLRLLLLLLLLLLLLLLLLLLLLLLLLLLLLLLLLLLLLLLLLLLLLLLLLLLLLLLLLLLLLLRLRLLLLLLLLLLLLLLLLLLLLLLLLLRLLLLLLRRLRLLLLLLLLLLLLLLLRRLLLRLLRLLLLLLLLLLLLLLLLLLLLLLLLLLLLLLLRLLLLLLLLLLLLLLLLLLLLRLLLLLLLLLLLRLLLLLLLLLLLLLLLLLLLLLLLLLLLLLLLLLLLRLLLLLRLLRLLLLLLLLLLLLLLLLLRLRLLLLLLLRRLLLLLLLLLLLLLLLLLLLLLLLLLLLLLLLLLLLLLLLLLLLLLLLRLLLLLLLLLRLLLLLLLLLLLLLLLLLLRLLLLLLLLLLLLLLLLLLLLLLLLLLLLLLLLLLLLLLLLLLLLLLLLLLLLLLLLLLLLLLLLRRRRLLLLLLLLLLLLLLLLLRLLLLLLLLLLLLLLLLLLLLLLLLLLLLLLLLLLRLRLLLLLLLLLLLLLLLLLLLLLLLLLLLLLLLLLLLLLLLRRLLLLLRLLLLLLLLLLLLLRLLLLLLLLLLLLLLLLLLLRLLLLLRLLLLLRLLRLLLLLLLLLLLLLRRLRLLLLLLLLLLLLLLLLRLLLLLLLRRLLLLLLLLLLRLLLLLLRLLLLLLLLLLLLLLLLLLLLLLLLLLLLLLLLLLLRLLLLLLLLLLLLLLLLLLLLLLLLLLLLLLLRLLRLLLLLLLLLLLLLLLLLLLLLLLLLLLLLLLLLLLLLLLLLLLLLLLRLLLLLLLLLLLLLLLLLLLLLLLLLLLLLLLLLLLLLRLLLLLLLLLLLLLLLLLLRLLRLLLLLLLLLLLLLLLLLLLLLLLLLLLLLLLLLLLLLLLLLLLLLLLLLLLLLLLLLLLRLLLLLLLLLLLLLLLRLLLLLLLLLLLLLLLLLLLLLLLLLLRLRLLLLLLLLLLLLLLLLLLRRLLLLLLRLLLLLLLLLLLRLLLLLLLLLLLLLLLLLLLLLLLLLLLLLLLLLLLLRLLLLLLLLLLLLLLLLLLLLRLLLLRLLLLLLLLLLLLLLLLRLLLLLLLLLLLLLLLLLLLLLLRLLLLLLLLLLLLLLLLLLLLLLLLLLLLRLLLLLLLLLLLLLRLLLLLLLLLLLLLLLLLLLLLLLRLLLLLLLLLLLLLLLLLLRLLLLRLRLLLLLLLRLLLLLLLLLLLLLLLLLLLLLLLLLLLLLLRLLLLLLLLLLLLLRRLLLLLLLLLLLLLLLLLLLLLLLLLLLLLRLLLLLLLLLLLLLLLLLLLLLLLLLLLLLLLLLLRLLLLLLRLLLLLLLLLLLLLLLLLRLLLLLLLLRLLLLLLLLLLLLLLLLLLLLLLRLLRLLLLLRLLLLLLLLLLRRLLRLLLLLLLLLLLLLLLLLLLLLLLRLLLLLLLLLLRLLRLLLLLLLLLLLLLLLLLLLLLLLLLLLLLLLLLLLLLLLLLLLLLRLLLLLLRLLLLLLLLLLLLLLLLLLLLLLLLLLLLLLLLLLLLLLLLLLLRLLRLLLRRLLRLLLRLLLLLLLLLLLLLLLLLLRLLLLLLLLLLLLLLLLLLLLLLLLLLLLLLLLLLLLLLLLLLLLLRLLLLLLLLLLLLLLLLLRLLLLLLLLLLLLRRLLLLLLLLLLLLLLLLLLLLLLLRLLLLLLLLLRLLLLLLLLLLLLLLLLLLLLLLLLLLLRLLLLLLLLLLLLLLRLRRLLLLLLLLLLLLLLLLLLLLLLLLLLLLLLLRLLLLLLLLLLLLLLLLLLLRLRRLLLLLLLLLLLLLLLLLLLLLLLLLLLLLLLLLLLLRLLLRLLLLRLRLLRLLLLLLLLLLLLLLLLLLLLLLLLLLLLLLLLLLLLLLLLLLLLLLLLLLLLRLLLLLLLLLLLLLLLLLLRLLLLLLLLLLLLLLLLRLLLLLLRLLRLLLLRLLLLLLRLLLLLRLLLLLLLLLLLLLLLLLLLLLLLLLLLLRLLLLLLLLLLLLLLRLLLLLRLLLLLLLLLLLLLLLLRLRLLLLLLLLRLLLLLLLLLLLLLLLLLLLLLLLLLLLLLLRLLLLLLLLLLLLLLLLLLRLLLLLLLLLLLLLLLLLLLLLLLRLLLLLLLLRLLLLLLLLLLLLRLLLLLLLLLLRLLLLLLLLLLRLLRLLLLRLLLLRLLLLLLLLRLLLLLLLLLLLLLLLLLLLLLLLLLLLRLLLRLLLLLLLLRLLRLLLLLLLLLLLLLLLLLLLLLLLLLLLLLLLLLLLLLLLLLLLLLLLRRLLLRLLLLLLLLLLLLLLLLLLLLLLLLLLLLLLLLLLLLLLLLRLLLLLLLLLLLLLRLLLLLLLLLLLLLLLLLLLLLLLLLLLLLLLRLLLLLLLLLLLLLLRLLLLLLLLLLLLLLLLLLLLLLLLLLLLLLLLLLLLLLLRLRLLLLRLLLLLLLLLLLLLLLLLLLLLLLLLLLLLLLLLLLLLLLLLLLLLLLRLLLLLLLLLLLLLLLLLLLLLLLLLLLLLLLRLLLLLLLLLLLLLLLLLLRLLLLLLLRLRLLLLLLLLLLLLLRLLLLLLLLLLLLLLLLRLLLLLLLRLLLLLLLLLLLLRLLLLLLLLLLLLLLLLLLLLLLLLLLRLLLLLLLLLLLRLLLLLLLLLLLLLLLLLLLLLLLLRLLLLLLLLRLLLRLLLLLRLLLLLLLLLLLLLLLLLLLLLLLLLLLLLLLRLLLLLLLLLLLLLLLLLLLLLLRLLLLRLLLLLLLLLLLLLLLLLLLLLLLRLLLLLLLLLLLLLLRLLLLLLLLRLLLLLRLLLLLLLLLLLLLLLLLLLLLLLLLLLLLLLLLLLLLLRLLLRLLLLLLLLLLLLLLLLLLRLLLLLLLLLLLLLLLRLLLLRLLLLLRLLRLLLLLRLLLLLLLLLLLLLLLLLLLLLLLLLLLLLLLLRLLLLLRLLLLLLLLLLLLLLLRRLLLLLLLLLLLLLLLLLLLRLLLLLLLLLLLLLLLLLLLLLLLLLLLLLLLLLLLLLLLRLLLLLRLLLLLLLLLLRLLLLLLLLLLLLLLLLLLLLLLLLLLLRLLLRLLLLLLRLLLLLLLLLLLLLLLLLLLLLLLLLLLLLLLLLLLRLLLLLLLLLLLLLLLLLLLLLLLLLLLRLLLLLLLRLLLLLLLLLLLLLLLLLLLLLLLLLLLLLLLLLLLLLLLLLLLLLLLLLLLRLLLLLLLLLLLLLLRLLLLLLLLLLLLLLRLLLRLLLLLLLRLLLLLLLLRLRLLLLRLLLLLLLLLLLLLLLLLLLLLLRLRLLLLLLLLLLLLLLLLLLLLLLLLLLLLLLLLLLRLLLLLLLLLLLLLLRLRLLLLLLLLLLLLLLLLLLLLLLLLLRLLLLLLLLLLLRRLLLLLLLLLLLLLLLLLLLLLLLLLLLLLLRRLLLLLLLLLLLLLLLRLLLLLLLLLLRLLRLLLLLLLLLLLLLLLLLLLLLLLLLLLRLLLLLLLLLLLLLLLLLLLLRLLLLLLLLLLLLLRLLLLLLLLLLLLLLLLLLLLLLLRLLRLLRLLLLLLLLLLLLLLRLLLLLLLLLLRLLLLLLLLLLLLLLLLLLLLLRLLLLLLLLLLLLLLLLLLLRLLLLLLRLLLLLLLLLLLLLLLLLLLLLLLLLLLLLLLLLLLLLLLLLRLLLLLLLLLLLRLLLLLLLLLLLLLLLLLLLLLRLLLLLLLLLLLLLLLLLLLRLLRLLLLLLLLRLLLLLLLLLLLLRLLLLLRLLLLLLLLLLLLLLLLLLLLLLLLLLLLLLLLLLLLLLLLRLLLLLLLLLLLLLLLLLLLLLLLLLLLLLLRLLRLRLLLLLLLLLLLLLLLLLLLLLLLLLLLLLRLRLLLLLLLLLLLLLRLRLLLRLLLLLLLLRLLLLRLLLRLLLLLLLLLLLLLRLLLLLLLLLLLLLLLLRRLLLLLLLLLLLLLLLLLLLLLLLLLLLLRLLLLLLLLLLLLRLLLLLLLLLLLLLLRLLLLLLLLLLLLLLLLLLLLLLLLLLLLLLLLLLLLLLLLRLLLLLLLLLLLLLLLLLLLLLLLLLLLLLLLLLLLLLLRLRLLLRLLRLLLLLLLLLLLLLLLLLRLLLLLLLLLLLLLLLLLLLLLLRLLLLLLLLLLLLLLRLLLLRLLLLLLLRLLLLLLLLLLLLLLLLLLLLLRLLLLLLLLLLLLLLLRLLLLLLRLLLLLLLLLLLLLLLLLLLLLLLRRLLLLLLLLLRRLLRLLLRLLLLLLLLLLLLLLLLLLLLLLLLLLLLLLLLLLLLRLLLLLLLLLLLLLLLLLLLLLLLLLLRLLRLLLLRLLRLLLLLLLLLLLLLLLLLLLLLLLLLLLLLLRLLLLLLLLLLRLLLLLLLLLLLLLLRLLLLLLLLLLLLLLLLLLLLLLLLLLLLLLLLLLLLLLLLLLLLLLLLLLLLLLRRLLRRLLLLLLLLLLLLLLLLLLLLLLLLLLLLLLLLLLLLLLLLLRLRLLLLLLLLLLLLLLLLLLLLLLLLLLLLLRLLRLLLLLLLLLLLLLLLLLLLLLLLLLLRLLLLLLLLLLLLLLLLLLLLLLLRLLLLRLLLLLRLLLLLLLLLLLLLLLLLLLLLLLLLLLLRLLLLRLLRLLLLLLRLRLLLLLLLLRLLLLLLLLLLLLLLLLLLLLLLLLLLLLLLLLLRLLLLLRLLLLLLLLLLLLRLLLLLLLLLLLLLLLLLLLRLLLRLLRLLLLLLRLRLLLLLLLLLLLLLLLLLLLLLLLLLLLLLLLLLLLLLLLLLLLRLLLLRLRLLLLLLLLLLLLLLLLLLLLLLLLLLRRLLLLLLLLLLLLLLRLLLLRLLLLLLLLLLLLLLLLLLLLLLLLLLLLLLLLLLLLLLLLLLLLLLLLLLLLLLLLLLLLLLLLLLLLLLLLLLLLLLLLLLLLLLLLLLLLLLRRLLLLLLLLLLLLRLLLLLLLLLLLLLLLLLLLLLLLLLLLLLLLLLLLLLRLLLLLLLLLLLLLLLLLLLLLLRLRLLLLLLRLLLLLLLRLLLLLLRLLLLLLLLLLLLLLLLLLLLLLLLLLRLLLLRLLLRLLRLLLLRLLLLLLLLLLLLLLLLLLLLLLLLLLLLLLLLLLLLLLLLLLRLLLLLLRLLLLLLRLLLLRLLLLLLLLLLLLLLLLRLLLLLLLLLLLLLLLLLLLLLLLLLLLLLLLLLLRLLLLLLLLLLLLLLLLLLLLLLLLLLLLLLLLLLLLLLLLLLLLLLLLLLLLLLRLLLLLLLLLLLLRLLLLLLLLLLLLLLLRLLLLLLLLLLLLLLLLLLLLLLRLLLLLLLLLLLRRRLLRLLRLLLLLLLLLLLLRLLLLLLLLRLLLLLLLLLLLLLLLLLRLLLLLLLLLLLLRLLRLLLRLLLLLLLLLLLLLLLLLLRLLLLRRLLLLRLLLLLLLLLLLLLLRRLLLLLLLLLLLLLLLLLLLLLRLLLLRLLLRLLRLLLLLLLLLLLRLLLRLLLLLLLLLLLLLLLLLLLLRLLLLLLLLLLLLLLLLLLLLLLLLLLLLLLLLLLLLLLLLLLLLLLRLLLLLLLLLLLLLLLLLLLLLLLLLLLLRLLLLLLLLLLLLLLLLLLLLLLRLLLLLLLLRRLLLLLLLLLLLLLLLLLLLLLLLLLLLLLLLLLLLLLLLLLLLLLLLLLLRLLLLLLLLLLLRLLLLLLLLLLLLLLLLLLLLLLLLLLLLLLLRLLLLLRLLLLLLRLLLLLLLLLLLLLLLLLLLLLLLLLRLLLLLLLLLLLLLLLLLLLLLRLLLRLLLLLLLLLLLLLLLLLLRLLRLLRLLLLRRLLRLLLLLLLRLLLLLLLLLLLLLLLLLLLLLLLLLLLLLLLLLLLRLLLLLLLLLLLLLRLLLRLLLLLLLLLLLLLLLLLLLLLLLLLLLLLLLLLLLLLLLLLLLLLLLLLLLLLLLRLLLLLLLLLLLLLLLLLLLLLLLLLRLLLLLLLLLLRRLLLLLLLLLLLLLLLLLLLLLLLLLLLLLLLLLLLLRRLLRLLLLLLRRRLRLLLLLLLLLLLLLLRLLLLLRLLLLLLLRLLLLLLLLLLRLLLLLLLLLLLLLLLLLLLLLLLRLLLLLLLLLLLLLLLLLLLLRRLRLLLRLLLLLLLLLLLLLLLLLLLLLLLLLLLRLLRLLLLRLLLLLLLLLLLLLLLLLLLLLLLLLLLLLLRLLLLLLLLLLLLLLLLLLLLLLLRRLLLLLLLLLLLLLLLLLLLLRLLLLLLLLLRLLLLLLRLLLLRRLLLLLLLRLLLLLLLLLLLLLLLLRLLLRLLLLLLLRLLLLLLRLRLLLRLLLLLLLLLLLRLLLLLLLLLLLLLLLLLLLLLLLLRLLLLLLLLLLLLLLRLLLLLLLLRLRLLLLLLLRLLLLLLLLLLLLLLRLLLLLLLLLLLLLLRLLLLLLLRLLLLLLRLLLLLLLLLLLLLLLLLLRLLLLLLLRLLLRLLLLLLLLLLLLLLLLLLLLLLLLLLLLLLLLLLLLLLLLLLLLLLRLLLLLLLLLLLLLLLLLLLLLLLLLLLLLLLLLLLLLLRRRLLLLLLLLRLLLLLLLLLLLLLLLLLLLLLLLLRLLLRLLLLLLLLLLLLLLLLLLRLLLLRLLLLLRLLLLLLLLLLLLLLLLLLLLLLLRLLLLLLLLLLLLLLLLLLLLLLLLLLLLLLLLLLLLLLLLLLLLLLLLLLLRLLRLLLLRLLLLLLLLLLLLLLLLLLLLLLL, improve=305.302200, (0 missing)\n",
      "      Saving_Current_Balance < 1512.988   to the left,  improve= 14.474220, (0 missing)\n",
      "      Consumer_Loans_Balance < 10.76667   to the right, improve=  7.865549, (0 missing)\n",
      "      Deposit_Trans_Amount   < 999.9583   to the left,  improve=  7.560893, (0 missing)\n",
      "      Total_Income           < 30051.5    to the left,  improve=  7.560201, (0 missing)\n",
      "  Surrogate splits:\n",
      "      Saving_Current_Balance < 4997.697   to the left,  agree=0.918, adj=0, (0 split)\n",
      "\n",
      "Node number 2: 110128 observations\n",
      "  predicted class=FALSE  expected loss=0.0004630975  P(node) =0.9177333\n",
      "    class counts: 110077    51\n",
      "   probabilities: 1.000 0.000 \n",
      "\n",
      "Node number 3: 9872 observations,    complexity param=0.04562453\n",
      "  predicted class=FALSE  expected loss=0.1302674  P(node) =0.08226667\n",
      "    class counts:  8586  1286\n",
      "   probabilities: 0.870 0.130 \n",
      "  left son=6 (7647 obs) right son=7 (2225 obs)\n",
      "  Primary splits:\n",
      "      Saving_Current_Balance < 692.9883   to the left,  improve=115.98830, (0 missing)\n",
      "      Consumer_Loans_Balance < 0.005      to the right, improve= 72.35387, (0 missing)\n",
      "      Consumer_Loans_Flag    < 0.5        to the right, improve= 71.24172, (0 missing)\n",
      "      Birth_Date             splits as  -------------------------L-----------------L---L------------------------------------L--------------------R-L----------------L----------L-----------------------------L-------L-----------------------------------------------------L---L-------------------R---L-----R---L---------L---L--------------------------------L----L---L-------------------------------------------L--L------------------------------------R---L-------------------------------------------------------L----------L----------------------------------------------------------------------RLL-----------L-------------L------------------------------------------------L--L------------------L----L----L-----------L----------------R------R-------------------L------L----------------------------------L---------L-------------------------L----L----------------L----------------------R--------------------------------------------R---R---------L--L----L-------------------------------------------L---------------L---------------R----------------------L--L----------R-------------------------------L------------L--------------R-------------L-----L---------------L------------------L----L-------L-------------------------------------R------------------L-------------------------R------L-L------L----------L---LL--------------------L------L---L--------------L---------------R----R---L----------------------------------------------------------------------L---------------------------------------------L--------L-------------R------------------L----------------------------R------L--L-----L--L----L-----------------------R--------------------------------L---------------------------------------L-L-----------L---------R-----L---------L-----L----L------L---------------R---------------L--------------------------------------------R---------------L--------------------------------------L---L-----------------------------------------------L-------L--------------L----R-----------------L-------------L-------------------------------L-----------------L-----------------------------------L---------------------------L-----------------L------L--L--------------------------L-----------------L-L----------------------------L----------------------------------------------L----------L---------------------L------------------R-------L----R-L----LL-L------------------------------------------L------------------------R-----L-------L-L---L-----L--------------------------------------------------L-----------------------------------R-L---L-------------------------L-LL-R------------------L----------------------------------------------L-------------------------------L------------------------L-L------L-----L-------------------L---------------------------------R-R--------R-L--------L-----------------R-------------L--L----L-L---L------------L-------------R-L-------------L-------L----LL----------------------R------------L-----L----------------R---------------------L-----------L-------L-----R-----------L--L-------L----L-L-----------------------------------------------------------------------L--------L----------------------------------------L--L-----------L---------------------L----------------------LL-L-------L-L-------------------R------------------L-------------------------------L-----------------LL-------------------------R---------L----------L---LL--------L-------------L-----L--L-------L------------------------------R------------------LL---------L-------------------L--------------------LL-------------------------------------------L----L-L----L-----------R------------------------L-----L-----------------------------------LL-----L----------------------R--------------L--L-------L-----------------------------R-----------------------------L--------------------R-----------------L---L-LL----------------------L---------------------------------------------------------------------------------------------R---L---------------------------L------------------------------------L----------------------------------L-----L--L--L-------L----------------L---------------L---------L-------------------------L------------L---------R------------------------------------------L-----------------------L--L----------------------L---------------R-----R---------L--L---L--L----------L-L---------------L------------L-------L------------------------------R-------------------L------------------------------------------------------------------------------------L----LL-----L---L--------------R--------------R---------------------------------R----------L-------------L------L--------L---------------------L---L----L---------------------------R---------R--------------L------------------------L--R---------L---L--------L-------------------------RL--------L-------------------------------R---R---L----------------L----------L------------------L-----L--------L--------------------------------L-----L-----------L----L-------------------------------------------------------R---L-------L--L-----------------------L---------------------R--------------------LL----L-------------------------------L-----L---------------------------------------------------L------------------R----------------------------------L---------------RL---------------------------L----R------------------------------------L------L--L------------------L--------RL----L-----------L------------------------------R-------------L----------------------------R------R----------------------------------R------L-----------L-----------------------------L------------------------------------------------R----R--L--------L-------------------R-----------LL----L---------------L-----R-----------------------L-L-----------------------------------LR--------L---------------------------R------------L-L----L----------------------------------------------L---L---------------------------L-L------------------L--L-----------------------RL------------LL-L---R-----------------------R-------------------L---L---------L----------------------LR-L---------------------L---------------L-L---------L----------L-----------------------------------L----L------------L------L-----------------------------------L------L--L---------------------LL---------------------------------------------------------L----L------------------L------------------L-----L---L--LL--------------------------------L----------------L-L--L--L-------------------R--R---L-------------------L----------------------L--------L---------------L------------------------R-----------------L----L------L----L------------------------R-L---------L---L--L----------------L--------------L------------------L----------------------L--------L-------L--L------L----------------------L--------LL-L--L-----L-----------------------------------L------R----------------------------------RL------L---------LL-----L--------------R----R----------L----L------L-L---L-L--------------R-------------L----------------------------------------L------------------------L-L---------------R---------L--------L----L------L-------L-----------------L--L-----------------------------L-------------------------------------------------L------------------------L--------L---L------L-------L----L--------------R--------------L--LL----L--------------------L-----RL------------------------L-----------------R-------------L---LL--L---------L-----------------------L-------------L----------------------------------L---------------R---------L-------------L------------LL-L----------L----L------L----L--------L----L-------------L----L-----------L-----------------------L----------L----L------------------R--------L----------L--RR-----LL-----------------------------------------------LL----L-----------------------L----------L-L---R---L-----L-------------L------------L-----------L----L-----------------------L---L--L--L-------L-----------------------------------------------------L-------------------L--L----------------L--------L-------------------L-------------------------L---------L-------------------------------L-----L----------------------------LL-----------------------------L-------------------R---R-L-LR-------L---L---------------------------RL---------------L----------L-L-----------------------------------LL--R------------L--------------------L-------------------------R----------------L--R--------------------L------------------------------------L-----------------------------------L------RR--------------------------------------------L---L------------------L---------------------R-------------------L------------L------------------RL------R-----LL-------R----LL-----------------------R----L-----------------L-----------------------------------------L----------------------------------L-L----R------L---LL-----------------------L-----R-------------------------------------------L--------L----------L-----------------------------------------------R-----------------------------R---R----------L--------L--------------------L---R-------L-----------L--------------------------------L----RL---------L-------L-------------------------------------------L------------------------R------------------------------L-------------------------------L-------------------L----L-----------R------------L---------------------------------------L---L------------------------L--------R---------RL---L---R----------------------------------------R-R--------L---L-----LL----L-----------------------------------------L-----------------------------------------RL--L---------------L--------R----L-------R----------------------------------R-------------L-----------------L-----------------------------L------------------------------------L-----------L------L------------------------------------------------L--------------------------------------------L-------L-L--L---------------------------L---------------------------L----------------L----L--L-L----------------------L-------------L----------RR---L----L----------------------------R------------------L-------------------------------L-----------------L-L----------------R-R---R-------R-----------L-------------------------------------------------R---L---L------------------------------------------------------------L----------RL---------------------------L------------------------LL--L-L------------------L-----------------------L------R--L---LL----------L--L----------------L--------------L---------------------------------------R-----L----------------------------------R-----L-----L----------------L---------------------------L--L-------L------------L----------------------------L---------LLL------------------------------------L---------L-------L--------------------------------------L------L-------------------R-----L-------L------L--L---L---L----------------------------------------L----L-------------R---------------L----L---------------------------------------------------L----LL--------------R--R------R--R--------R-----L--L--L-------------------R---R--R-----------L-------L-----------------------------R-------------L----------------------------L---------------------L--L----------------------------------R------L--LL----------------------------------------------L----L----------------R--L-------------L-L-------------------------------------------------------------------------------------R-----------------------------------------------L------------------------------------L-R----L-------------------------------------------------------------L-R-------------------------R------RR-R---------------LL---L--L-------------------------------L--------------------L-----------R-----------------------------------L-----L--R-----------------L-L-------LL-----------------------------------------------L---------L------------------R----------------------------------------------------------------LLLL-----------------L----------------------------------L-R---------------------------------------LR-----L-------------L-------------------R-----L-----L--L-------------LL-L----------------L-------LL----------L------L-----------------------------------L-------------------------------L--L-----------------------------------------------R-------------------------------------R------------------L--L-----------------------------------------------------------L---------------R--------------------------L-L------------------RL------L-----------L------------------------------------R--------------------L----L----------------L----------------------L----------------------------L-------------L-----------------------R------------------L----L-L-------L------------------------------L-------------LL-----------------------------L----------------------------------R------L-----------------L--------L----------------------L--R-----L----------LL--L-----------------------R----------L--L---------------------------------------------L------L-------------------------------------------L--L---LL--L---L------------------L---------------------------------------------R-----------------R------------LL-----------------------R---------R---------------------------L--------------L-LL-------------------------------R-------------------L-LL------------------------------------L---L----L-L--L----------------------------------------------------L------------------R----------------L------L--L----L------L-----R----------------------------L--------------L-----R----------------L-L--------L------------------------------R------------------L-----------------------L--------R------------L----------L----------R--L----R----L--------L---------------------------R---L--------L--L-----------------------------------------------LL---L----------------------------------------R-------------L-------------------------------L--------------L---------------------------------------L-L----L-----------------------------------------------L-------------------------------R------------------L-------L-L-------------R----------------L-------L------------L--------------------------L-----------L------------------------R--------R---R-----L-------------------------------R----------------------L----L-----------------------L--------------L--------L-----L--------------------------------------L---L------------------R---------------L----L-----L--L-----L--------------------------------L-----L---------------LL-------------------L---------------------------------------L-----L----------L---------------------------R---L------L-----------------------------------R---------------------------L-------L---------------------------------------------------L--------------R--------------L---L-------L--------L-L----R----------------------L-L----------------------------------L--------------L-L-------------------------L-----------LL------------------------------RL---------------L----------L--L---------------------------R--------------------L-------------R-----------------------L--L--L--------------R----------L---------------------L-------------------R------L-----------------------------------------R-----------L---------------------R-------------------L--L--------L------------L-----L----------------------------------------L------------------------------L--L-L-----------------------------L-L-------------L-L---L--------L----L---L-------------L----------------LL----------------------------L------------R--------------L----------------------------------------L--------------------------------------L-L---L--L-----------------L----------------------R--------------L----L-------L---------------------L---------------L------L-----------------------LL---------LL--L---L------------------------------------L--------------------------R--L----L--L------------------------------L----------R--------------L------------------------------------------------------LL--LL-----------------------------------------L-L-----------------------------R--R--------------------------L-----------------------L----L-----L----------------------------R----R--R------R-L--------L---------------------------------L-----L------------L-------------------L---L--L------L-L-------------------------------------------R----L-L--------------------------LR--------------L----L----------------------------------------------------------------------------------------------LL------------R-------------------------------------L----------------------L-L------R-------L------L--------------------------L----L---L--L----L------------------------------------------L------L------L----L----------------R----------------------------------L------------------------------------------------------L------------L---------------L----------------------R-----------LLL--L--L------------L--------L-----------------L------------L--L---L------------------L----LL----L--------------LL---------------------R----R---L--L-----------L---L--------------------L----------------------------------------------L----------------------------L----------------------R--------LL--------------------------------------------------L-----------L-------------------------------L-----L------L-------------------------L---------------------L---L------------------R--L--L----LL--L-------L-----------------------------------L-------------L---L-------------------------------------------------------R-------------------------L----------LL------------------------------------LL--L------LLL-L--------------L-----L-------L----------L-----------------------L--------------------LL-L---L---------------------------R--L----L------------------------------L-----------------------LR--------------------R---------L------L----LL-------L----------------L---R-------L------L-L---L-----------L------------------------L--------------L--------R-L-------R--------------L--------------L-------L------L------------------R-------L---L----------------------------------------------L--------------------------------------LLL--------L------------------------R---R------------------L----L-----L-----------------------R---------------------------------------------------L--L----L-----------------------, improve= 66.88126, (0 missing)\n",
      "      Arrears_Months_Max     < 0.5        to the right, improve= 63.49431, (0 missing)\n",
      "  Surrogate splits:\n",
      "      Transfer_Trans_Amount  < 145.7083   to the left,  agree=0.795, adj=0.093, (0 split)\n",
      "      Deposit_Trans_Amount   < 962.565    to the left,  agree=0.793, adj=0.081, (0 split)\n",
      "      Withdrawl_Trans_Amount < 1524.167   to the left,  agree=0.790, adj=0.066, (0 split)\n",
      "      Transfer_Trans_Num     < 0.2916665  to the left,  agree=0.787, adj=0.057, (0 split)\n",
      "      Birth_Date             splits as  -------------------------L-----------------L---L------------------------------------L--------------------L-L----------------L----------L-----------------------------L-------L-----------------------------------------------------L---L-------------------L---L-----L---L---------L---L--------------------------------L----L---L-------------------------------------------R--L------------------------------------R---L-------------------------------------------------------L----------L----------------------------------------------------------------------LLL-----------L-------------L------------------------------------------------L--L------------------L----L----L-----------L----------------R------L-------------------L------L----------------------------------L---------L-------------------------L----L----------------L----------------------L--------------------------------------------R---L---------L--L----L-------------------------------------------L---------------L---------------R----------------------L--L----------L-------------------------------L------------L--------------L-------------L-----L---------------L------------------L----L-------L-------------------------------------L------------------L-------------------------L------L-L------L----------L---LL--------------------L------L---L--------------R---------------R----L---L----------------------------------------------------------------------L---------------------------------------------L--------L-------------L------------------R----------------------------L------L--L-----L--L----L-----------------------L--------------------------------L---------------------------------------L-L-----------L---------R-----L---------L-----L----L------L---------------R---------------L--------------------------------------------L---------------L--------------------------------------L---L-----------------------------------------------L-------L--------------L----L-----------------L-------------L-------------------------------L-----------------L-----------------------------------L---------------------------L-----------------L------L--L--------------------------L-----------------L-L----------------------------L----------------------------------------------L----------L---------------------L------------------R-------L----L-L----LL-L------------------------------------------L------------------------R-----L-------L-L---L-----L--------------------------------------------------L-----------------------------------L-L---L-------------------------L-LL-L------------------L----------------------------------------------L-------------------------------L------------------------L-L------L-----L-------------------L---------------------------------L-L--------L-L--------L-----------------L-------------L--L----R-L---L------------L-------------R-R-------------L-------L----LL----------------------L------------L-----L----------------L---------------------L-----------L-------L-----R-----------L--L-------L----L-L-----------------------------------------------------------------------L--------L----------------------------------------L--L-----------L---------------------L----------------------LL-L-------L-L-------------------L------------------L-------------------------------L-----------------LL-------------------------L---------L----------L---LL--------L-------------L-----R--L-------L------------------------------R------------------LL---------L-------------------L--------------------LL-------------------------------------------L----L-L----L-----------L------------------------L-----L-----------------------------------RL-----L----------------------R--------------L--L-------L-----------------------------L-----------------------------L--------------------L-----------------L---R-LL----------------------L---------------------------------------------------------------------------------------------L---L---------------------------L------------------------------------L----------------------------------R-----L--L--L-------L----------------L---------------L---------L-------------------------L------------L---------L------------------------------------------L-----------------------L--L----------------------L---------------L-----L---------L--L---L--L----------L-L---------------L------------R-------L------------------------------L-------------------L------------------------------------------------------------------------------------L----LL-----L---L--------------L--------------L---------------------------------L----------L-------------L------L--------L---------------------L---L----L---------------------------L---------R--------------L------------------------L--L---------L---L--------L-------------------------LL--------L-------------------------------L---L---L----------------L----------L------------------L-----L--------L--------------------------------L-----L-----------L----L-------------------------------------------------------L---L-------L--R-----------------------L---------------------R--------------------LR----L-------------------------------L-----L---------------------------------------------------L------------------L----------------------------------L---------------LL---------------------------L----L------------------------------------L------L--L------------------R--------LL----L-----------L------------------------------L-------------L----------------------------L------R----------------------------------L------L-----------L-----------------------------L------------------------------------------------L----L--L--------L-------------------L-----------LR----L---------------L-----L-----------------------L-L-----------------------------------LL--------L---------------------------L------------L-L----L----------------------------------------------L---L---------------------------L-L------------------L--L-----------------------RL------------LL-L---L-----------------------L-------------------L---L---------L----------------------LL-L---------------------R---------------L-L---------L----------L-----------------------------------L----L------------L------L-----------------------------------L------L--L---------------------LL---------------------------------------------------------L----L------------------L------------------L-----L---L--LL--------------------------------L----------------L-L--L--L-------------------L--L---L-------------------L----------------------L--------R---------------L------------------------L-----------------L----L------L----L------------------------L-L---------L---L--L----------------L--------------L------------------L----------------------L--------L-------L--L------L----------------------L--------LL-L--L-----L-----------------------------------L------L----------------------------------LL------L---------LL-----L--------------L----L----------L----L------L-L---L-L--------------L-------------L----------------------------------------L------------------------L-L---------------R---------L--------L----L------L-------L-----------------L--L-----------------------------L-------------------------------------------------L------------------------L--------L---L------L-------L----L--------------L--------------L--LL----L--------------------L-----LL------------------------L-----------------L-------------L---LL--L---------L-----------------------L-------------L----------------------------------L---------------L---------L-------------L------------LL-L----------L----L------L----L--------L----L-------------L----L-----------L-----------------------L----------L----L------------------L--------L----------L--LL-----LL-----------------------------------------------LL----L-----------------------L----------L-L---L---L-----L-------------L------------L-----------L----L-----------------------L---L--L--L-------L-----------------------------------------------------L-------------------L--L----------------L--------L-------------------L-------------------------L---------L-------------------------------L-----L----------------------------LL-----------------------------L-------------------R---L-L-LL-------L---L---------------------------LL---------------L----------L-L-----------------------------------LL--L------------L--------------------L-------------------------L----------------L--L--------------------L------------------------------------L-----------------------------------L------LL--------------------------------------------L---L------------------L---------------------L-------------------L------------L------------------LL------L-----LL-------L----LL-----------------------L----L-----------------L-----------------------------------------L----------------------------------L-L----L------L---LL-----------------------L-----L-------------------------------------------L--------L----------L-----------------------------------------------L-----------------------------L---R----------R--------L--------------------L---R-------L-----------L--------------------------------L----LL---------L-------L-------------------------------------------L------------------------L------------------------------L-------------------------------L-------------------L----L-----------L------------L---------------------------------------L---L------------------------R--------L---------LL---L---L----------------------------------------L-L--------L---L-----LL----L-----------------------------------------L-----------------------------------------LL--L---------------L--------L----L-------L----------------------------------L-------------L-----------------L-----------------------------L------------------------------------L-----------L------L------------------------------------------------L--------------------------------------------L-------L-L--L---------------------------L---------------------------L----------------L----L--L-L----------------------L-------------L----------LL---L----L----------------------------L------------------L-------------------------------L-----------------L-L----------------L-L---R-------L-----------L-------------------------------------------------L---L---L------------------------------------------------------------R----------RL---------------------------L------------------------LL--L-L------------------L-----------------------L------L--L---LL----------L--L----------------L--------------L---------------------------------------R-----L----------------------------------L-----L-----L----------------L---------------------------L--L-------L------------L----------------------------L---------LLL------------------------------------L---------L-------L--------------------------------------L------L-------------------R-----L-------L------L--L---L---L----------------------------------------L----L-------------L---------------L----L---------------------------------------------------L----LL--------------L--L------L--L--------L-----L--L--L-------------------L---R--L-----------L-------L-----------------------------L-------------L----------------------------L---------------------L--L----------------------------------L------L--LL----------------------------------------------L----L----------------L--L-------------L-L-------------------------------------------------------------------------------------L-----------------------------------------------L------------------------------------L-L----L-------------------------------------------------------------L-L-------------------------L------LL-L---------------LL---L--L-------------------------------L--------------------L-----------L-----------------------------------L-----L--L-----------------L-L-------LL-----------------------------------------------L---------L------------------L----------------------------------------------------------------LLLL-----------------L----------------------------------L-L---------------------------------------LL-----L-------------L-------------------L-----L-----L--L-------------LL-L----------------R-------LL----------L------L-----------------------------------L-------------------------------L--L-----------------------------------------------L-------------------------------------L------------------L--L-----------------------------------------------------------L---------------L--------------------------L-L------------------LL------L-----------L------------------------------------L--------------------L----L----------------L----------------------L----------------------------L-------------L-----------------------L------------------L----L-L-------L------------------------------L-------------LL-----------------------------L----------------------------------L------L-----------------L--------L----------------------L--L-----L----------LL--L-----------------------L----------L--L---------------------------------------------L------L-------------------------------------------L--L---LL--L---L------------------L---------------------------------------------L-----------------L------------LL-----------------------L---------R---------------------------L--------------L-LL-------------------------------L-------------------L-LL------------------------------------L---L----L-L--L----------------------------------------------------L------------------L----------------L------L--L----L------L-----L----------------------------L--------------L-----R----------------L-L--------L------------------------------L------------------L-----------------------L--------R------------L----------L----------L--L----L----L--------L---------------------------L---L--------L--L-----------------------------------------------LL---L----------------------------------------L-------------L-------------------------------L--------------L---------------------------------------L-L----L-----------------------------------------------L-------------------------------L------------------L-------L-R-------------L----------------L-------L------------L--------------------------L-----------L------------------------R--------L---L-----L-------------------------------L----------------------L----L-----------------------L--------------L--------L-----L--------------------------------------L---L------------------L---------------L----L-----L--L-----L--------------------------------L-----L---------------LL-------------------L---------------------------------------L-----L----------L---------------------------L---L------L-----------------------------------L---------------------------L-------L---------------------------------------------------L--------------L--------------L---L-------L--------L-L----L----------------------L-L----------------------------------L--------------R-L-------------------------L-----------LL------------------------------LL---------------L----------L--L---------------------------L--------------------L-------------R-----------------------L--L--L--------------L----------L---------------------L-------------------L------L-----------------------------------------L-----------L---------------------L-------------------L--L--------L------------L-----L----------------------------------------L------------------------------L--L-L-----------------------------L-L-------------L-L---L--------L----L---L-------------L----------------LL----------------------------L------------L--------------L----------------------------------------L--------------------------------------L-L---L--L-----------------L----------------------L--------------R----L-------L---------------------L---------------L------L-----------------------LL---------LL--L---L------------------------------------L--------------------------L--L----L--L------------------------------L----------L--------------L------------------------------------------------------LL--LL-----------------------------------------L-L-----------------------------R--L--------------------------L-----------------------L----L-----L----------------------------R----L--L------L-L--------L---------------------------------R-----L------------L-------------------L---L--L------L-L-------------------------------------------R----L-L--------------------------LL--------------L----L----------------------------------------------------------------------------------------------LL------------L-------------------------------------L----------------------L-L------L-------L------L--------------------------L----L---L--L----L------------------------------------------L------L------L----L----------------L----------------------------------L------------------------------------------------------R------------L---------------L----------------------L-----------LLL--L--L------------L--------L-----------------L------------L--L---L------------------L----LL----L--------------LL---------------------L----L---L--L-----------L---L--------------------L----------------------------------------------L----------------------------L----------------------L--------LL--------------------------------------------------L-----------L-------------------------------L-----L------L-------------------------L---------------------L---L------------------L--L--L----LL--L-------L-----------------------------------L-------------L---L-------------------------------------------------------L-------------------------L----------LL------------------------------------LL--L------LLL-L--------------L-----L-------L----------L-----------------------L--------------------LL-L---L---------------------------L--L----L------------------------------L-----------------------LL--------------------L---------L------L----LL-------L----------------L---L-------L------L-L---L-----------L------------------------L--------------L--------R-L-------L--------------L--------------L-------L------L------------------L-------L---L----------------------------------------------L--------------------------------------LLL--------L------------------------L---L------------------L----L-----L-----------------------L---------------------------------------------------L--L----L-----------------------, agree=0.783, adj=0.036, (0 split)\n",
      "\n",
      "Node number 6: 7647 observations\n",
      "  predicted class=FALSE  expected loss=0.08892376  P(node) =0.063725\n",
      "    class counts:  6967   680\n",
      "   probabilities: 0.911 0.089 \n",
      "\n",
      "Node number 7: 2225 observations,    complexity param=0.04562453\n",
      "  predicted class=FALSE  expected loss=0.2723596  P(node) =0.01854167\n",
      "    class counts:  1619   606\n",
      "   probabilities: 0.728 0.272 \n",
      "  left son=14 (1620 obs) right son=15 (605 obs)\n",
      "  Primary splits:\n",
      "      Birth_Date             splits as  -------------------------L-----------------L---R------------------------------------L----------------------R----------------R----------L-------------------------------------R-----------------------------------------------------L---L-------------------L---L-----L---R---------R---L--------------------------------L----L---L-------------------------------------------L--L------------------------------------R---L------------------------------------------------------------------L----------------------------------------------------------------------RRL-------------------------R------------------------------------------------L--R------------------R----L----L-----------L----------------R------R-------------------L------R--------------------------------------------L-------------------------L----L----------------L-------------------------------------------------------------------R---R---------L--L----L-------------------------------------------L---------------L---------------R----------------------L--L----------R-------------------------------R------------L----------------------------R-----L---------------L------------------L----L-------L--------------------------------------------------------R--------------------------------L-R-----------------R---RR---------------------------R---L--------------L---------------R----L---L----------------------------------------------------------------------L---------------------------------------------L--------L--------------------------------L----------------------------R------R--R-----L--L----L-----------------------R--------------------------------L---------------------------------------L-L-----------L---------R-----L---------R-----L----L------L---------------L------------------------------------------------------------R---------------R--------------------------------------L---L-----------------------------------------------L-------L--------------L----------------------R-------------L-------------------------------L-----------------L-----------------------------------L---------------------------L-----------------L---------L--------------------------L-----------------L-R----------------------------R---------------------------------------------------------L---------------------L------------------L-------R----L-L----LL--------------------------------------------L------------------------L-----R-------L-L------------------------------------------------------------R-----------------------------------L-L---R---------------------------RR-R------------------L----------------------------------------------L-------------------------------L------------------------R--------R-----L-------------------L---------------------------------R-R--------R-L--------L-----------------R-------------L--R----L-L---R------------L-------------R-L-------------L-------R----LL----------------------L------------L----------------------L---------------------R-----------L-------R-----L--------------L-------L----L-R-----------------------------------------------------------------------R--------L----------------------------------------L--L-----------L---------------------R----------------------LL-L-------L-R-------------------R------------------L-------------------------------R-----------------LL-------------------------R--------------------R---LL--------L-------------R-----L--L-------L------------------------------R------------------LL-----------------------------R--------------------LR------------------------------------------------L-R----L-----------L------------------------R-----R-----------------------------------LL-----L----------------------L--------------L--L-------R-----------------------------R-----------------------------L--------------------R-----------------L---L-RL----------------------R---------------------------------------------------------------------------------------------L---R---------------------------L------------------------------------R----------------------------------L-----L--R--L-------R----------------R---------------L---------L-------------------------L------------R---------L------------------------------------------------------------------L--R----------------------L---------------R-----R---------L--L---L--L----------R-L---------------L------------L-------R--------------------------------------------------R------------------------------------------------------------------------------------L----RL-----L---R-----------------------------L--------------------------------------------L-------------L------R--------L---------------------R---L----L-------------------------------------R--------------R------------------------R--L---------L---L--------L-------------------------RL--------R-------------------------------L---L---L----------------R----------L------------------R-----R--------R--------------------------------R-----L-----------R----L-------------------------------------------------------R---L----------L-----------------------L---------------------R--------------------LL----R-------------------------------R---------------------------------------------------------L-----------------------------------------------------L---------------RL---------------------------R-----------------------------------------L------L--L------------------L--------LR----R-----------L--------------------------------------------------------------------------------L-----------------------------------------L-----------L-----------------------------L------------------------------------------------R----L--R--------L-------------------------------RL----L---------------R-------------------------------R-----------------------------------RL--------R---------------------------L--------------R----L----------------------------------------------L---L---------------------------R-L------------------L--L-----------------------RL------------LL-R---R-------------------------------------------L---R---------R----------------------R--R---------------------L---------------L-R---------R----------L-----------------------------------L----L------------L------L-----------------------------------L------L--L---------------------LL---------------------------------------------------------R----L------------------R------------------R-----L---R--LL--------------------------------L----------------L-L--L----------------------L------L-------------------L----------------------L--------L---------------L------------------------R-----------------L----R------L----L------------------------L-L---------L---L--R----------------L--------------L------------------R-------------------------------L-------L--L------L----------------------R--------RR-L--L-----R-----------------------------------L------R----------------------------------LR------L----------------L--------------R----L----------R----L------L-L---L-L----------------------------L----------------------------------------L------------------------R-L---------------R---------L--------L----L------L-------L-----------------L--L-----------------------------R-------------------------------------------------R------------------------L--------L---L--------------L-------------------R--------------L--LL----L--------------------R-----LL------------------------R-------------------------------L---LL--L---------L-----------------------L-------------R--------------------------------------------------L---------R-------------R------------LR-R----------L----L------L----L--------R----R-------------L----R-----------L----------------------------------L----R------------------R--------R-------------RL-----R------------------------------------------------LL----L-----------------------R----------L-----R---L-----R-------------R------------L-----------L----R-----------------------L---L--L--L-------L-----------------------------------------------------L-------------------L--L----------------R--------L-------------------L-------------------------L---------L-------------------------------------L----------------------------LL-----------------------------L-------------------R---L-L--------------L---------------------------RL---------------L----------L-------------------------------------LL--R------------L--------------------L-------------------------R----------------L-----------------------L------------------------------------R-----------------------------------R------LL--------------------------------------------R---L------------------L-----------------------------------------L------------L------------------LL------R-----LL-------R----L------------------------R----L-----------------L----------------------------------------------------------------------------L-R----R------L---LL-----------------------R-----L-------------------------------------------L-------------------L-----------------------------------------------R-----------------------------L---R----------L--------L------------------------R-------L--------------------------------------------R----RL-----------------L-------------------------------------------R------------------------R------------------------------L-------------------------------L-------------------L----R-----------R------------R---------------------------------------L---L------------------------L--------R---------RL---L---R----------------------------------------R----------L----------L----L-----------------------------------------L-----------------------------------------RR--L-------------------------------------R------------------------------------------------L-----------------R-----------------------------L------------------------------------L-----------L------L---------------------------------------------------------------------------------------------L-------L-L--L---------------------------L---------------------------R----------------L----R--L-L----------------------L-------------R---------------R---------------------------------L------------------L-------------------------------L-----------------L-L----------------------R-------L-----------L-------------------------------------------------R---L---L------------------------------------------------------------L----------LR---------------------------L------------------------RL----L------------------L-----------------------L---------L---RL----------L--L----------------R--------------R---------------------------------------L-----R----------------------------------R-----R-----L----------------R---------------------------L--L-------L-----------------------------------------L---------LLR------------------------------------L---------R-------L--------------------------------------L------L-------------------R-----L-------L------R--L---L---L----------------------------------------R----R-----------------------------R----R---------------------------------------------------R----LL-----------------L------------------------L--L--L-----------------------R--------------R-------L-------------------------------------------R----------------------------R---------------------L--L--------------------------------------------LL----------------------------------------------L----L-------------------L-------------R-R-------------------------------------------------------------------------------------L-----------------------------------------------R------------------------------------L-R----R-------------------------------------------------------------R-R-------------------------R-------L------------------L---R----------------------------------L--------------------R-----------------------------------------------L-----R--R-----------------L-L-------L------------------------------------------------R---------L-----------------------------------------------------------------------------------LLLL-----------------R----------------------------------R-L----------------------------------------------R-------------L-------------------R-----R-----L--R-------------LL-L----------------L-------RR----------L------R-----------------------------------L-------------------------------L--R-------------------------------------------------------------------------------------L------------------L--L-----------------------------------------------------------R------------------------------------------L-L--------------------------L-----------L------------------------------------R--------------------L----L----------------L----------------------L----------------------------L-------------L------------------------------------------L----R-R-------R------------------------------L--------------L-----------------------------R----------------------------------R------R-----------------L--------R-------------------------------L----------LL--L-----------------------L----------L--L---------------------------------------------L------R----------------------------------------------R----L--L---L----------------------------------------------------------------------------------R------------LL-----------------------R---------R------------------------------------------R-RR---------------------------------------------------L-RL------------------------------------L--------R-L--L----------------------------------------------------R------------------R----------------L------R--R----L------R----------------------------------L--------------L-----R------------------L--------L------------------------------R------------------L-----------------------L--------L------------L----------L------------------R----L--------L---------------------------R---L--------R--L------------------------------------------------R---R------------------------------------------------------R-------------------------------L--------------L---------------------------------------L-L----L-----------------------------------------------L--------------------------------------------------R-------L-L-------------L------------------------L------------L--------------------------L-----------L------------------------R--------L---R-----L-------------------------------L----------------------L----R-----------------------L--------------L--------------L--------------------------------------L---L------------------L---------------L----L-----L--R-----L--------------------------------R-----L---------------LL-------------------R---------------------------------------L-----R----------R--------------------------------------R-----------------------------------R---------------------------R-------L---------------------------------------------------R-----------------------------L---L-------L--------L-L----R----------------------R-L----------------------------------R--------------L---------------------------L-----------RR------------------------------RL--------------------------R--L------------------------------------------------R-------------R-----------------------L--R--R-------------------------L---------------------L-------------------L------------------------------------------------R-----------L---------------------R-------------------L--L--------R------------------L----------------------------------------L------------------------------R--L-L-------------------------------R-------------R-L------------L----L---L------------------------------RL----------------------------R------------L--------------R-------------------------------------------------------------------------------L-R---R--L-----------------R----------------------L--------------L----L-------L---------------------R---------------R------R-----------------------LR---------LL--L---L------------------------------------L--------------------------R--L----L--L--------------------------------------------------------L------------------------------------------------------LL--LL-----------------------------------------L-R-----------------------------R-----------------------------L-----------------------L----------R----------------------------R-------L------R-L--------L---------------------------------L-----R------------L-------------------R---L--R------L-R-------------------------------------------R------L--------------------------LR--------------R----L----------------------------------------------------------------------------------------------LR------------R-------------------------------------L----------------------R-L--------------L------L--------------------------L----L---R--L----L------------------------------------------L------L------L----L---------------------------------------------------R------------------------------------------------------L------------L---------------L----------------------R-----------RRR--L---------------R--------L-----------------R------------L--L---L-----------------------LL----L--------------RL---------------------R--------R--L-----------L---L------------------------------------------------------------------------------------------------L----------------------R--------LL--------------------------------------------------L-----------L-------------------------------L-----R------R-------------------------R---------------------L---L-----------------------------LL--L-------R-----------------------------------R-------------R---L-------------------------------------------------------R-------------------------L----------LL------------------------------------RL--L------RLL-L--------------L------------------------R--------------------------------------------RR-L---L---------------------------R--L-----------------------------------L-----------------------RL--------------------R---------R------R----LR-------L----------------L-----------R------L-R---R-----------L------------------------L--------------L--------L---------L-----------------------------L-------L------L------------------R-------L---L----------------------------------------------R--------------------------------------L-L--------------------------------------------------------R----L-----------------------------R------------------------------------------------------R----L-----------------------, improve=238.56350, (0 missing)\n",
      "      Deposit_Trans_Amount   < 1109.583   to the left,  improve= 18.90659, (0 missing)\n",
      "      Consumer_Loans_Balance < 1552.327   to the right, improve= 15.64081, (0 missing)\n",
      "      Saving_Current_Balance < 2863.652   to the left,  improve= 15.48012, (0 missing)\n",
      "      Consumer_Loans_Flag    < 0.5        to the right, improve= 13.35307, (0 missing)\n",
      "  Surrogate splits:\n",
      "      Insurance_Balances          < 9201.996   to the left,  agree=0.730, adj=0.007, (0 split)\n",
      "      Investment_Products_Balance < 2359.017   to the left,  agree=0.729, adj=0.005, (0 split)\n",
      "      Consumer_Loans_Balance      < -0.0541665 to the right, agree=0.729, adj=0.003, (0 split)\n",
      "      Internet_Trans_Num          < 10.5       to the left,  agree=0.729, adj=0.003, (0 split)\n",
      "      Transfer_Trans_Num          < 4.666666   to the left,  agree=0.729, adj=0.003, (0 split)\n",
      "\n",
      "Node number 14: 1620 observations\n",
      "  predicted class=FALSE  expected loss=0.1308642  P(node) =0.0135\n",
      "    class counts:  1408   212\n",
      "   probabilities: 0.869 0.131 \n",
      "\n",
      "Node number 15: 605 observations,    complexity param=0.01570681\n",
      "  predicted class=TRUE   expected loss=0.3487603  P(node) =0.005041667\n",
      "    class counts:   211   394\n",
      "   probabilities: 0.349 0.651 \n",
      "  left son=30 (428 obs) right son=31 (177 obs)\n",
      "  Primary splits:\n",
      "      Birth_Date             splits as  -----------------------------------------------L-----------------------------------------------------------L----------------R------------------------------------------------L-------------------------------------------------------------------------------------------L---------R---------------------------------------------------------------------------------------------------------------------------------L---------------------------------------------------------------------------------------------------------------------------------------------RR--------------------------R---------------------------------------------------R------------------R--------------------------------------L------R--------------------------L----------------------------------------------------------------------------------------------------------------------------------------------------------------R---R---------------------------------------------------------------------------------------------R------------------------------------R-------------------------------L-----------------------------------------L--------------------------------------------------------------------------------------------------------------L----------------------------------L-----------------L---LL---------------------------R----------------------------------L----------------------------------------------------------------------------------------------------------------------------------------------------------------------------------------------------L------L--L-------------------------------------R------------------------------------------------------------------------------------------------R---------------R----------------------------------------------------------------------------------------------R---------------R----------------------------------------------------------------------------------------------------------------------------------------L----------------------------------------------------------------------------------------------------------------------------------------------------------------------------------------------------------R----------------------------R----------------------------------------------------------------------------------------------------------R----------------------------------------------------------------------------------------R----------------------------------------------------------------------R-----------------------------------------L---------------------------LL-L--------------------------------------------------------------------------------------------------------------------------L--------L-----------------------------------------------------------R-R--------R----------------------------R----------------R----------L--------------------------L-----------------------L--------------------------------------------------------------------------------------L-------------------R-----------------------------------L-----------------------------------------------------------------------L--------------------------------------------------------------------------------------R-----------------------------------L-------------------R--------------------------------------------------R--------------------------------------------R--------------------L---------------------------L-----------------------------------------------L-------------------------------------------------R---------------------L--------------------------------------------------R-----------------------------------------R-----L-------------------------------------------------------------------------------------------R-----------------------------R--------------------------------------------------R-----------------------L-----------------------R-------------------------------------------------------------------------------------------------L----------------------------------------------------------------R-------------------------------------------R----------L----------------L----------------------------------------------------------------R-------------------------------------------------------------------------------R--------------------------------------R-----R------------------------------L--------------------------------------L--------------------------------------------------R-----------------------------------------------------------------------------------------R----------L-----------------------------------------------------------------------------------------------R------------------------------R----------------------------------------------L--------------L------------------------L---------------------------------------------------R---------L--------------------------------------------------------L-----------------------------L-----R--------R--------------------------------R-----------------L------------------------------------------------------------R------------------------------------------------------------L--------------------------R-------------------------------L-------------------------------------------------------------------------------------------------------------------------------R----------------------------R--------------------------------------------------------------------------------L----R---------------------------------------------------------------------------------------------------------------------------------------------------------------------------------------------------------------------------------L-------L----------------------------------------R---------------------L-------------------------------R-----------------------------------L---------R------------------------------------------L-----------------------------------------------------------------------------------L-----------------------------------------------L----------------R---L-----------------------------------------------R---------R----------------------L--L---------------------------------------R---------L------------------------------------------------------------------------------------------------------------------------------------------------------------------------------------------------------R-----------------------R------------------L---------R-------------------------------------------------------------------------------------------------------------------------------------------------------------------------------------R----------------------L-------------------------------------------------------L--------------------------------------------------L------------------------------------------------------------------------L--------LR----------L------------------------------------------L-----------------------------------L--------------------------------------R---------------R------------------------------------------------------------------------------------------------------------------L-----------------L-----------------------------------------------------------------------------------------L-------------------------------------------------L------------------------------------------------------------------------R--------------------------------------------R-------------------------------L---------------------------------------------------------------------------------------R------------------------------------------------------------L-------------R-------------L-L------------------------------------R----R------------------L---------------------------------------------------L------------------R--------L-------------R------L------------------------------------------------------------------------------L----------------R---------R-------------R-----------------------------L---------------------------------------------------------------------------------------------------------------------------------------R--------------------------------------------------------------------------------------------------------------------------------------------------------------------------------------L------------------------------------------------R---------------------------------------------------------------------L-----------------------------------------------------------R-----------------------------------------------------------------------------L-----------------------------------R----------------------------------------------------L--------------------------------------------------------------------------------------------------------R--------------L-----------------------------R-----------------------------------------------------------------------------------------------------L----R-----------------------------------L---------------------------------------------------------------------------------------------------------------------L---------------------------------L--------------------------------------------L----------------------------------------------------R----R--------------------------------------------------------------L------------------------L---------------------------------------------------------------------------------------R-----------R------------L-----------------------------------------------------------------------------R---------L--------L----------------------------------------L--------------------------------------------------------------------------------------------------------------LL----------------------------------------L------------------------------------------------------------------R--------------------------------------------------------------------------------------------------------------------------------------------------------------------------------------------------------------------------------------------------------R---------------------L-----------------------------------------L---------------R-------------------------------------------------------------------------------------------------------------------------------L---------------------------------------------------------------------R--------------------------------------------------------------------------------R----------------------------------------------------L--------------------------------------------------------------L-------------------------------L--------------L---------------------------------------------R----------------------------------R-----L----------------------L--------------------------------------------------------------------------------------------R----------------------------------------------L-------------------------------------------------------------------------L--------------------L---------------------------------------------------L----R-----------------------------L----R---------------------------------------------------R------------------------------------------------------------------------------L--------------L---------------------------------------------------R----------------------------R------------------------------------------------------------------------------------------------------------------------------------------------------------L-L-------------------------------------------------------------------------------------------------------------------------------------L--------------------------------------R----L-------------------------------------------------------------R-R-------------------------R------------------------------L-------------------------------------------------------L-----------------------------------------------------R--R----------------------------------------------------------------------------L------------------------------------------------------------------------------------------------------------------R----------------------------------R------------------------------------------------R---------------------------------R-----L--------R-----------------------------------------RL-----------------L----------------------------------------------------------------------L-----------------------------------------------------------------------------------------------------------------------------------------------------------------------L------------------------------------------------------------------------------------------------------------------------R------------------------------------------------------------------------------------------------------------------------------------------------------------L-R-------L---------------------------------------------------------------------------L----------------------------------R------L--------------------------L-----------------------------------------------------------------------------------------------------------------------------------------R----------------------------------------------L----------------------------------------------------------------------------------------------R-------------------------------------R---------L------------------------------------------L-RL-----------------------------------------------------L----------------------------------------------L---------------------------------------------------------L------------------R-----------------------L--L-----------L-------------------------------------------------------R----------------------------------------------------------R----------------------------------------------------------------------------------------------R-----------------------------------------R------------L---------------------------------------------------R---L------------------------------------------------------L------------------------------------------------------------------------------------------------------------------------------------------------------------------------------------------------R-----------------------------------------------------------------------------------------------------------------------------L------------L-----------------------------------------------------------------L-------------------------------------------------------------------------------------------------------------------------------------------------L--------------------------------------L------------------------------------------L---------------------------------------------L----------L--------------------------------------L-----------------------------------R---------------------------L-----------------------------------------------------------L---------------------------------------------------------R----------------------L------------------------------------R------------------------------------------------------LR------------------------------L---------------------------L---------------------------------------------------L-------------L--------------------------L--R--------------------------------------------------------------------------------------------------------------------L---------------------------------R-------------------------------L------------------------------------------------------------------------------------------L------------------------------------R-------------R------------------------------------------------------L-----------------------------L---------------------------L---------------------------------------------------------------------------------L---R--------------------L------------------------------------------------------------------------L---------------L------R------------------------L---------------------------------------------------------------------------------R---------------------------------------------------------------------------------------------------------------------------------------------------------------------------L-----------------------------L----------------------------------------------------------------L----------------------------L--------------R--------------------------------------------------R--------------------------------L------R--------L-------------------------------------------L----------------------------------R--------------L----------------------------------------------------------------------------------------------------R------------R------------------------------------------------------------R-----------------------------------------------------------L-------------------------------------------------------------------------------------------------------------------------R----------------------------------------------------------------------------------------------------------R-----------RLL------------------L--------------------------R----------------------------------------------------------------L----------------------R--------L------------------------------------------------------------------------------------------------------------------------------------------R--------------------------------------------------------------------------------------------------------------R------R-------------------------R-------------------------------------------------------------------R-----------------------------------L-------------L-----------------------------------------------------------L--------------------------------------------------------------------------R----------R-------------------------------------------R--------------------------------------------LL---------------------------------R--------------------------------------------------------------L---------------------R---------L------R-----L------------------------------------L--------L---L--------------------------------------------------------------------------------------------------------------------------------------R----------------------------------------------------------R-------------------------------------------------------------------------------------------------L----------------------------------R------------------------------------------------------R----------------------------, improve=60.865200, (0 missing)\n",
      "      Saving_Current_Balance < 2679.996   to the left,  improve=12.161010, (0 missing)\n",
      "      Credit_Cards_Balance   < 4218.995   to the right, improve=11.694710, (0 missing)\n",
      "      Consumer_Loans_Flag    < 0.5        to the right, improve=10.277560, (0 missing)\n",
      "      Consumer_Loans_Balance < 1610.04    to the right, improve= 9.553962, (0 missing)\n",
      "  Surrogate splits:\n",
      "      Saving_Current_Balance < 4666.321   to the left,  agree=0.712, adj=0.017, (0 split)\n",
      "      Credit_Cards_Balance   < -75.62     to the right, agree=0.711, adj=0.011, (0 split)\n",
      "      Customer_ID            < 6010993    to the left,  agree=0.709, adj=0.006, (0 split)\n",
      "      Deposit_Trans_Num      < 3.416666   to the left,  agree=0.709, adj=0.006, (0 split)\n",
      "      Deposit_Trans_Amount   < 21979.17   to the left,  agree=0.709, adj=0.006, (0 split)\n",
      "\n",
      "Node number 30: 428 observations,    complexity param=0.01570681\n",
      "  predicted class=TRUE   expected loss=0.4929907  P(node) =0.003566667\n",
      "    class counts:   211   217\n",
      "   probabilities: 0.493 0.507 \n",
      "  left son=60 (302 obs) right son=61 (126 obs)\n",
      "  Primary splits:\n",
      "      Saving_Current_Balance < 2855.286   to the left,  improve=12.021330, (0 missing)\n",
      "      Consumer_Loans_Flag    < 0.5        to the right, improve= 8.699524, (0 missing)\n",
      "      Consumer_Loans_Balance < 1610.04    to the right, improve= 8.114503, (0 missing)\n",
      "      Credit_Cards_Balance   < 4218.995   to the right, improve= 6.418116, (0 missing)\n",
      "      Payroll_Flag           < 0.5        to the right, improve= 5.244985, (0 missing)\n",
      "  Surrogate splits:\n",
      "      Birth_Date                    splits as  -----------------------------------------------L-----------------------------------------------------------L-----------------------------------------------------------------L-------------------------------------------------------------------------------------------L-------------------------------------------------------------------------------------------------------------------------------------------L---------------------------------------------------------------------------------------------------------------------------------------------------------------------------------------------------------------------------------------------------------------------------------------L---------------------------------R---------------------------------------------------------------------------------------------------------------------------------------------------------------------------------------------------------------------------------------------------------------------------------------------------------------------------------------L-----------------------------------------L--------------------------------------------------------------------------------------------------------------L----------------------------------L-----------------R---LL--------------------------------------------------------------L----------------------------------------------------------------------------------------------------------------------------------------------------------------------------------------------------R------L--L--------------------------------------------------------------------------------------------------------------------------------------------------------------------------------------------------------------------------------------------------------------------------------------------------------------------------------------------------------------------------------------------------------------L------------------------------------------------------------------------------------------------------------------------------------------------------------------------------------------------------------------------------------------------------------------------------------------------------------------------------------------------------------------------------------------------------------------------------------------------------------------------------------------------------------------------------------------------------------L---------------------------LL-L--------------------------------------------------------------------------------------------------------------------------L--------L-------------------------------------------------------------------------------------------------------------------------------L--------------------------L-----------------------L--------------------------------------------------------------------------------------L-------------------------------------------------------L-----------------------------------------------------------------------L--------------------------------------------------------------------------------------------------------------------------L----------------------------------------------------------------------------------------------------------------------------------------L---------------------------L-----------------------------------------------R-----------------------------------------------------------------------L--------------------------------------------------------------------------------------------------L----------------------------------------------------------------------------------------------------------------------------------------------------------------------------------------------------R-------------------------------------------------------------------------------------------------------------------------L-----------------------------------------------------------------------------------------------------------------------L----------------L----------------------------------------------------------------------------------------------------------------------------------------------------------------------------------------------------------------------------L--------------------------------------L-------------------------------------------------------------------------------------------------------------------------------------------------------L-----------------------------------------------------------------------------------------------------------------------------------------------------------------------------L--------------L------------------------L-------------------------------------------------------------L--------------------------------------------------------L-----------------------------L-----------------------------------------------------------------L-------------------------------------------------------------------------------------------------------------------------L----------------------------------------------------------R---------------------------------------------------------------------------------------------------------------------------------------------------------------------------------------------------------------------------------------------R--------------------------------------------------------------------------------------------------------------------------------------------------------------------------------------------------------------------------------------L-------L--------------------------------------------------------------L-------------------------------------------------------------------L----------------------------------------------------L-----------------------------------------------------------------------------------L-----------------------------------------------L--------------------L--------------------------------------------------------------------------------L--L-------------------------------------------------L-------------------------------------------------------------------------------------------------------------------------------------------------------------------------------------------------------------------------------------------------L----------------------------------------------------------------------------------------------------------------------------------------------------------------------------------------------------------------------L-------------------------------------------------------R--------------------------------------------------L------------------------------------------------------------------------L--------L-----------L------------------------------------------L-----------------------------------L-------------------------------------------------------------------------------------------------------------------------------------------------------------------------L-----------------L-----------------------------------------------------------------------------------------L-------------------------------------------------L-----------------------------------------------------------------------------------------------------------------------------------------------------L----------------------------------------------------------------------------------------------------------------------------------------------------L---------------------------L-L------------------------------------------------------------L---------------------------------------------------L---------------------------L--------------------L------------------------------------------------------------------------------L----------------------------------------------------------------------L------------------------------------------------------------------------------------------------------------------------------------------------------------------------------------------------------------------------------------------------------------------------------------------------------------------------------R----------------------------------------------------------------------------------------------------------------------L-----------------------------------------------------------------------------------------------------------------------------------------R----------------------------------------------------------------------------------------R-----------------------------------------------------------------------------------------------------------------------L-----------------------------------------------------------------------------------------------------------------------------------L----------------------------------------L---------------------------------------------------------------------------------------------------------------------R---------------------------------L--------------------------------------------L------------------------------------------------------------------------------------------------------------------------L------------------------L----------------------------------------------------------------------------------------------------------------L---------------------------------------------------------------------------------------L--------L----------------------------------------L--------------------------------------------------------------------------------------------------------------LL----------------------------------------L-------------------------------------------------------------------------------------------------------------------------------------------------------------------------------------------------------------------------------------------------------------------------------------------------------------------------------------------------L-----------------------------------------L-----------------------------------------------------------------------------------------------------------------------------------------------R-----------------------------------------------------------------------------------------------------------------------------------------------------------------------------------------------------------L--------------------------------------------------------------L-------------------------------L--------------L--------------------------------------------------------------------------------------L----------------------L-------------------------------------------------------------------------------------------------------------------------------------------L-------------------------------------------------------------------------L--------------------L---------------------------------------------------L----------------------------------L---------------------------------------------------------------------------------------------------------------------------------------L--------------L---------------------------------------------------------------------------------------------------------------------------------------------------------------------------------------------------------------------------------------------L-L-------------------------------------------------------------------------------------------------------------------------------------L-------------------------------------------L------------------------------------------------------------------------------------------------------------------------L-------------------------------------------------------L-------------------------------------------------------------------------------------------------------------------------------------L----------------------------------------------------------------------------------------------------------------------------------------------------------------------------------------------------------------------------------------------L---------------------------------------------------L-----------------L----------------------------------------------------------------------L-----------------------------------------------------------------------------------------------------------------------------------------------------------------------L-------------------------------------------------------------------------------------------------------------------------------------------------------------------------------------------------------------------------------------------------------------------------------------L---------L---------------------------------------------------------------------------L-----------------------------------------L--------------------------L----------------------------------------------------------------------------------------------------------------------------------------------------------------------------------------L----------------------------------------------------------------------------------------------------------------------------------------------L------------------------------------------L--L-----------------------------------------------------L----------------------------------------------L---------------------------------------------------------L------------------------------------------L--L-----------L------------------------------------------------------------------------------------------------------------------------------------------------------------------------------------------------------------------------------------------------------------------------L-------------------------------------------------------L------------------------------------------------------L------------------------------------------------------------------------------------------------------------------------------------------------------------------------------------------------------------------------------------------------------------------------------------------------------------------------------L------------L-----------------------------------------------------------------L-------------------------------------------------------------------------------------------------------------------------------------------------L--------------------------------------R------------------------------------------R---------------------------------------------L----------L--------------------------------------L---------------------------------------------------------------L-----------------------------------------------------------L--------------------------------------------------------------------------------L-------------------------------------------------------------------------------------------L-------------------------------L---------------------------L---------------------------------------------------L-------------L--------------------------L-----------------------------------------------------------------------------------------------------------------------L-----------------------------------------------------------------L------------------------------------------------------------------------------------------L---------------------------------------------------------------------------------------------------------L-----------------------------L---------------------------L---------------------------------------------------------------------------------L------------------------L------------------------------------------------------------------------L---------------L-------------------------------R-------------------------------------------------------------------------------------------------------------------------------------------------------------------------------------------------------------------------------------------------------------R-----------------------------L----------------------------------------------------------------L----------------------------L--------------------------------------------------------------------------------------------------L---------------L-------------------------------------------L-------------------------------------------------L------------------------------------------------------------------------------------------------------------------------------------------------------------------------------------------------------------------------------------------L-------------------------------------------------------------------------------------------------------------------------------------------------------------------------------------------------------------------------------------------------LL------------------L-------------------------------------------------------------------------------------------L-------------------------------L--------------------------------------------------------------------------------------------------------------------------------------------------------------------------------------------------------------------------------------------------------------------------------------------------------------------------------------------------------------------------------------------------L-------------L-----------------------------------------------------------L------------------------------------------------------------------------------------------------------------------------------------------------------------------------------LL------------------------------------------------------------------------------------------------L-------------------------------L------------R------------------------------------L--------L---R---------------------------------------------------------------------------------------------------------------------------------------------------------------------------------------------------------------------------------------------------------------------------------------------------L----------------------------------------------------------------------------------------------------------------------, agree=0.792, adj=0.294, (0 split)\n",
      "      Transfer_Trans_Amount         < 5873.165   to the left,  agree=0.715, adj=0.032, (0 split)\n",
      "      Credit_Cards_Installments     < 10.91667   to the left,  agree=0.715, adj=0.032, (0 split)\n",
      "      Consumer_Loans_Balance        < 23253.14   to the left,  agree=0.713, adj=0.024, (0 split)\n",
      "      Credit_Cards_Purchases_Amount < 950.35     to the left,  agree=0.713, adj=0.024, (0 split)\n",
      "\n",
      "Node number 31: 177 observations\n",
      "  predicted class=TRUE   expected loss=0  P(node) =0.001475\n",
      "    class counts:     0   177\n",
      "   probabilities: 0.000 1.000 \n",
      "\n",
      "Node number 60: 302 observations,    complexity param=0.01421092\n",
      "  predicted class=FALSE  expected loss=0.4304636  P(node) =0.002516667\n",
      "    class counts:   172   130\n",
      "   probabilities: 0.570 0.430 \n",
      "  left son=120 (61 obs) right son=121 (241 obs)\n",
      "  Primary splits:\n",
      "      Birth_Date             splits as  -----------------------------------------------L-----------------------------------------------------------R-----------------------------------------------------------------L-------------------------------------------------------------------------------------------R-------------------------------------------------------------------------------------------------------------------------------------------R---------------------------------------------------------------------------------------------------------------------------------------------------------------------------------------------------------------------------------------------------------------------------------------R-------------------------------------------------------------------------------------------------------------------------------------------------------------------------------------------------------------------------------------------------------------------------------------------------------------------------------------------------------------------------R-----------------------------------------R--------------------------------------------------------------------------------------------------------------L----------------------------------R---------------------RL--------------------------------------------------------------L-----------------------------------------------------------------------------------------------------------------------------------------------------------------------------------------------------------R--R--------------------------------------------------------------------------------------------------------------------------------------------------------------------------------------------------------------------------------------------------------------------------------------------------------------------------------------------------------------------------------------------------------------L------------------------------------------------------------------------------------------------------------------------------------------------------------------------------------------------------------------------------------------------------------------------------------------------------------------------------------------------------------------------------------------------------------------------------------------------------------------------------------------------------------------------------------------------------------R---------------------------LR-R--------------------------------------------------------------------------------------------------------------------------R--------L-------------------------------------------------------------------------------------------------------------------------------L--------------------------R-----------------------L--------------------------------------------------------------------------------------R-------------------------------------------------------R-----------------------------------------------------------------------R--------------------------------------------------------------------------------------------------------------------------R----------------------------------------------------------------------------------------------------------------------------------------R---------------------------L-----------------------------------------------------------------------------------------------------------------------L--------------------------------------------------------------------------------------------------R------------------------------------------------------------------------------------------------------------------------------------------------------------------------------------------------------------------------------------------------------------------------------------------------------------------------------L-----------------------------------------------------------------------------------------------------------------------R----------------R----------------------------------------------------------------------------------------------------------------------------------------------------------------------------------------------------------------------------R--------------------------------------R-------------------------------------------------------------------------------------------------------------------------------------------------------L-----------------------------------------------------------------------------------------------------------------------------------------------------------------------------R--------------R------------------------L-------------------------------------------------------------L--------------------------------------------------------R-----------------------------L-----------------------------------------------------------------R-------------------------------------------------------------------------------------------------------------------------R-----------------------------------------------------------------------------------------------------------------------------------------------------------------------------------------------------------------------------------------------------------------------------------------------------------------------------------------------------------------------------------------------------------------------------------------------------------------------------------------------------------------------------------------------R-------R--------------------------------------------------------------R-------------------------------------------------------------------L----------------------------------------------------L-----------------------------------------------------------------------------------R-----------------------------------------------L--------------------R--------------------------------------------------------------------------------L--R-------------------------------------------------R-------------------------------------------------------------------------------------------------------------------------------------------------------------------------------------------------------------------------------------------------L----------------------------------------------------------------------------------------------------------------------------------------------------------------------------------------------------------------------R----------------------------------------------------------------------------------------------------------R------------------------------------------------------------------------L--------R-----------R------------------------------------------L-----------------------------------R-------------------------------------------------------------------------------------------------------------------------------------------------------------------------L-----------------R-----------------------------------------------------------------------------------------R-------------------------------------------------R-----------------------------------------------------------------------------------------------------------------------------------------------------R----------------------------------------------------------------------------------------------------------------------------------------------------L---------------------------L-R------------------------------------------------------------R---------------------------------------------------R---------------------------L--------------------R------------------------------------------------------------------------------L----------------------------------------------------------------------R-----------------------------------------------------------------------------------------------------------------------------------------------------------------------------------------------------------------------------------------------------------------------------------------------------------------------------------------------------------------------------------------------------------------------------------------------------L----------------------------------------------------------------------------------------------------------------------------------------------------------------------------------------------------------------------------------------------------------------------------------------------------------------------------------------------------------R-----------------------------------------------------------------------------------------------------------------------------------R----------------------------------------L---------------------------------------------------------------------------------------------------------------------L---------------------------------R--------------------------------------------R------------------------------------------------------------------------------------------------------------------------R------------------------R----------------------------------------------------------------------------------------------------------------R---------------------------------------------------------------------------------------R--------R----------------------------------------R--------------------------------------------------------------------------------------------------------------RR----------------------------------------R-------------------------------------------------------------------------------------------------------------------------------------------------------------------------------------------------------------------------------------------------------------------------------------------------------------------------------------------------R-----------------------------------------R-----------------------------------------------------------------------------------------------------------------------------------------------------------------------------------------------------------------------------------------------------------------------------------------------------------------------------------------------------------L--------------------------------------------------------------R-------------------------------L--------------R--------------------------------------------------------------------------------------R----------------------L-------------------------------------------------------------------------------------------------------------------------------------------L-------------------------------------------------------------------------R--------------------L---------------------------------------------------R----------------------------------R---------------------------------------------------------------------------------------------------------------------------------------R--------------L---------------------------------------------------------------------------------------------------------------------------------------------------------------------------------------------------------------------------------------------L-R-------------------------------------------------------------------------------------------------------------------------------------L-------------------------------------------R------------------------------------------------------------------------------------------------------------------------R-------------------------------------------------------L-------------------------------------------------------------------------------------------------------------------------------------R----------------------------------------------------------------------------------------------------------------------------------------------------------------------------------------------------------------------------------------------R---------------------------------------------------R-----------------R----------------------------------------------------------------------R-----------------------------------------------------------------------------------------------------------------------------------------------------------------------L-------------------------------------------------------------------------------------------------------------------------------------------------------------------------------------------------------------------------------------------------------------------------------------R---------L---------------------------------------------------------------------------R-----------------------------------------L--------------------------L----------------------------------------------------------------------------------------------------------------------------------------------------------------------------------------R----------------------------------------------------------------------------------------------------------------------------------------------R------------------------------------------L--R-----------------------------------------------------R----------------------------------------------L---------------------------------------------------------R------------------------------------------R--R-----------R------------------------------------------------------------------------------------------------------------------------------------------------------------------------------------------------------------------------------------------------------------------------L-------------------------------------------------------R------------------------------------------------------R------------------------------------------------------------------------------------------------------------------------------------------------------------------------------------------------------------------------------------------------------------------------------------------------------------------------------R------------R-----------------------------------------------------------------R-------------------------------------------------------------------------------------------------------------------------------------------------L-------------------------------------------------------------------------------------------------------------------------------R----------R--------------------------------------L---------------------------------------------------------------L-----------------------------------------------------------R--------------------------------------------------------------------------------R-------------------------------------------------------------------------------------------L-------------------------------L---------------------------R---------------------------------------------------R-------------L--------------------------R-----------------------------------------------------------------------------------------------------------------------R-----------------------------------------------------------------R------------------------------------------------------------------------------------------R---------------------------------------------------------------------------------------------------------R-----------------------------R---------------------------L---------------------------------------------------------------------------------R------------------------R------------------------------------------------------------------------L---------------R---------------------------------------------------------------------------------------------------------------------------------------------------------------------------------------------------------------------------------------------------------------------------------------------R-----------------------------R----------------------------------------------------------------R----------------------------L--------------------------------------------------------------------------------------------------R---------------L-------------------------------------------L-------------------------------------------------L------------------------------------------------------------------------------------------------------------------------------------------------------------------------------------------------------------------------------------------R-------------------------------------------------------------------------------------------------------------------------------------------------------------------------------------------------------------------------------------------------RR------------------R-------------------------------------------------------------------------------------------R-------------------------------R--------------------------------------------------------------------------------------------------------------------------------------------------------------------------------------------------------------------------------------------------------------------------------------------------------------------------------------------------------------------------------------------------R-------------R-----------------------------------------------------------R------------------------------------------------------------------------------------------------------------------------------------------------------------------------------RR------------------------------------------------------------------------------------------------R-------------------------------R-------------------------------------------------R--------R-------------------------------------------------------------------------------------------------------------------------------------------------------------------------------------------------------------------------------------------------------------------------------------------------------L----------------------------------------------------------------------------------------------------------------------, improve=28.328430, (0 missing)\n",
      "      Consumer_Loans_Flag    < 0.5        to the right, improve= 7.239294, (0 missing)\n",
      "      Consumer_Loans_Balance < 1843.082   to the right, improve= 5.275966, (0 missing)\n",
      "      Withdrawl_Trans_Num    < 0.25       to the right, improve= 4.132384, (0 missing)\n",
      "      Total_Income           < 17348      to the left,  improve= 3.866787, (0 missing)\n",
      "  Surrogate splits:\n",
      "      Withdrawl_Trans_Num       < 11.58333   to the right, agree=0.811, adj=0.066, (0 split)\n",
      "      ATM_Trans_Num             < 11.08333   to the right, agree=0.808, adj=0.049, (0 split)\n",
      "      Credit_Cards_Payments_Num < 2.333334   to the right, agree=0.805, adj=0.033, (0 split)\n",
      "      Arrears_Months_Max        < 3.5        to the right, agree=0.805, adj=0.033, (0 split)\n",
      "      Consumer_Loans_Balance    < 21329.8    to the right, agree=0.801, adj=0.016, (0 split)\n",
      "\n",
      "Node number 61: 126 observations,    complexity param=0.01495886\n",
      "  predicted class=TRUE   expected loss=0.3095238  P(node) =0.00105\n",
      "    class counts:    39    87\n",
      "   probabilities: 0.310 0.690 \n",
      "  left son=122 (56 obs) right son=123 (70 obs)\n",
      "  Primary splits:\n",
      "      Birth_Date          splits as  -----------------------------------------------R-----------------------------------------------------------------------------------------------------------------------------R-------------------------------------------------------------------------------------------------------------------------------------------------------------------------------------------------------------------------------------------------------------------------------------------------------------------------------------------------------------------------------------------------------------------------------------------------------------------------------------------------------------------------------L---------------------------------L------------------------------------------------------------------------------------------------------------------------------------------------------------------------------------------------------------------------------------------------------------------------------------------------------------------------------------------------------------------------------------------------------------------------------------------------------------------------------------------------R----------------------------------------------------L----R--------------------------------------------------------------R----------------------------------------------------------------------------------------------------------------------------------------------------------------------------------------------------L------------------------------------------------------------------------------------------------------------------------------------------------------------------------------------------------------------------------------------------------------------------------------------------------------------------------------------------------------------------------------------------------------------------------R------------------------------------------------------------------------------------------------------------------------------------------------------------------------------------------------------------------------------------------------------------------------------------------------------------------------------------------------------------------------------------------------------------------------------------------------------------------------------------------------------------------------------------------------------------L---------------------------R-----------------------------------------------------------------------------------------------------------------------------L--------R-------------------------------------------------------------------------------------------------------------------------------R--------------------------L-----------------------R-------------------------------------------------------------------------------------------------------------------------------------------------------------------------------------------------------------------------------------------------------------------------------------------------------------------------------------------------L--------------------------------------------------------------------------------------------------------------------------------------------------------------------R-----------------------------------------------R-----------------------------------------------------------------------R--------------------------------------------------------------------------------------------------L----------------------------------------------------------------------------------------------------------------------------------------------------------------------------------------------------L-------------------------------------------------------------------------------------------------------------------------R-----------------------------------------------------------------------------------------------------------------------L------------------------------------------------------------------------------------------------------------------------------------------------------------------------------------------------------------------------------------------------------------------------------------L-------------------------------------------------------------------------------------------------------------------------------------------------------R---------------------------------------------------------------------------------------------------------------------------------------------------------------------------------------------------------------------R-------------------------------------------------------------R--------------------------------------------------------------------------------------R------------------------------------------------------------------------------------------------------------------------------------------------------------------------------------------------------------------------------------------------------L---------------------------------------------------------------------------------------------------------------------------------------------------------------------------------------------------------------------------------------------L---------------------------------------------------------------------------------------------------------------------------------------------------------------------------------------------------------------------------------------------------------------------------------------------------------------------------------------------------------------------------------R----------------------------------------------------R-----------------------------------------------------------------------------------------------------------------------------------R-----------------------------------------------------------------------------------------------------R------------------------------------------------------------------------------------------------------------------------------------------------------------------------------------------------------------------------------------------------------------------------------------------------------R------------------------------------------------------------------------------------------------------------------------------------------------------------------------------------------------------------------------------------------------------------------------------L---------------------------------------------------------------------------------------------------------------------------R--------------------R------------------------------------------R-------------------------------------------------------------------------------------------------------------------------------------------------------------------------------------------------------------R-----------------------------------------------------------------------------------------------------------L-------------------------------------------------L----------------------------------------------------------------------------------------------------------------------------------------------------------------------------------------------------------------------------------------------------------------------------------------------------------R---------------------------R----------------------------------------------------------------------------------------------------------------------------------------------R---------------------------------------------------------------------------------------------------R----------------------------------------------------------------------L------------------------------------------------------------------------------------------------------------------------------------------------------------------------------------------------------------------------------------------------------------------------------------------------------------------------------L----------------------------------------------------------------------------------------------------------------------R-----------------------------------------------------------------------------------------------------------------------------------------L----------------------------------------------------------------------------------------L-----------------------------------------------------------------------------------------------------------------------R-----------------------------------------------------------------------------------------------------------------------------------L----------------------------------------R---------------------------------------------------------------------------------------------------------------------R---------------------------------R----------------------------------------------------------------------------------------------------------------------------------------------------------------------------------------------L--------------------------------------------------------------------------------------------------------------------------------------------------------------------------------------------------------------------------------------------------------------------------------------------------------------------------------------------------------------------------L------------------------------------------------------------------------------------------------------------------------------------------------------------------------------------------------------------------------------------------------------------------------------------------------------------------------------------------------------------------------------------------------------------------------------------------------------------------------------------------------------------------------------------------------------------------------------------L-----------------------------------------------------------------------------------------------------------------------------------------------------------------------------------------------------------R----------------------------------------------------------------------------------------------R----------------------------------------------------------------------------------------------------------------------------R-------------------------------------------------------------------------------------------------------------------------------------------R----------------------------------------------------------------------------------------------R--------------------------------------------------------------------------------------L------------------------------------------------------------------------------------------------------------------------------------------------------R---------------------------------------------------------------------------------------------------------------------------------------------------------------------------------------------------------------------------------------------R---------------------------------------------------------------------------------------------------------------------------------------R----------------------------------------------------------------------------------------------------------------------------------------------------------------------------------------------------------------------------R---------------------------------------------------------------------------------------------------------------------------------------------------------------------------------------------------------------------------------------------------------------------------------------------------------------------------------------------------------------------------------------------------------------------------------------------------------------------------------------------------------------------------------------------------------------------------------------------------------------------------------------------------------------------------------------------------------R-----------------------------------------------------------------------------------------------------------------------------------------------------------------------------------------------------------------------------------------------------------------------------------------------R---------------------------------------------------------------------------------------------------------------------R--------------------------R---------------------------------------------------------------------------------------------------------------------------------------------------------------------------------------------------------------------------------------------------------------------------------------------------------------------------------------R------------------------------------------R-------------------------------------------------------------------------------------------------------R--------------------------------------------------------------------------------------------------------------------------------------------------------------------------------------------------------------------------------------------------------------------------------------------------------------------------------------------------------------------------------------------R--------------------------------------------------------------------------------------------------------------L-------------------------------------------------------------------------------------------------------------------------------------------------------------------------------------------------------------------------------------------------------------------------------------------------------------------------------------------L-------------------------------------------------------------------------------------------------------------------------------------------------------------------------------------------------------------------R--------------------------------------L------------------------------------------L-----------------------------------------------------------------------------------------------R---------------------------------------------------------------R----------------------------------------------------------------------------------------------------------------------------------------------------------------------------------------------------------------------------------------R-------------------------------R---------------------------------------------------------------------------------------------R--------------------------L-----------------------------------------------------------------------------------------------------------------------------------------------------------------------------------------L--------------------------------------------------------------------------------------------------------------------------------------------------------------------------------------------------------------------------------------------------------------R----------------------------------------------------------------------------------------------------------L------------------------------------------------------------------------R-----------------------------------------------L-------------------------------------------------------------------------------------------------------------------------------------------------------------------------------------------------------------------------------------------------------------L---------------------------------------------------------------------------------------------------------------------------R------------------------------------------------------------------------------------------------------------------R-------------------------------------------R-------------------------------------------------R-------------------------------------------------------------------------------------------------------------------------------------------------------------------------------------------------------------------------------------------------------------------------------------------------------------------------------------------------------------------------------------------------------------------------------------------------------------------------------------------------------------------------------------------------------------------------------------------------------------------------------------------------------------------------------------------------------------------------------------------------------------------------------------------------------------------------------------------------------------------------------------------------------------------------------------------------------------------------------------------------------------------------------------------------------------------------------------------------------------------------R----------------------------------------------------------------------------------------------------------------------------------------------------------------------------------------------------------------------------------------------------------------------------------------------------------------L------------L-------------------------------------------------L---------------------------------------------------------------------------------------------------------------------------------------------------------------------------------------------------------------------------------------------------------------------------------------------------R----------------------------------------------------------------------------------------------------------------------, improve=27.457140, (0 missing)\n",
      "      Customer_ID         < 2757538    to the right, improve= 3.440476, (0 missing)\n",
      "      Payroll_Flag        < 0.5        to the right, improve= 2.932502, (0 missing)\n",
      "      Occupation_Category splits as  R-RRLRR, improve= 2.763281, (0 missing)\n",
      "      Total_Income        < 51210.5    to the left,  improve= 2.692308, (0 missing)\n",
      "  Surrogate splits:\n",
      "      Customer_ID            < 2757538    to the right, agree=0.603, adj=0.107, (0 split)\n",
      "      Payroll_Flag           < 0.5        to the right, agree=0.603, adj=0.107, (0 split)\n",
      "      Children_Num           < 0.5        to the right, agree=0.595, adj=0.089, (0 split)\n",
      "      Occupation_Category    splits as  R-RLLRR, agree=0.595, adj=0.089, (0 split)\n",
      "      Saving_Current_Balance < 4498.116   to the right, agree=0.595, adj=0.089, (0 split)\n",
      "\n",
      "Node number 120: 61 observations\n",
      "  predicted class=FALSE  expected loss=0  P(node) =0.0005083333\n",
      "    class counts:    61     0\n",
      "   probabilities: 1.000 0.000 \n",
      "\n",
      "Node number 121: 241 observations\n",
      "  predicted class=TRUE   expected loss=0.4605809  P(node) =0.002008333\n",
      "    class counts:   111   130\n",
      "   probabilities: 0.461 0.539 \n",
      "\n",
      "Node number 122: 56 observations\n",
      "  predicted class=FALSE  expected loss=0.3214286  P(node) =0.0004666667\n",
      "    class counts:    38    18\n",
      "   probabilities: 0.679 0.321 \n",
      "\n",
      "Node number 123: 70 observations\n",
      "  predicted class=TRUE   expected loss=0.01428571  P(node) =0.0005833333\n",
      "    class counts:     1    69\n",
      "   probabilities: 0.014 0.986 \n",
      "\n"
     ]
    }
   ],
   "source": [
    "summary(model)"
   ]
  },
  {
   "cell_type": "code",
   "execution_count": 54,
   "metadata": {
    "collapsed": false
   },
   "outputs": [
    {
     "name": "stderr",
     "output_type": "stream",
     "text": [
      "Warning message in labels.rpart(x, minlength = minlength):\n",
      "\"more than 52 levels in a predicting factor, truncated for printout\""
     ]
    },
    {
     "data": {
      "image/png": "[encoded data removed]",
      "text/plain": [
       "Plot with title \"Classification Tree for Time_Deposits_Flag\""
      ]
     },
     "metadata": {},
     "output_type": "display_data"
    }
   ],
   "source": [
    "plot(model, uniform=TRUE, main=\"Classification Tree for Time_Deposits_Flag\")\n",
    "text(model, use.n=TRUE, all=TRUE, cex=.8)"
   ]
  },
  {
   "cell_type": "markdown",
   "metadata": {},
   "source": [
    "## tree package"
   ]
  },
  {
   "cell_type": "code",
   "execution_count": 64,
   "metadata": {
    "collapsed": false
   },
   "outputs": [],
   "source": [
    "library(tree)\n",
    "my_data$Time_Deposits_Flag<-as.factor(my_data$Time_Deposits_Flag)\n",
    "formula<-Time_Deposits_Flag~Gender\n",
    "Tree<-tree(formula,data=my_data,split='gini')"
   ]
  },
  {
   "cell_type": "code",
   "execution_count": 65,
   "metadata": {
    "collapsed": false
   },
   "outputs": [
    {
     "data": {
      "text/plain": [
       "\n",
       "Classification tree:\n",
       "tree(formula = formula, data = my_data, split = \"gini\")\n",
       "Number of terminal nodes:  2 \n",
       "Residual mean deviance:  0.1221 = 14650 / 120000 \n",
       "Misclassification error rate: 0.01114 = 1337 / 120000 "
      ]
     },
     "metadata": {},
     "output_type": "display_data"
    }
   ],
   "source": [
    "summary(Tree)"
   ]
  },
  {
   "cell_type": "code",
   "execution_count": 66,
   "metadata": {
    "collapsed": false
   },
   "outputs": [
    {
     "data": {
      "image/png": "[encoded data removed]",
      "text/plain": [
       "plot without title"
      ]
     },
     "metadata": {},
     "output_type": "display_data"
    }
   ],
   "source": [
    "plot(Tree)\n",
    "text(Tree)"
   ]
  },
  {
   "cell_type": "markdown",
   "metadata": {},
   "source": [
    "# Foresting\n"
   ]
  },
  {
   "cell_type": "code",
   "execution_count": 76,
   "metadata": {
    "collapsed": false
   },
   "outputs": [],
   "source": [
    "library(randomForest)\n",
    "forest<-randomForest(formula,data=my_data,ntree = 30)"
   ]
  },
  {
   "cell_type": "code",
   "execution_count": 74,
   "metadata": {
    "collapsed": false
   },
   "outputs": [
    {
     "name": "stdout",
     "output_type": "stream",
     "text": [
      "\n",
      "Call:\n",
      " randomForest(formula = formula, data = my_data, ntree = 30) \n",
      "               Type of random forest: classification\n",
      "                     Number of trees: 30\n",
      "No. of variables tried at each split: 1\n",
      "\n",
      "        OOB estimate of  error rate: 1.11%\n",
      "Confusion matrix:\n",
      "       FALSE TRUE class.error\n",
      "FALSE 118663    0           0\n",
      "TRUE    1337    0           1\n"
     ]
    }
   ],
   "source": [
    "print(forest)"
   ]
  },
  {
   "cell_type": "code",
   "execution_count": 75,
   "metadata": {
    "collapsed": false
   },
   "outputs": [
    {
     "data": {
      "text/html": [
       "<table>\n",
       "<thead><tr><th></th><th scope=col>MeanDecreaseGini</th></tr></thead>\n",
       "<tbody>\n",
       "\t<tr><th scope=row>Gender</th><td>0.7301195</td></tr>\n",
       "</tbody>\n",
       "</table>\n"
      ],
      "text/latex": [
       "\\begin{tabular}{r|l}\n",
       "  & MeanDecreaseGini\\\\\n",
       "\\hline\n",
       "\tGender & 0.7301195\\\\\n",
       "\\end{tabular}\n"
      ],
      "text/markdown": [
       "\n",
       "| <!--/--> | MeanDecreaseGini | \n",
       "|---|\n",
       "| Gender | 0.7301195 | \n",
       "\n",
       "\n"
      ],
      "text/plain": [
       "       MeanDecreaseGini\n",
       "Gender 0.7301195       "
      ]
     },
     "metadata": {},
     "output_type": "display_data"
    }
   ],
   "source": [
    "importance(forest)"
   ]
  },
  {
   "cell_type": "code",
   "execution_count": 77,
   "metadata": {
    "collapsed": false
   },
   "outputs": [
    {
     "data": {
      "image/png": "[encoded data removed]",
      "text/plain": [
       "Plot with title \"forest\""
      ]
     },
     "metadata": {},
     "output_type": "display_data"
    }
   ],
   "source": [
    "plot(forest)"
   ]
  },
  {
   "cell_type": "markdown",
   "metadata": {},
   "source": [
    "# NN"
   ]
  },
  {
   "cell_type": "code",
   "execution_count": 150,
   "metadata": {
    "collapsed": false
   },
   "outputs": [
    {
     "ename": "ERROR",
     "evalue": "Error in scale.default(my_data, center = mins, scale = maxs - mins): length of 'center' must equal the number of columns of 'x'\n",
     "output_type": "error",
     "traceback": [
      "Error in scale.default(my_data, center = mins, scale = maxs - mins): length of 'center' must equal the number of columns of 'x'\nTraceback:\n",
      "1. as.data.frame(scale(my_data, center = mins, scale = maxs - mins))",
      "2. scale(my_data, center = mins, scale = maxs - mins)",
      "3. scale.default(my_data, center = mins, scale = maxs - mins)",
      "4. stop(\"length of 'center' must equal the number of columns of 'x'\")"
     ]
    }
   ],
   "source": [
    "library(neuralnet)\n",
    "maxs <- apply(my_data, 2, max) \n",
    "mins <- apply(my_data, 2, min)\n",
    "scaled <- as.data.frame(scale(my_data, center = mins, scale = maxs - mins))\n",
    "train_ <- scaled[index,]\n",
    "test_ <- scaled[-index,]"
   ]
  },
  {
   "cell_type": "code",
   "execution_count": 148,
   "metadata": {
    "collapsed": false
   },
   "outputs": [
    {
     "ename": "ERROR",
     "evalue": "Error in neurons[[i]] %*% weights[[i]]: requires numeric/complex matrix/vector arguments\n",
     "output_type": "error",
     "traceback": [
      "Error in neurons[[i]] %*% weights[[i]]: requires numeric/complex matrix/vector arguments\nTraceback:\n",
      "1. neuralnet(f, data = train, hidden = c(5, 3), linear.output = F)",
      "2. calculate.neuralnet(learningrate.limit = learningrate.limit, \n .     learningrate.factor = learningrate.factor, covariate = covariate, \n .     response = response, data = data, model.list = model.list, \n .     threshold = threshold, lifesign.step = lifesign.step, stepmax = stepmax, \n .     hidden = hidden, lifesign = lifesign, startweights = startweights, \n .     algorithm = algorithm, err.fct = err.fct, err.deriv.fct = err.deriv.fct, \n .     act.fct = act.fct, act.deriv.fct = act.deriv.fct, rep = i, \n .     linear.output = linear.output, exclude = exclude, constant.weights = constant.weights, \n .     likelihood = likelihood, learningrate.bp = learningrate.bp)",
      "3. rprop(weights = weights, threshold = threshold, response = response, \n .     covariate = covariate, learningrate.limit = learningrate.limit, \n .     learningrate.factor = learningrate.factor, stepmax = stepmax, \n .     lifesign = lifesign, lifesign.step = lifesign.step, act.fct = act.fct, \n .     act.deriv.fct = act.deriv.fct, err.fct = err.fct, err.deriv.fct = err.deriv.fct, \n .     algorithm = algorithm, linear.output = linear.output, exclude = exclude, \n .     learningrate.bp = learningrate.bp)",
      "4. compute.net(weights, length.weights, covariate = covariate, act.fct = act.fct, \n .     act.deriv.fct = act.deriv.fct, output.act.fct = output.act.fct, \n .     output.act.deriv.fct = output.act.deriv.fct, special)"
     ]
    }
   ],
   "source": [
    "library(neuralnet)\n",
    "n <- names(train_)\n",
    "f <- as.formula(paste(\"Time_Deposits_Flag ~\", paste(n[!n %in% \"medv\"], collapse = \" + \")))\n",
    "nn <- neuralnet(f,data=train_,hidden=c(3,1),linear.output=F)"
   ]
  }
 ],
 "metadata": {
  "kernelspec": {
   "display_name": "R",
   "language": "R",
   "name": "ir"
  },
  "language_info": {
   "codemirror_mode": "r",
   "file_extension": ".r",
   "mimetype": "text/x-r-source",
   "name": "R",
   "pygments_lexer": "r",
   "version": "3.3.2"
  }
 },
 "nbformat": 4,
 "nbformat_minor": 2
}
