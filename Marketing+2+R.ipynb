{
 "cells": [
  {
   "cell_type": "code",
   "execution_count": 1,
   "metadata": {
    "collapsed": true
   },
   "outputs": [],
   "source": [
    "MyData <- read.csv(file=\"C:/Users/ilias liapikos/Desktop/Marketing & Data Science/dataz.csv\", header=TRUE, sep=\",\")"
   ]
  },
  {
   "cell_type": "code",
   "execution_count": 187,
   "metadata": {
    "collapsed": true
   },
   "outputs": [],
   "source": [
    "data_sub<-MyData[8:25]"
   ]
  },
  {
   "cell_type": "markdown",
   "metadata": {},
   "source": [
    "<h1 align=center> Exploratory </h1>"
   ]
  },
  {
   "cell_type": "code",
   "execution_count": 3,
   "metadata": {
    "scrolled": false
   },
   "outputs": [
    {
     "name": "stdout",
     "output_type": "stream",
     "text": [
      "'data.frame':\t132648 obs. of  25 variables:\n",
      " $ Customer_ID                : int  1 2 3 4 5 6 7 8 9 10 ...\n",
      " $ Age                        : int  3 24 52 NA 33 57 52 45 47 45 ...\n",
      " $ Gender                     : Factor w/ 2 levels \"F\",\"M\": 1 2 2 1 2 1 2 2 1 1 ...\n",
      " $ Job_Type                   : Factor w/ 26 levels \"Artistic/Media Professionals\",..: 12 26 16 9 26 26 26 26 26 7 ...\n",
      " $ Tenure                     : int  29 11 11 29 8 8 10 10 11 11 ...\n",
      " $ Handset_Brand              : Factor w/ 29 levels \"AEG\",\"ALCATEL\",..: 16 25 16 23 20 16 17 17 16 16 ...\n",
      " $ Handset_TechRank           : int  4 4 4 3 4 4 4 4 4 4 ...\n",
      " $ Avg_Total_Out_Calls        : num  266.5 93.5 132.3 26 175.2 ...\n",
      " $ Avg_Voice_Out_Calls        : num  263.2 86 129.2 20.7 119 ...\n",
      " $ Avg_Voice_Out_Minutes      : num  14998 6544 6125 2825 10404 ...\n",
      " $ Avg_SMS_Out_Calls          : num  3.33 7.5 3.17 5.33 55.5 ...\n",
      " $ Avg_Internet_Out_Volume    : num  0 0 0 0 0 ...\n",
      " $ Avg_Data_Out_Calls         : num  0 0.167 0 0 2.667 ...\n",
      " $ Avg_OnNet_Out_Calls        : num  166.5 6.67 69.83 13 41.5 ...\n",
      " $ Avg_OffNet_Out_Calls       : num  58.67 70.67 43.33 6.33 71.33 ...\n",
      " $ Avg_Fixed_Out_Calls        : num  35.33 8.33 16 1.33 2.33 ...\n",
      " $ Avg_International_Out_Calls: num  0 0 0 0 0 0 0 0 0 0 ...\n",
      " $ Avg_Roaming_Out_Calls      : num  0 0 0 0 0 ...\n",
      " $ Avg_Voice_Inc_Calls        : num  123.3 93.2 84.3 18.5 20.2 ...\n",
      " $ Avg_Voice_Inc_Minutes      : num  7579 4063 3509 2820 1007 ...\n",
      " $ Avg_Total_Out_Community    : num  38.5 24.67 37 8.67 21 ...\n",
      " $ Avg_Voice_Out_Community    : num  38.3 23.7 35.7 8 18.3 ...\n",
      " $ Avg_Voice_Inc_Community    : num  34.33 22.5 25.67 9.5 8.67 ...\n",
      " $ Avg_SMS_Out_Community      : num  1 3.5 2.67 3 6.5 ...\n",
      " $ ARPU                       : num  43.4 36.4 27.6 21.8 45.7 ...\n"
     ]
    }
   ],
   "source": [
    "str(MyData)"
   ]
  },
  {
   "cell_type": "code",
   "execution_count": 157,
   "metadata": {},
   "outputs": [
    {
     "data": {
      "text/html": [
       "26577"
      ],
      "text/latex": [
       "26577"
      ],
      "text/markdown": [
       "26577"
      ],
      "text/plain": [
       "[1] 26577"
      ]
     },
     "metadata": {},
     "output_type": "display_data"
    },
    {
     "data": {
      "image/png": "[encoded data removed]",
      "text/plain": [
       "plot without title"
      ]
     },
     "metadata": {},
     "output_type": "display_data"
    }
   ],
   "source": [
    "q=quantile(MyData$Avg_Total_Out_Calls, c(.2))\n",
    "dim(subset(MyData,Avg_Total_Out_Calls<=q))[1];\n",
    "boxplot(subset(MyData,Avg_Total_Out_Calls<=q,select=ARPU)[,1])"
   ]
  },
  {
   "cell_type": "code",
   "execution_count": 158,
   "metadata": {},
   "outputs": [
    {
     "data": {
      "text/html": [
       "<table>\n",
       "<thead><tr><th></th><th scope=col>vars</th><th scope=col>n</th><th scope=col>mean</th><th scope=col>sd</th><th scope=col>median</th><th scope=col>trimmed</th><th scope=col>mad</th><th scope=col>min</th><th scope=col>max</th><th scope=col>range</th><th scope=col>skew</th><th scope=col>kurtosis</th><th scope=col>se</th></tr></thead>\n",
       "<tbody>\n",
       "\t<tr><th scope=row>Customer_ID</th><td> 1           </td><td>132648       </td><td>6.632450e+04 </td><td>3.829232e+04 </td><td>66324.500000 </td><td>6.632450e+04 </td><td>49165.98120  </td><td>    1.000000 </td><td>132648.0000  </td><td>132647.0000  </td><td>-1.678318e-20</td><td>  -1.2000271 </td><td>1.051384e+02 </td></tr>\n",
       "\t<tr><th scope=row>Age</th><td> 2           </td><td> 80307       </td><td>4.027030e+01 </td><td>3.309348e+01 </td><td>   39.000000 </td><td>3.902436e+01 </td><td>   14.82600  </td><td>-2963.000000 </td><td>  1835.0000  </td><td>  4798.0000  </td><td> 1.905046e+01</td><td>2047.7788763 </td><td>1.167793e-01 </td></tr>\n",
       "\t<tr><th scope=row>Gender*</th><td> 3           </td><td>132648       </td><td>1.689894e+00 </td><td>4.625387e-01 </td><td>    2.000000 </td><td>1.737363e+00 </td><td>    0.00000  </td><td>    1.000000 </td><td>     2.0000  </td><td>     1.0000  </td><td>-8.210864e-01</td><td>  -1.3258271 </td><td>1.269982e-03 </td></tr>\n",
       "\t<tr><th scope=row>Job_Type*</th><td> 4           </td><td>132648       </td><td>1.551480e+01 </td><td>6.904550e+00 </td><td>   14.000000 </td><td>1.568344e+01 </td><td>    4.44780  </td><td>    1.000000 </td><td>    26.0000  </td><td>    25.0000  </td><td> 1.425626e-01</td><td>  -0.7600973 </td><td>1.895767e-02 </td></tr>\n",
       "\t<tr><th scope=row>Tenure</th><td> 5           </td><td>132648       </td><td>3.468992e+01 </td><td>2.886661e+01 </td><td>   21.000000 </td><td>3.029211e+01 </td><td>   17.79120  </td><td>    7.000000 </td><td>   146.0000  </td><td>   139.0000  </td><td> 1.138604e+00</td><td>   0.3766923 </td><td>7.925842e-02 </td></tr>\n",
       "\t<tr><th scope=row>Handset_Brand*</th><td> 6           </td><td>132648       </td><td>1.796988e+01 </td><td>4.315965e+00 </td><td>   16.000000 </td><td>1.791502e+01 </td><td>    0.00000  </td><td>    1.000000 </td><td>    29.0000  </td><td>    28.0000  </td><td>-2.394040e-01</td><td>   1.2262482 </td><td>1.185025e-02 </td></tr>\n",
       "\t<tr><th scope=row>Handset_TechRank</th><td> 7           </td><td>132648       </td><td>3.008504e+00 </td><td>1.091419e+00 </td><td>    3.000000 </td><td>3.135620e+00 </td><td>    1.48260  </td><td>    1.000000 </td><td>     4.0000  </td><td>     3.0000  </td><td>-5.806690e-01</td><td>  -1.1095140 </td><td>2.996685e-03 </td></tr>\n",
       "\t<tr><th scope=row>Avg_Total_Out_Calls</th><td> 8           </td><td>132648       </td><td>1.713662e+02 </td><td>1.479441e+02 </td><td>  133.833333 </td><td>1.486542e+02 </td><td>  101.55810  </td><td>    0.166667 </td><td>  4746.3333  </td><td>  4746.1667  </td><td> 2.960213e+00</td><td>  26.3438112 </td><td>4.062069e-01 </td></tr>\n",
       "\t<tr><th scope=row>Avg_Voice_Out_Calls</th><td> 9           </td><td>132648       </td><td>1.359053e+02 </td><td>1.124585e+02 </td><td>  109.500000 </td><td>1.193059e+02 </td><td>   79.56620  </td><td>    0.000000 </td><td>  2406.5000  </td><td>  2406.5000  </td><td> 2.630897e+00</td><td>  14.8514764 </td><td>3.087748e-01 </td></tr>\n",
       "\t<tr><th scope=row>Avg_Voice_Out_Minutes</th><td>10           </td><td>132648       </td><td>1.028230e+04 </td><td>1.044707e+04 </td><td> 7456.833334 </td><td>8.472575e+03 </td><td> 5942.63145  </td><td>    0.000000 </td><td>222932.5000  </td><td>222932.5000  </td><td> 3.671061e+00</td><td>  26.9102105 </td><td>2.868430e+01 </td></tr>\n",
       "\t<tr><th scope=row>Avg_SMS_Out_Calls</th><td>11           </td><td>132648       </td><td>3.545602e+01 </td><td>7.796344e+01 </td><td>    7.333333 </td><td>1.830679e+01 </td><td>   10.87240  </td><td>    0.000000 </td><td>  4389.1667  </td><td>  4389.1667  </td><td> 8.118862e+00</td><td> 194.8716593 </td><td>2.140625e-01 </td></tr>\n",
       "\t<tr><th scope=row>Avg_Internet_Out_Volume</th><td>12           </td><td>132648       </td><td>5.961013e+01 </td><td>4.662624e+02 </td><td>    0.000000 </td><td>5.766871e+00 </td><td>    0.00000  </td><td>    0.000000 </td><td> 62696.3426  </td><td> 62696.3426  </td><td> 5.358777e+01</td><td>5146.2821662 </td><td>1.280207e+00 </td></tr>\n",
       "\t<tr><th scope=row>Avg_Data_Out_Calls</th><td>13           </td><td>132648       </td><td>5.541911e-01 </td><td>2.102813e+00 </td><td>    0.000000 </td><td>1.150836e-01 </td><td>    0.00000  </td><td>    0.000000 </td><td>   181.8333  </td><td>   181.8333  </td><td> 1.506932e+01</td><td> 638.7387787 </td><td>5.773647e-03 </td></tr>\n",
       "\t<tr><th scope=row>Avg_OnNet_Out_Calls</th><td>14           </td><td>132648       </td><td>4.747165e+01 </td><td>5.016865e+01 </td><td>   32.833333 </td><td>3.876040e+01 </td><td>   33.11140  </td><td>    0.000000 </td><td>   761.5000  </td><td>   761.5000  </td><td> 2.706900e+00</td><td>  13.3664608 </td><td>1.377470e-01 </td></tr>\n",
       "\t<tr><th scope=row>Avg_OffNet_Out_Calls</th><td>15           </td><td>132648       </td><td>5.496196e+01 </td><td>5.650776e+01 </td><td>   39.166667 </td><td>4.550772e+01 </td><td>   37.80630  </td><td>    0.000000 </td><td>  1455.1667  </td><td>  1455.1667  </td><td> 2.961108e+00</td><td>  20.0027064 </td><td>1.551521e-01 </td></tr>\n",
       "\t<tr><th scope=row>Avg_Fixed_Out_Calls</th><td>16           </td><td>132648       </td><td>2.616517e+01 </td><td>2.887426e+01 </td><td>   17.833333 </td><td>2.098157e+01 </td><td>   15.81440  </td><td>    0.000000 </td><td>   944.0000  </td><td>   944.0000  </td><td> 4.007244e+00</td><td>  37.6299333 </td><td>7.927942e-02 </td></tr>\n",
       "\t<tr><th scope=row>Avg_International_Out_Calls</th><td>17           </td><td>132648       </td><td>7.675301e-01 </td><td>4.625146e+00 </td><td>    0.000000 </td><td>6.782103e-02 </td><td>    0.00000  </td><td>    0.000000 </td><td>   309.5000  </td><td>   309.5000  </td><td> 2.121262e+01</td><td> 769.6715387 </td><td>1.269916e-02 </td></tr>\n",
       "\t<tr><th scope=row>Avg_Roaming_Out_Calls</th><td>18           </td><td>132648       </td><td>2.449450e+00 </td><td>1.374593e+01 </td><td>    0.000000 </td><td>1.044258e-01 </td><td>    0.00000  </td><td>    0.000000 </td><td>   935.0000  </td><td>   935.0000  </td><td> 1.846081e+01</td><td> 647.0071700 </td><td>3.774190e-02 </td></tr>\n",
       "\t<tr><th scope=row>Avg_Voice_Inc_Calls</th><td>19           </td><td>132648       </td><td>1.167460e+02 </td><td>1.072955e+02 </td><td>   90.166667 </td><td>1.005010e+02 </td><td>   77.58940  </td><td>    0.000000 </td><td>  2851.0000  </td><td>  2851.0000  </td><td> 2.780197e+00</td><td>  17.6702928 </td><td>2.945988e-01 </td></tr>\n",
       "\t<tr><th scope=row>Avg_Voice_Inc_Minutes</th><td>20           </td><td>132648       </td><td>9.037669e+03 </td><td>9.670903e+03 </td><td> 6205.000000 </td><td>7.347321e+03 </td><td> 5985.99750  </td><td>    0.000000 </td><td>250565.6667  </td><td>250565.6667  </td><td> 3.143112e+00</td><td>  21.4578598 </td><td>2.655319e+01 </td></tr>\n",
       "\t<tr><th scope=row>Avg_Total_Out_Community</th><td>21           </td><td>132648       </td><td>3.322901e+01 </td><td>2.139552e+01 </td><td>   29.166667 </td><td>3.067382e+01 </td><td>   16.55570  </td><td>    0.166667 </td><td>   481.3333  </td><td>   481.1667  </td><td> 2.179258e+00</td><td>  12.9179254 </td><td>5.874521e-02 </td></tr>\n",
       "\t<tr><th scope=row>Avg_Voice_Out_Community</th><td>22           </td><td>132648       </td><td>3.069588e+01 </td><td>2.058379e+01 </td><td>   26.500000 </td><td>2.808006e+01 </td><td>   15.32020  </td><td>    0.000000 </td><td>   476.1667  </td><td>   476.1667  </td><td> 2.271839e+00</td><td>  13.4542609 </td><td>5.651647e-02 </td></tr>\n",
       "\t<tr><th scope=row>Avg_Voice_Inc_Community</th><td>23           </td><td>132648       </td><td>3.496566e+01 </td><td>3.270386e+01 </td><td>   26.833333 </td><td>2.966439e+01 </td><td>   20.26220  </td><td>    0.000000 </td><td>   863.1667  </td><td>   863.1667  </td><td> 3.496779e+00</td><td>  26.2374848 </td><td>8.979427e-02 </td></tr>\n",
       "\t<tr><th scope=row>Avg_SMS_Out_Community</th><td>24           </td><td>132648       </td><td>5.884994e+00 </td><td>7.624829e+00 </td><td>    3.000000 </td><td>4.424733e+00 </td><td>    4.20070  </td><td>    0.000000 </td><td>   289.6667  </td><td>   289.6667  </td><td> 2.982602e+00</td><td>  30.3670583 </td><td>2.093533e-02 </td></tr>\n",
       "\t<tr><th scope=row>ARPU</th><td>25           </td><td>132648       </td><td>5.772964e+01 </td><td>5.094430e+01 </td><td>   43.740133 </td><td>4.917007e+01 </td><td>   27.72461  </td><td>    2.176467 </td><td>  2158.8919  </td><td>  2156.7154  </td><td> 5.663367e+00</td><td>  97.2995071 </td><td>1.398767e-01 </td></tr>\n",
       "</tbody>\n",
       "</table>\n"
      ],
      "text/latex": [
       "\\begin{tabular}{r|lllllllllllll}\n",
       "  & vars & n & mean & sd & median & trimmed & mad & min & max & range & skew & kurtosis & se\\\\\n",
       "\\hline\n",
       "\tCustomer\\_ID &  1            & 132648        & 6.632450e+04  & 3.829232e+04  & 66324.500000  & 6.632450e+04  & 49165.98120   &     1.000000  & 132648.0000   & 132647.0000   & -1.678318e-20 &   -1.2000271  & 1.051384e+02 \\\\\n",
       "\tAge &  2            &  80307        & 4.027030e+01  & 3.309348e+01  &    39.000000  & 3.902436e+01  &    14.82600   & -2963.000000  &   1835.0000   &   4798.0000   &  1.905046e+01 & 2047.7788763  & 1.167793e-01 \\\\\n",
       "\tGender* &  3            & 132648        & 1.689894e+00  & 4.625387e-01  &     2.000000  & 1.737363e+00  &     0.00000   &     1.000000  &      2.0000   &      1.0000   & -8.210864e-01 &   -1.3258271  & 1.269982e-03 \\\\\n",
       "\tJob\\_Type* &  4            & 132648        & 1.551480e+01  & 6.904550e+00  &    14.000000  & 1.568344e+01  &     4.44780   &     1.000000  &     26.0000   &     25.0000   &  1.425626e-01 &   -0.7600973  & 1.895767e-02 \\\\\n",
       "\tTenure &  5            & 132648        & 3.468992e+01  & 2.886661e+01  &    21.000000  & 3.029211e+01  &    17.79120   &     7.000000  &    146.0000   &    139.0000   &  1.138604e+00 &    0.3766923  & 7.925842e-02 \\\\\n",
       "\tHandset\\_Brand* &  6            & 132648        & 1.796988e+01  & 4.315965e+00  &    16.000000  & 1.791502e+01  &     0.00000   &     1.000000  &     29.0000   &     28.0000   & -2.394040e-01 &    1.2262482  & 1.185025e-02 \\\\\n",
       "\tHandset\\_TechRank &  7            & 132648        & 3.008504e+00  & 1.091419e+00  &     3.000000  & 3.135620e+00  &     1.48260   &     1.000000  &      4.0000   &      3.0000   & -5.806690e-01 &   -1.1095140  & 2.996685e-03 \\\\\n",
       "\tAvg\\_Total\\_Out\\_Calls &  8            & 132648        & 1.713662e+02  & 1.479441e+02  &   133.833333  & 1.486542e+02  &   101.55810   &     0.166667  &   4746.3333   &   4746.1667   &  2.960213e+00 &   26.3438112  & 4.062069e-01 \\\\\n",
       "\tAvg\\_Voice\\_Out\\_Calls &  9            & 132648        & 1.359053e+02  & 1.124585e+02  &   109.500000  & 1.193059e+02  &    79.56620   &     0.000000  &   2406.5000   &   2406.5000   &  2.630897e+00 &   14.8514764  & 3.087748e-01 \\\\\n",
       "\tAvg\\_Voice\\_Out\\_Minutes & 10            & 132648        & 1.028230e+04  & 1.044707e+04  &  7456.833334  & 8.472575e+03  &  5942.63145   &     0.000000  & 222932.5000   & 222932.5000   &  3.671061e+00 &   26.9102105  & 2.868430e+01 \\\\\n",
       "\tAvg\\_SMS\\_Out\\_Calls & 11            & 132648        & 3.545602e+01  & 7.796344e+01  &     7.333333  & 1.830679e+01  &    10.87240   &     0.000000  &   4389.1667   &   4389.1667   &  8.118862e+00 &  194.8716593  & 2.140625e-01 \\\\\n",
       "\tAvg\\_Internet\\_Out\\_Volume & 12            & 132648        & 5.961013e+01  & 4.662624e+02  &     0.000000  & 5.766871e+00  &     0.00000   &     0.000000  &  62696.3426   &  62696.3426   &  5.358777e+01 & 5146.2821662  & 1.280207e+00 \\\\\n",
       "\tAvg\\_Data\\_Out\\_Calls & 13            & 132648        & 5.541911e-01  & 2.102813e+00  &     0.000000  & 1.150836e-01  &     0.00000   &     0.000000  &    181.8333   &    181.8333   &  1.506932e+01 &  638.7387787  & 5.773647e-03 \\\\\n",
       "\tAvg\\_OnNet\\_Out\\_Calls & 14            & 132648        & 4.747165e+01  & 5.016865e+01  &    32.833333  & 3.876040e+01  &    33.11140   &     0.000000  &    761.5000   &    761.5000   &  2.706900e+00 &   13.3664608  & 1.377470e-01 \\\\\n",
       "\tAvg\\_OffNet\\_Out\\_Calls & 15            & 132648        & 5.496196e+01  & 5.650776e+01  &    39.166667  & 4.550772e+01  &    37.80630   &     0.000000  &   1455.1667   &   1455.1667   &  2.961108e+00 &   20.0027064  & 1.551521e-01 \\\\\n",
       "\tAvg\\_Fixed\\_Out\\_Calls & 16            & 132648        & 2.616517e+01  & 2.887426e+01  &    17.833333  & 2.098157e+01  &    15.81440   &     0.000000  &    944.0000   &    944.0000   &  4.007244e+00 &   37.6299333  & 7.927942e-02 \\\\\n",
       "\tAvg\\_International\\_Out\\_Calls & 17            & 132648        & 7.675301e-01  & 4.625146e+00  &     0.000000  & 6.782103e-02  &     0.00000   &     0.000000  &    309.5000   &    309.5000   &  2.121262e+01 &  769.6715387  & 1.269916e-02 \\\\\n",
       "\tAvg\\_Roaming\\_Out\\_Calls & 18            & 132648        & 2.449450e+00  & 1.374593e+01  &     0.000000  & 1.044258e-01  &     0.00000   &     0.000000  &    935.0000   &    935.0000   &  1.846081e+01 &  647.0071700  & 3.774190e-02 \\\\\n",
       "\tAvg\\_Voice\\_Inc\\_Calls & 19            & 132648        & 1.167460e+02  & 1.072955e+02  &    90.166667  & 1.005010e+02  &    77.58940   &     0.000000  &   2851.0000   &   2851.0000   &  2.780197e+00 &   17.6702928  & 2.945988e-01 \\\\\n",
       "\tAvg\\_Voice\\_Inc\\_Minutes & 20            & 132648        & 9.037669e+03  & 9.670903e+03  &  6205.000000  & 7.347321e+03  &  5985.99750   &     0.000000  & 250565.6667   & 250565.6667   &  3.143112e+00 &   21.4578598  & 2.655319e+01 \\\\\n",
       "\tAvg\\_Total\\_Out\\_Community & 21            & 132648        & 3.322901e+01  & 2.139552e+01  &    29.166667  & 3.067382e+01  &    16.55570   &     0.166667  &    481.3333   &    481.1667   &  2.179258e+00 &   12.9179254  & 5.874521e-02 \\\\\n",
       "\tAvg\\_Voice\\_Out\\_Community & 22            & 132648        & 3.069588e+01  & 2.058379e+01  &    26.500000  & 2.808006e+01  &    15.32020   &     0.000000  &    476.1667   &    476.1667   &  2.271839e+00 &   13.4542609  & 5.651647e-02 \\\\\n",
       "\tAvg\\_Voice\\_Inc\\_Community & 23            & 132648        & 3.496566e+01  & 3.270386e+01  &    26.833333  & 2.966439e+01  &    20.26220   &     0.000000  &    863.1667   &    863.1667   &  3.496779e+00 &   26.2374848  & 8.979427e-02 \\\\\n",
       "\tAvg\\_SMS\\_Out\\_Community & 24            & 132648        & 5.884994e+00  & 7.624829e+00  &     3.000000  & 4.424733e+00  &     4.20070   &     0.000000  &    289.6667   &    289.6667   &  2.982602e+00 &   30.3670583  & 2.093533e-02 \\\\\n",
       "\tARPU & 25            & 132648        & 5.772964e+01  & 5.094430e+01  &    43.740133  & 4.917007e+01  &    27.72461   &     2.176467  &   2158.8919   &   2156.7154   &  5.663367e+00 &   97.2995071  & 1.398767e-01 \\\\\n",
       "\\end{tabular}\n"
      ],
      "text/markdown": [
       "\n",
       "| <!--/--> | vars | n | mean | sd | median | trimmed | mad | min | max | range | skew | kurtosis | se | \n",
       "|---|---|---|---|---|---|---|---|---|---|---|---|---|---|---|---|---|---|---|---|---|---|---|---|---|\n",
       "| Customer_ID |  1            | 132648        | 6.632450e+04  | 3.829232e+04  | 66324.500000  | 6.632450e+04  | 49165.98120   |     1.000000  | 132648.0000   | 132647.0000   | -1.678318e-20 |   -1.2000271  | 1.051384e+02  | \n",
       "| Age |  2            |  80307        | 4.027030e+01  | 3.309348e+01  |    39.000000  | 3.902436e+01  |    14.82600   | -2963.000000  |   1835.0000   |   4798.0000   |  1.905046e+01 | 2047.7788763  | 1.167793e-01  | \n",
       "| Gender* |  3            | 132648        | 1.689894e+00  | 4.625387e-01  |     2.000000  | 1.737363e+00  |     0.00000   |     1.000000  |      2.0000   |      1.0000   | -8.210864e-01 |   -1.3258271  | 1.269982e-03  | \n",
       "| Job_Type* |  4            | 132648        | 1.551480e+01  | 6.904550e+00  |    14.000000  | 1.568344e+01  |     4.44780   |     1.000000  |     26.0000   |     25.0000   |  1.425626e-01 |   -0.7600973  | 1.895767e-02  | \n",
       "| Tenure |  5            | 132648        | 3.468992e+01  | 2.886661e+01  |    21.000000  | 3.029211e+01  |    17.79120   |     7.000000  |    146.0000   |    139.0000   |  1.138604e+00 |    0.3766923  | 7.925842e-02  | \n",
       "| Handset_Brand* |  6            | 132648        | 1.796988e+01  | 4.315965e+00  |    16.000000  | 1.791502e+01  |     0.00000   |     1.000000  |     29.0000   |     28.0000   | -2.394040e-01 |    1.2262482  | 1.185025e-02  | \n",
       "| Handset_TechRank |  7            | 132648        | 3.008504e+00  | 1.091419e+00  |     3.000000  | 3.135620e+00  |     1.48260   |     1.000000  |      4.0000   |      3.0000   | -5.806690e-01 |   -1.1095140  | 2.996685e-03  | \n",
       "| Avg_Total_Out_Calls |  8            | 132648        | 1.713662e+02  | 1.479441e+02  |   133.833333  | 1.486542e+02  |   101.55810   |     0.166667  |   4746.3333   |   4746.1667   |  2.960213e+00 |   26.3438112  | 4.062069e-01  | \n",
       "| Avg_Voice_Out_Calls |  9            | 132648        | 1.359053e+02  | 1.124585e+02  |   109.500000  | 1.193059e+02  |    79.56620   |     0.000000  |   2406.5000   |   2406.5000   |  2.630897e+00 |   14.8514764  | 3.087748e-01  | \n",
       "| Avg_Voice_Out_Minutes | 10            | 132648        | 1.028230e+04  | 1.044707e+04  |  7456.833334  | 8.472575e+03  |  5942.63145   |     0.000000  | 222932.5000   | 222932.5000   |  3.671061e+00 |   26.9102105  | 2.868430e+01  | \n",
       "| Avg_SMS_Out_Calls | 11            | 132648        | 3.545602e+01  | 7.796344e+01  |     7.333333  | 1.830679e+01  |    10.87240   |     0.000000  |   4389.1667   |   4389.1667   |  8.118862e+00 |  194.8716593  | 2.140625e-01  | \n",
       "| Avg_Internet_Out_Volume | 12            | 132648        | 5.961013e+01  | 4.662624e+02  |     0.000000  | 5.766871e+00  |     0.00000   |     0.000000  |  62696.3426   |  62696.3426   |  5.358777e+01 | 5146.2821662  | 1.280207e+00  | \n",
       "| Avg_Data_Out_Calls | 13            | 132648        | 5.541911e-01  | 2.102813e+00  |     0.000000  | 1.150836e-01  |     0.00000   |     0.000000  |    181.8333   |    181.8333   |  1.506932e+01 |  638.7387787  | 5.773647e-03  | \n",
       "| Avg_OnNet_Out_Calls | 14            | 132648        | 4.747165e+01  | 5.016865e+01  |    32.833333  | 3.876040e+01  |    33.11140   |     0.000000  |    761.5000   |    761.5000   |  2.706900e+00 |   13.3664608  | 1.377470e-01  | \n",
       "| Avg_OffNet_Out_Calls | 15            | 132648        | 5.496196e+01  | 5.650776e+01  |    39.166667  | 4.550772e+01  |    37.80630   |     0.000000  |   1455.1667   |   1455.1667   |  2.961108e+00 |   20.0027064  | 1.551521e-01  | \n",
       "| Avg_Fixed_Out_Calls | 16            | 132648        | 2.616517e+01  | 2.887426e+01  |    17.833333  | 2.098157e+01  |    15.81440   |     0.000000  |    944.0000   |    944.0000   |  4.007244e+00 |   37.6299333  | 7.927942e-02  | \n",
       "| Avg_International_Out_Calls | 17            | 132648        | 7.675301e-01  | 4.625146e+00  |     0.000000  | 6.782103e-02  |     0.00000   |     0.000000  |    309.5000   |    309.5000   |  2.121262e+01 |  769.6715387  | 1.269916e-02  | \n",
       "| Avg_Roaming_Out_Calls | 18            | 132648        | 2.449450e+00  | 1.374593e+01  |     0.000000  | 1.044258e-01  |     0.00000   |     0.000000  |    935.0000   |    935.0000   |  1.846081e+01 |  647.0071700  | 3.774190e-02  | \n",
       "| Avg_Voice_Inc_Calls | 19            | 132648        | 1.167460e+02  | 1.072955e+02  |    90.166667  | 1.005010e+02  |    77.58940   |     0.000000  |   2851.0000   |   2851.0000   |  2.780197e+00 |   17.6702928  | 2.945988e-01  | \n",
       "| Avg_Voice_Inc_Minutes | 20            | 132648        | 9.037669e+03  | 9.670903e+03  |  6205.000000  | 7.347321e+03  |  5985.99750   |     0.000000  | 250565.6667   | 250565.6667   |  3.143112e+00 |   21.4578598  | 2.655319e+01  | \n",
       "| Avg_Total_Out_Community | 21            | 132648        | 3.322901e+01  | 2.139552e+01  |    29.166667  | 3.067382e+01  |    16.55570   |     0.166667  |    481.3333   |    481.1667   |  2.179258e+00 |   12.9179254  | 5.874521e-02  | \n",
       "| Avg_Voice_Out_Community | 22            | 132648        | 3.069588e+01  | 2.058379e+01  |    26.500000  | 2.808006e+01  |    15.32020   |     0.000000  |    476.1667   |    476.1667   |  2.271839e+00 |   13.4542609  | 5.651647e-02  | \n",
       "| Avg_Voice_Inc_Community | 23            | 132648        | 3.496566e+01  | 3.270386e+01  |    26.833333  | 2.966439e+01  |    20.26220   |     0.000000  |    863.1667   |    863.1667   |  3.496779e+00 |   26.2374848  | 8.979427e-02  | \n",
       "| Avg_SMS_Out_Community | 24            | 132648        | 5.884994e+00  | 7.624829e+00  |     3.000000  | 4.424733e+00  |     4.20070   |     0.000000  |    289.6667   |    289.6667   |  2.982602e+00 |   30.3670583  | 2.093533e-02  | \n",
       "| ARPU | 25            | 132648        | 5.772964e+01  | 5.094430e+01  |    43.740133  | 4.917007e+01  |    27.72461   |     2.176467  |   2158.8919   |   2156.7154   |  5.663367e+00 |   97.2995071  | 1.398767e-01  | \n",
       "\n",
       "\n"
      ],
      "text/plain": [
       "                            vars n      mean         sd           median      \n",
       "Customer_ID                  1   132648 6.632450e+04 3.829232e+04 66324.500000\n",
       "Age                          2    80307 4.027030e+01 3.309348e+01    39.000000\n",
       "Gender*                      3   132648 1.689894e+00 4.625387e-01     2.000000\n",
       "Job_Type*                    4   132648 1.551480e+01 6.904550e+00    14.000000\n",
       "Tenure                       5   132648 3.468992e+01 2.886661e+01    21.000000\n",
       "Handset_Brand*               6   132648 1.796988e+01 4.315965e+00    16.000000\n",
       "Handset_TechRank             7   132648 3.008504e+00 1.091419e+00     3.000000\n",
       "Avg_Total_Out_Calls          8   132648 1.713662e+02 1.479441e+02   133.833333\n",
       "Avg_Voice_Out_Calls          9   132648 1.359053e+02 1.124585e+02   109.500000\n",
       "Avg_Voice_Out_Minutes       10   132648 1.028230e+04 1.044707e+04  7456.833334\n",
       "Avg_SMS_Out_Calls           11   132648 3.545602e+01 7.796344e+01     7.333333\n",
       "Avg_Internet_Out_Volume     12   132648 5.961013e+01 4.662624e+02     0.000000\n",
       "Avg_Data_Out_Calls          13   132648 5.541911e-01 2.102813e+00     0.000000\n",
       "Avg_OnNet_Out_Calls         14   132648 4.747165e+01 5.016865e+01    32.833333\n",
       "Avg_OffNet_Out_Calls        15   132648 5.496196e+01 5.650776e+01    39.166667\n",
       "Avg_Fixed_Out_Calls         16   132648 2.616517e+01 2.887426e+01    17.833333\n",
       "Avg_International_Out_Calls 17   132648 7.675301e-01 4.625146e+00     0.000000\n",
       "Avg_Roaming_Out_Calls       18   132648 2.449450e+00 1.374593e+01     0.000000\n",
       "Avg_Voice_Inc_Calls         19   132648 1.167460e+02 1.072955e+02    90.166667\n",
       "Avg_Voice_Inc_Minutes       20   132648 9.037669e+03 9.670903e+03  6205.000000\n",
       "Avg_Total_Out_Community     21   132648 3.322901e+01 2.139552e+01    29.166667\n",
       "Avg_Voice_Out_Community     22   132648 3.069588e+01 2.058379e+01    26.500000\n",
       "Avg_Voice_Inc_Community     23   132648 3.496566e+01 3.270386e+01    26.833333\n",
       "Avg_SMS_Out_Community       24   132648 5.884994e+00 7.624829e+00     3.000000\n",
       "ARPU                        25   132648 5.772964e+01 5.094430e+01    43.740133\n",
       "                            trimmed      mad         min          max        \n",
       "Customer_ID                 6.632450e+04 49165.98120     1.000000 132648.0000\n",
       "Age                         3.902436e+01    14.82600 -2963.000000   1835.0000\n",
       "Gender*                     1.737363e+00     0.00000     1.000000      2.0000\n",
       "Job_Type*                   1.568344e+01     4.44780     1.000000     26.0000\n",
       "Tenure                      3.029211e+01    17.79120     7.000000    146.0000\n",
       "Handset_Brand*              1.791502e+01     0.00000     1.000000     29.0000\n",
       "Handset_TechRank            3.135620e+00     1.48260     1.000000      4.0000\n",
       "Avg_Total_Out_Calls         1.486542e+02   101.55810     0.166667   4746.3333\n",
       "Avg_Voice_Out_Calls         1.193059e+02    79.56620     0.000000   2406.5000\n",
       "Avg_Voice_Out_Minutes       8.472575e+03  5942.63145     0.000000 222932.5000\n",
       "Avg_SMS_Out_Calls           1.830679e+01    10.87240     0.000000   4389.1667\n",
       "Avg_Internet_Out_Volume     5.766871e+00     0.00000     0.000000  62696.3426\n",
       "Avg_Data_Out_Calls          1.150836e-01     0.00000     0.000000    181.8333\n",
       "Avg_OnNet_Out_Calls         3.876040e+01    33.11140     0.000000    761.5000\n",
       "Avg_OffNet_Out_Calls        4.550772e+01    37.80630     0.000000   1455.1667\n",
       "Avg_Fixed_Out_Calls         2.098157e+01    15.81440     0.000000    944.0000\n",
       "Avg_International_Out_Calls 6.782103e-02     0.00000     0.000000    309.5000\n",
       "Avg_Roaming_Out_Calls       1.044258e-01     0.00000     0.000000    935.0000\n",
       "Avg_Voice_Inc_Calls         1.005010e+02    77.58940     0.000000   2851.0000\n",
       "Avg_Voice_Inc_Minutes       7.347321e+03  5985.99750     0.000000 250565.6667\n",
       "Avg_Total_Out_Community     3.067382e+01    16.55570     0.166667    481.3333\n",
       "Avg_Voice_Out_Community     2.808006e+01    15.32020     0.000000    476.1667\n",
       "Avg_Voice_Inc_Community     2.966439e+01    20.26220     0.000000    863.1667\n",
       "Avg_SMS_Out_Community       4.424733e+00     4.20070     0.000000    289.6667\n",
       "ARPU                        4.917007e+01    27.72461     2.176467   2158.8919\n",
       "                            range       skew          kurtosis     se          \n",
       "Customer_ID                 132647.0000 -1.678318e-20   -1.2000271 1.051384e+02\n",
       "Age                           4798.0000  1.905046e+01 2047.7788763 1.167793e-01\n",
       "Gender*                          1.0000 -8.210864e-01   -1.3258271 1.269982e-03\n",
       "Job_Type*                       25.0000  1.425626e-01   -0.7600973 1.895767e-02\n",
       "Tenure                         139.0000  1.138604e+00    0.3766923 7.925842e-02\n",
       "Handset_Brand*                  28.0000 -2.394040e-01    1.2262482 1.185025e-02\n",
       "Handset_TechRank                 3.0000 -5.806690e-01   -1.1095140 2.996685e-03\n",
       "Avg_Total_Out_Calls           4746.1667  2.960213e+00   26.3438112 4.062069e-01\n",
       "Avg_Voice_Out_Calls           2406.5000  2.630897e+00   14.8514764 3.087748e-01\n",
       "Avg_Voice_Out_Minutes       222932.5000  3.671061e+00   26.9102105 2.868430e+01\n",
       "Avg_SMS_Out_Calls             4389.1667  8.118862e+00  194.8716593 2.140625e-01\n",
       "Avg_Internet_Out_Volume      62696.3426  5.358777e+01 5146.2821662 1.280207e+00\n",
       "Avg_Data_Out_Calls             181.8333  1.506932e+01  638.7387787 5.773647e-03\n",
       "Avg_OnNet_Out_Calls            761.5000  2.706900e+00   13.3664608 1.377470e-01\n",
       "Avg_OffNet_Out_Calls          1455.1667  2.961108e+00   20.0027064 1.551521e-01\n",
       "Avg_Fixed_Out_Calls            944.0000  4.007244e+00   37.6299333 7.927942e-02\n",
       "Avg_International_Out_Calls    309.5000  2.121262e+01  769.6715387 1.269916e-02\n",
       "Avg_Roaming_Out_Calls          935.0000  1.846081e+01  647.0071700 3.774190e-02\n",
       "Avg_Voice_Inc_Calls           2851.0000  2.780197e+00   17.6702928 2.945988e-01\n",
       "Avg_Voice_Inc_Minutes       250565.6667  3.143112e+00   21.4578598 2.655319e+01\n",
       "Avg_Total_Out_Community        481.1667  2.179258e+00   12.9179254 5.874521e-02\n",
       "Avg_Voice_Out_Community        476.1667  2.271839e+00   13.4542609 5.651647e-02\n",
       "Avg_Voice_Inc_Community        863.1667  3.496779e+00   26.2374848 8.979427e-02\n",
       "Avg_SMS_Out_Community          289.6667  2.982602e+00   30.3670583 2.093533e-02\n",
       "ARPU                          2156.7154  5.663367e+00   97.2995071 1.398767e-01"
      ]
     },
     "metadata": {},
     "output_type": "display_data"
    }
   ],
   "source": [
    "library(psych)\n",
    "describe(MyData)"
   ]
  },
  {
   "cell_type": "markdown",
   "metadata": {},
   "source": [
    "<h1 align=center> PCA </h1>"
   ]
  },
  {
   "cell_type": "code",
   "execution_count": 204,
   "metadata": {
    "collapsed": true
   },
   "outputs": [],
   "source": [
    "#data_sub=subset(MyData,Avg_Total_Out_Calls<=q)[8:25]\n",
    "data_sub=MyData[8:25]"
   ]
  },
  {
   "cell_type": "code",
   "execution_count": 205,
   "metadata": {
    "scrolled": true
   },
   "outputs": [
    {
     "data": {
      "text/html": [
       "<ol class=list-inline>\n",
       "\t<li>'Avg_Total_Out_Calls'</li>\n",
       "\t<li>'Avg_Voice_Out_Calls'</li>\n",
       "\t<li>'Avg_Voice_Out_Minutes'</li>\n",
       "\t<li>'Avg_SMS_Out_Calls'</li>\n",
       "\t<li>'Avg_Internet_Out_Volume'</li>\n",
       "\t<li>'Avg_Data_Out_Calls'</li>\n",
       "\t<li>'Avg_OnNet_Out_Calls'</li>\n",
       "\t<li>'Avg_OffNet_Out_Calls'</li>\n",
       "\t<li>'Avg_Fixed_Out_Calls'</li>\n",
       "\t<li>'Avg_International_Out_Calls'</li>\n",
       "\t<li>'Avg_Roaming_Out_Calls'</li>\n",
       "\t<li>'Avg_Voice_Inc_Calls'</li>\n",
       "\t<li>'Avg_Voice_Inc_Minutes'</li>\n",
       "\t<li>'Avg_Total_Out_Community'</li>\n",
       "\t<li>'Avg_Voice_Out_Community'</li>\n",
       "\t<li>'Avg_Voice_Inc_Community'</li>\n",
       "\t<li>'Avg_SMS_Out_Community'</li>\n",
       "\t<li>'ARPU'</li>\n",
       "</ol>\n"
      ],
      "text/latex": [
       "\\begin{enumerate*}\n",
       "\\item 'Avg\\_Total\\_Out\\_Calls'\n",
       "\\item 'Avg\\_Voice\\_Out\\_Calls'\n",
       "\\item 'Avg\\_Voice\\_Out\\_Minutes'\n",
       "\\item 'Avg\\_SMS\\_Out\\_Calls'\n",
       "\\item 'Avg\\_Internet\\_Out\\_Volume'\n",
       "\\item 'Avg\\_Data\\_Out\\_Calls'\n",
       "\\item 'Avg\\_OnNet\\_Out\\_Calls'\n",
       "\\item 'Avg\\_OffNet\\_Out\\_Calls'\n",
       "\\item 'Avg\\_Fixed\\_Out\\_Calls'\n",
       "\\item 'Avg\\_International\\_Out\\_Calls'\n",
       "\\item 'Avg\\_Roaming\\_Out\\_Calls'\n",
       "\\item 'Avg\\_Voice\\_Inc\\_Calls'\n",
       "\\item 'Avg\\_Voice\\_Inc\\_Minutes'\n",
       "\\item 'Avg\\_Total\\_Out\\_Community'\n",
       "\\item 'Avg\\_Voice\\_Out\\_Community'\n",
       "\\item 'Avg\\_Voice\\_Inc\\_Community'\n",
       "\\item 'Avg\\_SMS\\_Out\\_Community'\n",
       "\\item 'ARPU'\n",
       "\\end{enumerate*}\n"
      ],
      "text/markdown": [
       "1. 'Avg_Total_Out_Calls'\n",
       "2. 'Avg_Voice_Out_Calls'\n",
       "3. 'Avg_Voice_Out_Minutes'\n",
       "4. 'Avg_SMS_Out_Calls'\n",
       "5. 'Avg_Internet_Out_Volume'\n",
       "6. 'Avg_Data_Out_Calls'\n",
       "7. 'Avg_OnNet_Out_Calls'\n",
       "8. 'Avg_OffNet_Out_Calls'\n",
       "9. 'Avg_Fixed_Out_Calls'\n",
       "10. 'Avg_International_Out_Calls'\n",
       "11. 'Avg_Roaming_Out_Calls'\n",
       "12. 'Avg_Voice_Inc_Calls'\n",
       "13. 'Avg_Voice_Inc_Minutes'\n",
       "14. 'Avg_Total_Out_Community'\n",
       "15. 'Avg_Voice_Out_Community'\n",
       "16. 'Avg_Voice_Inc_Community'\n",
       "17. 'Avg_SMS_Out_Community'\n",
       "18. 'ARPU'\n",
       "\n",
       "\n"
      ],
      "text/plain": [
       " [1] \"Avg_Total_Out_Calls\"         \"Avg_Voice_Out_Calls\"        \n",
       " [3] \"Avg_Voice_Out_Minutes\"       \"Avg_SMS_Out_Calls\"          \n",
       " [5] \"Avg_Internet_Out_Volume\"     \"Avg_Data_Out_Calls\"         \n",
       " [7] \"Avg_OnNet_Out_Calls\"         \"Avg_OffNet_Out_Calls\"       \n",
       " [9] \"Avg_Fixed_Out_Calls\"         \"Avg_International_Out_Calls\"\n",
       "[11] \"Avg_Roaming_Out_Calls\"       \"Avg_Voice_Inc_Calls\"        \n",
       "[13] \"Avg_Voice_Inc_Minutes\"       \"Avg_Total_Out_Community\"    \n",
       "[15] \"Avg_Voice_Out_Community\"     \"Avg_Voice_Inc_Community\"    \n",
       "[17] \"Avg_SMS_Out_Community\"       \"ARPU\"                       "
      ]
     },
     "metadata": {},
     "output_type": "display_data"
    }
   ],
   "source": [
    "names(data_sub)"
   ]
  },
  {
   "cell_type": "code",
   "execution_count": 206,
   "metadata": {
    "collapsed": true
   },
   "outputs": [],
   "source": [
    "pca<-prcomp(data_sub,scale=TRUE,center = TRUE)"
   ]
  },
  {
   "cell_type": "code",
   "execution_count": 215,
   "metadata": {
    "scrolled": true
   },
   "outputs": [
    {
     "data": {
      "text/html": [
       "<table>\n",
       "<thead><tr><th></th><th scope=col>PC1</th><th scope=col>PC2</th><th scope=col>PC3</th><th scope=col>PC4</th><th scope=col>PC5</th><th scope=col>PC6</th><th scope=col>PC7</th><th scope=col>PC8</th><th scope=col>PC9</th><th scope=col>PC10</th><th scope=col>PC11</th><th scope=col>PC12</th><th scope=col>PC13</th><th scope=col>PC14</th><th scope=col>PC15</th><th scope=col>PC16</th><th scope=col>PC17</th><th scope=col>PC18</th></tr></thead>\n",
       "<tbody>\n",
       "\t<tr><th scope=row>Avg_Total_Out_Calls</th><td>-0.30883669  </td><td>-0.22187384  </td><td> 0.0767160103</td><td>-0.09109840  </td><td> 0.21285399  </td><td>-0.004045638 </td><td> 0.007610172 </td><td>-0.0597835912</td><td> 0.00484873  </td><td>-0.0839174809</td><td> 0.3051094162</td><td>-0.01312314  </td><td> 0.0007456207</td><td>-0.02704208  </td><td> 0.085342608 </td><td>-0.5400431947</td><td>-0.0238706086</td><td>-0.6258523584</td></tr>\n",
       "\t<tr><th scope=row>Avg_Voice_Out_Calls</th><td>-0.32419358  </td><td> 0.08662003  </td><td> 0.0566797368</td><td> 0.04440474  </td><td> 0.23409679  </td><td>-0.041078221 </td><td> 0.113767788 </td><td>-0.0302390208</td><td>-0.11601490  </td><td> 0.1148948716</td><td> 0.1108534346</td><td>-0.19945947  </td><td> 0.0741211962</td><td>-0.07954065  </td><td> 0.144267803 </td><td>-0.4750890630</td><td>-0.0018133130</td><td> 0.6890466322</td></tr>\n",
       "\t<tr><th scope=row>Avg_Voice_Out_Minutes</th><td>-0.29348007  </td><td> 0.01115886  </td><td> 0.0006151413</td><td> 0.09510747  </td><td> 0.19965389  </td><td>-0.234879131 </td><td> 0.278675500 </td><td>-0.0377626122</td><td> 0.18770442  </td><td>-0.1004092123</td><td>-0.2823182822</td><td> 0.15609664  </td><td> 0.1211776317</td><td> 0.69206737  </td><td>-0.295725349 </td><td> 0.0094947625</td><td> 0.0035730951</td><td>-0.0008873394</td></tr>\n",
       "\t<tr><th scope=row>Avg_SMS_Out_Calls</th><td>-0.11899835  </td><td>-0.57478348  </td><td> 0.0131928163</td><td>-0.23548709  </td><td> 0.08263830  </td><td> 0.107453207 </td><td>-0.107004642 </td><td>-0.0661440617</td><td> 0.14537724  </td><td>-0.2998080298</td><td> 0.4328702724</td><td> 0.23790004  </td><td>-0.1300002386</td><td> 0.08176424  </td><td>-0.048590820 </td><td> 0.2813277161</td><td> 0.0096830552</td><td> 0.3247410503</td></tr>\n",
       "\t<tr><th scope=row>Avg_Internet_Out_Volume</th><td>-0.02387881  </td><td>-0.19007161  </td><td> 0.2288329973</td><td> 0.66879168  </td><td>-0.24870159  </td><td> 0.099337263 </td><td>-0.036511716 </td><td>-0.6161982953</td><td>-0.08358706  </td><td>-0.0104146040</td><td> 0.0387307865</td><td>-0.02648877  </td><td>-0.0217935300</td><td> 0.03355630  </td><td>-0.001300268 </td><td> 0.0007949399</td><td>-0.0008614006</td><td> 0.0009388464</td></tr>\n",
       "\t<tr><th scope=row>Avg_Data_Out_Calls</th><td>-0.06275552  </td><td>-0.32714033  </td><td> 0.2882095121</td><td> 0.45514124  </td><td>-0.12492033  </td><td>-0.004423558 </td><td> 0.021438638 </td><td> 0.7548304466</td><td> 0.00165238  </td><td> 0.1033492215</td><td> 0.0220834812</td><td>-0.03794426  </td><td>-0.0008368390</td><td> 0.01785413  </td><td> 0.006190951 </td><td>-0.0001251418</td><td> 0.0004409466</td><td>-0.0003986281</td></tr>\n",
       "\t<tr><th scope=row>Avg_OnNet_Out_Calls</th><td>-0.25219615  </td><td> 0.02138182  </td><td> 0.1592904991</td><td>-0.02525313  </td><td> 0.16919724  </td><td>-0.281123802 </td><td> 0.184219890 </td><td>-0.0002935758</td><td>-0.71631641  </td><td>-0.2242830387</td><td>-0.0231933470</td><td> 0.02075955  </td><td> 0.0660653640</td><td>-0.12810575  </td><td> 0.149330795 </td><td> 0.3889129168</td><td> 0.0205886460</td><td>-0.0959159278</td></tr>\n",
       "\t<tr><th scope=row>Avg_OffNet_Out_Calls</th><td>-0.26915844  </td><td> 0.05421766  </td><td> 0.1493409347</td><td>-0.04062634  </td><td> 0.15192869  </td><td>-0.127091978 </td><td> 0.102255570 </td><td>-0.1158131441</td><td> 0.31693756  </td><td> 0.6477886831</td><td> 0.2473012499</td><td>-0.17655682  </td><td> 0.0073703372</td><td>-0.03638624  </td><td> 0.155379819 </td><td> 0.4326429476</td><td> 0.0238439051</td><td>-0.1089859944</td></tr>\n",
       "\t<tr><th scope=row>Avg_Fixed_Out_Calls</th><td>-0.21315323  </td><td> 0.28082095  </td><td> 0.0528418183</td><td> 0.17476683  </td><td> 0.27487418  </td><td> 0.383709445 </td><td>-0.170305345 </td><td> 0.0762337899</td><td> 0.26426572  </td><td>-0.4892696685</td><td>-0.0151067873</td><td>-0.44662383  </td><td> 0.1133229026</td><td>-0.04592567  </td><td> 0.048243986 </td><td> 0.2353437700</td><td>-0.0014618682</td><td>-0.0563519781</td></tr>\n",
       "\t<tr><th scope=row>Avg_International_Out_Calls</th><td>-0.07320617  </td><td>-0.02978560  </td><td>-0.5813267479</td><td> 0.29776065  </td><td> 0.12835206  </td><td>-0.469678223 </td><td>-0.544941779 </td><td> 0.0450970856</td><td>-0.04373278  </td><td> 0.0217563314</td><td> 0.1268112961</td><td>-0.09070895  </td><td>-0.0283436014</td><td> 0.04664802  </td><td> 0.001186495 </td><td> 0.0370610569</td><td> 0.0017853558</td><td>-0.0056284236</td></tr>\n",
       "\t<tr><th scope=row>Avg_Roaming_Out_Calls</th><td>-0.06521299  </td><td>-0.20925429  </td><td>-0.6131491353</td><td> 0.11686888  </td><td> 0.08115717  </td><td> 0.516912066 </td><td> 0.380114500 </td><td> 0.0371837670</td><td>-0.25275182  </td><td> 0.2065359474</td><td>-0.0009752073</td><td>-0.12460132  </td><td>-0.0548609739</td><td> 0.08898123  </td><td>-0.016163326 </td><td> 0.0763519727</td><td> 0.0018243692</td><td>-0.0600571705</td></tr>\n",
       "\t<tr><th scope=row>Avg_Voice_Inc_Calls</th><td>-0.29381219  </td><td> 0.11213900  </td><td>-0.0278985780</td><td>-0.11001298  </td><td>-0.40190526  </td><td>-0.051076937 </td><td> 0.036133323 </td><td> 0.0250776716</td><td>-0.08793259  </td><td> 0.0008760201</td><td> 0.2387738165</td><td>-0.23689534  </td><td> 0.0698880928</td><td>-0.18386911  </td><td>-0.750003345 </td><td> 0.0088526780</td><td> 0.0016030054</td><td>-0.0018609594</td></tr>\n",
       "\t<tr><th scope=row>Avg_Voice_Inc_Minutes</th><td>-0.26434277  </td><td> 0.02400905  </td><td>-0.1059918398</td><td>-0.10638071  </td><td>-0.47345502  </td><td>-0.175410876 </td><td> 0.173172883 </td><td> 0.0187484558</td><td> 0.12243894  </td><td>-0.1951914688</td><td>-0.1027061577</td><td>-0.26005080  </td><td>-0.5936805152</td><td> 0.12001591  </td><td> 0.351289467 </td><td>-0.0130294863</td><td> 0.0050777589</td><td> 0.0004127264</td></tr>\n",
       "\t<tr><th scope=row>Avg_Total_Out_Community</th><td>-0.30908568  </td><td> 0.09582773  </td><td> 0.0639189201</td><td>-0.01142303  </td><td> 0.05109438  </td><td> 0.236333160 </td><td>-0.301074088 </td><td> 0.0190555929</td><td>-0.08496466  </td><td> 0.1400100667</td><td>-0.2121280980</td><td> 0.28200057  </td><td>-0.2667025162</td><td>-0.04204278  </td><td>-0.082367897 </td><td>-0.0216872190</td><td> 0.7141590786</td><td>-0.0086001692</td></tr>\n",
       "\t<tr><th scope=row>Avg_Voice_Out_Community</th><td>-0.30306959  </td><td> 0.18971784  </td><td> 0.0557002979</td><td> 0.04025360  </td><td> 0.06910659  </td><td> 0.222064632 </td><td>-0.241589836 </td><td> 0.0363289644</td><td>-0.08256353  </td><td> 0.1322655358</td><td>-0.1178321321</td><td> 0.35645849  </td><td>-0.3262901218</td><td>-0.04504302  </td><td>-0.084262168 </td><td> 0.0272859179</td><td>-0.6870172096</td><td> 0.0083577912</td></tr>\n",
       "\t<tr><th scope=row>Avg_Voice_Inc_Community</th><td>-0.25620487  </td><td> 0.18045475  </td><td>-0.0963341645</td><td>-0.08108368  </td><td>-0.47394362  </td><td> 0.176662432 </td><td>-0.166845301 </td><td> 0.0654846697</td><td>-0.06479668  </td><td> 0.0125005968</td><td> 0.1908465541</td><td> 0.22790219  </td><td> 0.5494780693</td><td> 0.27052783  </td><td> 0.360362436 </td><td> 0.0163454947</td><td>-0.0046642292</td><td> 0.0020945095</td></tr>\n",
       "\t<tr><th scope=row>Avg_SMS_Out_Community</th><td>-0.14427453  </td><td>-0.48367554  </td><td> 0.0820248548</td><td>-0.29523002  </td><td>-0.06637641  </td><td> 0.044822659 </td><td>-0.329657183 </td><td>-0.0990190615</td><td>-0.07658003  </td><td> 0.1482592044</td><td>-0.5463070136</td><td>-0.36785808  </td><td> 0.2197865965</td><td> 0.01573820  </td><td> 0.005567146 </td><td> 0.0022036067</td><td>-0.1274690704</td><td> 0.0024898434</td></tr>\n",
       "\t<tr><th scope=row>ARPU</th><td>-0.27125552  </td><td>-0.13362396  </td><td>-0.2360681744</td><td> 0.12936989  </td><td>-0.05757363  </td><td>-0.140428484 </td><td> 0.253837820 </td><td>-0.0290528643</td><td> 0.35657638  </td><td>-0.1386283054</td><td>-0.2936453963</td><td> 0.32329274  </td><td> 0.2370716368</td><td>-0.59200974  </td><td> 0.057707766 </td><td> 0.0254874491</td><td>-0.0020139337</td><td> 0.0038795332</td></tr>\n",
       "</tbody>\n",
       "</table>\n"
      ],
      "text/latex": [
       "\\begin{tabular}{r|llllllllllllllllll}\n",
       "  & PC1 & PC2 & PC3 & PC4 & PC5 & PC6 & PC7 & PC8 & PC9 & PC10 & PC11 & PC12 & PC13 & PC14 & PC15 & PC16 & PC17 & PC18\\\\\n",
       "\\hline\n",
       "\tAvg\\_Total\\_Out\\_Calls & -0.30883669   & -0.22187384   &  0.0767160103 & -0.09109840   &  0.21285399   & -0.004045638  &  0.007610172  & -0.0597835912 &  0.00484873   & -0.0839174809 &  0.3051094162 & -0.01312314   &  0.0007456207 & -0.02704208   &  0.085342608  & -0.5400431947 & -0.0238706086 & -0.6258523584\\\\\n",
       "\tAvg\\_Voice\\_Out\\_Calls & -0.32419358   &  0.08662003   &  0.0566797368 &  0.04440474   &  0.23409679   & -0.041078221  &  0.113767788  & -0.0302390208 & -0.11601490   &  0.1148948716 &  0.1108534346 & -0.19945947   &  0.0741211962 & -0.07954065   &  0.144267803  & -0.4750890630 & -0.0018133130 &  0.6890466322\\\\\n",
       "\tAvg\\_Voice\\_Out\\_Minutes & -0.29348007   &  0.01115886   &  0.0006151413 &  0.09510747   &  0.19965389   & -0.234879131  &  0.278675500  & -0.0377626122 &  0.18770442   & -0.1004092123 & -0.2823182822 &  0.15609664   &  0.1211776317 &  0.69206737   & -0.295725349  &  0.0094947625 &  0.0035730951 & -0.0008873394\\\\\n",
       "\tAvg\\_SMS\\_Out\\_Calls & -0.11899835   & -0.57478348   &  0.0131928163 & -0.23548709   &  0.08263830   &  0.107453207  & -0.107004642  & -0.0661440617 &  0.14537724   & -0.2998080298 &  0.4328702724 &  0.23790004   & -0.1300002386 &  0.08176424   & -0.048590820  &  0.2813277161 &  0.0096830552 &  0.3247410503\\\\\n",
       "\tAvg\\_Internet\\_Out\\_Volume & -0.02387881   & -0.19007161   &  0.2288329973 &  0.66879168   & -0.24870159   &  0.099337263  & -0.036511716  & -0.6161982953 & -0.08358706   & -0.0104146040 &  0.0387307865 & -0.02648877   & -0.0217935300 &  0.03355630   & -0.001300268  &  0.0007949399 & -0.0008614006 &  0.0009388464\\\\\n",
       "\tAvg\\_Data\\_Out\\_Calls & -0.06275552   & -0.32714033   &  0.2882095121 &  0.45514124   & -0.12492033   & -0.004423558  &  0.021438638  &  0.7548304466 &  0.00165238   &  0.1033492215 &  0.0220834812 & -0.03794426   & -0.0008368390 &  0.01785413   &  0.006190951  & -0.0001251418 &  0.0004409466 & -0.0003986281\\\\\n",
       "\tAvg\\_OnNet\\_Out\\_Calls & -0.25219615   &  0.02138182   &  0.1592904991 & -0.02525313   &  0.16919724   & -0.281123802  &  0.184219890  & -0.0002935758 & -0.71631641   & -0.2242830387 & -0.0231933470 &  0.02075955   &  0.0660653640 & -0.12810575   &  0.149330795  &  0.3889129168 &  0.0205886460 & -0.0959159278\\\\\n",
       "\tAvg\\_OffNet\\_Out\\_Calls & -0.26915844   &  0.05421766   &  0.1493409347 & -0.04062634   &  0.15192869   & -0.127091978  &  0.102255570  & -0.1158131441 &  0.31693756   &  0.6477886831 &  0.2473012499 & -0.17655682   &  0.0073703372 & -0.03638624   &  0.155379819  &  0.4326429476 &  0.0238439051 & -0.1089859944\\\\\n",
       "\tAvg\\_Fixed\\_Out\\_Calls & -0.21315323   &  0.28082095   &  0.0528418183 &  0.17476683   &  0.27487418   &  0.383709445  & -0.170305345  &  0.0762337899 &  0.26426572   & -0.4892696685 & -0.0151067873 & -0.44662383   &  0.1133229026 & -0.04592567   &  0.048243986  &  0.2353437700 & -0.0014618682 & -0.0563519781\\\\\n",
       "\tAvg\\_International\\_Out\\_Calls & -0.07320617   & -0.02978560   & -0.5813267479 &  0.29776065   &  0.12835206   & -0.469678223  & -0.544941779  &  0.0450970856 & -0.04373278   &  0.0217563314 &  0.1268112961 & -0.09070895   & -0.0283436014 &  0.04664802   &  0.001186495  &  0.0370610569 &  0.0017853558 & -0.0056284236\\\\\n",
       "\tAvg\\_Roaming\\_Out\\_Calls & -0.06521299   & -0.20925429   & -0.6131491353 &  0.11686888   &  0.08115717   &  0.516912066  &  0.380114500  &  0.0371837670 & -0.25275182   &  0.2065359474 & -0.0009752073 & -0.12460132   & -0.0548609739 &  0.08898123   & -0.016163326  &  0.0763519727 &  0.0018243692 & -0.0600571705\\\\\n",
       "\tAvg\\_Voice\\_Inc\\_Calls & -0.29381219   &  0.11213900   & -0.0278985780 & -0.11001298   & -0.40190526   & -0.051076937  &  0.036133323  &  0.0250776716 & -0.08793259   &  0.0008760201 &  0.2387738165 & -0.23689534   &  0.0698880928 & -0.18386911   & -0.750003345  &  0.0088526780 &  0.0016030054 & -0.0018609594\\\\\n",
       "\tAvg\\_Voice\\_Inc\\_Minutes & -0.26434277   &  0.02400905   & -0.1059918398 & -0.10638071   & -0.47345502   & -0.175410876  &  0.173172883  &  0.0187484558 &  0.12243894   & -0.1951914688 & -0.1027061577 & -0.26005080   & -0.5936805152 &  0.12001591   &  0.351289467  & -0.0130294863 &  0.0050777589 &  0.0004127264\\\\\n",
       "\tAvg\\_Total\\_Out\\_Community & -0.30908568   &  0.09582773   &  0.0639189201 & -0.01142303   &  0.05109438   &  0.236333160  & -0.301074088  &  0.0190555929 & -0.08496466   &  0.1400100667 & -0.2121280980 &  0.28200057   & -0.2667025162 & -0.04204278   & -0.082367897  & -0.0216872190 &  0.7141590786 & -0.0086001692\\\\\n",
       "\tAvg\\_Voice\\_Out\\_Community & -0.30306959   &  0.18971784   &  0.0557002979 &  0.04025360   &  0.06910659   &  0.222064632  & -0.241589836  &  0.0363289644 & -0.08256353   &  0.1322655358 & -0.1178321321 &  0.35645849   & -0.3262901218 & -0.04504302   & -0.084262168  &  0.0272859179 & -0.6870172096 &  0.0083577912\\\\\n",
       "\tAvg\\_Voice\\_Inc\\_Community & -0.25620487   &  0.18045475   & -0.0963341645 & -0.08108368   & -0.47394362   &  0.176662432  & -0.166845301  &  0.0654846697 & -0.06479668   &  0.0125005968 &  0.1908465541 &  0.22790219   &  0.5494780693 &  0.27052783   &  0.360362436  &  0.0163454947 & -0.0046642292 &  0.0020945095\\\\\n",
       "\tAvg\\_SMS\\_Out\\_Community & -0.14427453   & -0.48367554   &  0.0820248548 & -0.29523002   & -0.06637641   &  0.044822659  & -0.329657183  & -0.0990190615 & -0.07658003   &  0.1482592044 & -0.5463070136 & -0.36785808   &  0.2197865965 &  0.01573820   &  0.005567146  &  0.0022036067 & -0.1274690704 &  0.0024898434\\\\\n",
       "\tARPU & -0.27125552   & -0.13362396   & -0.2360681744 &  0.12936989   & -0.05757363   & -0.140428484  &  0.253837820  & -0.0290528643 &  0.35657638   & -0.1386283054 & -0.2936453963 &  0.32329274   &  0.2370716368 & -0.59200974   &  0.057707766  &  0.0254874491 & -0.0020139337 &  0.0038795332\\\\\n",
       "\\end{tabular}\n"
      ],
      "text/markdown": [
       "\n",
       "| <!--/--> | PC1 | PC2 | PC3 | PC4 | PC5 | PC6 | PC7 | PC8 | PC9 | PC10 | PC11 | PC12 | PC13 | PC14 | PC15 | PC16 | PC17 | PC18 | \n",
       "|---|---|---|---|---|---|---|---|---|---|---|---|---|---|---|---|---|---|\n",
       "| Avg_Total_Out_Calls | -0.30883669   | -0.22187384   |  0.0767160103 | -0.09109840   |  0.21285399   | -0.004045638  |  0.007610172  | -0.0597835912 |  0.00484873   | -0.0839174809 |  0.3051094162 | -0.01312314   |  0.0007456207 | -0.02704208   |  0.085342608  | -0.5400431947 | -0.0238706086 | -0.6258523584 | \n",
       "| Avg_Voice_Out_Calls | -0.32419358   |  0.08662003   |  0.0566797368 |  0.04440474   |  0.23409679   | -0.041078221  |  0.113767788  | -0.0302390208 | -0.11601490   |  0.1148948716 |  0.1108534346 | -0.19945947   |  0.0741211962 | -0.07954065   |  0.144267803  | -0.4750890630 | -0.0018133130 |  0.6890466322 | \n",
       "| Avg_Voice_Out_Minutes | -0.29348007   |  0.01115886   |  0.0006151413 |  0.09510747   |  0.19965389   | -0.234879131  |  0.278675500  | -0.0377626122 |  0.18770442   | -0.1004092123 | -0.2823182822 |  0.15609664   |  0.1211776317 |  0.69206737   | -0.295725349  |  0.0094947625 |  0.0035730951 | -0.0008873394 | \n",
       "| Avg_SMS_Out_Calls | -0.11899835   | -0.57478348   |  0.0131928163 | -0.23548709   |  0.08263830   |  0.107453207  | -0.107004642  | -0.0661440617 |  0.14537724   | -0.2998080298 |  0.4328702724 |  0.23790004   | -0.1300002386 |  0.08176424   | -0.048590820  |  0.2813277161 |  0.0096830552 |  0.3247410503 | \n",
       "| Avg_Internet_Out_Volume | -0.02387881   | -0.19007161   |  0.2288329973 |  0.66879168   | -0.24870159   |  0.099337263  | -0.036511716  | -0.6161982953 | -0.08358706   | -0.0104146040 |  0.0387307865 | -0.02648877   | -0.0217935300 |  0.03355630   | -0.001300268  |  0.0007949399 | -0.0008614006 |  0.0009388464 | \n",
       "| Avg_Data_Out_Calls | -0.06275552   | -0.32714033   |  0.2882095121 |  0.45514124   | -0.12492033   | -0.004423558  |  0.021438638  |  0.7548304466 |  0.00165238   |  0.1033492215 |  0.0220834812 | -0.03794426   | -0.0008368390 |  0.01785413   |  0.006190951  | -0.0001251418 |  0.0004409466 | -0.0003986281 | \n",
       "| Avg_OnNet_Out_Calls | -0.25219615   |  0.02138182   |  0.1592904991 | -0.02525313   |  0.16919724   | -0.281123802  |  0.184219890  | -0.0002935758 | -0.71631641   | -0.2242830387 | -0.0231933470 |  0.02075955   |  0.0660653640 | -0.12810575   |  0.149330795  |  0.3889129168 |  0.0205886460 | -0.0959159278 | \n",
       "| Avg_OffNet_Out_Calls | -0.26915844   |  0.05421766   |  0.1493409347 | -0.04062634   |  0.15192869   | -0.127091978  |  0.102255570  | -0.1158131441 |  0.31693756   |  0.6477886831 |  0.2473012499 | -0.17655682   |  0.0073703372 | -0.03638624   |  0.155379819  |  0.4326429476 |  0.0238439051 | -0.1089859944 | \n",
       "| Avg_Fixed_Out_Calls | -0.21315323   |  0.28082095   |  0.0528418183 |  0.17476683   |  0.27487418   |  0.383709445  | -0.170305345  |  0.0762337899 |  0.26426572   | -0.4892696685 | -0.0151067873 | -0.44662383   |  0.1133229026 | -0.04592567   |  0.048243986  |  0.2353437700 | -0.0014618682 | -0.0563519781 | \n",
       "| Avg_International_Out_Calls | -0.07320617   | -0.02978560   | -0.5813267479 |  0.29776065   |  0.12835206   | -0.469678223  | -0.544941779  |  0.0450970856 | -0.04373278   |  0.0217563314 |  0.1268112961 | -0.09070895   | -0.0283436014 |  0.04664802   |  0.001186495  |  0.0370610569 |  0.0017853558 | -0.0056284236 | \n",
       "| Avg_Roaming_Out_Calls | -0.06521299   | -0.20925429   | -0.6131491353 |  0.11686888   |  0.08115717   |  0.516912066  |  0.380114500  |  0.0371837670 | -0.25275182   |  0.2065359474 | -0.0009752073 | -0.12460132   | -0.0548609739 |  0.08898123   | -0.016163326  |  0.0763519727 |  0.0018243692 | -0.0600571705 | \n",
       "| Avg_Voice_Inc_Calls | -0.29381219   |  0.11213900   | -0.0278985780 | -0.11001298   | -0.40190526   | -0.051076937  |  0.036133323  |  0.0250776716 | -0.08793259   |  0.0008760201 |  0.2387738165 | -0.23689534   |  0.0698880928 | -0.18386911   | -0.750003345  |  0.0088526780 |  0.0016030054 | -0.0018609594 | \n",
       "| Avg_Voice_Inc_Minutes | -0.26434277   |  0.02400905   | -0.1059918398 | -0.10638071   | -0.47345502   | -0.175410876  |  0.173172883  |  0.0187484558 |  0.12243894   | -0.1951914688 | -0.1027061577 | -0.26005080   | -0.5936805152 |  0.12001591   |  0.351289467  | -0.0130294863 |  0.0050777589 |  0.0004127264 | \n",
       "| Avg_Total_Out_Community | -0.30908568   |  0.09582773   |  0.0639189201 | -0.01142303   |  0.05109438   |  0.236333160  | -0.301074088  |  0.0190555929 | -0.08496466   |  0.1400100667 | -0.2121280980 |  0.28200057   | -0.2667025162 | -0.04204278   | -0.082367897  | -0.0216872190 |  0.7141590786 | -0.0086001692 | \n",
       "| Avg_Voice_Out_Community | -0.30306959   |  0.18971784   |  0.0557002979 |  0.04025360   |  0.06910659   |  0.222064632  | -0.241589836  |  0.0363289644 | -0.08256353   |  0.1322655358 | -0.1178321321 |  0.35645849   | -0.3262901218 | -0.04504302   | -0.084262168  |  0.0272859179 | -0.6870172096 |  0.0083577912 | \n",
       "| Avg_Voice_Inc_Community | -0.25620487   |  0.18045475   | -0.0963341645 | -0.08108368   | -0.47394362   |  0.176662432  | -0.166845301  |  0.0654846697 | -0.06479668   |  0.0125005968 |  0.1908465541 |  0.22790219   |  0.5494780693 |  0.27052783   |  0.360362436  |  0.0163454947 | -0.0046642292 |  0.0020945095 | \n",
       "| Avg_SMS_Out_Community | -0.14427453   | -0.48367554   |  0.0820248548 | -0.29523002   | -0.06637641   |  0.044822659  | -0.329657183  | -0.0990190615 | -0.07658003   |  0.1482592044 | -0.5463070136 | -0.36785808   |  0.2197865965 |  0.01573820   |  0.005567146  |  0.0022036067 | -0.1274690704 |  0.0024898434 | \n",
       "| ARPU | -0.27125552   | -0.13362396   | -0.2360681744 |  0.12936989   | -0.05757363   | -0.140428484  |  0.253837820  | -0.0290528643 |  0.35657638   | -0.1386283054 | -0.2936453963 |  0.32329274   |  0.2370716368 | -0.59200974   |  0.057707766  |  0.0254874491 | -0.0020139337 |  0.0038795332 | \n",
       "\n",
       "\n"
      ],
      "text/plain": [
       "                            PC1         PC2         PC3           PC4        \n",
       "Avg_Total_Out_Calls         -0.30883669 -0.22187384  0.0767160103 -0.09109840\n",
       "Avg_Voice_Out_Calls         -0.32419358  0.08662003  0.0566797368  0.04440474\n",
       "Avg_Voice_Out_Minutes       -0.29348007  0.01115886  0.0006151413  0.09510747\n",
       "Avg_SMS_Out_Calls           -0.11899835 -0.57478348  0.0131928163 -0.23548709\n",
       "Avg_Internet_Out_Volume     -0.02387881 -0.19007161  0.2288329973  0.66879168\n",
       "Avg_Data_Out_Calls          -0.06275552 -0.32714033  0.2882095121  0.45514124\n",
       "Avg_OnNet_Out_Calls         -0.25219615  0.02138182  0.1592904991 -0.02525313\n",
       "Avg_OffNet_Out_Calls        -0.26915844  0.05421766  0.1493409347 -0.04062634\n",
       "Avg_Fixed_Out_Calls         -0.21315323  0.28082095  0.0528418183  0.17476683\n",
       "Avg_International_Out_Calls -0.07320617 -0.02978560 -0.5813267479  0.29776065\n",
       "Avg_Roaming_Out_Calls       -0.06521299 -0.20925429 -0.6131491353  0.11686888\n",
       "Avg_Voice_Inc_Calls         -0.29381219  0.11213900 -0.0278985780 -0.11001298\n",
       "Avg_Voice_Inc_Minutes       -0.26434277  0.02400905 -0.1059918398 -0.10638071\n",
       "Avg_Total_Out_Community     -0.30908568  0.09582773  0.0639189201 -0.01142303\n",
       "Avg_Voice_Out_Community     -0.30306959  0.18971784  0.0557002979  0.04025360\n",
       "Avg_Voice_Inc_Community     -0.25620487  0.18045475 -0.0963341645 -0.08108368\n",
       "Avg_SMS_Out_Community       -0.14427453 -0.48367554  0.0820248548 -0.29523002\n",
       "ARPU                        -0.27125552 -0.13362396 -0.2360681744  0.12936989\n",
       "                            PC5         PC6          PC7          PC8          \n",
       "Avg_Total_Out_Calls          0.21285399 -0.004045638  0.007610172 -0.0597835912\n",
       "Avg_Voice_Out_Calls          0.23409679 -0.041078221  0.113767788 -0.0302390208\n",
       "Avg_Voice_Out_Minutes        0.19965389 -0.234879131  0.278675500 -0.0377626122\n",
       "Avg_SMS_Out_Calls            0.08263830  0.107453207 -0.107004642 -0.0661440617\n",
       "Avg_Internet_Out_Volume     -0.24870159  0.099337263 -0.036511716 -0.6161982953\n",
       "Avg_Data_Out_Calls          -0.12492033 -0.004423558  0.021438638  0.7548304466\n",
       "Avg_OnNet_Out_Calls          0.16919724 -0.281123802  0.184219890 -0.0002935758\n",
       "Avg_OffNet_Out_Calls         0.15192869 -0.127091978  0.102255570 -0.1158131441\n",
       "Avg_Fixed_Out_Calls          0.27487418  0.383709445 -0.170305345  0.0762337899\n",
       "Avg_International_Out_Calls  0.12835206 -0.469678223 -0.544941779  0.0450970856\n",
       "Avg_Roaming_Out_Calls        0.08115717  0.516912066  0.380114500  0.0371837670\n",
       "Avg_Voice_Inc_Calls         -0.40190526 -0.051076937  0.036133323  0.0250776716\n",
       "Avg_Voice_Inc_Minutes       -0.47345502 -0.175410876  0.173172883  0.0187484558\n",
       "Avg_Total_Out_Community      0.05109438  0.236333160 -0.301074088  0.0190555929\n",
       "Avg_Voice_Out_Community      0.06910659  0.222064632 -0.241589836  0.0363289644\n",
       "Avg_Voice_Inc_Community     -0.47394362  0.176662432 -0.166845301  0.0654846697\n",
       "Avg_SMS_Out_Community       -0.06637641  0.044822659 -0.329657183 -0.0990190615\n",
       "ARPU                        -0.05757363 -0.140428484  0.253837820 -0.0290528643\n",
       "                            PC9         PC10          PC11          PC12       \n",
       "Avg_Total_Out_Calls          0.00484873 -0.0839174809  0.3051094162 -0.01312314\n",
       "Avg_Voice_Out_Calls         -0.11601490  0.1148948716  0.1108534346 -0.19945947\n",
       "Avg_Voice_Out_Minutes        0.18770442 -0.1004092123 -0.2823182822  0.15609664\n",
       "Avg_SMS_Out_Calls            0.14537724 -0.2998080298  0.4328702724  0.23790004\n",
       "Avg_Internet_Out_Volume     -0.08358706 -0.0104146040  0.0387307865 -0.02648877\n",
       "Avg_Data_Out_Calls           0.00165238  0.1033492215  0.0220834812 -0.03794426\n",
       "Avg_OnNet_Out_Calls         -0.71631641 -0.2242830387 -0.0231933470  0.02075955\n",
       "Avg_OffNet_Out_Calls         0.31693756  0.6477886831  0.2473012499 -0.17655682\n",
       "Avg_Fixed_Out_Calls          0.26426572 -0.4892696685 -0.0151067873 -0.44662383\n",
       "Avg_International_Out_Calls -0.04373278  0.0217563314  0.1268112961 -0.09070895\n",
       "Avg_Roaming_Out_Calls       -0.25275182  0.2065359474 -0.0009752073 -0.12460132\n",
       "Avg_Voice_Inc_Calls         -0.08793259  0.0008760201  0.2387738165 -0.23689534\n",
       "Avg_Voice_Inc_Minutes        0.12243894 -0.1951914688 -0.1027061577 -0.26005080\n",
       "Avg_Total_Out_Community     -0.08496466  0.1400100667 -0.2121280980  0.28200057\n",
       "Avg_Voice_Out_Community     -0.08256353  0.1322655358 -0.1178321321  0.35645849\n",
       "Avg_Voice_Inc_Community     -0.06479668  0.0125005968  0.1908465541  0.22790219\n",
       "Avg_SMS_Out_Community       -0.07658003  0.1482592044 -0.5463070136 -0.36785808\n",
       "ARPU                         0.35657638 -0.1386283054 -0.2936453963  0.32329274\n",
       "                            PC13          PC14        PC15        \n",
       "Avg_Total_Out_Calls          0.0007456207 -0.02704208  0.085342608\n",
       "Avg_Voice_Out_Calls          0.0741211962 -0.07954065  0.144267803\n",
       "Avg_Voice_Out_Minutes        0.1211776317  0.69206737 -0.295725349\n",
       "Avg_SMS_Out_Calls           -0.1300002386  0.08176424 -0.048590820\n",
       "Avg_Internet_Out_Volume     -0.0217935300  0.03355630 -0.001300268\n",
       "Avg_Data_Out_Calls          -0.0008368390  0.01785413  0.006190951\n",
       "Avg_OnNet_Out_Calls          0.0660653640 -0.12810575  0.149330795\n",
       "Avg_OffNet_Out_Calls         0.0073703372 -0.03638624  0.155379819\n",
       "Avg_Fixed_Out_Calls          0.1133229026 -0.04592567  0.048243986\n",
       "Avg_International_Out_Calls -0.0283436014  0.04664802  0.001186495\n",
       "Avg_Roaming_Out_Calls       -0.0548609739  0.08898123 -0.016163326\n",
       "Avg_Voice_Inc_Calls          0.0698880928 -0.18386911 -0.750003345\n",
       "Avg_Voice_Inc_Minutes       -0.5936805152  0.12001591  0.351289467\n",
       "Avg_Total_Out_Community     -0.2667025162 -0.04204278 -0.082367897\n",
       "Avg_Voice_Out_Community     -0.3262901218 -0.04504302 -0.084262168\n",
       "Avg_Voice_Inc_Community      0.5494780693  0.27052783  0.360362436\n",
       "Avg_SMS_Out_Community        0.2197865965  0.01573820  0.005567146\n",
       "ARPU                         0.2370716368 -0.59200974  0.057707766\n",
       "                            PC16          PC17          PC18         \n",
       "Avg_Total_Out_Calls         -0.5400431947 -0.0238706086 -0.6258523584\n",
       "Avg_Voice_Out_Calls         -0.4750890630 -0.0018133130  0.6890466322\n",
       "Avg_Voice_Out_Minutes        0.0094947625  0.0035730951 -0.0008873394\n",
       "Avg_SMS_Out_Calls            0.2813277161  0.0096830552  0.3247410503\n",
       "Avg_Internet_Out_Volume      0.0007949399 -0.0008614006  0.0009388464\n",
       "Avg_Data_Out_Calls          -0.0001251418  0.0004409466 -0.0003986281\n",
       "Avg_OnNet_Out_Calls          0.3889129168  0.0205886460 -0.0959159278\n",
       "Avg_OffNet_Out_Calls         0.4326429476  0.0238439051 -0.1089859944\n",
       "Avg_Fixed_Out_Calls          0.2353437700 -0.0014618682 -0.0563519781\n",
       "Avg_International_Out_Calls  0.0370610569  0.0017853558 -0.0056284236\n",
       "Avg_Roaming_Out_Calls        0.0763519727  0.0018243692 -0.0600571705\n",
       "Avg_Voice_Inc_Calls          0.0088526780  0.0016030054 -0.0018609594\n",
       "Avg_Voice_Inc_Minutes       -0.0130294863  0.0050777589  0.0004127264\n",
       "Avg_Total_Out_Community     -0.0216872190  0.7141590786 -0.0086001692\n",
       "Avg_Voice_Out_Community      0.0272859179 -0.6870172096  0.0083577912\n",
       "Avg_Voice_Inc_Community      0.0163454947 -0.0046642292  0.0020945095\n",
       "Avg_SMS_Out_Community        0.0022036067 -0.1274690704  0.0024898434\n",
       "ARPU                         0.0254874491 -0.0020139337  0.0038795332"
      ]
     },
     "metadata": {},
     "output_type": "display_data"
    }
   ],
   "source": [
    "pca<-prcomp(data_sub,scale=TRUE,center = TRUE)\n",
    "\n",
    "pca$rotation ;\n",
    "\n",
    "#summary(pca) ;\n",
    "#varimax(pca$rotation,normalize = TRUE,eps = 1e-5)"
   ]
  },
  {
   "cell_type": "code",
   "execution_count": 209,
   "metadata": {
    "scrolled": true
   },
   "outputs": [
    {
     "data": {
      "text/html": [
       "<table>\n",
       "<thead><tr><th scope=col>eig</th><th scope=col>variance</th><th scope=col>cumvariance</th></tr></thead>\n",
       "<tbody>\n",
       "\t<tr><td>8.373749967</td><td>46.52083315</td><td> 46.52083  </td></tr>\n",
       "\t<tr><td>1.948571453</td><td>10.82539696</td><td> 57.34623  </td></tr>\n",
       "\t<tr><td>1.276037839</td><td> 7.08909911</td><td> 64.43533  </td></tr>\n",
       "\t<tr><td>1.172633902</td><td> 6.51463279</td><td> 70.94996  </td></tr>\n",
       "\t<tr><td>0.998200489</td><td> 5.54555827</td><td> 76.49552  </td></tr>\n",
       "\t<tr><td>0.767313772</td><td> 4.26285429</td><td> 80.75837  </td></tr>\n",
       "\t<tr><td>0.745807105</td><td> 4.14337281</td><td> 84.90175  </td></tr>\n",
       "\t<tr><td>0.680235410</td><td> 3.77908561</td><td> 88.68083  </td></tr>\n",
       "\t<tr><td>0.561076437</td><td> 3.11709132</td><td> 91.79792  </td></tr>\n",
       "\t<tr><td>0.514878731</td><td> 2.86043740</td><td> 94.65836  </td></tr>\n",
       "\t<tr><td>0.370288926</td><td> 2.05716070</td><td> 96.71552  </td></tr>\n",
       "\t<tr><td>0.236247596</td><td> 1.31248665</td><td> 98.02801  </td></tr>\n",
       "\t<tr><td>0.170484084</td><td> 0.94713380</td><td> 98.97514  </td></tr>\n",
       "\t<tr><td>0.124549721</td><td> 0.69194290</td><td> 99.66709  </td></tr>\n",
       "\t<tr><td>0.051643216</td><td> 0.28690675</td><td> 99.95399  </td></tr>\n",
       "\t<tr><td>0.005425753</td><td> 0.03014307</td><td> 99.98414  </td></tr>\n",
       "\t<tr><td>0.002265217</td><td> 0.01258454</td><td> 99.99672  </td></tr>\n",
       "\t<tr><td>0.000590382</td><td> 0.00327990</td><td>100.00000  </td></tr>\n",
       "</tbody>\n",
       "</table>\n"
      ],
      "text/latex": [
       "\\begin{tabular}{r|lll}\n",
       " eig & variance & cumvariance\\\\\n",
       "\\hline\n",
       "\t 8.373749967 & 46.52083315 &  46.52083  \\\\\n",
       "\t 1.948571453 & 10.82539696 &  57.34623  \\\\\n",
       "\t 1.276037839 &  7.08909911 &  64.43533  \\\\\n",
       "\t 1.172633902 &  6.51463279 &  70.94996  \\\\\n",
       "\t 0.998200489 &  5.54555827 &  76.49552  \\\\\n",
       "\t 0.767313772 &  4.26285429 &  80.75837  \\\\\n",
       "\t 0.745807105 &  4.14337281 &  84.90175  \\\\\n",
       "\t 0.680235410 &  3.77908561 &  88.68083  \\\\\n",
       "\t 0.561076437 &  3.11709132 &  91.79792  \\\\\n",
       "\t 0.514878731 &  2.86043740 &  94.65836  \\\\\n",
       "\t 0.370288926 &  2.05716070 &  96.71552  \\\\\n",
       "\t 0.236247596 &  1.31248665 &  98.02801  \\\\\n",
       "\t 0.170484084 &  0.94713380 &  98.97514  \\\\\n",
       "\t 0.124549721 &  0.69194290 &  99.66709  \\\\\n",
       "\t 0.051643216 &  0.28690675 &  99.95399  \\\\\n",
       "\t 0.005425753 &  0.03014307 &  99.98414  \\\\\n",
       "\t 0.002265217 &  0.01258454 &  99.99672  \\\\\n",
       "\t 0.000590382 &  0.00327990 & 100.00000  \\\\\n",
       "\\end{tabular}\n"
      ],
      "text/markdown": [
       "\n",
       "eig | variance | cumvariance | \n",
       "|---|---|---|---|---|---|---|---|---|---|---|---|---|---|---|---|---|---|\n",
       "| 8.373749967 | 46.52083315 |  46.52083   | \n",
       "| 1.948571453 | 10.82539696 |  57.34623   | \n",
       "| 1.276037839 |  7.08909911 |  64.43533   | \n",
       "| 1.172633902 |  6.51463279 |  70.94996   | \n",
       "| 0.998200489 |  5.54555827 |  76.49552   | \n",
       "| 0.767313772 |  4.26285429 |  80.75837   | \n",
       "| 0.745807105 |  4.14337281 |  84.90175   | \n",
       "| 0.680235410 |  3.77908561 |  88.68083   | \n",
       "| 0.561076437 |  3.11709132 |  91.79792   | \n",
       "| 0.514878731 |  2.86043740 |  94.65836   | \n",
       "| 0.370288926 |  2.05716070 |  96.71552   | \n",
       "| 0.236247596 |  1.31248665 |  98.02801   | \n",
       "| 0.170484084 |  0.94713380 |  98.97514   | \n",
       "| 0.124549721 |  0.69194290 |  99.66709   | \n",
       "| 0.051643216 |  0.28690675 |  99.95399   | \n",
       "| 0.005425753 |  0.03014307 |  99.98414   | \n",
       "| 0.002265217 |  0.01258454 |  99.99672   | \n",
       "| 0.000590382 |  0.00327990 | 100.00000   | \n",
       "\n",
       "\n"
      ],
      "text/plain": [
       "   eig         variance    cumvariance\n",
       "1  8.373749967 46.52083315  46.52083  \n",
       "2  1.948571453 10.82539696  57.34623  \n",
       "3  1.276037839  7.08909911  64.43533  \n",
       "4  1.172633902  6.51463279  70.94996  \n",
       "5  0.998200489  5.54555827  76.49552  \n",
       "6  0.767313772  4.26285429  80.75837  \n",
       "7  0.745807105  4.14337281  84.90175  \n",
       "8  0.680235410  3.77908561  88.68083  \n",
       "9  0.561076437  3.11709132  91.79792  \n",
       "10 0.514878731  2.86043740  94.65836  \n",
       "11 0.370288926  2.05716070  96.71552  \n",
       "12 0.236247596  1.31248665  98.02801  \n",
       "13 0.170484084  0.94713380  98.97514  \n",
       "14 0.124549721  0.69194290  99.66709  \n",
       "15 0.051643216  0.28690675  99.95399  \n",
       "16 0.005425753  0.03014307  99.98414  \n",
       "17 0.002265217  0.01258454  99.99672  \n",
       "18 0.000590382  0.00327990 100.00000  "
      ]
     },
     "metadata": {},
     "output_type": "display_data"
    }
   ],
   "source": [
    "# Eigenvalues\n",
    "eig <- (pca$sdev)^2\n",
    "# Variances in percentage\n",
    "variance <- eig*100/sum(eig)\n",
    "# Cumulative variances\n",
    "cumvar <- cumsum(variance)\n",
    "\n",
    "eig.data <- data.frame(eig = eig, variance = variance,\n",
    "                     cumvariance = cumvar)\n",
    "\n",
    "eig.data"
   ]
  },
  {
   "cell_type": "code",
   "execution_count": 210,
   "metadata": {},
   "outputs": [
    {
     "data": {
      "text/html": [
       "<table>\n",
       "<thead><tr><th></th><th scope=col>eigenvalue</th><th scope=col>variance.percent</th><th scope=col>cumulative.variance.percent</th></tr></thead>\n",
       "<tbody>\n",
       "\t<tr><th scope=row>Dim.1</th><td>8.373749967</td><td>46.52083315</td><td> 46.52083  </td></tr>\n",
       "\t<tr><th scope=row>Dim.2</th><td>1.948571453</td><td>10.82539696</td><td> 57.34623  </td></tr>\n",
       "\t<tr><th scope=row>Dim.3</th><td>1.276037839</td><td> 7.08909911</td><td> 64.43533  </td></tr>\n",
       "\t<tr><th scope=row>Dim.4</th><td>1.172633902</td><td> 6.51463279</td><td> 70.94996  </td></tr>\n",
       "\t<tr><th scope=row>Dim.5</th><td>0.998200489</td><td> 5.54555827</td><td> 76.49552  </td></tr>\n",
       "\t<tr><th scope=row>Dim.6</th><td>0.767313772</td><td> 4.26285429</td><td> 80.75837  </td></tr>\n",
       "\t<tr><th scope=row>Dim.7</th><td>0.745807105</td><td> 4.14337281</td><td> 84.90175  </td></tr>\n",
       "\t<tr><th scope=row>Dim.8</th><td>0.680235410</td><td> 3.77908561</td><td> 88.68083  </td></tr>\n",
       "\t<tr><th scope=row>Dim.9</th><td>0.561076437</td><td> 3.11709132</td><td> 91.79792  </td></tr>\n",
       "\t<tr><th scope=row>Dim.10</th><td>0.514878731</td><td> 2.86043740</td><td> 94.65836  </td></tr>\n",
       "\t<tr><th scope=row>Dim.11</th><td>0.370288926</td><td> 2.05716070</td><td> 96.71552  </td></tr>\n",
       "\t<tr><th scope=row>Dim.12</th><td>0.236247596</td><td> 1.31248665</td><td> 98.02801  </td></tr>\n",
       "\t<tr><th scope=row>Dim.13</th><td>0.170484084</td><td> 0.94713380</td><td> 98.97514  </td></tr>\n",
       "\t<tr><th scope=row>Dim.14</th><td>0.124549721</td><td> 0.69194290</td><td> 99.66709  </td></tr>\n",
       "\t<tr><th scope=row>Dim.15</th><td>0.051643216</td><td> 0.28690675</td><td> 99.95399  </td></tr>\n",
       "\t<tr><th scope=row>Dim.16</th><td>0.005425753</td><td> 0.03014307</td><td> 99.98414  </td></tr>\n",
       "\t<tr><th scope=row>Dim.17</th><td>0.002265217</td><td> 0.01258454</td><td> 99.99672  </td></tr>\n",
       "\t<tr><th scope=row>Dim.18</th><td>0.000590382</td><td> 0.00327990</td><td>100.00000  </td></tr>\n",
       "</tbody>\n",
       "</table>\n"
      ],
      "text/latex": [
       "\\begin{tabular}{r|lll}\n",
       "  & eigenvalue & variance.percent & cumulative.variance.percent\\\\\n",
       "\\hline\n",
       "\tDim.1 & 8.373749967 & 46.52083315 &  46.52083  \\\\\n",
       "\tDim.2 & 1.948571453 & 10.82539696 &  57.34623  \\\\\n",
       "\tDim.3 & 1.276037839 &  7.08909911 &  64.43533  \\\\\n",
       "\tDim.4 & 1.172633902 &  6.51463279 &  70.94996  \\\\\n",
       "\tDim.5 & 0.998200489 &  5.54555827 &  76.49552  \\\\\n",
       "\tDim.6 & 0.767313772 &  4.26285429 &  80.75837  \\\\\n",
       "\tDim.7 & 0.745807105 &  4.14337281 &  84.90175  \\\\\n",
       "\tDim.8 & 0.680235410 &  3.77908561 &  88.68083  \\\\\n",
       "\tDim.9 & 0.561076437 &  3.11709132 &  91.79792  \\\\\n",
       "\tDim.10 & 0.514878731 &  2.86043740 &  94.65836  \\\\\n",
       "\tDim.11 & 0.370288926 &  2.05716070 &  96.71552  \\\\\n",
       "\tDim.12 & 0.236247596 &  1.31248665 &  98.02801  \\\\\n",
       "\tDim.13 & 0.170484084 &  0.94713380 &  98.97514  \\\\\n",
       "\tDim.14 & 0.124549721 &  0.69194290 &  99.66709  \\\\\n",
       "\tDim.15 & 0.051643216 &  0.28690675 &  99.95399  \\\\\n",
       "\tDim.16 & 0.005425753 &  0.03014307 &  99.98414  \\\\\n",
       "\tDim.17 & 0.002265217 &  0.01258454 &  99.99672  \\\\\n",
       "\tDim.18 & 0.000590382 &  0.00327990 & 100.00000  \\\\\n",
       "\\end{tabular}\n"
      ],
      "text/markdown": [
       "\n",
       "| <!--/--> | eigenvalue | variance.percent | cumulative.variance.percent | \n",
       "|---|---|---|---|---|---|---|---|---|---|---|---|---|---|---|---|---|---|\n",
       "| Dim.1 | 8.373749967 | 46.52083315 |  46.52083   | \n",
       "| Dim.2 | 1.948571453 | 10.82539696 |  57.34623   | \n",
       "| Dim.3 | 1.276037839 |  7.08909911 |  64.43533   | \n",
       "| Dim.4 | 1.172633902 |  6.51463279 |  70.94996   | \n",
       "| Dim.5 | 0.998200489 |  5.54555827 |  76.49552   | \n",
       "| Dim.6 | 0.767313772 |  4.26285429 |  80.75837   | \n",
       "| Dim.7 | 0.745807105 |  4.14337281 |  84.90175   | \n",
       "| Dim.8 | 0.680235410 |  3.77908561 |  88.68083   | \n",
       "| Dim.9 | 0.561076437 |  3.11709132 |  91.79792   | \n",
       "| Dim.10 | 0.514878731 |  2.86043740 |  94.65836   | \n",
       "| Dim.11 | 0.370288926 |  2.05716070 |  96.71552   | \n",
       "| Dim.12 | 0.236247596 |  1.31248665 |  98.02801   | \n",
       "| Dim.13 | 0.170484084 |  0.94713380 |  98.97514   | \n",
       "| Dim.14 | 0.124549721 |  0.69194290 |  99.66709   | \n",
       "| Dim.15 | 0.051643216 |  0.28690675 |  99.95399   | \n",
       "| Dim.16 | 0.005425753 |  0.03014307 |  99.98414   | \n",
       "| Dim.17 | 0.002265217 |  0.01258454 |  99.99672   | \n",
       "| Dim.18 | 0.000590382 |  0.00327990 | 100.00000   | \n",
       "\n",
       "\n"
      ],
      "text/plain": [
       "       eigenvalue  variance.percent cumulative.variance.percent\n",
       "Dim.1  8.373749967 46.52083315       46.52083                  \n",
       "Dim.2  1.948571453 10.82539696       57.34623                  \n",
       "Dim.3  1.276037839  7.08909911       64.43533                  \n",
       "Dim.4  1.172633902  6.51463279       70.94996                  \n",
       "Dim.5  0.998200489  5.54555827       76.49552                  \n",
       "Dim.6  0.767313772  4.26285429       80.75837                  \n",
       "Dim.7  0.745807105  4.14337281       84.90175                  \n",
       "Dim.8  0.680235410  3.77908561       88.68083                  \n",
       "Dim.9  0.561076437  3.11709132       91.79792                  \n",
       "Dim.10 0.514878731  2.86043740       94.65836                  \n",
       "Dim.11 0.370288926  2.05716070       96.71552                  \n",
       "Dim.12 0.236247596  1.31248665       98.02801                  \n",
       "Dim.13 0.170484084  0.94713380       98.97514                  \n",
       "Dim.14 0.124549721  0.69194290       99.66709                  \n",
       "Dim.15 0.051643216  0.28690675       99.95399                  \n",
       "Dim.16 0.005425753  0.03014307       99.98414                  \n",
       "Dim.17 0.002265217  0.01258454       99.99672                  \n",
       "Dim.18 0.000590382  0.00327990      100.00000                  "
      ]
     },
     "metadata": {},
     "output_type": "display_data"
    }
   ],
   "source": [
    "#install.packages('factoextra', repos='http://cran.us.r-project.org')\n",
    "library(\"factoextra\")\n",
    "\n",
    "eig.val <- get_eigenvalue(pca)\n",
    "eig.val"
   ]
  },
  {
   "cell_type": "code",
   "execution_count": 216,
   "metadata": {
    "collapsed": true
   },
   "outputs": [],
   "source": [
    "library(psych)\n",
    "\n",
    "pca<-principal(data_sub,nfactors = 5,rotate = \"varimax\")"
   ]
  },
  {
   "cell_type": "code",
   "execution_count": 217,
   "metadata": {},
   "outputs": [
    {
     "data": {
      "text/plain": [
       "\n",
       "Loadings:\n",
       "                            RC1    RC5    RC2    RC3    RC4   \n",
       "Avg_Total_Out_Calls          0.763  0.207  0.558  0.121       \n",
       "Avg_Voice_Out_Calls          0.923  0.266  0.136  0.117       \n",
       "Avg_Voice_Out_Minutes        0.801  0.233  0.173  0.193       \n",
       "Avg_SMS_Out_Calls            0.104         0.894  0.123       \n",
       "Avg_Internet_Out_Volume                                  0.850\n",
       "Avg_Data_Out_Calls                         0.246         0.732\n",
       "Avg_OnNet_Out_Calls          0.717  0.197  0.199              \n",
       "Avg_OffNet_Out_Calls         0.756  0.247  0.178              \n",
       "Avg_Fixed_Out_Calls          0.759  0.101 -0.240              \n",
       "Avg_International_Out_Calls  0.120                0.757       \n",
       "Avg_Roaming_Out_Calls                      0.196  0.761       \n",
       "Avg_Voice_Inc_Calls          0.523  0.797  0.120              \n",
       "Avg_Voice_Inc_Minutes        0.372  0.806  0.191  0.110       \n",
       "Avg_Total_Out_Community      0.800  0.407  0.133              \n",
       "Avg_Voice_Out_Community      0.830  0.398                     \n",
       "Avg_Voice_Inc_Community      0.411  0.827                     \n",
       "Avg_SMS_Out_Community        0.133  0.178  0.831              \n",
       "ARPU                         0.527  0.414  0.282  0.436  0.164\n",
       "\n",
       "                 RC1   RC5   RC2   RC3   RC4\n",
       "SS loadings    5.975 2.779 2.238 1.456 1.322\n",
       "Proportion Var 0.332 0.154 0.124 0.081 0.073\n",
       "Cumulative Var 0.332 0.486 0.611 0.692 0.765"
      ]
     },
     "metadata": {},
     "output_type": "display_data"
    }
   ],
   "source": [
    "my_var<-varimax(pca$loadings[,1:5],normalize =TRUE)\n",
    "\n",
    "my_var$loadings"
   ]
  },
  {
   "cell_type": "code",
   "execution_count": 193,
   "metadata": {},
   "outputs": [
    {
     "data": {
      "text/html": [
       "<dl class=dl-horizontal>\n",
       "\t<dt>Avg_Total_Out_Calls</dt>\n",
       "\t\t<dd>0.957080208998093</dd>\n",
       "\t<dt>Avg_Voice_Out_Calls</dt>\n",
       "\t\t<dd>0.955827916175358</dd>\n",
       "\t<dt>Avg_Voice_Out_Minutes</dt>\n",
       "\t\t<dd>0.771875761756242</dd>\n",
       "\t<dt>Avg_SMS_Out_Calls</dt>\n",
       "\t\t<dd>0.834405053583355</dd>\n",
       "\t<dt>Avg_Internet_Out_Volume</dt>\n",
       "\t\t<dd>0.728229865393614</dd>\n",
       "\t<dt>Avg_Data_Out_Calls</dt>\n",
       "\t\t<dd>0.606001640446476</dd>\n",
       "\t<dt>Avg_OnNet_Out_Calls</dt>\n",
       "\t\t<dd>0.595187102515959</dd>\n",
       "\t<dt>Avg_OffNet_Out_Calls</dt>\n",
       "\t\t<dd>0.665810168164637</dd>\n",
       "\t<dt>Avg_Fixed_Out_Calls</dt>\n",
       "\t\t<dd>0.648919731563985</dd>\n",
       "\t<dt>Avg_International_Out_Calls</dt>\n",
       "\t\t<dd>0.598242078289892</dd>\n",
       "\t<dt>Avg_Roaming_Out_Calls</dt>\n",
       "\t\t<dd>0.623253785709541</dd>\n",
       "\t<dt>Avg_Voice_Inc_Calls</dt>\n",
       "\t\t<dd>0.923795147572476</dd>\n",
       "\t<dt>Avg_Voice_Inc_Minutes</dt>\n",
       "\t\t<dd>0.837618758093228</dd>\n",
       "\t<dt>Avg_Total_Out_Community</dt>\n",
       "\t\t<dd>0.825843502427807</dd>\n",
       "\t<dt>Avg_Voice_Out_Community</dt>\n",
       "\t\t<dd>0.849899577645654</dd>\n",
       "\t<dt>Avg_Voice_Inc_Community</dt>\n",
       "\t\t<dd>0.856883790837221</dd>\n",
       "\t<dt>Avg_SMS_Out_Community</dt>\n",
       "\t\t<dd>0.745344377221298</dd>\n",
       "\t<dt>ARPU</dt>\n",
       "\t\t<dd>0.744975183721405</dd>\n",
       "</dl>\n"
      ],
      "text/latex": [
       "\\begin{description*}\n",
       "\\item[Avg\\textbackslash{}\\_Total\\textbackslash{}\\_Out\\textbackslash{}\\_Calls] 0.957080208998093\n",
       "\\item[Avg\\textbackslash{}\\_Voice\\textbackslash{}\\_Out\\textbackslash{}\\_Calls] 0.955827916175358\n",
       "\\item[Avg\\textbackslash{}\\_Voice\\textbackslash{}\\_Out\\textbackslash{}\\_Minutes] 0.771875761756242\n",
       "\\item[Avg\\textbackslash{}\\_SMS\\textbackslash{}\\_Out\\textbackslash{}\\_Calls] 0.834405053583355\n",
       "\\item[Avg\\textbackslash{}\\_Internet\\textbackslash{}\\_Out\\textbackslash{}\\_Volume] 0.728229865393614\n",
       "\\item[Avg\\textbackslash{}\\_Data\\textbackslash{}\\_Out\\textbackslash{}\\_Calls] 0.606001640446476\n",
       "\\item[Avg\\textbackslash{}\\_OnNet\\textbackslash{}\\_Out\\textbackslash{}\\_Calls] 0.595187102515959\n",
       "\\item[Avg\\textbackslash{}\\_OffNet\\textbackslash{}\\_Out\\textbackslash{}\\_Calls] 0.665810168164637\n",
       "\\item[Avg\\textbackslash{}\\_Fixed\\textbackslash{}\\_Out\\textbackslash{}\\_Calls] 0.648919731563985\n",
       "\\item[Avg\\textbackslash{}\\_International\\textbackslash{}\\_Out\\textbackslash{}\\_Calls] 0.598242078289892\n",
       "\\item[Avg\\textbackslash{}\\_Roaming\\textbackslash{}\\_Out\\textbackslash{}\\_Calls] 0.623253785709541\n",
       "\\item[Avg\\textbackslash{}\\_Voice\\textbackslash{}\\_Inc\\textbackslash{}\\_Calls] 0.923795147572476\n",
       "\\item[Avg\\textbackslash{}\\_Voice\\textbackslash{}\\_Inc\\textbackslash{}\\_Minutes] 0.837618758093228\n",
       "\\item[Avg\\textbackslash{}\\_Total\\textbackslash{}\\_Out\\textbackslash{}\\_Community] 0.825843502427807\n",
       "\\item[Avg\\textbackslash{}\\_Voice\\textbackslash{}\\_Out\\textbackslash{}\\_Community] 0.849899577645654\n",
       "\\item[Avg\\textbackslash{}\\_Voice\\textbackslash{}\\_Inc\\textbackslash{}\\_Community] 0.856883790837221\n",
       "\\item[Avg\\textbackslash{}\\_SMS\\textbackslash{}\\_Out\\textbackslash{}\\_Community] 0.745344377221298\n",
       "\\item[ARPU] 0.744975183721405\n",
       "\\end{description*}\n"
      ],
      "text/markdown": [
       "Avg_Total_Out_Calls\n",
       ":   0.957080208998093Avg_Voice_Out_Calls\n",
       ":   0.955827916175358Avg_Voice_Out_Minutes\n",
       ":   0.771875761756242Avg_SMS_Out_Calls\n",
       ":   0.834405053583355Avg_Internet_Out_Volume\n",
       ":   0.728229865393614Avg_Data_Out_Calls\n",
       ":   0.606001640446476Avg_OnNet_Out_Calls\n",
       ":   0.595187102515959Avg_OffNet_Out_Calls\n",
       ":   0.665810168164637Avg_Fixed_Out_Calls\n",
       ":   0.648919731563985Avg_International_Out_Calls\n",
       ":   0.598242078289892Avg_Roaming_Out_Calls\n",
       ":   0.623253785709541Avg_Voice_Inc_Calls\n",
       ":   0.923795147572476Avg_Voice_Inc_Minutes\n",
       ":   0.837618758093228Avg_Total_Out_Community\n",
       ":   0.825843502427807Avg_Voice_Out_Community\n",
       ":   0.849899577645654Avg_Voice_Inc_Community\n",
       ":   0.856883790837221Avg_SMS_Out_Community\n",
       ":   0.745344377221298ARPU\n",
       ":   0.744975183721405\n",
       "\n"
      ],
      "text/plain": [
       "        Avg_Total_Out_Calls         Avg_Voice_Out_Calls \n",
       "                  0.9570802                   0.9558279 \n",
       "      Avg_Voice_Out_Minutes           Avg_SMS_Out_Calls \n",
       "                  0.7718758                   0.8344051 \n",
       "    Avg_Internet_Out_Volume          Avg_Data_Out_Calls \n",
       "                  0.7282299                   0.6060016 \n",
       "        Avg_OnNet_Out_Calls        Avg_OffNet_Out_Calls \n",
       "                  0.5951871                   0.6658102 \n",
       "        Avg_Fixed_Out_Calls Avg_International_Out_Calls \n",
       "                  0.6489197                   0.5982421 \n",
       "      Avg_Roaming_Out_Calls         Avg_Voice_Inc_Calls \n",
       "                  0.6232538                   0.9237951 \n",
       "      Avg_Voice_Inc_Minutes     Avg_Total_Out_Community \n",
       "                  0.8376188                   0.8258435 \n",
       "    Avg_Voice_Out_Community     Avg_Voice_Inc_Community \n",
       "                  0.8498996                   0.8568838 \n",
       "      Avg_SMS_Out_Community                        ARPU \n",
       "                  0.7453444                   0.7449752 "
      ]
     },
     "metadata": {},
     "output_type": "display_data"
    }
   ],
   "source": [
    "pca$communality"
   ]
  },
  {
   "cell_type": "code",
   "execution_count": 213,
   "metadata": {},
   "outputs": [
    {
     "data": {
      "text/html": [
       "<table>\n",
       "<thead><tr><th></th><th scope=col>RC1</th><th scope=col>RC5</th><th scope=col>RC2</th><th scope=col>RC3</th><th scope=col>RC4</th></tr></thead>\n",
       "<tbody>\n",
       "\t<tr><th scope=row>Avg_Total_Out_Calls</th><td> 0.155077218</td><td>-0.148685411</td><td> 0.215351530</td><td>-0.009442160</td><td>-0.033318738</td></tr>\n",
       "\t<tr><th scope=row>Avg_Voice_Out_Calls</th><td> 0.231586859</td><td>-0.142927296</td><td>-0.027473497</td><td> 0.009582979</td><td>-0.024366993</td></tr>\n",
       "\t<tr><th scope=row>Avg_Voice_Out_Minutes</th><td> 0.187812947</td><td>-0.129072922</td><td>-0.009447068</td><td> 0.073327968</td><td> 0.024444379</td></tr>\n",
       "\t<tr><th scope=row>Avg_SMS_Out_Calls</th><td>-0.045924830</td><td>-0.086373344</td><td> 0.462756117</td><td> 0.015383457</td><td>-0.039466955</td></tr>\n",
       "\t<tr><th scope=row>Avg_Internet_Out_Volume</th><td>-0.043104864</td><td> 0.053368905</td><td>-0.143598006</td><td> 0.014921303</td><td> 0.691009298</td></tr>\n",
       "\t<tr><th scope=row>Avg_Data_Out_Calls</th><td>-0.005613902</td><td>-0.035343956</td><td> 0.039042365</td><td>-0.058360890</td><td> 0.553685518</td></tr>\n",
       "\t<tr><th scope=row>Avg_OnNet_Out_Calls</th><td> 0.181624638</td><td>-0.112881799</td><td> 0.038057229</td><td>-0.098008063</td><td>-0.012414207</td></tr>\n",
       "\t<tr><th scope=row>Avg_OffNet_Out_Calls</th><td> 0.180772898</td><td>-0.087955411</td><td> 0.024107252</td><td>-0.101108013</td><td>-0.030833884</td></tr>\n",
       "\t<tr><th scope=row>Avg_Fixed_Out_Calls</th><td> 0.264292758</td><td>-0.190252934</td><td>-0.207449302</td><td> 0.026154517</td><td> 0.007595118</td></tr>\n",
       "\t<tr><th scope=row>Avg_International_Out_Calls</th><td>-0.002794651</td><td>-0.063602762</td><td>-0.127864628</td><td> 0.580766785</td><td> 0.018748161</td></tr>\n",
       "\t<tr><th scope=row>Avg_Roaming_Out_Calls</th><td>-0.080506301</td><td>-0.016567106</td><td> 0.049765344</td><td> 0.567471631</td><td>-0.067774046</td></tr>\n",
       "\t<tr><th scope=row>Avg_Voice_Inc_Calls</th><td>-0.102802319</td><td> 0.416309995</td><td>-0.018060259</td><td>-0.072331555</td><td>-0.008504232</td></tr>\n",
       "\t<tr><th scope=row>Avg_Voice_Inc_Minutes</th><td>-0.174188015</td><td> 0.469630309</td><td> 0.023535624</td><td>-0.009427646</td><td> 0.011058408</td></tr>\n",
       "\t<tr><th scope=row>Avg_Total_Out_Community</th><td> 0.138617480</td><td> 0.014579015</td><td>-0.019788530</td><td>-0.043165626</td><td>-0.019173360</td></tr>\n",
       "\t<tr><th scope=row>Avg_Voice_Out_Community</th><td> 0.164900327</td><td> 0.003690961</td><td>-0.098462748</td><td>-0.031299266</td><td>-0.012552335</td></tr>\n",
       "\t<tr><th scope=row>Avg_Voice_Inc_Community</th><td>-0.145476148</td><td> 0.483082564</td><td>-0.082852257</td><td>-0.031475422</td><td>-0.008377787</td></tr>\n",
       "\t<tr><th scope=row>Avg_SMS_Out_Community</th><td>-0.086323015</td><td> 0.052232099</td><td> 0.430994950</td><td>-0.091491044</td><td>-0.047458623</td></tr>\n",
       "\t<tr><th scope=row>ARPU</th><td>-0.005381230</td><td> 0.088957927</td><td> 0.036416575</td><td> 0.251709461</td><td> 0.081179471</td></tr>\n",
       "</tbody>\n",
       "</table>\n"
      ],
      "text/latex": [
       "\\begin{tabular}{r|lllll}\n",
       "  & RC1 & RC5 & RC2 & RC3 & RC4\\\\\n",
       "\\hline\n",
       "\tAvg\\_Total\\_Out\\_Calls &  0.155077218 & -0.148685411 &  0.215351530 & -0.009442160 & -0.033318738\\\\\n",
       "\tAvg\\_Voice\\_Out\\_Calls &  0.231586859 & -0.142927296 & -0.027473497 &  0.009582979 & -0.024366993\\\\\n",
       "\tAvg\\_Voice\\_Out\\_Minutes &  0.187812947 & -0.129072922 & -0.009447068 &  0.073327968 &  0.024444379\\\\\n",
       "\tAvg\\_SMS\\_Out\\_Calls & -0.045924830 & -0.086373344 &  0.462756117 &  0.015383457 & -0.039466955\\\\\n",
       "\tAvg\\_Internet\\_Out\\_Volume & -0.043104864 &  0.053368905 & -0.143598006 &  0.014921303 &  0.691009298\\\\\n",
       "\tAvg\\_Data\\_Out\\_Calls & -0.005613902 & -0.035343956 &  0.039042365 & -0.058360890 &  0.553685518\\\\\n",
       "\tAvg\\_OnNet\\_Out\\_Calls &  0.181624638 & -0.112881799 &  0.038057229 & -0.098008063 & -0.012414207\\\\\n",
       "\tAvg\\_OffNet\\_Out\\_Calls &  0.180772898 & -0.087955411 &  0.024107252 & -0.101108013 & -0.030833884\\\\\n",
       "\tAvg\\_Fixed\\_Out\\_Calls &  0.264292758 & -0.190252934 & -0.207449302 &  0.026154517 &  0.007595118\\\\\n",
       "\tAvg\\_International\\_Out\\_Calls & -0.002794651 & -0.063602762 & -0.127864628 &  0.580766785 &  0.018748161\\\\\n",
       "\tAvg\\_Roaming\\_Out\\_Calls & -0.080506301 & -0.016567106 &  0.049765344 &  0.567471631 & -0.067774046\\\\\n",
       "\tAvg\\_Voice\\_Inc\\_Calls & -0.102802319 &  0.416309995 & -0.018060259 & -0.072331555 & -0.008504232\\\\\n",
       "\tAvg\\_Voice\\_Inc\\_Minutes & -0.174188015 &  0.469630309 &  0.023535624 & -0.009427646 &  0.011058408\\\\\n",
       "\tAvg\\_Total\\_Out\\_Community &  0.138617480 &  0.014579015 & -0.019788530 & -0.043165626 & -0.019173360\\\\\n",
       "\tAvg\\_Voice\\_Out\\_Community &  0.164900327 &  0.003690961 & -0.098462748 & -0.031299266 & -0.012552335\\\\\n",
       "\tAvg\\_Voice\\_Inc\\_Community & -0.145476148 &  0.483082564 & -0.082852257 & -0.031475422 & -0.008377787\\\\\n",
       "\tAvg\\_SMS\\_Out\\_Community & -0.086323015 &  0.052232099 &  0.430994950 & -0.091491044 & -0.047458623\\\\\n",
       "\tARPU & -0.005381230 &  0.088957927 &  0.036416575 &  0.251709461 &  0.081179471\\\\\n",
       "\\end{tabular}\n"
      ],
      "text/markdown": [
       "\n",
       "| <!--/--> | RC1 | RC5 | RC2 | RC3 | RC4 | \n",
       "|---|---|---|---|---|---|---|---|---|---|---|---|---|---|---|---|---|---|\n",
       "| Avg_Total_Out_Calls |  0.155077218 | -0.148685411 |  0.215351530 | -0.009442160 | -0.033318738 | \n",
       "| Avg_Voice_Out_Calls |  0.231586859 | -0.142927296 | -0.027473497 |  0.009582979 | -0.024366993 | \n",
       "| Avg_Voice_Out_Minutes |  0.187812947 | -0.129072922 | -0.009447068 |  0.073327968 |  0.024444379 | \n",
       "| Avg_SMS_Out_Calls | -0.045924830 | -0.086373344 |  0.462756117 |  0.015383457 | -0.039466955 | \n",
       "| Avg_Internet_Out_Volume | -0.043104864 |  0.053368905 | -0.143598006 |  0.014921303 |  0.691009298 | \n",
       "| Avg_Data_Out_Calls | -0.005613902 | -0.035343956 |  0.039042365 | -0.058360890 |  0.553685518 | \n",
       "| Avg_OnNet_Out_Calls |  0.181624638 | -0.112881799 |  0.038057229 | -0.098008063 | -0.012414207 | \n",
       "| Avg_OffNet_Out_Calls |  0.180772898 | -0.087955411 |  0.024107252 | -0.101108013 | -0.030833884 | \n",
       "| Avg_Fixed_Out_Calls |  0.264292758 | -0.190252934 | -0.207449302 |  0.026154517 |  0.007595118 | \n",
       "| Avg_International_Out_Calls | -0.002794651 | -0.063602762 | -0.127864628 |  0.580766785 |  0.018748161 | \n",
       "| Avg_Roaming_Out_Calls | -0.080506301 | -0.016567106 |  0.049765344 |  0.567471631 | -0.067774046 | \n",
       "| Avg_Voice_Inc_Calls | -0.102802319 |  0.416309995 | -0.018060259 | -0.072331555 | -0.008504232 | \n",
       "| Avg_Voice_Inc_Minutes | -0.174188015 |  0.469630309 |  0.023535624 | -0.009427646 |  0.011058408 | \n",
       "| Avg_Total_Out_Community |  0.138617480 |  0.014579015 | -0.019788530 | -0.043165626 | -0.019173360 | \n",
       "| Avg_Voice_Out_Community |  0.164900327 |  0.003690961 | -0.098462748 | -0.031299266 | -0.012552335 | \n",
       "| Avg_Voice_Inc_Community | -0.145476148 |  0.483082564 | -0.082852257 | -0.031475422 | -0.008377787 | \n",
       "| Avg_SMS_Out_Community | -0.086323015 |  0.052232099 |  0.430994950 | -0.091491044 | -0.047458623 | \n",
       "| ARPU | -0.005381230 |  0.088957927 |  0.036416575 |  0.251709461 |  0.081179471 | \n",
       "\n",
       "\n"
      ],
      "text/plain": [
       "                            RC1          RC5          RC2          RC3         \n",
       "Avg_Total_Out_Calls          0.155077218 -0.148685411  0.215351530 -0.009442160\n",
       "Avg_Voice_Out_Calls          0.231586859 -0.142927296 -0.027473497  0.009582979\n",
       "Avg_Voice_Out_Minutes        0.187812947 -0.129072922 -0.009447068  0.073327968\n",
       "Avg_SMS_Out_Calls           -0.045924830 -0.086373344  0.462756117  0.015383457\n",
       "Avg_Internet_Out_Volume     -0.043104864  0.053368905 -0.143598006  0.014921303\n",
       "Avg_Data_Out_Calls          -0.005613902 -0.035343956  0.039042365 -0.058360890\n",
       "Avg_OnNet_Out_Calls          0.181624638 -0.112881799  0.038057229 -0.098008063\n",
       "Avg_OffNet_Out_Calls         0.180772898 -0.087955411  0.024107252 -0.101108013\n",
       "Avg_Fixed_Out_Calls          0.264292758 -0.190252934 -0.207449302  0.026154517\n",
       "Avg_International_Out_Calls -0.002794651 -0.063602762 -0.127864628  0.580766785\n",
       "Avg_Roaming_Out_Calls       -0.080506301 -0.016567106  0.049765344  0.567471631\n",
       "Avg_Voice_Inc_Calls         -0.102802319  0.416309995 -0.018060259 -0.072331555\n",
       "Avg_Voice_Inc_Minutes       -0.174188015  0.469630309  0.023535624 -0.009427646\n",
       "Avg_Total_Out_Community      0.138617480  0.014579015 -0.019788530 -0.043165626\n",
       "Avg_Voice_Out_Community      0.164900327  0.003690961 -0.098462748 -0.031299266\n",
       "Avg_Voice_Inc_Community     -0.145476148  0.483082564 -0.082852257 -0.031475422\n",
       "Avg_SMS_Out_Community       -0.086323015  0.052232099  0.430994950 -0.091491044\n",
       "ARPU                        -0.005381230  0.088957927  0.036416575  0.251709461\n",
       "                            RC4         \n",
       "Avg_Total_Out_Calls         -0.033318738\n",
       "Avg_Voice_Out_Calls         -0.024366993\n",
       "Avg_Voice_Out_Minutes        0.024444379\n",
       "Avg_SMS_Out_Calls           -0.039466955\n",
       "Avg_Internet_Out_Volume      0.691009298\n",
       "Avg_Data_Out_Calls           0.553685518\n",
       "Avg_OnNet_Out_Calls         -0.012414207\n",
       "Avg_OffNet_Out_Calls        -0.030833884\n",
       "Avg_Fixed_Out_Calls          0.007595118\n",
       "Avg_International_Out_Calls  0.018748161\n",
       "Avg_Roaming_Out_Calls       -0.067774046\n",
       "Avg_Voice_Inc_Calls         -0.008504232\n",
       "Avg_Voice_Inc_Minutes        0.011058408\n",
       "Avg_Total_Out_Community     -0.019173360\n",
       "Avg_Voice_Out_Community     -0.012552335\n",
       "Avg_Voice_Inc_Community     -0.008377787\n",
       "Avg_SMS_Out_Community       -0.047458623\n",
       "ARPU                         0.081179471"
      ]
     },
     "metadata": {},
     "output_type": "display_data"
    }
   ],
   "source": [
    "pca$weights"
   ]
  },
  {
   "cell_type": "code",
   "execution_count": 195,
   "metadata": {},
   "outputs": [
    {
     "data": {
      "text/html": [
       "<ol class=list-inline>\n",
       "\t<li>8.37374996724317</li>\n",
       "\t<li>1.94857145329714</li>\n",
       "\t<li>1.27603783893767</li>\n",
       "\t<li>1.17263390160329</li>\n",
       "\t<li>0.998200489034964</li>\n",
       "\t<li>0.767313771902475</li>\n",
       "\t<li>0.745807105204487</li>\n",
       "\t<li>0.680235409638345</li>\n",
       "\t<li>0.561076437263609</li>\n",
       "\t<li>0.514878731303482</li>\n",
       "\t<li>0.370288925913153</li>\n",
       "\t<li>0.236247596440275</li>\n",
       "\t<li>0.170484084134029</li>\n",
       "\t<li>0.124549721256067</li>\n",
       "\t<li>0.0516432156487956</li>\n",
       "\t<li>0.00542575252691534</li>\n",
       "\t<li>0.00226521666433419</li>\n",
       "\t<li>0.000590381987795334</li>\n",
       "</ol>\n"
      ],
      "text/latex": [
       "\\begin{enumerate*}\n",
       "\\item 8.37374996724317\n",
       "\\item 1.94857145329714\n",
       "\\item 1.27603783893767\n",
       "\\item 1.17263390160329\n",
       "\\item 0.998200489034964\n",
       "\\item 0.767313771902475\n",
       "\\item 0.745807105204487\n",
       "\\item 0.680235409638345\n",
       "\\item 0.561076437263609\n",
       "\\item 0.514878731303482\n",
       "\\item 0.370288925913153\n",
       "\\item 0.236247596440275\n",
       "\\item 0.170484084134029\n",
       "\\item 0.124549721256067\n",
       "\\item 0.0516432156487956\n",
       "\\item 0.00542575252691534\n",
       "\\item 0.00226521666433419\n",
       "\\item 0.000590381987795334\n",
       "\\end{enumerate*}\n"
      ],
      "text/markdown": [
       "1. 8.37374996724317\n",
       "2. 1.94857145329714\n",
       "3. 1.27603783893767\n",
       "4. 1.17263390160329\n",
       "5. 0.998200489034964\n",
       "6. 0.767313771902475\n",
       "7. 0.745807105204487\n",
       "8. 0.680235409638345\n",
       "9. 0.561076437263609\n",
       "10. 0.514878731303482\n",
       "11. 0.370288925913153\n",
       "12. 0.236247596440275\n",
       "13. 0.170484084134029\n",
       "14. 0.124549721256067\n",
       "15. 0.0516432156487956\n",
       "16. 0.00542575252691534\n",
       "17. 0.00226521666433419\n",
       "18. 0.000590381987795334\n",
       "\n",
       "\n"
      ],
      "text/plain": [
       " [1] 8.373749967 1.948571453 1.276037839 1.172633902 0.998200489 0.767313772\n",
       " [7] 0.745807105 0.680235410 0.561076437 0.514878731 0.370288926 0.236247596\n",
       "[13] 0.170484084 0.124549721 0.051643216 0.005425753 0.002265217 0.000590382"
      ]
     },
     "metadata": {},
     "output_type": "display_data"
    }
   ],
   "source": [
    "pca$values"
   ]
  },
  {
   "cell_type": "code",
   "execution_count": 198,
   "metadata": {},
   "outputs": [
    {
     "data": {
      "image/png": "[encoded data removed]",
      "text/plain": [
       "Plot with title \"Non Graphical Solutions to Scree Test\""
      ]
     },
     "metadata": {},
     "output_type": "display_data"
    }
   ],
   "source": [
    "#install.packages('nFactors', repos='http://cran.us.r-project.org')\n",
    "library('nFactors')\n",
    "ev <- eigen(cor(data_sub)) # get eigenvalues\n",
    "ap <- parallel(subject=nrow(data_sub),var=ncol(data_sub),\n",
    "  rep=100,cent=.05)\n",
    "nS <- nScree(x=ev$values, aparallel=ap$eigen$qevpea)\n",
    "plotnScree(nS)"
   ]
  },
  {
   "cell_type": "code",
   "execution_count": 199,
   "metadata": {},
   "outputs": [
    {
     "name": "stdout",
     "output_type": "stream",
     "text": [
      "package 'GPArotation' successfully unpacked and MD5 sums checked\n",
      "\n",
      "The downloaded binary packages are in\n",
      "\tC:\\Users\\ilias liapikos\\AppData\\Local\\Temp\\RtmpYl1lXi\\downloaded_packages\n"
     ]
    }
   ],
   "source": [
    "install.packages('GPArotation', repos='http://cran.us.r-project.org')\n",
    "library(GPArotation)"
   ]
  },
  {
   "cell_type": "code",
   "execution_count": 200,
   "metadata": {},
   "outputs": [
    {
     "data": {
      "text/html": [
       "<table>\n",
       "<thead><tr><th></th><th scope=col>RC1</th><th scope=col>RC5</th><th scope=col>RC2</th><th scope=col>RC3</th><th scope=col>RC4</th></tr></thead>\n",
       "<tbody>\n",
       "\t<tr><th scope=row>Avg_Total_Out_Calls</th><td> 0.762684761</td><td> 0.207252748</td><td> 0.558477311</td><td> 0.12061773 </td><td> 0.077413948</td></tr>\n",
       "\t<tr><th scope=row>Avg_Voice_Out_Calls</th><td> 0.923105777</td><td> 0.265934485</td><td> 0.136274582</td><td> 0.11678838 </td><td> 0.027788552</td></tr>\n",
       "\t<tr><th scope=row>Avg_Voice_Out_Minutes</th><td> 0.801027542</td><td> 0.233504558</td><td> 0.173270493</td><td> 0.19325457 </td><td> 0.091303169</td></tr>\n",
       "\t<tr><th scope=row>Avg_SMS_Out_Calls</th><td> 0.103521706</td><td>-0.001519844</td><td> 0.893813035</td><td> 0.12272826 </td><td> 0.098600377</td></tr>\n",
       "\t<tr><th scope=row>Avg_Internet_Out_Volume</th><td>-0.002934969</td><td> 0.033837355</td><td>-0.058636460</td><td> 0.03497565 </td><td> 0.849949854</td></tr>\n",
       "\t<tr><th scope=row>Avg_Data_Out_Calls</th><td> 0.092366994</td><td>-0.019443946</td><td> 0.245712949</td><td>-0.02928018 </td><td> 0.732024405</td></tr>\n",
       "\t<tr><th scope=row>Avg_OnNet_Out_Calls</th><td> 0.716840261</td><td> 0.196933585</td><td> 0.198553000</td><td>-0.03698310 </td><td> 0.041871978</td></tr>\n",
       "\t<tr><th scope=row>Avg_OffNet_Out_Calls</th><td> 0.755929122</td><td> 0.247509964</td><td> 0.177644466</td><td>-0.03630148 </td><td> 0.015645928</td></tr>\n",
       "\t<tr><th scope=row>Avg_Fixed_Out_Calls</th><td> 0.758896151</td><td> 0.100999639</td><td>-0.240090985</td><td> 0.07152490 </td><td> 0.005995290</td></tr>\n",
       "\t<tr><th scope=row>Avg_International_Out_Calls</th><td> 0.119814053</td><td> 0.037746155</td><td>-0.093112711</td><td> 0.75693212 </td><td> 0.029080632</td></tr>\n",
       "\t<tr><th scope=row>Avg_Roaming_Out_Calls</th><td>-0.008507077</td><td> 0.059394415</td><td> 0.195722996</td><td> 0.76139937 </td><td>-0.040214822</td></tr>\n",
       "\t<tr><th scope=row>Avg_Voice_Inc_Calls</th><td> 0.523369497</td><td> 0.796654718</td><td> 0.119633673</td><td> 0.02991871 </td><td> 0.003665182</td></tr>\n",
       "\t<tr><th scope=row>Avg_Voice_Inc_Minutes</th><td> 0.372353313</td><td> 0.805715915</td><td> 0.191251292</td><td> 0.11002944 </td><td> 0.033318134</td></tr>\n",
       "\t<tr><th scope=row>Avg_Total_Out_Community</th><td> 0.799819623</td><td> 0.406688295</td><td> 0.132507075</td><td> 0.05231699 </td><td> 0.021012175</td></tr>\n",
       "\t<tr><th scope=row>Avg_Voice_Out_Community</th><td> 0.829474952</td><td> 0.398497929</td><td>-0.008652219</td><td> 0.05400159 </td><td> 0.008902252</td></tr>\n",
       "\t<tr><th scope=row>Avg_Voice_Inc_Community</th><td> 0.410847657</td><td> 0.826659009</td><td>-0.013361224</td><td> 0.06341587 </td><td>-0.022864392</td></tr>\n",
       "\t<tr><th scope=row>Avg_SMS_Out_Community</th><td> 0.133273162</td><td> 0.177925859</td><td> 0.831203580</td><td>-0.00431448 </td><td> 0.070760325</td></tr>\n",
       "\t<tr><th scope=row>ARPU</th><td> 0.526486109</td><td> 0.414327587</td><td> 0.281947024</td><td> 0.43558939 </td><td> 0.163975515</td></tr>\n",
       "</tbody>\n",
       "</table>\n"
      ],
      "text/latex": [
       "\\begin{tabular}{r|lllll}\n",
       "  & RC1 & RC5 & RC2 & RC3 & RC4\\\\\n",
       "\\hline\n",
       "\tAvg\\_Total\\_Out\\_Calls &  0.762684761 &  0.207252748 &  0.558477311 &  0.12061773  &  0.077413948\\\\\n",
       "\tAvg\\_Voice\\_Out\\_Calls &  0.923105777 &  0.265934485 &  0.136274582 &  0.11678838  &  0.027788552\\\\\n",
       "\tAvg\\_Voice\\_Out\\_Minutes &  0.801027542 &  0.233504558 &  0.173270493 &  0.19325457  &  0.091303169\\\\\n",
       "\tAvg\\_SMS\\_Out\\_Calls &  0.103521706 & -0.001519844 &  0.893813035 &  0.12272826  &  0.098600377\\\\\n",
       "\tAvg\\_Internet\\_Out\\_Volume & -0.002934969 &  0.033837355 & -0.058636460 &  0.03497565  &  0.849949854\\\\\n",
       "\tAvg\\_Data\\_Out\\_Calls &  0.092366994 & -0.019443946 &  0.245712949 & -0.02928018  &  0.732024405\\\\\n",
       "\tAvg\\_OnNet\\_Out\\_Calls &  0.716840261 &  0.196933585 &  0.198553000 & -0.03698310  &  0.041871978\\\\\n",
       "\tAvg\\_OffNet\\_Out\\_Calls &  0.755929122 &  0.247509964 &  0.177644466 & -0.03630148  &  0.015645928\\\\\n",
       "\tAvg\\_Fixed\\_Out\\_Calls &  0.758896151 &  0.100999639 & -0.240090985 &  0.07152490  &  0.005995290\\\\\n",
       "\tAvg\\_International\\_Out\\_Calls &  0.119814053 &  0.037746155 & -0.093112711 &  0.75693212  &  0.029080632\\\\\n",
       "\tAvg\\_Roaming\\_Out\\_Calls & -0.008507077 &  0.059394415 &  0.195722996 &  0.76139937  & -0.040214822\\\\\n",
       "\tAvg\\_Voice\\_Inc\\_Calls &  0.523369497 &  0.796654718 &  0.119633673 &  0.02991871  &  0.003665182\\\\\n",
       "\tAvg\\_Voice\\_Inc\\_Minutes &  0.372353313 &  0.805715915 &  0.191251292 &  0.11002944  &  0.033318134\\\\\n",
       "\tAvg\\_Total\\_Out\\_Community &  0.799819623 &  0.406688295 &  0.132507075 &  0.05231699  &  0.021012175\\\\\n",
       "\tAvg\\_Voice\\_Out\\_Community &  0.829474952 &  0.398497929 & -0.008652219 &  0.05400159  &  0.008902252\\\\\n",
       "\tAvg\\_Voice\\_Inc\\_Community &  0.410847657 &  0.826659009 & -0.013361224 &  0.06341587  & -0.022864392\\\\\n",
       "\tAvg\\_SMS\\_Out\\_Community &  0.133273162 &  0.177925859 &  0.831203580 & -0.00431448  &  0.070760325\\\\\n",
       "\tARPU &  0.526486109 &  0.414327587 &  0.281947024 &  0.43558939  &  0.163975515\\\\\n",
       "\\end{tabular}\n"
      ],
      "text/markdown": [
       "\n",
       "| <!--/--> | RC1 | RC5 | RC2 | RC3 | RC4 | \n",
       "|---|---|---|---|---|---|---|---|---|---|---|---|---|---|---|---|---|---|\n",
       "| Avg_Total_Out_Calls |  0.762684761 |  0.207252748 |  0.558477311 |  0.12061773  |  0.077413948 | \n",
       "| Avg_Voice_Out_Calls |  0.923105777 |  0.265934485 |  0.136274582 |  0.11678838  |  0.027788552 | \n",
       "| Avg_Voice_Out_Minutes |  0.801027542 |  0.233504558 |  0.173270493 |  0.19325457  |  0.091303169 | \n",
       "| Avg_SMS_Out_Calls |  0.103521706 | -0.001519844 |  0.893813035 |  0.12272826  |  0.098600377 | \n",
       "| Avg_Internet_Out_Volume | -0.002934969 |  0.033837355 | -0.058636460 |  0.03497565  |  0.849949854 | \n",
       "| Avg_Data_Out_Calls |  0.092366994 | -0.019443946 |  0.245712949 | -0.02928018  |  0.732024405 | \n",
       "| Avg_OnNet_Out_Calls |  0.716840261 |  0.196933585 |  0.198553000 | -0.03698310  |  0.041871978 | \n",
       "| Avg_OffNet_Out_Calls |  0.755929122 |  0.247509964 |  0.177644466 | -0.03630148  |  0.015645928 | \n",
       "| Avg_Fixed_Out_Calls |  0.758896151 |  0.100999639 | -0.240090985 |  0.07152490  |  0.005995290 | \n",
       "| Avg_International_Out_Calls |  0.119814053 |  0.037746155 | -0.093112711 |  0.75693212  |  0.029080632 | \n",
       "| Avg_Roaming_Out_Calls | -0.008507077 |  0.059394415 |  0.195722996 |  0.76139937  | -0.040214822 | \n",
       "| Avg_Voice_Inc_Calls |  0.523369497 |  0.796654718 |  0.119633673 |  0.02991871  |  0.003665182 | \n",
       "| Avg_Voice_Inc_Minutes |  0.372353313 |  0.805715915 |  0.191251292 |  0.11002944  |  0.033318134 | \n",
       "| Avg_Total_Out_Community |  0.799819623 |  0.406688295 |  0.132507075 |  0.05231699  |  0.021012175 | \n",
       "| Avg_Voice_Out_Community |  0.829474952 |  0.398497929 | -0.008652219 |  0.05400159  |  0.008902252 | \n",
       "| Avg_Voice_Inc_Community |  0.410847657 |  0.826659009 | -0.013361224 |  0.06341587  | -0.022864392 | \n",
       "| Avg_SMS_Out_Community |  0.133273162 |  0.177925859 |  0.831203580 | -0.00431448  |  0.070760325 | \n",
       "| ARPU |  0.526486109 |  0.414327587 |  0.281947024 |  0.43558939  |  0.163975515 | \n",
       "\n",
       "\n"
      ],
      "text/plain": [
       "                            RC1          RC5          RC2          RC3        \n",
       "Avg_Total_Out_Calls          0.762684761  0.207252748  0.558477311  0.12061773\n",
       "Avg_Voice_Out_Calls          0.923105777  0.265934485  0.136274582  0.11678838\n",
       "Avg_Voice_Out_Minutes        0.801027542  0.233504558  0.173270493  0.19325457\n",
       "Avg_SMS_Out_Calls            0.103521706 -0.001519844  0.893813035  0.12272826\n",
       "Avg_Internet_Out_Volume     -0.002934969  0.033837355 -0.058636460  0.03497565\n",
       "Avg_Data_Out_Calls           0.092366994 -0.019443946  0.245712949 -0.02928018\n",
       "Avg_OnNet_Out_Calls          0.716840261  0.196933585  0.198553000 -0.03698310\n",
       "Avg_OffNet_Out_Calls         0.755929122  0.247509964  0.177644466 -0.03630148\n",
       "Avg_Fixed_Out_Calls          0.758896151  0.100999639 -0.240090985  0.07152490\n",
       "Avg_International_Out_Calls  0.119814053  0.037746155 -0.093112711  0.75693212\n",
       "Avg_Roaming_Out_Calls       -0.008507077  0.059394415  0.195722996  0.76139937\n",
       "Avg_Voice_Inc_Calls          0.523369497  0.796654718  0.119633673  0.02991871\n",
       "Avg_Voice_Inc_Minutes        0.372353313  0.805715915  0.191251292  0.11002944\n",
       "Avg_Total_Out_Community      0.799819623  0.406688295  0.132507075  0.05231699\n",
       "Avg_Voice_Out_Community      0.829474952  0.398497929 -0.008652219  0.05400159\n",
       "Avg_Voice_Inc_Community      0.410847657  0.826659009 -0.013361224  0.06341587\n",
       "Avg_SMS_Out_Community        0.133273162  0.177925859  0.831203580 -0.00431448\n",
       "ARPU                         0.526486109  0.414327587  0.281947024  0.43558939\n",
       "                            RC4         \n",
       "Avg_Total_Out_Calls          0.077413948\n",
       "Avg_Voice_Out_Calls          0.027788552\n",
       "Avg_Voice_Out_Minutes        0.091303169\n",
       "Avg_SMS_Out_Calls            0.098600377\n",
       "Avg_Internet_Out_Volume      0.849949854\n",
       "Avg_Data_Out_Calls           0.732024405\n",
       "Avg_OnNet_Out_Calls          0.041871978\n",
       "Avg_OffNet_Out_Calls         0.015645928\n",
       "Avg_Fixed_Out_Calls          0.005995290\n",
       "Avg_International_Out_Calls  0.029080632\n",
       "Avg_Roaming_Out_Calls       -0.040214822\n",
       "Avg_Voice_Inc_Calls          0.003665182\n",
       "Avg_Voice_Inc_Minutes        0.033318134\n",
       "Avg_Total_Out_Community      0.021012175\n",
       "Avg_Voice_Out_Community      0.008902252\n",
       "Avg_Voice_Inc_Community     -0.022864392\n",
       "Avg_SMS_Out_Community        0.070760325\n",
       "ARPU                         0.163975515"
      ]
     },
     "metadata": {},
     "output_type": "display_data"
    }
   ],
   "source": [
    "my_var<-Varimax(pca$loadings[,1:5],normalize =TRUE)\n",
    "\n",
    "my_var$loadings"
   ]
  },
  {
   "cell_type": "markdown",
   "metadata": {},
   "source": [
    "# My version"
   ]
  },
  {
   "cell_type": "code",
   "execution_count": 2,
   "metadata": {
    "collapsed": true
   },
   "outputs": [],
   "source": [
    "mydata <- read.csv(file=\"C:/Users/karvo/Desktop/aueb/marketing-sales/exercise 2/dataz.csv\", header=TRUE, sep=\",\")"
   ]
  },
  {
   "cell_type": "code",
   "execution_count": 6,
   "metadata": {},
   "outputs": [
    {
     "data": {
      "text/html": [
       "52341"
      ],
      "text/latex": [
       "52341"
      ],
      "text/markdown": [
       "52341"
      ],
      "text/plain": [
       "[1] 52341"
      ]
     },
     "metadata": {},
     "output_type": "display_data"
    }
   ],
   "source": [
    "sum(is.na(mydata))"
   ]
  },
  {
   "cell_type": "code",
   "execution_count": 81,
   "metadata": {},
   "outputs": [
    {
     "data": {
      "text/html": [
       "<ol class=list-inline>\n",
       "\t<li>29</li>\n",
       "\t<li>11</li>\n",
       "\t<li>11</li>\n",
       "\t<li>29</li>\n",
       "\t<li>8</li>\n",
       "\t<li>8</li>\n",
       "</ol>\n"
      ],
      "text/latex": [
       "\\begin{enumerate*}\n",
       "\\item 29\n",
       "\\item 11\n",
       "\\item 11\n",
       "\\item 29\n",
       "\\item 8\n",
       "\\item 8\n",
       "\\end{enumerate*}\n"
      ],
      "text/markdown": [
       "1. 29\n",
       "2. 11\n",
       "3. 11\n",
       "4. 29\n",
       "5. 8\n",
       "6. 8\n",
       "\n",
       "\n"
      ],
      "text/plain": [
       "[1] 29 11 11 29  8  8"
      ]
     },
     "metadata": {},
     "output_type": "display_data"
    }
   ],
   "source": [
    "head(mydata$Tenure)"
   ]
  },
  {
   "cell_type": "code",
   "execution_count": 13,
   "metadata": {},
   "outputs": [
    {
     "data": {
      "text/html": [
       "<table>\n",
       "<thead><tr><th scope=col>Avg_Total_Out_Calls</th><th scope=col>Avg_Voice_Out_Calls</th><th scope=col>Avg_Voice_Out_Minutes</th><th scope=col>Avg_SMS_Out_Calls</th><th scope=col>Avg_Internet_Out_Volume</th><th scope=col>Avg_Data_Out_Calls</th><th scope=col>Avg_OnNet_Out_Calls</th><th scope=col>Avg_OffNet_Out_Calls</th><th scope=col>Avg_Fixed_Out_Calls</th><th scope=col>Avg_International_Out_Calls</th><th scope=col>Avg_Roaming_Out_Calls</th><th scope=col>Avg_Voice_Inc_Calls</th><th scope=col>Avg_Voice_Inc_Minutes</th><th scope=col>Avg_Total_Out_Community</th><th scope=col>Avg_Voice_Out_Community</th><th scope=col>Avg_Voice_Inc_Community</th><th scope=col>Avg_SMS_Out_Community</th></tr></thead>\n",
       "<tbody>\n",
       "\t<tr><td>266.5000  </td><td>263.16667 </td><td>14997.500 </td><td> 3.333333 </td><td>0         </td><td>0.000000  </td><td>166.500000</td><td>58.666667 </td><td>35.333333 </td><td>0         </td><td>0.000000  </td><td>123.33333 </td><td>7578.667  </td><td>38.500000 </td><td>38.33333  </td><td>34.333333 </td><td>1.000000  </td></tr>\n",
       "\t<tr><td> 93.5000  </td><td> 86.00000 </td><td> 6543.833 </td><td> 7.500000 </td><td>0         </td><td>0.166667  </td><td>  6.666667</td><td>70.666667 </td><td> 8.333333 </td><td>0         </td><td>0.000000  </td><td> 93.16667 </td><td>4062.833  </td><td>24.666667 </td><td>23.66667  </td><td>22.500000 </td><td>3.500000  </td></tr>\n",
       "\t<tr><td>132.3333  </td><td>129.16667 </td><td> 6125.000 </td><td> 3.166667 </td><td>0         </td><td>0.000000  </td><td> 69.833333</td><td>43.333333 </td><td>16.000000 </td><td>0         </td><td>0.000000  </td><td> 84.33333 </td><td>3508.833  </td><td>37.000000 </td><td>35.66667  </td><td>25.666667 </td><td>2.666667  </td></tr>\n",
       "\t<tr><td> 26.0000  </td><td> 20.66667 </td><td> 2824.833 </td><td> 5.333333 </td><td>0         </td><td>0.000000  </td><td> 13.000000</td><td> 6.333333 </td><td> 1.333333 </td><td>0         </td><td>0.000000  </td><td> 18.50000 </td><td>2819.833  </td><td> 8.666667 </td><td> 8.00000  </td><td> 9.500000 </td><td>3.000000  </td></tr>\n",
       "\t<tr><td>175.1667  </td><td>119.00000 </td><td>10404.000 </td><td>55.500000 </td><td>0         </td><td>2.666667  </td><td> 41.500000</td><td>71.333333 </td><td> 2.333333 </td><td>0         </td><td>0.000000  </td><td> 20.16667 </td><td>1006.833  </td><td>21.000000 </td><td>18.33333  </td><td> 8.666667 </td><td>6.500000  </td></tr>\n",
       "\t<tr><td>126.0000  </td><td>116.33333 </td><td> 7467.167 </td><td>10.500000 </td><td>0         </td><td>0.000000  </td><td> 53.166667</td><td>36.166667 </td><td>21.166667 </td><td>0         </td><td>5.166667  </td><td> 68.00000 </td><td>4652.833  </td><td>30.333333 </td><td>28.16667  </td><td>21.500000 </td><td>4.500000  </td></tr>\n",
       "</tbody>\n",
       "</table>\n"
      ],
      "text/latex": [
       "\\begin{tabular}{r|lllllllllllllllll}\n",
       " Avg\\_Total\\_Out\\_Calls & Avg\\_Voice\\_Out\\_Calls & Avg\\_Voice\\_Out\\_Minutes & Avg\\_SMS\\_Out\\_Calls & Avg\\_Internet\\_Out\\_Volume & Avg\\_Data\\_Out\\_Calls & Avg\\_OnNet\\_Out\\_Calls & Avg\\_OffNet\\_Out\\_Calls & Avg\\_Fixed\\_Out\\_Calls & Avg\\_International\\_Out\\_Calls & Avg\\_Roaming\\_Out\\_Calls & Avg\\_Voice\\_Inc\\_Calls & Avg\\_Voice\\_Inc\\_Minutes & Avg\\_Total\\_Out\\_Community & Avg\\_Voice\\_Out\\_Community & Avg\\_Voice\\_Inc\\_Community & Avg\\_SMS\\_Out\\_Community\\\\\n",
       "\\hline\n",
       "\t 266.5000   & 263.16667  & 14997.500  &  3.333333  & 0          & 0.000000   & 166.500000 & 58.666667  & 35.333333  & 0          & 0.000000   & 123.33333  & 7578.667   & 38.500000  & 38.33333   & 34.333333  & 1.000000  \\\\\n",
       "\t  93.5000   &  86.00000  &  6543.833  &  7.500000  & 0          & 0.166667   &   6.666667 & 70.666667  &  8.333333  & 0          & 0.000000   &  93.16667  & 4062.833   & 24.666667  & 23.66667   & 22.500000  & 3.500000  \\\\\n",
       "\t 132.3333   & 129.16667  &  6125.000  &  3.166667  & 0          & 0.000000   &  69.833333 & 43.333333  & 16.000000  & 0          & 0.000000   &  84.33333  & 3508.833   & 37.000000  & 35.66667   & 25.666667  & 2.666667  \\\\\n",
       "\t  26.0000   &  20.66667  &  2824.833  &  5.333333  & 0          & 0.000000   &  13.000000 &  6.333333  &  1.333333  & 0          & 0.000000   &  18.50000  & 2819.833   &  8.666667  &  8.00000   &  9.500000  & 3.000000  \\\\\n",
       "\t 175.1667   & 119.00000  & 10404.000  & 55.500000  & 0          & 2.666667   &  41.500000 & 71.333333  &  2.333333  & 0          & 0.000000   &  20.16667  & 1006.833   & 21.000000  & 18.33333   &  8.666667  & 6.500000  \\\\\n",
       "\t 126.0000   & 116.33333  &  7467.167  & 10.500000  & 0          & 0.000000   &  53.166667 & 36.166667  & 21.166667  & 0          & 5.166667   &  68.00000  & 4652.833   & 30.333333  & 28.16667   & 21.500000  & 4.500000  \\\\\n",
       "\\end{tabular}\n"
      ],
      "text/markdown": [
       "\n",
       "Avg_Total_Out_Calls | Avg_Voice_Out_Calls | Avg_Voice_Out_Minutes | Avg_SMS_Out_Calls | Avg_Internet_Out_Volume | Avg_Data_Out_Calls | Avg_OnNet_Out_Calls | Avg_OffNet_Out_Calls | Avg_Fixed_Out_Calls | Avg_International_Out_Calls | Avg_Roaming_Out_Calls | Avg_Voice_Inc_Calls | Avg_Voice_Inc_Minutes | Avg_Total_Out_Community | Avg_Voice_Out_Community | Avg_Voice_Inc_Community | Avg_SMS_Out_Community | \n",
       "|---|---|---|---|---|---|\n",
       "| 266.5000   | 263.16667  | 14997.500  |  3.333333  | 0          | 0.000000   | 166.500000 | 58.666667  | 35.333333  | 0          | 0.000000   | 123.33333  | 7578.667   | 38.500000  | 38.33333   | 34.333333  | 1.000000   | \n",
       "|  93.5000   |  86.00000  |  6543.833  |  7.500000  | 0          | 0.166667   |   6.666667 | 70.666667  |  8.333333  | 0          | 0.000000   |  93.16667  | 4062.833   | 24.666667  | 23.66667   | 22.500000  | 3.500000   | \n",
       "| 132.3333   | 129.16667  |  6125.000  |  3.166667  | 0          | 0.000000   |  69.833333 | 43.333333  | 16.000000  | 0          | 0.000000   |  84.33333  | 3508.833   | 37.000000  | 35.66667   | 25.666667  | 2.666667   | \n",
       "|  26.0000   |  20.66667  |  2824.833  |  5.333333  | 0          | 0.000000   |  13.000000 |  6.333333  |  1.333333  | 0          | 0.000000   |  18.50000  | 2819.833   |  8.666667  |  8.00000   |  9.500000  | 3.000000   | \n",
       "| 175.1667   | 119.00000  | 10404.000  | 55.500000  | 0          | 2.666667   |  41.500000 | 71.333333  |  2.333333  | 0          | 0.000000   |  20.16667  | 1006.833   | 21.000000  | 18.33333   |  8.666667  | 6.500000   | \n",
       "| 126.0000   | 116.33333  |  7467.167  | 10.500000  | 0          | 0.000000   |  53.166667 | 36.166667  | 21.166667  | 0          | 5.166667   |  68.00000  | 4652.833   | 30.333333  | 28.16667   | 21.500000  | 4.500000   | \n",
       "\n",
       "\n"
      ],
      "text/plain": [
       "  Avg_Total_Out_Calls Avg_Voice_Out_Calls Avg_Voice_Out_Minutes\n",
       "1 266.5000            263.16667           14997.500            \n",
       "2  93.5000             86.00000            6543.833            \n",
       "3 132.3333            129.16667            6125.000            \n",
       "4  26.0000             20.66667            2824.833            \n",
       "5 175.1667            119.00000           10404.000            \n",
       "6 126.0000            116.33333            7467.167            \n",
       "  Avg_SMS_Out_Calls Avg_Internet_Out_Volume Avg_Data_Out_Calls\n",
       "1  3.333333         0                       0.000000          \n",
       "2  7.500000         0                       0.166667          \n",
       "3  3.166667         0                       0.000000          \n",
       "4  5.333333         0                       0.000000          \n",
       "5 55.500000         0                       2.666667          \n",
       "6 10.500000         0                       0.000000          \n",
       "  Avg_OnNet_Out_Calls Avg_OffNet_Out_Calls Avg_Fixed_Out_Calls\n",
       "1 166.500000          58.666667            35.333333          \n",
       "2   6.666667          70.666667             8.333333          \n",
       "3  69.833333          43.333333            16.000000          \n",
       "4  13.000000           6.333333             1.333333          \n",
       "5  41.500000          71.333333             2.333333          \n",
       "6  53.166667          36.166667            21.166667          \n",
       "  Avg_International_Out_Calls Avg_Roaming_Out_Calls Avg_Voice_Inc_Calls\n",
       "1 0                           0.000000              123.33333          \n",
       "2 0                           0.000000               93.16667          \n",
       "3 0                           0.000000               84.33333          \n",
       "4 0                           0.000000               18.50000          \n",
       "5 0                           0.000000               20.16667          \n",
       "6 0                           5.166667               68.00000          \n",
       "  Avg_Voice_Inc_Minutes Avg_Total_Out_Community Avg_Voice_Out_Community\n",
       "1 7578.667              38.500000               38.33333               \n",
       "2 4062.833              24.666667               23.66667               \n",
       "3 3508.833              37.000000               35.66667               \n",
       "4 2819.833               8.666667                8.00000               \n",
       "5 1006.833              21.000000               18.33333               \n",
       "6 4652.833              30.333333               28.16667               \n",
       "  Avg_Voice_Inc_Community Avg_SMS_Out_Community\n",
       "1 34.333333               1.000000             \n",
       "2 22.500000               3.500000             \n",
       "3 25.666667               2.666667             \n",
       "4  9.500000               3.000000             \n",
       "5  8.666667               6.500000             \n",
       "6 21.500000               4.500000             "
      ]
     },
     "metadata": {},
     "output_type": "display_data"
    }
   ],
   "source": [
    "my_data=mydata[,8:24]\n",
    "head(my_data)"
   ]
  },
  {
   "cell_type": "code",
   "execution_count": 3,
   "metadata": {},
   "outputs": [
    {
     "data": {
      "text/plain": [
       "    Min.  1st Qu.   Median     Mean  3rd Qu.     Max. \n",
       "   0.167   75.170  133.800  171.400  222.800 4746.000 "
      ]
     },
     "metadata": {},
     "output_type": "display_data"
    },
    {
     "data": {
      "text/html": [
       "<strong>2%:</strong> 10.666667"
      ],
      "text/latex": [
       "\\textbf{2\\textbackslash{}\\%:} 10.666667"
      ],
      "text/markdown": [
       "**2%:** 10.666667"
      ],
      "text/plain": [
       "      2% \n",
       "10.66667 "
      ]
     },
     "metadata": {},
     "output_type": "display_data"
    }
   ],
   "source": [
    "summary(my_data$Avg_Total_Out_Calls);quantile(my_data$Avg_Total_Out_Calls,.02)"
   ]
  },
  {
   "cell_type": "code",
   "execution_count": 15,
   "metadata": {
    "collapsed": true
   },
   "outputs": [],
   "source": [
    "library(plyr)\n",
    "library(dplyr)\n",
    "library(ggthemes)\n",
    "my_data<-filter(my_data,Avg_Total_Out_Calls>10.6)"
   ]
  },
  {
   "cell_type": "code",
   "execution_count": 74,
   "metadata": {},
   "outputs": [
    {
     "data": {},
     "metadata": {},
     "output_type": "display_data"
    },
    {
     "data": {
      "image/png": "[encoded data removed]",
      "text/plain": [
       "plot without title"
      ]
     },
     "metadata": {},
     "output_type": "display_data"
    }
   ],
   "source": [
    "library(ggplot2)\n",
    "ggplot(my_data,aes(Avg_Total_Out_Calls))+\n",
    "    geom_density(fill='brown3')+\n",
    "    scale_x_log10()+\n",
    "    theme_minimal()+\n",
    "    scale_fill_ptol()+\n",
    "    ggtitle('xixhs')"
   ]
  },
  {
   "cell_type": "code",
   "execution_count": 16,
   "metadata": {
    "collapsed": true
   },
   "outputs": [],
   "source": [
    "my_data$Voice_affinity<- my_data$Avg_Voice_Out_Calls / my_data$Avg_Total_Out_Calls\n",
    "my_data$sms_affinity <- my_data$Avg_SMS_Out_Calls / my_data $Avg_Total_Out_Calls\n",
    "my_data$data_affinity <- my_data$Avg_Data_Out_Calls / my_data$Avg_Total_Out_Calls\n",
    "my_data$fixed_affinity <- my_data$Avg_Fixed_Out_Calls / my_data$Avg_Voice_Out_Calls\n",
    "my_data$fixed_affinity[is.na(my_data$fixed_affinity)]<-0\n",
    "my_data$abroad_affinity <- (my_data$Avg_International_Out_Calls+my_data$Avg_Roaming_Out_Calls) / my_data$Avg_Voice_Out_Calls\n",
    "my_data$abroad_affinity[is.na(my_data$abroad_affinity)]<-0\n",
    "my_data$in_out_ratio <- my_data$Avg_Voice_Out_Calls / (my_data$Avg_Voice_Inc_Calls + my_data$Avg_Voice_Out_Calls)\n",
    "my_data$in_out_ratio[is.na(my_data$in_out_ratio)]<-0"
   ]
  },
  {
   "cell_type": "code",
   "execution_count": 17,
   "metadata": {},
   "outputs": [
    {
     "data": {
      "text/html": [
       "<table>\n",
       "<thead><tr><th scope=col>eig</th><th scope=col>variance</th><th scope=col>cumvariance</th></tr></thead>\n",
       "<tbody>\n",
       "\t<tr><td>7.7735233129</td><td>33.797927447</td><td> 33.79793   </td></tr>\n",
       "\t<tr><td>3.6501571247</td><td>15.870248368</td><td> 49.66818   </td></tr>\n",
       "\t<tr><td>1.8579868953</td><td> 8.078203893</td><td> 57.74638   </td></tr>\n",
       "\t<tr><td>1.8414643239</td><td> 8.006366626</td><td> 65.75275   </td></tr>\n",
       "\t<tr><td>1.5731272373</td><td> 6.839683640</td><td> 72.59243   </td></tr>\n",
       "\t<tr><td>1.2927015498</td><td> 5.620441521</td><td> 78.21287   </td></tr>\n",
       "\t<tr><td>0.8427194764</td><td> 3.663997723</td><td> 81.87687   </td></tr>\n",
       "\t<tr><td>0.8037127624</td><td> 3.494403315</td><td> 85.37127   </td></tr>\n",
       "\t<tr><td>0.6093820589</td><td> 2.649487213</td><td> 88.02076   </td></tr>\n",
       "\t<tr><td>0.5187132764</td><td> 2.255275115</td><td> 90.27603   </td></tr>\n",
       "\t<tr><td>0.4072460737</td><td> 1.770635103</td><td> 92.04667   </td></tr>\n",
       "\t<tr><td>0.3379443495</td><td> 1.469323259</td><td> 93.51599   </td></tr>\n",
       "\t<tr><td>0.3211441369</td><td> 1.396278856</td><td> 94.91227   </td></tr>\n",
       "\t<tr><td>0.2860903551</td><td> 1.243871109</td><td> 96.15614   </td></tr>\n",
       "\t<tr><td>0.2645869736</td><td> 1.150378146</td><td> 97.30652   </td></tr>\n",
       "\t<tr><td>0.2203280260</td><td> 0.957947939</td><td> 98.26447   </td></tr>\n",
       "\t<tr><td>0.1766445889</td><td> 0.768019952</td><td> 99.03249   </td></tr>\n",
       "\t<tr><td>0.1563755557</td><td> 0.679893720</td><td> 99.71238   </td></tr>\n",
       "\t<tr><td>0.0494322610</td><td> 0.214922874</td><td> 99.92731   </td></tr>\n",
       "\t<tr><td>0.0103231311</td><td> 0.044883179</td><td> 99.97219   </td></tr>\n",
       "\t<tr><td>0.0035699089</td><td> 0.015521343</td><td> 99.98771   </td></tr>\n",
       "\t<tr><td>0.0023363001</td><td> 0.010157827</td><td> 99.99787   </td></tr>\n",
       "\t<tr><td>0.0004903213</td><td> 0.002131832</td><td>100.00000   </td></tr>\n",
       "</tbody>\n",
       "</table>\n"
      ],
      "text/latex": [
       "\\begin{tabular}{r|lll}\n",
       " eig & variance & cumvariance\\\\\n",
       "\\hline\n",
       "\t 7.7735233129 & 33.797927447 &  33.79793   \\\\\n",
       "\t 3.6501571247 & 15.870248368 &  49.66818   \\\\\n",
       "\t 1.8579868953 &  8.078203893 &  57.74638   \\\\\n",
       "\t 1.8414643239 &  8.006366626 &  65.75275   \\\\\n",
       "\t 1.5731272373 &  6.839683640 &  72.59243   \\\\\n",
       "\t 1.2927015498 &  5.620441521 &  78.21287   \\\\\n",
       "\t 0.8427194764 &  3.663997723 &  81.87687   \\\\\n",
       "\t 0.8037127624 &  3.494403315 &  85.37127   \\\\\n",
       "\t 0.6093820589 &  2.649487213 &  88.02076   \\\\\n",
       "\t 0.5187132764 &  2.255275115 &  90.27603   \\\\\n",
       "\t 0.4072460737 &  1.770635103 &  92.04667   \\\\\n",
       "\t 0.3379443495 &  1.469323259 &  93.51599   \\\\\n",
       "\t 0.3211441369 &  1.396278856 &  94.91227   \\\\\n",
       "\t 0.2860903551 &  1.243871109 &  96.15614   \\\\\n",
       "\t 0.2645869736 &  1.150378146 &  97.30652   \\\\\n",
       "\t 0.2203280260 &  0.957947939 &  98.26447   \\\\\n",
       "\t 0.1766445889 &  0.768019952 &  99.03249   \\\\\n",
       "\t 0.1563755557 &  0.679893720 &  99.71238   \\\\\n",
       "\t 0.0494322610 &  0.214922874 &  99.92731   \\\\\n",
       "\t 0.0103231311 &  0.044883179 &  99.97219   \\\\\n",
       "\t 0.0035699089 &  0.015521343 &  99.98771   \\\\\n",
       "\t 0.0023363001 &  0.010157827 &  99.99787   \\\\\n",
       "\t 0.0004903213 &  0.002131832 & 100.00000   \\\\\n",
       "\\end{tabular}\n"
      ],
      "text/markdown": [
       "\n",
       "eig | variance | cumvariance | \n",
       "|---|---|---|---|---|---|---|---|---|---|---|---|---|---|---|---|---|---|---|---|---|---|---|\n",
       "| 7.7735233129 | 33.797927447 |  33.79793    | \n",
       "| 3.6501571247 | 15.870248368 |  49.66818    | \n",
       "| 1.8579868953 |  8.078203893 |  57.74638    | \n",
       "| 1.8414643239 |  8.006366626 |  65.75275    | \n",
       "| 1.5731272373 |  6.839683640 |  72.59243    | \n",
       "| 1.2927015498 |  5.620441521 |  78.21287    | \n",
       "| 0.8427194764 |  3.663997723 |  81.87687    | \n",
       "| 0.8037127624 |  3.494403315 |  85.37127    | \n",
       "| 0.6093820589 |  2.649487213 |  88.02076    | \n",
       "| 0.5187132764 |  2.255275115 |  90.27603    | \n",
       "| 0.4072460737 |  1.770635103 |  92.04667    | \n",
       "| 0.3379443495 |  1.469323259 |  93.51599    | \n",
       "| 0.3211441369 |  1.396278856 |  94.91227    | \n",
       "| 0.2860903551 |  1.243871109 |  96.15614    | \n",
       "| 0.2645869736 |  1.150378146 |  97.30652    | \n",
       "| 0.2203280260 |  0.957947939 |  98.26447    | \n",
       "| 0.1766445889 |  0.768019952 |  99.03249    | \n",
       "| 0.1563755557 |  0.679893720 |  99.71238    | \n",
       "| 0.0494322610 |  0.214922874 |  99.92731    | \n",
       "| 0.0103231311 |  0.044883179 |  99.97219    | \n",
       "| 0.0035699089 |  0.015521343 |  99.98771    | \n",
       "| 0.0023363001 |  0.010157827 |  99.99787    | \n",
       "| 0.0004903213 |  0.002131832 | 100.00000    | \n",
       "\n",
       "\n"
      ],
      "text/plain": [
       "   eig          variance     cumvariance\n",
       "1  7.7735233129 33.797927447  33.79793  \n",
       "2  3.6501571247 15.870248368  49.66818  \n",
       "3  1.8579868953  8.078203893  57.74638  \n",
       "4  1.8414643239  8.006366626  65.75275  \n",
       "5  1.5731272373  6.839683640  72.59243  \n",
       "6  1.2927015498  5.620441521  78.21287  \n",
       "7  0.8427194764  3.663997723  81.87687  \n",
       "8  0.8037127624  3.494403315  85.37127  \n",
       "9  0.6093820589  2.649487213  88.02076  \n",
       "10 0.5187132764  2.255275115  90.27603  \n",
       "11 0.4072460737  1.770635103  92.04667  \n",
       "12 0.3379443495  1.469323259  93.51599  \n",
       "13 0.3211441369  1.396278856  94.91227  \n",
       "14 0.2860903551  1.243871109  96.15614  \n",
       "15 0.2645869736  1.150378146  97.30652  \n",
       "16 0.2203280260  0.957947939  98.26447  \n",
       "17 0.1766445889  0.768019952  99.03249  \n",
       "18 0.1563755557  0.679893720  99.71238  \n",
       "19 0.0494322610  0.214922874  99.92731  \n",
       "20 0.0103231311  0.044883179  99.97219  \n",
       "21 0.0035699089  0.015521343  99.98771  \n",
       "22 0.0023363001  0.010157827  99.99787  \n",
       "23 0.0004903213  0.002131832 100.00000  "
      ]
     },
     "metadata": {},
     "output_type": "display_data"
    }
   ],
   "source": [
    "pca<-prcomp(my_data,scale=TRUE,center = TRUE)\n",
    "eig <- (pca$sdev)^2\n",
    "# Variances in percentage\n",
    "variance <- eig*100/sum(eig)\n",
    "# Cumulative variances\n",
    "cumvar <- cumsum(variance)\n",
    "\n",
    "eig.data <- data.frame(eig = eig, variance = variance,\n",
    "                     cumvariance = cumvar)\n",
    "\n",
    "eig.data"
   ]
  },
  {
   "cell_type": "code",
   "execution_count": 22,
   "metadata": {
    "collapsed": true
   },
   "outputs": [],
   "source": [
    "library(psych)\n",
    "pca<-principal(my_data,nfactors = 6,rotate = 'varimax')"
   ]
  },
  {
   "cell_type": "code",
   "execution_count": 23,
   "metadata": {},
   "outputs": [
    {
     "data": {
      "text/html": [
       "<table>\n",
       "<thead><tr><th></th><th scope=col>RC1</th><th scope=col>RC2</th><th scope=col>RC4</th><th scope=col>RC3</th><th scope=col>RC5</th><th scope=col>RC6</th></tr></thead>\n",
       "<tbody>\n",
       "\t<tr><th scope=row>Avg_Total_Out_Calls</th><td> 0.1287404857</td><td> 0.116771848 </td><td>-0.108962783 </td><td>-0.0049931360</td><td>-0.0177712040</td><td> 0.011452251 </td></tr>\n",
       "\t<tr><th scope=row>Avg_Voice_Out_Calls</th><td> 0.1598318617</td><td>-0.028687102 </td><td>-0.104114774 </td><td> 0.0141841052</td><td>-0.0081180848</td><td>-0.043042728 </td></tr>\n",
       "\t<tr><th scope=row>Avg_Voice_Out_Minutes</th><td> 0.1421049625</td><td>-0.012688266 </td><td>-0.109505063 </td><td> 0.0174142077</td><td> 0.0095225442</td><td>-0.048161439 </td></tr>\n",
       "\t<tr><th scope=row>Avg_SMS_Out_Calls</th><td> 0.0113078444</td><td> 0.263401235 </td><td>-0.063377165 </td><td> 0.0089398525</td><td>-0.0237984120</td><td> 0.080320363 </td></tr>\n",
       "\t<tr><th scope=row>Avg_Internet_Out_Volume</th><td>-0.0079379883</td><td>-0.025960778 </td><td> 0.007981532 </td><td> 0.0124661277</td><td> 0.3158838564</td><td> 0.027291470 </td></tr>\n",
       "\t<tr><th scope=row>Avg_Data_Out_Calls</th><td> 0.0011616409</td><td>-0.011150938 </td><td>-0.001032997 </td><td>-0.0063525289</td><td> 0.4734820789</td><td>-0.004017047 </td></tr>\n",
       "\t<tr><th scope=row>Avg_OnNet_Out_Calls</th><td> 0.1436729926</td><td>-0.040653268 </td><td>-0.101330981 </td><td>-0.0525733351</td><td> 0.0008135515</td><td>-0.199984854 </td></tr>\n",
       "\t<tr><th scope=row>Avg_OffNet_Out_Calls</th><td> 0.1460395063</td><td>-0.028839816 </td><td>-0.090859156 </td><td>-0.0642337216</td><td>-0.0203364097</td><td>-0.151108410 </td></tr>\n",
       "\t<tr><th scope=row>Avg_Fixed_Out_Calls</th><td> 0.0819260247</td><td> 0.023771306 </td><td>-0.054551088 </td><td>-0.0006755983</td><td> 0.0006059335</td><td> 0.448027713 </td></tr>\n",
       "\t<tr><th scope=row>Avg_International_Out_Calls</th><td>-0.0004800843</td><td>-0.038382821 </td><td> 0.004963238 </td><td> 0.3066264045</td><td> 0.0134774390</td><td> 0.010347420 </td></tr>\n",
       "\t<tr><th scope=row>Avg_Roaming_Out_Calls</th><td>-0.0199117132</td><td>-0.002055734 </td><td>-0.014257433 </td><td> 0.4464466729</td><td>-0.0008827320</td><td> 0.003842844 </td></tr>\n",
       "\t<tr><th scope=row>Avg_Voice_Inc_Calls</th><td> 0.0561616903</td><td>-0.037021551 </td><td> 0.261952709 </td><td>-0.0003744781</td><td> 0.0034563566</td><td>-0.044196416 </td></tr>\n",
       "\t<tr><th scope=row>Avg_Voice_Inc_Minutes</th><td> 0.0341206097</td><td>-0.014712770 </td><td> 0.268494455 </td><td> 0.0221130311</td><td> 0.0085359700</td><td>-0.049050597 </td></tr>\n",
       "\t<tr><th scope=row>Avg_Total_Out_Community</th><td> 0.1121878235</td><td> 0.022891956 </td><td> 0.013312850 </td><td> 0.0001776346</td><td>-0.0044965501</td><td> 0.122474329 </td></tr>\n",
       "\t<tr><th scope=row>Avg_Voice_Out_Community</th><td> 0.1185573300</td><td>-0.022156304 </td><td> 0.009664354 </td><td> 0.0038840823</td><td>-0.0006717061</td><td> 0.115722941 </td></tr>\n",
       "\t<tr><th scope=row>Avg_Voice_Inc_Community</th><td> 0.0224890993</td><td>-0.035660798 </td><td> 0.306983044 </td><td> 0.0393237983</td><td> 0.0024560793</td><td> 0.077733298 </td></tr>\n",
       "\t<tr><th scope=row>Avg_SMS_Out_Community</th><td> 0.0181285496</td><td> 0.227178591 </td><td> 0.002308290 </td><td>-0.0315199759</td><td>-0.0243461165</td><td>-0.009115277 </td></tr>\n",
       "\t<tr><th scope=row>Voice_affinity</th><td> 0.0461462762</td><td>-0.297436804 </td><td>-0.022144109 </td><td> 0.0520897870</td><td> 0.0222585563</td><td>-0.076055542 </td></tr>\n",
       "\t<tr><th scope=row>sms_affinity</th><td>-0.0473117745</td><td> 0.292490545 </td><td> 0.009652127 </td><td> 0.0018145359</td><td>-0.0252650418</td><td> 0.064396822 </td></tr>\n",
       "\t<tr><th scope=row>data_affinity</th><td>-0.0266113038</td><td>-0.058937776 </td><td> 0.037512812 </td><td> 0.0044299023</td><td> 0.4935832637</td><td>-0.007540076 </td></tr>\n",
       "\t<tr><th scope=row>fixed_affinity</th><td>-0.0588082385</td><td> 0.057502134 </td><td> 0.019062633 </td><td>-0.0106606082</td><td> 0.0138854219</td><td> 0.638243925 </td></tr>\n",
       "\t<tr><th scope=row>abroad_affinity</th><td>-0.0481556433</td><td>-0.018277241 </td><td> 0.006121996 </td><td> 0.4798481524</td><td> 0.0008482805</td><td>-0.021008321 </td></tr>\n",
       "\t<tr><th scope=row>in_out_ratio</th><td> 0.1161881222</td><td>-0.012461739 </td><td>-0.509415074 </td><td> 0.0357941254</td><td>-0.0062135962</td><td> 0.006460451 </td></tr>\n",
       "</tbody>\n",
       "</table>\n"
      ],
      "text/latex": [
       "\\begin{tabular}{r|llllll}\n",
       "  & RC1 & RC2 & RC4 & RC3 & RC5 & RC6\\\\\n",
       "\\hline\n",
       "\tAvg\\_Total\\_Out\\_Calls &  0.1287404857 &  0.116771848  & -0.108962783  & -0.0049931360 & -0.0177712040 &  0.011452251 \\\\\n",
       "\tAvg\\_Voice\\_Out\\_Calls &  0.1598318617 & -0.028687102  & -0.104114774  &  0.0141841052 & -0.0081180848 & -0.043042728 \\\\\n",
       "\tAvg\\_Voice\\_Out\\_Minutes &  0.1421049625 & -0.012688266  & -0.109505063  &  0.0174142077 &  0.0095225442 & -0.048161439 \\\\\n",
       "\tAvg\\_SMS\\_Out\\_Calls &  0.0113078444 &  0.263401235  & -0.063377165  &  0.0089398525 & -0.0237984120 &  0.080320363 \\\\\n",
       "\tAvg\\_Internet\\_Out\\_Volume & -0.0079379883 & -0.025960778  &  0.007981532  &  0.0124661277 &  0.3158838564 &  0.027291470 \\\\\n",
       "\tAvg\\_Data\\_Out\\_Calls &  0.0011616409 & -0.011150938  & -0.001032997  & -0.0063525289 &  0.4734820789 & -0.004017047 \\\\\n",
       "\tAvg\\_OnNet\\_Out\\_Calls &  0.1436729926 & -0.040653268  & -0.101330981  & -0.0525733351 &  0.0008135515 & -0.199984854 \\\\\n",
       "\tAvg\\_OffNet\\_Out\\_Calls &  0.1460395063 & -0.028839816  & -0.090859156  & -0.0642337216 & -0.0203364097 & -0.151108410 \\\\\n",
       "\tAvg\\_Fixed\\_Out\\_Calls &  0.0819260247 &  0.023771306  & -0.054551088  & -0.0006755983 &  0.0006059335 &  0.448027713 \\\\\n",
       "\tAvg\\_International\\_Out\\_Calls & -0.0004800843 & -0.038382821  &  0.004963238  &  0.3066264045 &  0.0134774390 &  0.010347420 \\\\\n",
       "\tAvg\\_Roaming\\_Out\\_Calls & -0.0199117132 & -0.002055734  & -0.014257433  &  0.4464466729 & -0.0008827320 &  0.003842844 \\\\\n",
       "\tAvg\\_Voice\\_Inc\\_Calls &  0.0561616903 & -0.037021551  &  0.261952709  & -0.0003744781 &  0.0034563566 & -0.044196416 \\\\\n",
       "\tAvg\\_Voice\\_Inc\\_Minutes &  0.0341206097 & -0.014712770  &  0.268494455  &  0.0221130311 &  0.0085359700 & -0.049050597 \\\\\n",
       "\tAvg\\_Total\\_Out\\_Community &  0.1121878235 &  0.022891956  &  0.013312850  &  0.0001776346 & -0.0044965501 &  0.122474329 \\\\\n",
       "\tAvg\\_Voice\\_Out\\_Community &  0.1185573300 & -0.022156304  &  0.009664354  &  0.0038840823 & -0.0006717061 &  0.115722941 \\\\\n",
       "\tAvg\\_Voice\\_Inc\\_Community &  0.0224890993 & -0.035660798  &  0.306983044  &  0.0393237983 &  0.0024560793 &  0.077733298 \\\\\n",
       "\tAvg\\_SMS\\_Out\\_Community &  0.0181285496 &  0.227178591  &  0.002308290  & -0.0315199759 & -0.0243461165 & -0.009115277 \\\\\n",
       "\tVoice\\_affinity &  0.0461462762 & -0.297436804  & -0.022144109  &  0.0520897870 &  0.0222585563 & -0.076055542 \\\\\n",
       "\tsms\\_affinity & -0.0473117745 &  0.292490545  &  0.009652127  &  0.0018145359 & -0.0252650418 &  0.064396822 \\\\\n",
       "\tdata\\_affinity & -0.0266113038 & -0.058937776  &  0.037512812  &  0.0044299023 &  0.4935832637 & -0.007540076 \\\\\n",
       "\tfixed\\_affinity & -0.0588082385 &  0.057502134  &  0.019062633  & -0.0106606082 &  0.0138854219 &  0.638243925 \\\\\n",
       "\tabroad\\_affinity & -0.0481556433 & -0.018277241  &  0.006121996  &  0.4798481524 &  0.0008482805 & -0.021008321 \\\\\n",
       "\tin\\_out\\_ratio &  0.1161881222 & -0.012461739  & -0.509415074  &  0.0357941254 & -0.0062135962 &  0.006460451 \\\\\n",
       "\\end{tabular}\n"
      ],
      "text/markdown": [
       "\n",
       "| <!--/--> | RC1 | RC2 | RC4 | RC3 | RC5 | RC6 | \n",
       "|---|---|---|---|---|---|---|---|---|---|---|---|---|---|---|---|---|---|---|---|---|---|---|\n",
       "| Avg_Total_Out_Calls |  0.1287404857 |  0.116771848  | -0.108962783  | -0.0049931360 | -0.0177712040 |  0.011452251  | \n",
       "| Avg_Voice_Out_Calls |  0.1598318617 | -0.028687102  | -0.104114774  |  0.0141841052 | -0.0081180848 | -0.043042728  | \n",
       "| Avg_Voice_Out_Minutes |  0.1421049625 | -0.012688266  | -0.109505063  |  0.0174142077 |  0.0095225442 | -0.048161439  | \n",
       "| Avg_SMS_Out_Calls |  0.0113078444 |  0.263401235  | -0.063377165  |  0.0089398525 | -0.0237984120 |  0.080320363  | \n",
       "| Avg_Internet_Out_Volume | -0.0079379883 | -0.025960778  |  0.007981532  |  0.0124661277 |  0.3158838564 |  0.027291470  | \n",
       "| Avg_Data_Out_Calls |  0.0011616409 | -0.011150938  | -0.001032997  | -0.0063525289 |  0.4734820789 | -0.004017047  | \n",
       "| Avg_OnNet_Out_Calls |  0.1436729926 | -0.040653268  | -0.101330981  | -0.0525733351 |  0.0008135515 | -0.199984854  | \n",
       "| Avg_OffNet_Out_Calls |  0.1460395063 | -0.028839816  | -0.090859156  | -0.0642337216 | -0.0203364097 | -0.151108410  | \n",
       "| Avg_Fixed_Out_Calls |  0.0819260247 |  0.023771306  | -0.054551088  | -0.0006755983 |  0.0006059335 |  0.448027713  | \n",
       "| Avg_International_Out_Calls | -0.0004800843 | -0.038382821  |  0.004963238  |  0.3066264045 |  0.0134774390 |  0.010347420  | \n",
       "| Avg_Roaming_Out_Calls | -0.0199117132 | -0.002055734  | -0.014257433  |  0.4464466729 | -0.0008827320 |  0.003842844  | \n",
       "| Avg_Voice_Inc_Calls |  0.0561616903 | -0.037021551  |  0.261952709  | -0.0003744781 |  0.0034563566 | -0.044196416  | \n",
       "| Avg_Voice_Inc_Minutes |  0.0341206097 | -0.014712770  |  0.268494455  |  0.0221130311 |  0.0085359700 | -0.049050597  | \n",
       "| Avg_Total_Out_Community |  0.1121878235 |  0.022891956  |  0.013312850  |  0.0001776346 | -0.0044965501 |  0.122474329  | \n",
       "| Avg_Voice_Out_Community |  0.1185573300 | -0.022156304  |  0.009664354  |  0.0038840823 | -0.0006717061 |  0.115722941  | \n",
       "| Avg_Voice_Inc_Community |  0.0224890993 | -0.035660798  |  0.306983044  |  0.0393237983 |  0.0024560793 |  0.077733298  | \n",
       "| Avg_SMS_Out_Community |  0.0181285496 |  0.227178591  |  0.002308290  | -0.0315199759 | -0.0243461165 | -0.009115277  | \n",
       "| Voice_affinity |  0.0461462762 | -0.297436804  | -0.022144109  |  0.0520897870 |  0.0222585563 | -0.076055542  | \n",
       "| sms_affinity | -0.0473117745 |  0.292490545  |  0.009652127  |  0.0018145359 | -0.0252650418 |  0.064396822  | \n",
       "| data_affinity | -0.0266113038 | -0.058937776  |  0.037512812  |  0.0044299023 |  0.4935832637 | -0.007540076  | \n",
       "| fixed_affinity | -0.0588082385 |  0.057502134  |  0.019062633  | -0.0106606082 |  0.0138854219 |  0.638243925  | \n",
       "| abroad_affinity | -0.0481556433 | -0.018277241  |  0.006121996  |  0.4798481524 |  0.0008482805 | -0.021008321  | \n",
       "| in_out_ratio |  0.1161881222 | -0.012461739  | -0.509415074  |  0.0357941254 | -0.0062135962 |  0.006460451  | \n",
       "\n",
       "\n"
      ],
      "text/plain": [
       "                            RC1           RC2          RC4         \n",
       "Avg_Total_Out_Calls          0.1287404857  0.116771848 -0.108962783\n",
       "Avg_Voice_Out_Calls          0.1598318617 -0.028687102 -0.104114774\n",
       "Avg_Voice_Out_Minutes        0.1421049625 -0.012688266 -0.109505063\n",
       "Avg_SMS_Out_Calls            0.0113078444  0.263401235 -0.063377165\n",
       "Avg_Internet_Out_Volume     -0.0079379883 -0.025960778  0.007981532\n",
       "Avg_Data_Out_Calls           0.0011616409 -0.011150938 -0.001032997\n",
       "Avg_OnNet_Out_Calls          0.1436729926 -0.040653268 -0.101330981\n",
       "Avg_OffNet_Out_Calls         0.1460395063 -0.028839816 -0.090859156\n",
       "Avg_Fixed_Out_Calls          0.0819260247  0.023771306 -0.054551088\n",
       "Avg_International_Out_Calls -0.0004800843 -0.038382821  0.004963238\n",
       "Avg_Roaming_Out_Calls       -0.0199117132 -0.002055734 -0.014257433\n",
       "Avg_Voice_Inc_Calls          0.0561616903 -0.037021551  0.261952709\n",
       "Avg_Voice_Inc_Minutes        0.0341206097 -0.014712770  0.268494455\n",
       "Avg_Total_Out_Community      0.1121878235  0.022891956  0.013312850\n",
       "Avg_Voice_Out_Community      0.1185573300 -0.022156304  0.009664354\n",
       "Avg_Voice_Inc_Community      0.0224890993 -0.035660798  0.306983044\n",
       "Avg_SMS_Out_Community        0.0181285496  0.227178591  0.002308290\n",
       "Voice_affinity               0.0461462762 -0.297436804 -0.022144109\n",
       "sms_affinity                -0.0473117745  0.292490545  0.009652127\n",
       "data_affinity               -0.0266113038 -0.058937776  0.037512812\n",
       "fixed_affinity              -0.0588082385  0.057502134  0.019062633\n",
       "abroad_affinity             -0.0481556433 -0.018277241  0.006121996\n",
       "in_out_ratio                 0.1161881222 -0.012461739 -0.509415074\n",
       "                            RC3           RC5           RC6         \n",
       "Avg_Total_Out_Calls         -0.0049931360 -0.0177712040  0.011452251\n",
       "Avg_Voice_Out_Calls          0.0141841052 -0.0081180848 -0.043042728\n",
       "Avg_Voice_Out_Minutes        0.0174142077  0.0095225442 -0.048161439\n",
       "Avg_SMS_Out_Calls            0.0089398525 -0.0237984120  0.080320363\n",
       "Avg_Internet_Out_Volume      0.0124661277  0.3158838564  0.027291470\n",
       "Avg_Data_Out_Calls          -0.0063525289  0.4734820789 -0.004017047\n",
       "Avg_OnNet_Out_Calls         -0.0525733351  0.0008135515 -0.199984854\n",
       "Avg_OffNet_Out_Calls        -0.0642337216 -0.0203364097 -0.151108410\n",
       "Avg_Fixed_Out_Calls         -0.0006755983  0.0006059335  0.448027713\n",
       "Avg_International_Out_Calls  0.3066264045  0.0134774390  0.010347420\n",
       "Avg_Roaming_Out_Calls        0.4464466729 -0.0008827320  0.003842844\n",
       "Avg_Voice_Inc_Calls         -0.0003744781  0.0034563566 -0.044196416\n",
       "Avg_Voice_Inc_Minutes        0.0221130311  0.0085359700 -0.049050597\n",
       "Avg_Total_Out_Community      0.0001776346 -0.0044965501  0.122474329\n",
       "Avg_Voice_Out_Community      0.0038840823 -0.0006717061  0.115722941\n",
       "Avg_Voice_Inc_Community      0.0393237983  0.0024560793  0.077733298\n",
       "Avg_SMS_Out_Community       -0.0315199759 -0.0243461165 -0.009115277\n",
       "Voice_affinity               0.0520897870  0.0222585563 -0.076055542\n",
       "sms_affinity                 0.0018145359 -0.0252650418  0.064396822\n",
       "data_affinity                0.0044299023  0.4935832637 -0.007540076\n",
       "fixed_affinity              -0.0106606082  0.0138854219  0.638243925\n",
       "abroad_affinity              0.4798481524  0.0008482805 -0.021008321\n",
       "in_out_ratio                 0.0357941254 -0.0062135962  0.006460451"
      ]
     },
     "metadata": {},
     "output_type": "display_data"
    },
    {
     "data": {
      "text/plain": [
       "\n",
       "Loadings:\n",
       "                            RC1    RC2    RC4    RC3    RC5    RC6   \n",
       "Avg_Total_Out_Calls          0.852  0.450                            \n",
       "Avg_Voice_Out_Calls          0.977                                   \n",
       "Avg_Voice_Out_Minutes        0.858                                   \n",
       "Avg_SMS_Out_Calls            0.199  0.856                            \n",
       "Avg_Internet_Out_Volume                                  0.558       \n",
       "Avg_Data_Out_Calls           0.113  0.169                0.855       \n",
       "Avg_OnNet_Out_Calls          0.785                             -0.231\n",
       "Avg_OffNet_Out_Calls         0.826                             -0.163\n",
       "Avg_Fixed_Out_Calls          0.638 -0.129                       0.672\n",
       "Avg_International_Out_Calls  0.143                0.576              \n",
       "Avg_Roaming_Out_Calls               0.113         0.843              \n",
       "Avg_Voice_Inc_Calls          0.736         0.616                     \n",
       "Avg_Voice_Inc_Minutes        0.615         0.608                     \n",
       "Avg_Total_Out_Community      0.871         0.188                0.195\n",
       "Avg_Voice_Out_Community      0.880         0.175                0.212\n",
       "Avg_Voice_Inc_Community      0.609         0.662  0.105         0.125\n",
       "Avg_SMS_Out_Community        0.272  0.793  0.102               -0.134\n",
       "Voice_affinity               0.101 -0.946                            \n",
       "sms_affinity                -0.106  0.946                            \n",
       "data_affinity                                            0.863       \n",
       "fixed_affinity              -0.201 -0.193                       0.895\n",
       "abroad_affinity             -0.104                0.890              \n",
       "in_out_ratio                 0.128 -0.120 -0.900                     \n",
       "\n",
       "                 RC1   RC2   RC4   RC3   RC5   RC6\n",
       "SS loadings    7.191 3.500 2.088 1.917 1.815 1.479\n",
       "Proportion Var 0.313 0.152 0.091 0.083 0.079 0.064\n",
       "Cumulative Var 0.313 0.465 0.556 0.639 0.718 0.782"
      ]
     },
     "metadata": {},
     "output_type": "display_data"
    }
   ],
   "source": [
    "pca$weights;pca$loadings"
   ]
  },
  {
   "cell_type": "code",
   "execution_count": 20,
   "metadata": {},
   "outputs": [
    {
     "data": {
      "text/html": [
       "<dl class=dl-horizontal>\n",
       "\t<dt>Avg_Total_Out_Calls</dt>\n",
       "\t\t<dd>0.937936992164908</dd>\n",
       "\t<dt>Avg_Voice_Out_Calls</dt>\n",
       "\t\t<dd>0.96332706678971</dd>\n",
       "\t<dt>Avg_Voice_Out_Minutes</dt>\n",
       "\t\t<dd>0.753383783025333</dd>\n",
       "\t<dt>Avg_SMS_Out_Calls</dt>\n",
       "\t\t<dd>0.789165991586869</dd>\n",
       "\t<dt>Avg_Internet_Out_Volume</dt>\n",
       "\t\t<dd>0.31425720942229</dd>\n",
       "\t<dt>Avg_Data_Out_Calls</dt>\n",
       "\t\t<dd>0.774514038326354</dd>\n",
       "\t<dt>Avg_OnNet_Out_Calls</dt>\n",
       "\t\t<dd>0.673412958601443</dd>\n",
       "\t<dt>Avg_OffNet_Out_Calls</dt>\n",
       "\t\t<dd>0.712862181698228</dd>\n",
       "\t<dt>Avg_Fixed_Out_Calls</dt>\n",
       "\t\t<dd>0.875990540162207</dd>\n",
       "\t<dt>Avg_International_Out_Calls</dt>\n",
       "\t\t<dd>0.354380879590391</dd>\n",
       "\t<dt>Avg_Roaming_Out_Calls</dt>\n",
       "\t\t<dd>0.728512823801554</dd>\n",
       "\t<dt>Avg_Voice_Inc_Calls</dt>\n",
       "\t\t<dd>0.925888854327478</dd>\n",
       "\t<dt>Avg_Voice_Inc_Minutes</dt>\n",
       "\t\t<dd>0.77001134775278</dd>\n",
       "\t<dt>Avg_Total_Out_Community</dt>\n",
       "\t\t<dd>0.844675795627417</dd>\n",
       "\t<dt>Avg_Voice_Out_Community</dt>\n",
       "\t\t<dd>0.857030265488251</dd>\n",
       "\t<dt>Avg_Voice_Inc_Community</dt>\n",
       "\t\t<dd>0.836849485809293</dd>\n",
       "\t<dt>Avg_SMS_Out_Community</dt>\n",
       "\t\t<dd>0.73575407646403</dd>\n",
       "\t<dt>Voice_affinity</dt>\n",
       "\t\t<dd>0.919519482555302</dd>\n",
       "\t<dt>sms_affinity</dt>\n",
       "\t\t<dd>0.923549174392808</dd>\n",
       "\t<dt>data_affinity</dt>\n",
       "\t\t<dd>0.749200227518294</dd>\n",
       "\t<dt>fixed_affinity</dt>\n",
       "\t\t<dd>0.886241632402519</dd>\n",
       "\t<dt>abroad_affinity</dt>\n",
       "\t\t<dd>0.811000461218612</dd>\n",
       "\t<dt>in_out_ratio</dt>\n",
       "\t\t<dd>0.85149517522643</dd>\n",
       "</dl>\n"
      ],
      "text/latex": [
       "\\begin{description*}\n",
       "\\item[Avg\\textbackslash{}\\_Total\\textbackslash{}\\_Out\\textbackslash{}\\_Calls] 0.937936992164908\n",
       "\\item[Avg\\textbackslash{}\\_Voice\\textbackslash{}\\_Out\\textbackslash{}\\_Calls] 0.96332706678971\n",
       "\\item[Avg\\textbackslash{}\\_Voice\\textbackslash{}\\_Out\\textbackslash{}\\_Minutes] 0.753383783025333\n",
       "\\item[Avg\\textbackslash{}\\_SMS\\textbackslash{}\\_Out\\textbackslash{}\\_Calls] 0.789165991586869\n",
       "\\item[Avg\\textbackslash{}\\_Internet\\textbackslash{}\\_Out\\textbackslash{}\\_Volume] 0.31425720942229\n",
       "\\item[Avg\\textbackslash{}\\_Data\\textbackslash{}\\_Out\\textbackslash{}\\_Calls] 0.774514038326354\n",
       "\\item[Avg\\textbackslash{}\\_OnNet\\textbackslash{}\\_Out\\textbackslash{}\\_Calls] 0.673412958601443\n",
       "\\item[Avg\\textbackslash{}\\_OffNet\\textbackslash{}\\_Out\\textbackslash{}\\_Calls] 0.712862181698228\n",
       "\\item[Avg\\textbackslash{}\\_Fixed\\textbackslash{}\\_Out\\textbackslash{}\\_Calls] 0.875990540162207\n",
       "\\item[Avg\\textbackslash{}\\_International\\textbackslash{}\\_Out\\textbackslash{}\\_Calls] 0.354380879590391\n",
       "\\item[Avg\\textbackslash{}\\_Roaming\\textbackslash{}\\_Out\\textbackslash{}\\_Calls] 0.728512823801554\n",
       "\\item[Avg\\textbackslash{}\\_Voice\\textbackslash{}\\_Inc\\textbackslash{}\\_Calls] 0.925888854327478\n",
       "\\item[Avg\\textbackslash{}\\_Voice\\textbackslash{}\\_Inc\\textbackslash{}\\_Minutes] 0.77001134775278\n",
       "\\item[Avg\\textbackslash{}\\_Total\\textbackslash{}\\_Out\\textbackslash{}\\_Community] 0.844675795627417\n",
       "\\item[Avg\\textbackslash{}\\_Voice\\textbackslash{}\\_Out\\textbackslash{}\\_Community] 0.857030265488251\n",
       "\\item[Avg\\textbackslash{}\\_Voice\\textbackslash{}\\_Inc\\textbackslash{}\\_Community] 0.836849485809293\n",
       "\\item[Avg\\textbackslash{}\\_SMS\\textbackslash{}\\_Out\\textbackslash{}\\_Community] 0.73575407646403\n",
       "\\item[Voice\\textbackslash{}\\_affinity] 0.919519482555302\n",
       "\\item[sms\\textbackslash{}\\_affinity] 0.923549174392808\n",
       "\\item[data\\textbackslash{}\\_affinity] 0.749200227518294\n",
       "\\item[fixed\\textbackslash{}\\_affinity] 0.886241632402519\n",
       "\\item[abroad\\textbackslash{}\\_affinity] 0.811000461218612\n",
       "\\item[in\\textbackslash{}\\_out\\textbackslash{}\\_ratio] 0.85149517522643\n",
       "\\end{description*}\n"
      ],
      "text/markdown": [
       "Avg_Total_Out_Calls\n",
       ":   0.937936992164908Avg_Voice_Out_Calls\n",
       ":   0.96332706678971Avg_Voice_Out_Minutes\n",
       ":   0.753383783025333Avg_SMS_Out_Calls\n",
       ":   0.789165991586869Avg_Internet_Out_Volume\n",
       ":   0.31425720942229Avg_Data_Out_Calls\n",
       ":   0.774514038326354Avg_OnNet_Out_Calls\n",
       ":   0.673412958601443Avg_OffNet_Out_Calls\n",
       ":   0.712862181698228Avg_Fixed_Out_Calls\n",
       ":   0.875990540162207Avg_International_Out_Calls\n",
       ":   0.354380879590391Avg_Roaming_Out_Calls\n",
       ":   0.728512823801554Avg_Voice_Inc_Calls\n",
       ":   0.925888854327478Avg_Voice_Inc_Minutes\n",
       ":   0.77001134775278Avg_Total_Out_Community\n",
       ":   0.844675795627417Avg_Voice_Out_Community\n",
       ":   0.857030265488251Avg_Voice_Inc_Community\n",
       ":   0.836849485809293Avg_SMS_Out_Community\n",
       ":   0.73575407646403Voice_affinity\n",
       ":   0.919519482555302sms_affinity\n",
       ":   0.923549174392808data_affinity\n",
       ":   0.749200227518294fixed_affinity\n",
       ":   0.886241632402519abroad_affinity\n",
       ":   0.811000461218612in_out_ratio\n",
       ":   0.85149517522643\n",
       "\n"
      ],
      "text/plain": [
       "        Avg_Total_Out_Calls         Avg_Voice_Out_Calls \n",
       "                  0.9379370                   0.9633271 \n",
       "      Avg_Voice_Out_Minutes           Avg_SMS_Out_Calls \n",
       "                  0.7533838                   0.7891660 \n",
       "    Avg_Internet_Out_Volume          Avg_Data_Out_Calls \n",
       "                  0.3142572                   0.7745140 \n",
       "        Avg_OnNet_Out_Calls        Avg_OffNet_Out_Calls \n",
       "                  0.6734130                   0.7128622 \n",
       "        Avg_Fixed_Out_Calls Avg_International_Out_Calls \n",
       "                  0.8759905                   0.3543809 \n",
       "      Avg_Roaming_Out_Calls         Avg_Voice_Inc_Calls \n",
       "                  0.7285128                   0.9258889 \n",
       "      Avg_Voice_Inc_Minutes     Avg_Total_Out_Community \n",
       "                  0.7700113                   0.8446758 \n",
       "    Avg_Voice_Out_Community     Avg_Voice_Inc_Community \n",
       "                  0.8570303                   0.8368495 \n",
       "      Avg_SMS_Out_Community              Voice_affinity \n",
       "                  0.7357541                   0.9195195 \n",
       "               sms_affinity               data_affinity \n",
       "                  0.9235492                   0.7492002 \n",
       "             fixed_affinity             abroad_affinity \n",
       "                  0.8862416                   0.8110005 \n",
       "               in_out_ratio \n",
       "                  0.8514952 "
      ]
     },
     "metadata": {},
     "output_type": "display_data"
    }
   ],
   "source": [
    "pca$communality"
   ]
  },
  {
   "cell_type": "code",
   "execution_count": 76,
   "metadata": {},
   "outputs": [
    {
     "data": {
      "text/html": [
       "<table>\n",
       "<thead><tr><th scope=col>RC1</th><th scope=col>RC2</th><th scope=col>RC5</th><th scope=col>RC4</th><th scope=col>RC3</th><th scope=col>RC6</th></tr></thead>\n",
       "<tbody>\n",
       "\t<tr><td> 1.006969391</td><td>-0.795818720</td><td>-0.997841880</td><td>-0.29191541 </td><td>-0.25062211 </td><td>-0.807105031</td></tr>\n",
       "\t<tr><td>-0.415359281</td><td>-0.414262696</td><td> 0.175695125</td><td>-0.26792470 </td><td>-0.15782729 </td><td>-0.744514345</td></tr>\n",
       "\t<tr><td> 0.056866404</td><td>-0.625044039</td><td>-0.436846450</td><td>-0.25362599 </td><td>-0.23950387 </td><td>-0.578889732</td></tr>\n",
       "\t<tr><td>-1.019931715</td><td>-0.035362285</td><td>-0.089043681</td><td>-0.24141406 </td><td>-0.25512707 </td><td>-0.906762384</td></tr>\n",
       "\t<tr><td>-0.044454322</td><td> 0.477404329</td><td>-1.743729011</td><td>-0.26691662 </td><td> 0.72229947 </td><td>-1.100841217</td></tr>\n",
       "\t<tr><td>-0.155398395</td><td>-0.342419249</td><td>-0.538350286</td><td> 0.19780490 </td><td>-0.24642298 </td><td>-0.255900615</td></tr>\n",
       "\t<tr><td>-1.196030993</td><td>-0.506007736</td><td>-0.009382316</td><td>-0.23056321 </td><td>-0.14986515 </td><td> 1.052280667</td></tr>\n",
       "\t<tr><td>-0.828645663</td><td> 2.136011914</td><td>-0.277335055</td><td>-0.35349573 </td><td>-0.29323213 </td><td> 0.218907253</td></tr>\n",
       "\t<tr><td>-0.525426323</td><td> 1.867254369</td><td> 0.117596754</td><td>-0.38723073 </td><td>-0.43079851 </td><td>-0.264147121</td></tr>\n",
       "\t<tr><td>-0.330337011</td><td>-0.032415824</td><td>-0.642106441</td><td> 0.12066213 </td><td>-0.28366422 </td><td>-0.565886372</td></tr>\n",
       "\t<tr><td>-0.557261375</td><td> 3.249777441</td><td> 0.760389928</td><td> 0.09997585 </td><td>-0.55596359 </td><td> 0.235784369</td></tr>\n",
       "\t<tr><td>-0.881402088</td><td>-0.549483402</td><td> 0.564487438</td><td>-0.24209626 </td><td>-0.15456876 </td><td> 0.898605615</td></tr>\n",
       "\t<tr><td>-0.607709540</td><td>-0.155746650</td><td>-0.804276170</td><td>-0.23278854 </td><td>-0.26998628 </td><td>-0.614039991</td></tr>\n",
       "\t<tr><td> 0.191469905</td><td>-0.603272561</td><td>-0.076321207</td><td>-0.24315043 </td><td>-0.23433215 </td><td> 0.241054238</td></tr>\n",
       "\t<tr><td>-0.843372744</td><td>-0.753815658</td><td>-1.621085082</td><td> 7.07905849 </td><td>-0.19345993 </td><td>-0.636231714</td></tr>\n",
       "\t<tr><td>-1.004317795</td><td>-0.625624755</td><td> 0.584333913</td><td>-0.05854979 </td><td>-0.15641505 </td><td> 0.535831062</td></tr>\n",
       "\t<tr><td> 0.655904137</td><td> 0.283891063</td><td>-0.801960211</td><td> 2.79026208 </td><td>-0.33066628 </td><td>-0.827336402</td></tr>\n",
       "\t<tr><td>-0.349774129</td><td> 1.821197162</td><td>-1.149969923</td><td>-0.32343675 </td><td>-0.27256125 </td><td>-0.548490318</td></tr>\n",
       "\t<tr><td>-0.364170584</td><td>-0.731595323</td><td>-0.272964324</td><td>-0.22645229 </td><td>-0.20394144 </td><td>-0.233680988</td></tr>\n",
       "\t<tr><td>-0.287831356</td><td>-0.519257783</td><td>-1.435119458</td><td>-0.19878235 </td><td>-0.13353558 </td><td>-0.427582686</td></tr>\n",
       "\t<tr><td>-0.743200671</td><td> 0.001311272</td><td>-0.401625748</td><td>-0.19091212 </td><td>-0.25653333 </td><td>-0.472271794</td></tr>\n",
       "\t<tr><td>-0.006966964</td><td> 0.795668967</td><td> 0.369712015</td><td>-0.32887432 </td><td>-0.24451912 </td><td>-1.253444233</td></tr>\n",
       "\t<tr><td>-0.814160999</td><td>-0.679883578</td><td>-0.013682938</td><td>-0.23093293 </td><td> 0.25682130 </td><td> 0.003720254</td></tr>\n",
       "\t<tr><td>-0.608993131</td><td>-0.555683441</td><td>-1.991931808</td><td>-0.06911933 </td><td>-0.19861311 </td><td> 0.363113604</td></tr>\n",
       "\t<tr><td> 0.345393598</td><td>-0.821549022</td><td>-1.393946405</td><td>-0.23522664 </td><td>-0.26002007 </td><td>-1.038340289</td></tr>\n",
       "\t<tr><td> 0.478759204</td><td>-0.005251249</td><td>-0.356884534</td><td>-0.36327139 </td><td> 0.07257801 </td><td>-1.027270768</td></tr>\n",
       "\t<tr><td>-0.386866912</td><td>-0.045648501</td><td>-0.230541281</td><td>-0.28461299 </td><td> 2.29978062 </td><td>-1.097648105</td></tr>\n",
       "\t<tr><td>-1.220904223</td><td> 2.189726394</td><td>-1.310718861</td><td>-0.31149357 </td><td>-0.45261210 </td><td>-0.470113346</td></tr>\n",
       "\t<tr><td>-0.354640674</td><td>-0.587113527</td><td>-2.053587528</td><td>-0.11774891 </td><td>-0.24282823 </td><td>-1.221033652</td></tr>\n",
       "\t<tr><td> 2.153089261</td><td>-0.783043496</td><td> 3.283675211</td><td>-0.31353957 </td><td>-0.32751802 </td><td>-1.916492112</td></tr>\n",
       "\t<tr><td>...</td><td>...</td><td>...</td><td>...</td><td>...</td><td>...</td></tr>\n",
       "\t<tr><td>-0.03638525</td><td>-0.60777434</td><td>-0.52436818</td><td>-0.2592381 </td><td>-0.2200397 </td><td> 0.1716978 </td></tr>\n",
       "\t<tr><td>-0.50517853</td><td>-0.62064129</td><td>-0.61228874</td><td>-0.2164431 </td><td>-0.1620591 </td><td> 1.0010269 </td></tr>\n",
       "\t<tr><td> 1.99014559</td><td>-0.99197980</td><td>-0.88328629</td><td>-0.3081388 </td><td> 0.2847977 </td><td>-1.7732967 </td></tr>\n",
       "\t<tr><td>-0.14113791</td><td> 0.55363067</td><td>-0.73186764</td><td>-0.2733988 </td><td> 2.8187137 </td><td> 1.3158816 </td></tr>\n",
       "\t<tr><td> 1.34473865</td><td>-0.97504633</td><td> 0.92275790</td><td>-0.2919330 </td><td> 1.6435653 </td><td>-0.5997074 </td></tr>\n",
       "\t<tr><td>-0.01056739</td><td> 1.58393596</td><td> 1.80380161</td><td>-0.3657529 </td><td>-0.4190411 </td><td>-1.1696249 </td></tr>\n",
       "\t<tr><td> 1.66911760</td><td> 2.05219180</td><td>-0.46028953</td><td>-0.4767590 </td><td> 0.3223857 </td><td>-0.4169568 </td></tr>\n",
       "\t<tr><td> 0.52093248</td><td>-0.26633766</td><td>-0.31482695</td><td>-0.3483454 </td><td>-0.3379390 </td><td>-0.8383791 </td></tr>\n",
       "\t<tr><td> 0.60089420</td><td> 0.97428492</td><td> 2.96815989</td><td>-0.3063276 </td><td> 1.7628537 </td><td>-1.0137035 </td></tr>\n",
       "\t<tr><td> 1.01298693</td><td>-0.76209704</td><td>-0.08817578</td><td>-0.2718629 </td><td> 0.9707791 </td><td>-0.0334455 </td></tr>\n",
       "\t<tr><td>-0.22682817</td><td>-0.44992534</td><td>-0.48443234</td><td>-0.2393484 </td><td> 0.2746824 </td><td>-1.0850895 </td></tr>\n",
       "\t<tr><td>-0.17634258</td><td>-0.10708446</td><td>-1.17693381</td><td>-0.2260542 </td><td>-0.2592036 </td><td>-0.1074416 </td></tr>\n",
       "\t<tr><td> 0.18340226</td><td>-0.37466925</td><td>-0.43336761</td><td>-0.2220963 </td><td>-0.1514156 </td><td> 3.4551270 </td></tr>\n",
       "\t<tr><td> 0.36857617</td><td> 1.83259415</td><td>-0.74036193</td><td>-0.3501910 </td><td>-0.2964398 </td><td> 0.5013124 </td></tr>\n",
       "\t<tr><td>-0.44844723</td><td>-0.50310783</td><td>-0.58092383</td><td>-0.2237376 </td><td>-0.1667224 </td><td> 2.0316466 </td></tr>\n",
       "\t<tr><td>-0.79717526</td><td> 1.28468949</td><td>-0.62440864</td><td>-0.3275301 </td><td>-0.3991842 </td><td>-0.7228173 </td></tr>\n",
       "\t<tr><td> 0.90285978</td><td> 0.07206766</td><td> 0.09300629</td><td>-0.3470017 </td><td>-0.3477401 </td><td>-0.2287531 </td></tr>\n",
       "\t<tr><td>-0.64559814</td><td>-0.53689553</td><td> 0.10536195</td><td>-0.2269360 </td><td> 3.7768495 </td><td>-0.4370143 </td></tr>\n",
       "\t<tr><td>-0.71928897</td><td>-0.71420061</td><td>-1.14087732</td><td>-0.1519710 </td><td>-0.2064337 </td><td>-0.4263710 </td></tr>\n",
       "\t<tr><td> 0.67841027</td><td>-0.26267532</td><td>-1.98781373</td><td>-0.2455680 </td><td>-0.2154239 </td><td> 3.4286973 </td></tr>\n",
       "\t<tr><td> 0.08061027</td><td>-0.24913889</td><td>-1.36797482</td><td>-0.2423921 </td><td>-0.2398402 </td><td> 0.5307728 </td></tr>\n",
       "\t<tr><td>-0.34453803</td><td>-0.63119507</td><td>-0.93771878</td><td>-0.1839985 </td><td>-0.1939639 </td><td> 0.6923197 </td></tr>\n",
       "\t<tr><td> 0.09118193</td><td>-0.49210968</td><td>-0.09195325</td><td>-0.2446566 </td><td>-0.2278959 </td><td>-1.0746581 </td></tr>\n",
       "\t<tr><td>-0.19483405</td><td>-0.40322069</td><td> 0.16352720</td><td>-0.2586391 </td><td>-0.2262517 </td><td>-0.6540493 </td></tr>\n",
       "\t<tr><td>-0.27482075</td><td>-0.62366037</td><td>-0.83308577</td><td>-0.2199662 </td><td>-0.1839770 </td><td> 0.7665490 </td></tr>\n",
       "\t<tr><td>-0.01434907</td><td>-0.45386926</td><td>-0.15561627</td><td>-0.2695729 </td><td>-0.2452343 </td><td>-0.1347492 </td></tr>\n",
       "\t<tr><td>-0.46121828</td><td>-0.64842222</td><td>-0.02605228</td><td>-0.2210851 </td><td> 0.6433421 </td><td>-0.9131061 </td></tr>\n",
       "\t<tr><td> 2.50506637</td><td>-0.31114726</td><td>-0.10486690</td><td> 1.7122444 </td><td>-0.1363366 </td><td> 1.1005971 </td></tr>\n",
       "\t<tr><td> 0.76811869</td><td>-0.39510961</td><td> 1.05404356</td><td>-0.1947547 </td><td>-0.1067609 </td><td> 0.1488387 </td></tr>\n",
       "\t<tr><td>-0.11946604</td><td>-0.77638648</td><td>-1.03260781</td><td>-0.2133906 </td><td> 0.1208828 </td><td>-0.6062765 </td></tr>\n",
       "</tbody>\n",
       "</table>\n"
      ],
      "text/latex": [
       "\\begin{tabular}{llllll}\n",
       " RC1 & RC2 & RC5 & RC4 & RC3 & RC6\\\\\n",
       "\\hline\n",
       "\t  1.006969391 & -0.795818720 & -0.997841880 & -0.29191541  & -0.25062211  & -0.807105031\\\\\n",
       "\t -0.415359281 & -0.414262696 &  0.175695125 & -0.26792470  & -0.15782729  & -0.744514345\\\\\n",
       "\t  0.056866404 & -0.625044039 & -0.436846450 & -0.25362599  & -0.23950387  & -0.578889732\\\\\n",
       "\t -1.019931715 & -0.035362285 & -0.089043681 & -0.24141406  & -0.25512707  & -0.906762384\\\\\n",
       "\t -0.044454322 &  0.477404329 & -1.743729011 & -0.26691662  &  0.72229947  & -1.100841217\\\\\n",
       "\t -0.155398395 & -0.342419249 & -0.538350286 &  0.19780490  & -0.24642298  & -0.255900615\\\\\n",
       "\t -1.196030993 & -0.506007736 & -0.009382316 & -0.23056321  & -0.14986515  &  1.052280667\\\\\n",
       "\t -0.828645663 &  2.136011914 & -0.277335055 & -0.35349573  & -0.29323213  &  0.218907253\\\\\n",
       "\t -0.525426323 &  1.867254369 &  0.117596754 & -0.38723073  & -0.43079851  & -0.264147121\\\\\n",
       "\t -0.330337011 & -0.032415824 & -0.642106441 &  0.12066213  & -0.28366422  & -0.565886372\\\\\n",
       "\t -0.557261375 &  3.249777441 &  0.760389928 &  0.09997585  & -0.55596359  &  0.235784369\\\\\n",
       "\t -0.881402088 & -0.549483402 &  0.564487438 & -0.24209626  & -0.15456876  &  0.898605615\\\\\n",
       "\t -0.607709540 & -0.155746650 & -0.804276170 & -0.23278854  & -0.26998628  & -0.614039991\\\\\n",
       "\t  0.191469905 & -0.603272561 & -0.076321207 & -0.24315043  & -0.23433215  &  0.241054238\\\\\n",
       "\t -0.843372744 & -0.753815658 & -1.621085082 &  7.07905849  & -0.19345993  & -0.636231714\\\\\n",
       "\t -1.004317795 & -0.625624755 &  0.584333913 & -0.05854979  & -0.15641505  &  0.535831062\\\\\n",
       "\t  0.655904137 &  0.283891063 & -0.801960211 &  2.79026208  & -0.33066628  & -0.827336402\\\\\n",
       "\t -0.349774129 &  1.821197162 & -1.149969923 & -0.32343675  & -0.27256125  & -0.548490318\\\\\n",
       "\t -0.364170584 & -0.731595323 & -0.272964324 & -0.22645229  & -0.20394144  & -0.233680988\\\\\n",
       "\t -0.287831356 & -0.519257783 & -1.435119458 & -0.19878235  & -0.13353558  & -0.427582686\\\\\n",
       "\t -0.743200671 &  0.001311272 & -0.401625748 & -0.19091212  & -0.25653333  & -0.472271794\\\\\n",
       "\t -0.006966964 &  0.795668967 &  0.369712015 & -0.32887432  & -0.24451912  & -1.253444233\\\\\n",
       "\t -0.814160999 & -0.679883578 & -0.013682938 & -0.23093293  &  0.25682130  &  0.003720254\\\\\n",
       "\t -0.608993131 & -0.555683441 & -1.991931808 & -0.06911933  & -0.19861311  &  0.363113604\\\\\n",
       "\t  0.345393598 & -0.821549022 & -1.393946405 & -0.23522664  & -0.26002007  & -1.038340289\\\\\n",
       "\t  0.478759204 & -0.005251249 & -0.356884534 & -0.36327139  &  0.07257801  & -1.027270768\\\\\n",
       "\t -0.386866912 & -0.045648501 & -0.230541281 & -0.28461299  &  2.29978062  & -1.097648105\\\\\n",
       "\t -1.220904223 &  2.189726394 & -1.310718861 & -0.31149357  & -0.45261210  & -0.470113346\\\\\n",
       "\t -0.354640674 & -0.587113527 & -2.053587528 & -0.11774891  & -0.24282823  & -1.221033652\\\\\n",
       "\t  2.153089261 & -0.783043496 &  3.283675211 & -0.31353957  & -0.32751802  & -1.916492112\\\\\n",
       "\t ... & ... & ... & ... & ... & ...\\\\\n",
       "\t -0.03638525 & -0.60777434 & -0.52436818 & -0.2592381  & -0.2200397  &  0.1716978 \\\\\n",
       "\t -0.50517853 & -0.62064129 & -0.61228874 & -0.2164431  & -0.1620591  &  1.0010269 \\\\\n",
       "\t  1.99014559 & -0.99197980 & -0.88328629 & -0.3081388  &  0.2847977  & -1.7732967 \\\\\n",
       "\t -0.14113791 &  0.55363067 & -0.73186764 & -0.2733988  &  2.8187137  &  1.3158816 \\\\\n",
       "\t  1.34473865 & -0.97504633 &  0.92275790 & -0.2919330  &  1.6435653  & -0.5997074 \\\\\n",
       "\t -0.01056739 &  1.58393596 &  1.80380161 & -0.3657529  & -0.4190411  & -1.1696249 \\\\\n",
       "\t  1.66911760 &  2.05219180 & -0.46028953 & -0.4767590  &  0.3223857  & -0.4169568 \\\\\n",
       "\t  0.52093248 & -0.26633766 & -0.31482695 & -0.3483454  & -0.3379390  & -0.8383791 \\\\\n",
       "\t  0.60089420 &  0.97428492 &  2.96815989 & -0.3063276  &  1.7628537  & -1.0137035 \\\\\n",
       "\t  1.01298693 & -0.76209704 & -0.08817578 & -0.2718629  &  0.9707791  & -0.0334455 \\\\\n",
       "\t -0.22682817 & -0.44992534 & -0.48443234 & -0.2393484  &  0.2746824  & -1.0850895 \\\\\n",
       "\t -0.17634258 & -0.10708446 & -1.17693381 & -0.2260542  & -0.2592036  & -0.1074416 \\\\\n",
       "\t  0.18340226 & -0.37466925 & -0.43336761 & -0.2220963  & -0.1514156  &  3.4551270 \\\\\n",
       "\t  0.36857617 &  1.83259415 & -0.74036193 & -0.3501910  & -0.2964398  &  0.5013124 \\\\\n",
       "\t -0.44844723 & -0.50310783 & -0.58092383 & -0.2237376  & -0.1667224  &  2.0316466 \\\\\n",
       "\t -0.79717526 &  1.28468949 & -0.62440864 & -0.3275301  & -0.3991842  & -0.7228173 \\\\\n",
       "\t  0.90285978 &  0.07206766 &  0.09300629 & -0.3470017  & -0.3477401  & -0.2287531 \\\\\n",
       "\t -0.64559814 & -0.53689553 &  0.10536195 & -0.2269360  &  3.7768495  & -0.4370143 \\\\\n",
       "\t -0.71928897 & -0.71420061 & -1.14087732 & -0.1519710  & -0.2064337  & -0.4263710 \\\\\n",
       "\t  0.67841027 & -0.26267532 & -1.98781373 & -0.2455680  & -0.2154239  &  3.4286973 \\\\\n",
       "\t  0.08061027 & -0.24913889 & -1.36797482 & -0.2423921  & -0.2398402  &  0.5307728 \\\\\n",
       "\t -0.34453803 & -0.63119507 & -0.93771878 & -0.1839985  & -0.1939639  &  0.6923197 \\\\\n",
       "\t  0.09118193 & -0.49210968 & -0.09195325 & -0.2446566  & -0.2278959  & -1.0746581 \\\\\n",
       "\t -0.19483405 & -0.40322069 &  0.16352720 & -0.2586391  & -0.2262517  & -0.6540493 \\\\\n",
       "\t -0.27482075 & -0.62366037 & -0.83308577 & -0.2199662  & -0.1839770  &  0.7665490 \\\\\n",
       "\t -0.01434907 & -0.45386926 & -0.15561627 & -0.2695729  & -0.2452343  & -0.1347492 \\\\\n",
       "\t -0.46121828 & -0.64842222 & -0.02605228 & -0.2210851  &  0.6433421  & -0.9131061 \\\\\n",
       "\t  2.50506637 & -0.31114726 & -0.10486690 &  1.7122444  & -0.1363366  &  1.1005971 \\\\\n",
       "\t  0.76811869 & -0.39510961 &  1.05404356 & -0.1947547  & -0.1067609  &  0.1488387 \\\\\n",
       "\t -0.11946604 & -0.77638648 & -1.03260781 & -0.2133906  &  0.1208828  & -0.6062765 \\\\\n",
       "\\end{tabular}\n"
      ],
      "text/markdown": [
       "\n",
       "RC1 | RC2 | RC5 | RC4 | RC3 | RC6 | \n",
       "|---|---|---|---|---|---|---|---|---|---|---|---|---|---|---|---|---|---|---|---|---|---|---|---|---|---|---|---|---|---|---|---|---|---|---|---|---|---|---|---|---|---|---|---|---|---|---|---|---|---|---|---|---|---|---|---|---|---|---|---|---|\n",
       "|  1.006969391 | -0.795818720 | -0.997841880 | -0.29191541  | -0.25062211  | -0.807105031 | \n",
       "| -0.415359281 | -0.414262696 |  0.175695125 | -0.26792470  | -0.15782729  | -0.744514345 | \n",
       "|  0.056866404 | -0.625044039 | -0.436846450 | -0.25362599  | -0.23950387  | -0.578889732 | \n",
       "| -1.019931715 | -0.035362285 | -0.089043681 | -0.24141406  | -0.25512707  | -0.906762384 | \n",
       "| -0.044454322 |  0.477404329 | -1.743729011 | -0.26691662  |  0.72229947  | -1.100841217 | \n",
       "| -0.155398395 | -0.342419249 | -0.538350286 |  0.19780490  | -0.24642298  | -0.255900615 | \n",
       "| -1.196030993 | -0.506007736 | -0.009382316 | -0.23056321  | -0.14986515  |  1.052280667 | \n",
       "| -0.828645663 |  2.136011914 | -0.277335055 | -0.35349573  | -0.29323213  |  0.218907253 | \n",
       "| -0.525426323 |  1.867254369 |  0.117596754 | -0.38723073  | -0.43079851  | -0.264147121 | \n",
       "| -0.330337011 | -0.032415824 | -0.642106441 |  0.12066213  | -0.28366422  | -0.565886372 | \n",
       "| -0.557261375 |  3.249777441 |  0.760389928 |  0.09997585  | -0.55596359  |  0.235784369 | \n",
       "| -0.881402088 | -0.549483402 |  0.564487438 | -0.24209626  | -0.15456876  |  0.898605615 | \n",
       "| -0.607709540 | -0.155746650 | -0.804276170 | -0.23278854  | -0.26998628  | -0.614039991 | \n",
       "|  0.191469905 | -0.603272561 | -0.076321207 | -0.24315043  | -0.23433215  |  0.241054238 | \n",
       "| -0.843372744 | -0.753815658 | -1.621085082 |  7.07905849  | -0.19345993  | -0.636231714 | \n",
       "| -1.004317795 | -0.625624755 |  0.584333913 | -0.05854979  | -0.15641505  |  0.535831062 | \n",
       "|  0.655904137 |  0.283891063 | -0.801960211 |  2.79026208  | -0.33066628  | -0.827336402 | \n",
       "| -0.349774129 |  1.821197162 | -1.149969923 | -0.32343675  | -0.27256125  | -0.548490318 | \n",
       "| -0.364170584 | -0.731595323 | -0.272964324 | -0.22645229  | -0.20394144  | -0.233680988 | \n",
       "| -0.287831356 | -0.519257783 | -1.435119458 | -0.19878235  | -0.13353558  | -0.427582686 | \n",
       "| -0.743200671 |  0.001311272 | -0.401625748 | -0.19091212  | -0.25653333  | -0.472271794 | \n",
       "| -0.006966964 |  0.795668967 |  0.369712015 | -0.32887432  | -0.24451912  | -1.253444233 | \n",
       "| -0.814160999 | -0.679883578 | -0.013682938 | -0.23093293  |  0.25682130  |  0.003720254 | \n",
       "| -0.608993131 | -0.555683441 | -1.991931808 | -0.06911933  | -0.19861311  |  0.363113604 | \n",
       "|  0.345393598 | -0.821549022 | -1.393946405 | -0.23522664  | -0.26002007  | -1.038340289 | \n",
       "|  0.478759204 | -0.005251249 | -0.356884534 | -0.36327139  |  0.07257801  | -1.027270768 | \n",
       "| -0.386866912 | -0.045648501 | -0.230541281 | -0.28461299  |  2.29978062  | -1.097648105 | \n",
       "| -1.220904223 |  2.189726394 | -1.310718861 | -0.31149357  | -0.45261210  | -0.470113346 | \n",
       "| -0.354640674 | -0.587113527 | -2.053587528 | -0.11774891  | -0.24282823  | -1.221033652 | \n",
       "|  2.153089261 | -0.783043496 |  3.283675211 | -0.31353957  | -0.32751802  | -1.916492112 | \n",
       "| ... | ... | ... | ... | ... | ... | \n",
       "| -0.03638525 | -0.60777434 | -0.52436818 | -0.2592381  | -0.2200397  |  0.1716978  | \n",
       "| -0.50517853 | -0.62064129 | -0.61228874 | -0.2164431  | -0.1620591  |  1.0010269  | \n",
       "|  1.99014559 | -0.99197980 | -0.88328629 | -0.3081388  |  0.2847977  | -1.7732967  | \n",
       "| -0.14113791 |  0.55363067 | -0.73186764 | -0.2733988  |  2.8187137  |  1.3158816  | \n",
       "|  1.34473865 | -0.97504633 |  0.92275790 | -0.2919330  |  1.6435653  | -0.5997074  | \n",
       "| -0.01056739 |  1.58393596 |  1.80380161 | -0.3657529  | -0.4190411  | -1.1696249  | \n",
       "|  1.66911760 |  2.05219180 | -0.46028953 | -0.4767590  |  0.3223857  | -0.4169568  | \n",
       "|  0.52093248 | -0.26633766 | -0.31482695 | -0.3483454  | -0.3379390  | -0.8383791  | \n",
       "|  0.60089420 |  0.97428492 |  2.96815989 | -0.3063276  |  1.7628537  | -1.0137035  | \n",
       "|  1.01298693 | -0.76209704 | -0.08817578 | -0.2718629  |  0.9707791  | -0.0334455  | \n",
       "| -0.22682817 | -0.44992534 | -0.48443234 | -0.2393484  |  0.2746824  | -1.0850895  | \n",
       "| -0.17634258 | -0.10708446 | -1.17693381 | -0.2260542  | -0.2592036  | -0.1074416  | \n",
       "|  0.18340226 | -0.37466925 | -0.43336761 | -0.2220963  | -0.1514156  |  3.4551270  | \n",
       "|  0.36857617 |  1.83259415 | -0.74036193 | -0.3501910  | -0.2964398  |  0.5013124  | \n",
       "| -0.44844723 | -0.50310783 | -0.58092383 | -0.2237376  | -0.1667224  |  2.0316466  | \n",
       "| -0.79717526 |  1.28468949 | -0.62440864 | -0.3275301  | -0.3991842  | -0.7228173  | \n",
       "|  0.90285978 |  0.07206766 |  0.09300629 | -0.3470017  | -0.3477401  | -0.2287531  | \n",
       "| -0.64559814 | -0.53689553 |  0.10536195 | -0.2269360  |  3.7768495  | -0.4370143  | \n",
       "| -0.71928897 | -0.71420061 | -1.14087732 | -0.1519710  | -0.2064337  | -0.4263710  | \n",
       "|  0.67841027 | -0.26267532 | -1.98781373 | -0.2455680  | -0.2154239  |  3.4286973  | \n",
       "|  0.08061027 | -0.24913889 | -1.36797482 | -0.2423921  | -0.2398402  |  0.5307728  | \n",
       "| -0.34453803 | -0.63119507 | -0.93771878 | -0.1839985  | -0.1939639  |  0.6923197  | \n",
       "|  0.09118193 | -0.49210968 | -0.09195325 | -0.2446566  | -0.2278959  | -1.0746581  | \n",
       "| -0.19483405 | -0.40322069 |  0.16352720 | -0.2586391  | -0.2262517  | -0.6540493  | \n",
       "| -0.27482075 | -0.62366037 | -0.83308577 | -0.2199662  | -0.1839770  |  0.7665490  | \n",
       "| -0.01434907 | -0.45386926 | -0.15561627 | -0.2695729  | -0.2452343  | -0.1347492  | \n",
       "| -0.46121828 | -0.64842222 | -0.02605228 | -0.2210851  |  0.6433421  | -0.9131061  | \n",
       "|  2.50506637 | -0.31114726 | -0.10486690 |  1.7122444  | -0.1363366  |  1.1005971  | \n",
       "|  0.76811869 | -0.39510961 |  1.05404356 | -0.1947547  | -0.1067609  |  0.1488387  | \n",
       "| -0.11946604 | -0.77638648 | -1.03260781 | -0.2133906  |  0.1208828  | -0.6062765  | \n",
       "\n",
       "\n"
      ],
      "text/plain": [
       "      RC1          RC2          RC5          RC4         RC3        \n",
       " [1,]  1.006969391 -0.795818720 -0.997841880 -0.29191541 -0.25062211\n",
       " [2,] -0.415359281 -0.414262696  0.175695125 -0.26792470 -0.15782729\n",
       " [3,]  0.056866404 -0.625044039 -0.436846450 -0.25362599 -0.23950387\n",
       " [4,] -1.019931715 -0.035362285 -0.089043681 -0.24141406 -0.25512707\n",
       " [5,] -0.044454322  0.477404329 -1.743729011 -0.26691662  0.72229947\n",
       " [6,] -0.155398395 -0.342419249 -0.538350286  0.19780490 -0.24642298\n",
       " [7,] -1.196030993 -0.506007736 -0.009382316 -0.23056321 -0.14986515\n",
       " [8,] -0.828645663  2.136011914 -0.277335055 -0.35349573 -0.29323213\n",
       " [9,] -0.525426323  1.867254369  0.117596754 -0.38723073 -0.43079851\n",
       "[10,] -0.330337011 -0.032415824 -0.642106441  0.12066213 -0.28366422\n",
       "[11,] -0.557261375  3.249777441  0.760389928  0.09997585 -0.55596359\n",
       "[12,] -0.881402088 -0.549483402  0.564487438 -0.24209626 -0.15456876\n",
       "[13,] -0.607709540 -0.155746650 -0.804276170 -0.23278854 -0.26998628\n",
       "[14,]  0.191469905 -0.603272561 -0.076321207 -0.24315043 -0.23433215\n",
       "[15,] -0.843372744 -0.753815658 -1.621085082  7.07905849 -0.19345993\n",
       "[16,] -1.004317795 -0.625624755  0.584333913 -0.05854979 -0.15641505\n",
       "[17,]  0.655904137  0.283891063 -0.801960211  2.79026208 -0.33066628\n",
       "[18,] -0.349774129  1.821197162 -1.149969923 -0.32343675 -0.27256125\n",
       "[19,] -0.364170584 -0.731595323 -0.272964324 -0.22645229 -0.20394144\n",
       "[20,] -0.287831356 -0.519257783 -1.435119458 -0.19878235 -0.13353558\n",
       "[21,] -0.743200671  0.001311272 -0.401625748 -0.19091212 -0.25653333\n",
       "[22,] -0.006966964  0.795668967  0.369712015 -0.32887432 -0.24451912\n",
       "[23,] -0.814160999 -0.679883578 -0.013682938 -0.23093293  0.25682130\n",
       "[24,] -0.608993131 -0.555683441 -1.991931808 -0.06911933 -0.19861311\n",
       "[25,]  0.345393598 -0.821549022 -1.393946405 -0.23522664 -0.26002007\n",
       "[26,]  0.478759204 -0.005251249 -0.356884534 -0.36327139  0.07257801\n",
       "[27,] -0.386866912 -0.045648501 -0.230541281 -0.28461299  2.29978062\n",
       "[28,] -1.220904223  2.189726394 -1.310718861 -0.31149357 -0.45261210\n",
       "[29,] -0.354640674 -0.587113527 -2.053587528 -0.11774891 -0.24282823\n",
       "[30,]  2.153089261 -0.783043496  3.283675211 -0.31353957 -0.32751802\n",
       "[31,] ...          ...          ...          ...         ...        \n",
       "[32,] -0.03638525  -0.60777434  -0.52436818  -0.2592381  -0.2200397 \n",
       "[33,] -0.50517853  -0.62064129  -0.61228874  -0.2164431  -0.1620591 \n",
       "[34,]  1.99014559  -0.99197980  -0.88328629  -0.3081388   0.2847977 \n",
       "[35,] -0.14113791   0.55363067  -0.73186764  -0.2733988   2.8187137 \n",
       "[36,]  1.34473865  -0.97504633   0.92275790  -0.2919330   1.6435653 \n",
       "[37,] -0.01056739   1.58393596   1.80380161  -0.3657529  -0.4190411 \n",
       "[38,]  1.66911760   2.05219180  -0.46028953  -0.4767590   0.3223857 \n",
       "[39,]  0.52093248  -0.26633766  -0.31482695  -0.3483454  -0.3379390 \n",
       "[40,]  0.60089420   0.97428492   2.96815989  -0.3063276   1.7628537 \n",
       "[41,]  1.01298693  -0.76209704  -0.08817578  -0.2718629   0.9707791 \n",
       "[42,] -0.22682817  -0.44992534  -0.48443234  -0.2393484   0.2746824 \n",
       "[43,] -0.17634258  -0.10708446  -1.17693381  -0.2260542  -0.2592036 \n",
       "[44,]  0.18340226  -0.37466925  -0.43336761  -0.2220963  -0.1514156 \n",
       "[45,]  0.36857617   1.83259415  -0.74036193  -0.3501910  -0.2964398 \n",
       "[46,] -0.44844723  -0.50310783  -0.58092383  -0.2237376  -0.1667224 \n",
       "[47,] -0.79717526   1.28468949  -0.62440864  -0.3275301  -0.3991842 \n",
       "[48,]  0.90285978   0.07206766   0.09300629  -0.3470017  -0.3477401 \n",
       "[49,] -0.64559814  -0.53689553   0.10536195  -0.2269360   3.7768495 \n",
       "[50,] -0.71928897  -0.71420061  -1.14087732  -0.1519710  -0.2064337 \n",
       "[51,]  0.67841027  -0.26267532  -1.98781373  -0.2455680  -0.2154239 \n",
       "[52,]  0.08061027  -0.24913889  -1.36797482  -0.2423921  -0.2398402 \n",
       "[53,] -0.34453803  -0.63119507  -0.93771878  -0.1839985  -0.1939639 \n",
       "[54,]  0.09118193  -0.49210968  -0.09195325  -0.2446566  -0.2278959 \n",
       "[55,] -0.19483405  -0.40322069   0.16352720  -0.2586391  -0.2262517 \n",
       "[56,] -0.27482075  -0.62366037  -0.83308577  -0.2199662  -0.1839770 \n",
       "[57,] -0.01434907  -0.45386926  -0.15561627  -0.2695729  -0.2452343 \n",
       "[58,] -0.46121828  -0.64842222  -0.02605228  -0.2210851   0.6433421 \n",
       "[59,]  2.50506637  -0.31114726  -0.10486690   1.7122444  -0.1363366 \n",
       "[60,]  0.76811869  -0.39510961   1.05404356  -0.1947547  -0.1067609 \n",
       "[61,] -0.11946604  -0.77638648  -1.03260781  -0.2133906   0.1208828 \n",
       "      RC6         \n",
       " [1,] -0.807105031\n",
       " [2,] -0.744514345\n",
       " [3,] -0.578889732\n",
       " [4,] -0.906762384\n",
       " [5,] -1.100841217\n",
       " [6,] -0.255900615\n",
       " [7,]  1.052280667\n",
       " [8,]  0.218907253\n",
       " [9,] -0.264147121\n",
       "[10,] -0.565886372\n",
       "[11,]  0.235784369\n",
       "[12,]  0.898605615\n",
       "[13,] -0.614039991\n",
       "[14,]  0.241054238\n",
       "[15,] -0.636231714\n",
       "[16,]  0.535831062\n",
       "[17,] -0.827336402\n",
       "[18,] -0.548490318\n",
       "[19,] -0.233680988\n",
       "[20,] -0.427582686\n",
       "[21,] -0.472271794\n",
       "[22,] -1.253444233\n",
       "[23,]  0.003720254\n",
       "[24,]  0.363113604\n",
       "[25,] -1.038340289\n",
       "[26,] -1.027270768\n",
       "[27,] -1.097648105\n",
       "[28,] -0.470113346\n",
       "[29,] -1.221033652\n",
       "[30,] -1.916492112\n",
       "[31,] ...         \n",
       "[32,]  0.1716978  \n",
       "[33,]  1.0010269  \n",
       "[34,] -1.7732967  \n",
       "[35,]  1.3158816  \n",
       "[36,] -0.5997074  \n",
       "[37,] -1.1696249  \n",
       "[38,] -0.4169568  \n",
       "[39,] -0.8383791  \n",
       "[40,] -1.0137035  \n",
       "[41,] -0.0334455  \n",
       "[42,] -1.0850895  \n",
       "[43,] -0.1074416  \n",
       "[44,]  3.4551270  \n",
       "[45,]  0.5013124  \n",
       "[46,]  2.0316466  \n",
       "[47,] -0.7228173  \n",
       "[48,] -0.2287531  \n",
       "[49,] -0.4370143  \n",
       "[50,] -0.4263710  \n",
       "[51,]  3.4286973  \n",
       "[52,]  0.5307728  \n",
       "[53,]  0.6923197  \n",
       "[54,] -1.0746581  \n",
       "[55,] -0.6540493  \n",
       "[56,]  0.7665490  \n",
       "[57,] -0.1347492  \n",
       "[58,] -0.9131061  \n",
       "[59,]  1.1005971  \n",
       "[60,]  0.1488387  \n",
       "[61,] -0.6062765  "
      ]
     },
     "metadata": {},
     "output_type": "display_data"
    }
   ],
   "source": [
    "pca$scores"
   ]
  },
  {
   "cell_type": "code",
   "execution_count": 29,
   "metadata": {
    "collapsed": true
   },
   "outputs": [],
   "source": [
    "aux_dataz=data.frame(pca$scores)\n",
    "names(aux_dataz)<-c('voice_usage','sms_usage','preference_to_be_called','internationality','internet_usage','fixed_usage')"
   ]
  },
  {
   "cell_type": "code",
   "execution_count": 32,
   "metadata": {
    "collapsed": true
   },
   "outputs": [],
   "source": [
    "setwd('C:/Users/karvo/Desktop/aueb/marketing-sales/exercise 2')"
   ]
  },
  {
   "cell_type": "code",
   "execution_count": 33,
   "metadata": {
    "collapsed": true
   },
   "outputs": [],
   "source": [
    "write.csv(aux_dataz,file='pca-data.csv',row.names=FALSE)"
   ]
  },
  {
   "cell_type": "code",
   "execution_count": 34,
   "metadata": {
    "collapsed": true
   },
   "outputs": [],
   "source": [
    "write.csv(my_data,file='new_data.csv',row.names=FALSE)"
   ]
  },
  {
   "cell_type": "markdown",
   "metadata": {},
   "source": [
    "# plotting"
   ]
  },
  {
   "cell_type": "code",
   "execution_count": 51,
   "metadata": {},
   "outputs": [
    {
     "name": "stderr",
     "output_type": "stream",
     "text": [
      "Warning message:\n",
      "\"Deprecated, use tibble::rownames_to_column() instead.\"\n",
      "Attaching package: 'ggplot2'\n",
      "\n",
      "The following objects are masked from 'package:psych':\n",
      "\n",
      "    %+%, alpha\n",
      "\n",
      "Warning message in grid.Call(L_textBounds, as.graphicsAnnot(x$label), x$x, x$y, :\n",
      "\"font family not found in Windows font database\"Warning message in grid.Call.graphics(L_text, as.graphicsAnnot(x$label), x$x, x$y, :\n",
      "\"font family not found in Windows font database\"Warning message in grid.Call.graphics(L_text, as.graphicsAnnot(x$label), x$x, x$y, :\n",
      "\"font family not found in Windows font database\"Warning message in grid.Call.graphics(L_text, as.graphicsAnnot(x$label), x$x, x$y, :\n",
      "\"font family not found in Windows font database\""
     ]
    },
    {
     "data": {},
     "metadata": {},
     "output_type": "display_data"
    },
    {
     "data": {
      "image/png": "[encoded data removed]",
      "text/plain": [
       "plot without title"
      ]
     },
     "metadata": {},
     "output_type": "display_data"
    }
   ],
   "source": [
    "library(ggradar)\n",
    "library(scales)\n",
    "mtcars_radar2<-mtcars %>%\n",
    "     add_rownames( var = \"group\" )%>% \n",
    "     mutate_each(funs(rescale), -group)%>%\n",
    "      tail(4)%>%select(1:10)  \n",
    "ggradar(mtcars_radar2)"
   ]
  },
  {
   "cell_type": "code",
   "execution_count": 79,
   "metadata": {},
   "outputs": [
    {
     "name": "stderr",
     "output_type": "stream",
     "text": [
      "Warning message:\n",
      "\"Setting row names on a tibble is deprecated.\"Warning message:\n",
      "\"Deprecated, use tibble::rownames_to_column() instead.\""
     ]
    },
    {
     "data": {
      "text/html": [
       "'Error: \\'plot.data' contains value(s) &gt; grid.max'"
      ],
      "text/latex": [
       "'Error: \\textbackslash{}'plot.data' contains value(s) > grid.max'"
      ],
      "text/markdown": [
       "'Error: \\'plot.data' contains value(s) &gt; grid.max'"
      ],
      "text/plain": [
       "[1] \"Error: 'plot.data' contains value(s) > grid.max\""
      ]
     },
     "metadata": {},
     "output_type": "display_data"
    }
   ],
   "source": [
    "aux1<-group_by(iris,Species)\n",
    "aux2<-summarise(aux1,Sepal_length=mean(Sepal.Length),Petal_length=mean(Petal.Length),Petal_width=mean(Petal.Width),\n",
    "sepal_width=mean(Sepal.Width))\n",
    "aux2<-select(aux2,-1)\n",
    "row.names(aux2)<-unique(iris$Species)\n",
    "plt_data<-aux2%>%\n",
    "    add_rownames(var='Species')#%>%\n",
    "#   mutate_each(funs(rescale),-Species)\n",
    "#    select(-1)\n",
    "ggradar(plt_data)#+\n",
    "#    ggtitle('hihis')"
   ]
  }
 ],
 "metadata": {
  "kernelspec": {
   "display_name": "R",
   "language": "R",
   "name": "ir"
  },
  "language_info": {
   "codemirror_mode": "r",
   "file_extension": ".r",
   "mimetype": "text/x-r-source",
   "name": "R",
   "pygments_lexer": "r",
   "version": "3.3.2"
  }
 },
 "nbformat": 4,
 "nbformat_minor": 2
}
